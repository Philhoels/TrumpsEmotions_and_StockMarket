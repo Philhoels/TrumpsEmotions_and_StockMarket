{
 "cells": [
  {
   "cell_type": "markdown",
   "metadata": {},
   "source": [
    "# The random classifier - baseline model"
   ]
  },
  {
   "cell_type": "markdown",
   "metadata": {},
   "source": [
    "This is the first classifier I´m going to use for the classification problem, this is going to be my baseline model. \n",
    "In the lab, we used already a random classifier, this time I want to use a slightly different one. \n",
    "\n",
    "Methods:\n",
    "\n",
    "- Most Frequent Class (MFC)\n",
    "\n",
    "- [dummy classifier](https://scikit-learn.org/stable/modules/generated/sklearn.dummy.DummyClassifier.html)"
   ]
  },
  {
   "cell_type": "code",
   "execution_count": 12,
   "metadata": {},
   "outputs": [],
   "source": [
    "# import needed libaries\n",
    "import numpy as np\n",
    "import pandas as pd\n",
    "from sklearn.dummy import DummyClassifier\n",
    "from sklearn.metrics import classification_report\n",
    "from sklearn.model_selection import train_test_split"
   ]
  },
  {
   "cell_type": "code",
   "execution_count": 16,
   "metadata": {},
   "outputs": [
    {
     "data": {
      "text/html": [
       "<div>\n",
       "<style scoped>\n",
       "    .dataframe tbody tr th:only-of-type {\n",
       "        vertical-align: middle;\n",
       "    }\n",
       "\n",
       "    .dataframe tbody tr th {\n",
       "        vertical-align: top;\n",
       "    }\n",
       "\n",
       "    .dataframe thead th {\n",
       "        text-align: right;\n",
       "    }\n",
       "</style>\n",
       "<table border=\"1\" class=\"dataframe\">\n",
       "  <thead>\n",
       "    <tr style=\"text-align: right;\">\n",
       "      <th></th>\n",
       "      <th>username</th>\n",
       "      <th>date</th>\n",
       "      <th>retweets</th>\n",
       "      <th>favorites</th>\n",
       "      <th>text</th>\n",
       "      <th>emotion</th>\n",
       "    </tr>\n",
       "  </thead>\n",
       "  <tbody>\n",
       "    <tr>\n",
       "      <th>0</th>\n",
       "      <td>realDonaldTrump</td>\n",
       "      <td>09.02.20 00:47</td>\n",
       "      <td>13459</td>\n",
       "      <td>72445</td>\n",
       "      <td>A great coach and a fantastic guy. His endorse...</td>\n",
       "      <td>joy</td>\n",
       "    </tr>\n",
       "    <tr>\n",
       "      <th>1</th>\n",
       "      <td>realDonaldTrump</td>\n",
       "      <td>08.02.20 22:08</td>\n",
       "      <td>47880</td>\n",
       "      <td>215503</td>\n",
       "      <td>Pete Rose played Major League Baseball for 24 ...</td>\n",
       "      <td>sadness</td>\n",
       "    </tr>\n",
       "    <tr>\n",
       "      <th>2</th>\n",
       "      <td>realDonaldTrump</td>\n",
       "      <td>08.02.20 20:48</td>\n",
       "      <td>9452</td>\n",
       "      <td>37402</td>\n",
       "      <td>Total and complete Endorsement for Debbie Lesk...</td>\n",
       "      <td>joy</td>\n",
       "    </tr>\n",
       "    <tr>\n",
       "      <th>3</th>\n",
       "      <td>realDonaldTrump</td>\n",
       "      <td>08.02.20 20:40</td>\n",
       "      <td>17545</td>\n",
       "      <td>62484</td>\n",
       "      <td>Governor Cuomo wanted to see me this weekend. ...</td>\n",
       "      <td>sadness</td>\n",
       "    </tr>\n",
       "    <tr>\n",
       "      <th>4</th>\n",
       "      <td>realDonaldTrump</td>\n",
       "      <td>08.02.20 20:01</td>\n",
       "      <td>27437</td>\n",
       "      <td>120598</td>\n",
       "      <td>We will not be touching your Social Security o...</td>\n",
       "      <td>anger</td>\n",
       "    </tr>\n",
       "    <tr>\n",
       "      <th>...</th>\n",
       "      <td>...</td>\n",
       "      <td>...</td>\n",
       "      <td>...</td>\n",
       "      <td>...</td>\n",
       "      <td>...</td>\n",
       "      <td>...</td>\n",
       "    </tr>\n",
       "    <tr>\n",
       "      <th>86</th>\n",
       "      <td>realDonaldTrump</td>\n",
       "      <td>31.01.20 03:54</td>\n",
       "      <td>24418</td>\n",
       "      <td>100133</td>\n",
       "      <td>This November, we are going to defeat the Radi...</td>\n",
       "      <td>joy</td>\n",
       "    </tr>\n",
       "    <tr>\n",
       "      <th>87</th>\n",
       "      <td>realDonaldTrump</td>\n",
       "      <td>31.01.20 03:48</td>\n",
       "      <td>19539</td>\n",
       "      <td>88388</td>\n",
       "      <td>Thank you Iowa, I love you! https://www. pscp....</td>\n",
       "      <td>joy</td>\n",
       "    </tr>\n",
       "    <tr>\n",
       "      <th>88</th>\n",
       "      <td>realDonaldTrump</td>\n",
       "      <td>31.01.20 01:19</td>\n",
       "      <td>18878</td>\n",
       "      <td>73498</td>\n",
       "      <td>Great poll in Iowa, where I just landed for a ...</td>\n",
       "      <td>joy</td>\n",
       "    </tr>\n",
       "    <tr>\n",
       "      <th>89</th>\n",
       "      <td>realDonaldTrump</td>\n",
       "      <td>30.01.20 23:04</td>\n",
       "      <td>22964</td>\n",
       "      <td>138237</td>\n",
       "      <td>Working closely with China and others on Coron...</td>\n",
       "      <td>joy</td>\n",
       "    </tr>\n",
       "    <tr>\n",
       "      <th>90</th>\n",
       "      <td>realDonaldTrump</td>\n",
       "      <td>30.01.20 22:58</td>\n",
       "      <td>12210</td>\n",
       "      <td>75152</td>\n",
       "      <td>Leaving Michigan now, great visit, heading for...</td>\n",
       "      <td>joy</td>\n",
       "    </tr>\n",
       "  </tbody>\n",
       "</table>\n",
       "<p>91 rows × 6 columns</p>\n",
       "</div>"
      ],
      "text/plain": [
       "           username            date  retweets  favorites  \\\n",
       "0   realDonaldTrump  09.02.20 00:47     13459      72445   \n",
       "1   realDonaldTrump  08.02.20 22:08     47880     215503   \n",
       "2   realDonaldTrump  08.02.20 20:48      9452      37402   \n",
       "3   realDonaldTrump  08.02.20 20:40     17545      62484   \n",
       "4   realDonaldTrump  08.02.20 20:01     27437     120598   \n",
       "..              ...             ...       ...        ...   \n",
       "86  realDonaldTrump  31.01.20 03:54     24418     100133   \n",
       "87  realDonaldTrump  31.01.20 03:48     19539      88388   \n",
       "88  realDonaldTrump  31.01.20 01:19     18878      73498   \n",
       "89  realDonaldTrump  30.01.20 23:04     22964     138237   \n",
       "90  realDonaldTrump  30.01.20 22:58     12210      75152   \n",
       "\n",
       "                                                 text  emotion  \n",
       "0   A great coach and a fantastic guy. His endorse...      joy  \n",
       "1   Pete Rose played Major League Baseball for 24 ...  sadness  \n",
       "2   Total and complete Endorsement for Debbie Lesk...      joy  \n",
       "3   Governor Cuomo wanted to see me this weekend. ...  sadness  \n",
       "4   We will not be touching your Social Security o...    anger  \n",
       "..                                                ...      ...  \n",
       "86  This November, we are going to defeat the Radi...      joy  \n",
       "87  Thank you Iowa, I love you! https://www. pscp....      joy  \n",
       "88  Great poll in Iowa, where I just landed for a ...      joy  \n",
       "89  Working closely with China and others on Coron...      joy  \n",
       "90  Leaving Michigan now, great visit, heading for...      joy  \n",
       "\n",
       "[91 rows x 6 columns]"
      ]
     },
     "execution_count": 16,
     "metadata": {},
     "output_type": "execute_result"
    }
   ],
   "source": [
    "# load the data\n",
    "data = pd.read_csv(\"LabeledTweets.csv\", \";\")\n",
    "data = data.drop([\"Unnamed: 0\", \"index\", \"emotion_probability\"], axis = 1)\n",
    "data"
   ]
  },
  {
   "cell_type": "markdown",
   "metadata": {},
   "source": [
    "## Split into train & test"
   ]
  },
  {
   "cell_type": "code",
   "execution_count": 41,
   "metadata": {},
   "outputs": [],
   "source": [
    "X = data.drop(\"emotion\", axis = 1)\n",
    "y = data[\"emotion\"]\n",
    "X_train,X_test,y_train,y_test=train_test_split(X,y,test_size=0.3)"
   ]
  },
  {
   "cell_type": "markdown",
   "metadata": {},
   "source": [
    "## Baseline model"
   ]
  },
  {
   "cell_type": "code",
   "execution_count": 42,
   "metadata": {},
   "outputs": [
    {
     "name": "stdout",
     "output_type": "stream",
     "text": [
      "Evaluation score on test data is : 0.14\n"
     ]
    }
   ],
   "source": [
    "dummy = DummyClassifier(strategy='uniform', random_state=13)\n",
    "dummy.fit(X_train, y_train)\n",
    "print('Evaluation score on test data is : {0:.2f}'.format(dummy.score(X_test, y_test)))"
   ]
  },
  {
   "cell_type": "code",
   "execution_count": 43,
   "metadata": {},
   "outputs": [
    {
     "name": "stdout",
     "output_type": "stream",
     "text": [
      "              precision    recall  f1-score   support\n",
      "\n",
      "       anger       0.07      0.20      0.10         5\n",
      "     disgust       0.60      0.33      0.43        27\n",
      " emotionless       0.00      0.00      0.00         1\n",
      "        fear       0.00      0.00      0.00         2\n",
      "         joy       0.64      0.36      0.46        44\n",
      "     sadness       0.19      0.25      0.21        12\n",
      "\n",
      "    accuracy                           0.32        91\n",
      "   macro avg       0.25      0.19      0.20        91\n",
      "weighted avg       0.52      0.32      0.39        91\n",
      "\n"
     ]
    }
   ],
   "source": [
    "print(classification_report(data[\"emotion\"], dummy.predict(y)))"
   ]
  },
  {
   "cell_type": "code",
   "execution_count": 44,
   "metadata": {},
   "outputs": [
    {
     "name": "stdout",
     "output_type": "stream",
     "text": [
      "Evaluation score on test data is : 0.64\n"
     ]
    }
   ],
   "source": [
    "dummy = DummyClassifier(strategy='most_frequent', random_state=13)\n",
    "dummy.fit(X_train, y_train)\n",
    "print('Evaluation score on test data is : {0:.2f}'.format(dummy.score(X_test, y_test)))"
   ]
  },
  {
   "cell_type": "code",
   "execution_count": null,
   "metadata": {},
   "outputs": [],
   "source": []
  }
 ],
 "metadata": {
  "kernelspec": {
   "display_name": "Python 3",
   "language": "python",
   "name": "python3"
  },
  "language_info": {
   "codemirror_mode": {
    "name": "ipython",
    "version": 3
   },
   "file_extension": ".py",
   "mimetype": "text/x-python",
   "name": "python",
   "nbconvert_exporter": "python",
   "pygments_lexer": "ipython3",
   "version": "3.7.4"
  }
 },
 "nbformat": 4,
 "nbformat_minor": 4
}
