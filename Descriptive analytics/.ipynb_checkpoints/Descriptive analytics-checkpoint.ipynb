{
 "cells": [
  {
   "cell_type": "markdown",
   "metadata": {},
   "source": [
    "# Descriptive analytics\n",
    "\n",
    "At this part I will proved some insight of the tweet data and donald trumps tweet behavior."
   ]
  },
  {
   "cell_type": "code",
   "execution_count": 227,
   "metadata": {},
   "outputs": [],
   "source": [
    "# Import needed libraries\n",
    "import pandas as pd\n",
    "import matplotlib.pyplot as plt\n",
    "import numpy as np"
   ]
  },
  {
   "cell_type": "markdown",
   "metadata": {},
   "source": [
    "## The data"
   ]
  },
  {
   "cell_type": "code",
   "execution_count": 7,
   "metadata": {
    "scrolled": true
   },
   "outputs": [
    {
     "data": {
      "text/html": [
       "<div>\n",
       "<style scoped>\n",
       "    .dataframe tbody tr th:only-of-type {\n",
       "        vertical-align: middle;\n",
       "    }\n",
       "\n",
       "    .dataframe tbody tr th {\n",
       "        vertical-align: top;\n",
       "    }\n",
       "\n",
       "    .dataframe thead th {\n",
       "        text-align: right;\n",
       "    }\n",
       "</style>\n",
       "<table border=\"1\" class=\"dataframe\">\n",
       "  <thead>\n",
       "    <tr style=\"text-align: right;\">\n",
       "      <th></th>\n",
       "      <th>username</th>\n",
       "      <th>date</th>\n",
       "      <th>retweets</th>\n",
       "      <th>favorites</th>\n",
       "      <th>text</th>\n",
       "      <th>geo</th>\n",
       "      <th>mentions</th>\n",
       "      <th>hashtags</th>\n",
       "      <th>id</th>\n",
       "      <th>permalink</th>\n",
       "    </tr>\n",
       "  </thead>\n",
       "  <tbody>\n",
       "    <tr>\n",
       "      <th>0</th>\n",
       "      <td>realDonaldTrump</td>\n",
       "      <td>09.02.20 00:47</td>\n",
       "      <td>13459</td>\n",
       "      <td>72445</td>\n",
       "      <td>A great coach and a fantastic guy. His endorse...</td>\n",
       "      <td>NaN</td>\n",
       "      <td>NaN</td>\n",
       "      <td>NaN</td>\n",
       "      <td>1,22629E+18</td>\n",
       "      <td>https://twitter.com/realDonaldTrump/status/122...</td>\n",
       "    </tr>\n",
       "    <tr>\n",
       "      <th>1</th>\n",
       "      <td>realDonaldTrump</td>\n",
       "      <td>08.02.20 22:08</td>\n",
       "      <td>47880</td>\n",
       "      <td>215503</td>\n",
       "      <td>Pete Rose played Major League Baseball for 24 ...</td>\n",
       "      <td>NaN</td>\n",
       "      <td>NaN</td>\n",
       "      <td>NaN</td>\n",
       "      <td>1,22625E+18</td>\n",
       "      <td>https://twitter.com/realDonaldTrump/status/122...</td>\n",
       "    </tr>\n",
       "    <tr>\n",
       "      <th>2</th>\n",
       "      <td>realDonaldTrump</td>\n",
       "      <td>08.02.20 20:48</td>\n",
       "      <td>9452</td>\n",
       "      <td>37402</td>\n",
       "      <td>Total and complete Endorsement for Debbie Lesk...</td>\n",
       "      <td>NaN</td>\n",
       "      <td>#NAME?</td>\n",
       "      <td>NaN</td>\n",
       "      <td>1,22623E+18</td>\n",
       "      <td>https://twitter.com/realDonaldTrump/status/122...</td>\n",
       "    </tr>\n",
       "    <tr>\n",
       "      <th>3</th>\n",
       "      <td>realDonaldTrump</td>\n",
       "      <td>08.02.20 20:40</td>\n",
       "      <td>17545</td>\n",
       "      <td>62484</td>\n",
       "      <td>Governor Cuomo wanted to see me this weekend. ...</td>\n",
       "      <td>NaN</td>\n",
       "      <td>NaN</td>\n",
       "      <td>NaN</td>\n",
       "      <td>1,22623E+18</td>\n",
       "      <td>https://twitter.com/realDonaldTrump/status/122...</td>\n",
       "    </tr>\n",
       "    <tr>\n",
       "      <th>4</th>\n",
       "      <td>realDonaldTrump</td>\n",
       "      <td>08.02.20 20:01</td>\n",
       "      <td>27437</td>\n",
       "      <td>120598</td>\n",
       "      <td>We will not be touching your Social Security o...</td>\n",
       "      <td>NaN</td>\n",
       "      <td>NaN</td>\n",
       "      <td>NaN</td>\n",
       "      <td>1,22622E+18</td>\n",
       "      <td>https://twitter.com/realDonaldTrump/status/122...</td>\n",
       "    </tr>\n",
       "    <tr>\n",
       "      <th>...</th>\n",
       "      <td>...</td>\n",
       "      <td>...</td>\n",
       "      <td>...</td>\n",
       "      <td>...</td>\n",
       "      <td>...</td>\n",
       "      <td>...</td>\n",
       "      <td>...</td>\n",
       "      <td>...</td>\n",
       "      <td>...</td>\n",
       "      <td>...</td>\n",
       "    </tr>\n",
       "    <tr>\n",
       "      <th>10245</th>\n",
       "      <td>realDonaldTrump</td>\n",
       "      <td>07.01.17 16:02</td>\n",
       "      <td>24681</td>\n",
       "      <td>87739</td>\n",
       "      <td>Having a good relationship with Russia is a go...</td>\n",
       "      <td>NaN</td>\n",
       "      <td>NaN</td>\n",
       "      <td>NaN</td>\n",
       "      <td>8,17748E+17</td>\n",
       "      <td>https://twitter.com/realDonaldTrump/status/817...</td>\n",
       "    </tr>\n",
       "    <tr>\n",
       "      <th>10246</th>\n",
       "      <td>realDonaldTrump</td>\n",
       "      <td>07.01.17 13:03</td>\n",
       "      <td>16601</td>\n",
       "      <td>73661</td>\n",
       "      <td>Only reason the hacking of the poorly defended...</td>\n",
       "      <td>NaN</td>\n",
       "      <td>NaN</td>\n",
       "      <td>NaN</td>\n",
       "      <td>8,17703E+17</td>\n",
       "      <td>https://twitter.com/realDonaldTrump/status/817...</td>\n",
       "    </tr>\n",
       "    <tr>\n",
       "      <th>10247</th>\n",
       "      <td>realDonaldTrump</td>\n",
       "      <td>07.01.17 12:56</td>\n",
       "      <td>15401</td>\n",
       "      <td>60280</td>\n",
       "      <td>Intelligence stated very strongly there was ab...</td>\n",
       "      <td>NaN</td>\n",
       "      <td>NaN</td>\n",
       "      <td>NaN</td>\n",
       "      <td>8,17701E+17</td>\n",
       "      <td>https://twitter.com/realDonaldTrump/status/817...</td>\n",
       "    </tr>\n",
       "    <tr>\n",
       "      <th>10248</th>\n",
       "      <td>realDonaldTrump</td>\n",
       "      <td>07.01.17 04:53</td>\n",
       "      <td>13961</td>\n",
       "      <td>59218</td>\n",
       "      <td>Gross negligence by the Democratic National Co...</td>\n",
       "      <td>NaN</td>\n",
       "      <td>NaN</td>\n",
       "      <td>NaN</td>\n",
       "      <td>8,1758E+17</td>\n",
       "      <td>https://twitter.com/realDonaldTrump/status/817...</td>\n",
       "    </tr>\n",
       "    <tr>\n",
       "      <th>10249</th>\n",
       "      <td>realDonaldTrump</td>\n",
       "      <td>07.01.17 01:07</td>\n",
       "      <td>6657</td>\n",
       "      <td>42476</td>\n",
       "      <td>Happy Birthday @EricTrump ! https://www. faceb...</td>\n",
       "      <td>NaN</td>\n",
       "      <td>#NAME?</td>\n",
       "      <td>NaN</td>\n",
       "      <td>8,17523E+17</td>\n",
       "      <td>https://twitter.com/realDonaldTrump/status/817...</td>\n",
       "    </tr>\n",
       "  </tbody>\n",
       "</table>\n",
       "<p>10250 rows × 10 columns</p>\n",
       "</div>"
      ],
      "text/plain": [
       "              username            date  retweets  favorites  \\\n",
       "0      realDonaldTrump  09.02.20 00:47     13459      72445   \n",
       "1      realDonaldTrump  08.02.20 22:08     47880     215503   \n",
       "2      realDonaldTrump  08.02.20 20:48      9452      37402   \n",
       "3      realDonaldTrump  08.02.20 20:40     17545      62484   \n",
       "4      realDonaldTrump  08.02.20 20:01     27437     120598   \n",
       "...                ...             ...       ...        ...   \n",
       "10245  realDonaldTrump  07.01.17 16:02     24681      87739   \n",
       "10246  realDonaldTrump  07.01.17 13:03     16601      73661   \n",
       "10247  realDonaldTrump  07.01.17 12:56     15401      60280   \n",
       "10248  realDonaldTrump  07.01.17 04:53     13961      59218   \n",
       "10249  realDonaldTrump  07.01.17 01:07      6657      42476   \n",
       "\n",
       "                                                    text  geo mentions  \\\n",
       "0      A great coach and a fantastic guy. His endorse...  NaN      NaN   \n",
       "1      Pete Rose played Major League Baseball for 24 ...  NaN      NaN   \n",
       "2      Total and complete Endorsement for Debbie Lesk...  NaN   #NAME?   \n",
       "3      Governor Cuomo wanted to see me this weekend. ...  NaN      NaN   \n",
       "4      We will not be touching your Social Security o...  NaN      NaN   \n",
       "...                                                  ...  ...      ...   \n",
       "10245  Having a good relationship with Russia is a go...  NaN      NaN   \n",
       "10246  Only reason the hacking of the poorly defended...  NaN      NaN   \n",
       "10247  Intelligence stated very strongly there was ab...  NaN      NaN   \n",
       "10248  Gross negligence by the Democratic National Co...  NaN      NaN   \n",
       "10249  Happy Birthday @EricTrump ! https://www. faceb...  NaN   #NAME?   \n",
       "\n",
       "      hashtags           id                                          permalink  \n",
       "0          NaN  1,22629E+18  https://twitter.com/realDonaldTrump/status/122...  \n",
       "1          NaN  1,22625E+18  https://twitter.com/realDonaldTrump/status/122...  \n",
       "2          NaN  1,22623E+18  https://twitter.com/realDonaldTrump/status/122...  \n",
       "3          NaN  1,22623E+18  https://twitter.com/realDonaldTrump/status/122...  \n",
       "4          NaN  1,22622E+18  https://twitter.com/realDonaldTrump/status/122...  \n",
       "...        ...          ...                                                ...  \n",
       "10245      NaN  8,17748E+17  https://twitter.com/realDonaldTrump/status/817...  \n",
       "10246      NaN  8,17703E+17  https://twitter.com/realDonaldTrump/status/817...  \n",
       "10247      NaN  8,17701E+17  https://twitter.com/realDonaldTrump/status/817...  \n",
       "10248      NaN   8,1758E+17  https://twitter.com/realDonaldTrump/status/817...  \n",
       "10249      NaN  8,17523E+17  https://twitter.com/realDonaldTrump/status/817...  \n",
       "\n",
       "[10250 rows x 10 columns]"
      ]
     },
     "execution_count": 7,
     "metadata": {},
     "output_type": "execute_result"
    }
   ],
   "source": [
    "# import the data\n",
    "data = pd.read_csv(\"trumptweets.csv\", sep = \";\")\n",
    "data"
   ]
  },
  {
   "cell_type": "markdown",
   "metadata": {},
   "source": [
    "# Transform the data"
   ]
  },
  {
   "cell_type": "code",
   "execution_count": 409,
   "metadata": {},
   "outputs": [
    {
     "data": {
      "text/plain": [
       "pandas.core.series.Series"
      ]
     },
     "execution_count": 409,
     "metadata": {},
     "output_type": "execute_result"
    }
   ],
   "source": [
    "type(data.date)"
   ]
  },
  {
   "cell_type": "code",
   "execution_count": 427,
   "metadata": {
    "scrolled": true
   },
   "outputs": [
    {
     "data": {
      "text/plain": [
       "0       2020-02-09 00:47:00\n",
       "1       2020-02-08 22:08:00\n",
       "2       2020-02-08 20:48:00\n",
       "3       2020-02-08 20:40:00\n",
       "4       2020-02-08 20:01:00\n",
       "                ...        \n",
       "10245   2017-01-07 16:02:00\n",
       "10246   2017-01-07 13:03:00\n",
       "10247   2017-01-07 12:56:00\n",
       "10248   2017-01-07 04:53:00\n",
       "10249   2017-01-07 01:07:00\n",
       "Name: date, Length: 10250, dtype: datetime64[ns]"
      ]
     },
     "execution_count": 427,
     "metadata": {},
     "output_type": "execute_result"
    }
   ],
   "source": [
    "new_dates = pd.to_datetime(data.date, dayfirst = True)\n",
    "new_dates"
   ]
  },
  {
   "cell_type": "markdown",
   "metadata": {},
   "source": [
    "# Line plot - Amount of tweets per day"
   ]
  },
  {
   "cell_type": "code",
   "execution_count": 608,
   "metadata": {},
   "outputs": [
    {
     "name": "stdout",
     "output_type": "stream",
     "text": [
      "mean: 9.0\n",
      "median: 8.0\n"
     ]
    }
   ],
   "source": [
    "# convert \n",
    "dates = pd.to_datetime(data.date, dayfirst = True)\n",
    "#dates\n",
    "\n",
    "# group by date and count\n",
    "tweets_day_count = dates.dt.date.groupby(dates.dt.date).count()\n",
    "#tweets_day_count\n",
    "\n",
    "# group by date and count and cumsum\n",
    "tweets_days_cumsum = dates.dt.date.groupby(dates.dt.date).count().cumsum()\n",
    "#tweets_days_cumsum\n",
    "\n",
    "dates_date = dates.dt.date.groupby(dates.dt.date)\n",
    "\n",
    "# compute the mean of tweets a day\n",
    "tweets_daily_mean = round(tweets_day_count.mean(),0)\n",
    "print(\"mean:\", tweets_daily_mean)\n",
    "\n",
    "# compute the median\n",
    "tweets_daily_median = tweets_day_count.median()\n",
    "print(\"median:\", tweets_daily_median)"
   ]
  },
  {
   "cell_type": "code",
   "execution_count": 461,
   "metadata": {},
   "outputs": [
    {
     "data": {
      "image/png": "[encoded data removed]",
      "text/plain": [
       "<Figure size 432x288 with 1 Axes>"
      ]
     },
     "metadata": {
      "needs_background": "light"
     },
     "output_type": "display_data"
    }
   ],
   "source": [
    "plt.plot(tweets_days_cumsum, color = \"blue\")\n",
    "plt.xticks(rotation=45)\n",
    "plt.title(\"Tweets per day accumulated\")\n",
    "plt.legend([\"Tweets\"])\n",
    "plt.show()"
   ]
  },
  {
   "cell_type": "code",
   "execution_count": 462,
   "metadata": {},
   "outputs": [
    {
     "data": {
      "image/png": "[encoded data removed]",
      "text/plain": [
       "<Figure size 432x288 with 1 Axes>"
      ]
     },
     "metadata": {
      "needs_background": "light"
     },
     "output_type": "display_data"
    }
   ],
   "source": [
    "plt.plot(tweets_day_count, color = \"blue\", label = \"Tweets\")\n",
    "plt.xticks(rotation=45)\n",
    "plt.axhline(y = tweets_daily_mean, color = \"g\", linestyle = \"--\", label = \"mean\")\n",
    "plt.title(\"Tweets per day\")\n",
    "plt.legend()\n",
    "plt.show()"
   ]
  },
  {
   "cell_type": "code",
   "execution_count": 743,
   "metadata": {},
   "outputs": [
    {
     "data": {
      "image/png": "[encoded data removed]",
      "text/plain": [
       "<Figure size 432x288 with 1 Axes>"
      ]
     },
     "metadata": {
      "needs_background": "light"
     },
     "output_type": "display_data"
    }
   ],
   "source": [
    "# Create a figure instance\n",
    "fig = plt.figure(1, figsize=(6, 4))\n",
    "# Create an axes instance\n",
    "ax = fig.add_subplot(111)\n",
    "## Custom x-axis labels\n",
    "ax.set_xticklabels([\"Tweets per day\"])\n",
    "# Create the boxplot\n",
    "bp = ax.boxplot(tweets_day_count)\n",
    "## change color and linewidth of the medians\n",
    "for median in bp['medians']:\n",
    "    median.set(color=\"blue\", linewidth=2)"
   ]
  },
  {
   "cell_type": "markdown",
   "metadata": {},
   "source": [
    "# Boxplot - Amount of tweets per week"
   ]
  },
  {
   "cell_type": "code",
   "execution_count": 610,
   "metadata": {
    "scrolled": false
   },
   "outputs": [
    {
     "data": {
      "text/plain": [
       "date\n",
       "2017-01-07     7\n",
       "2017-01-08     6\n",
       "2017-01-09     8\n",
       "2017-01-10     4\n",
       "2017-01-11     6\n",
       "              ..\n",
       "2020-02-05     8\n",
       "2020-02-06     8\n",
       "2020-02-07    19\n",
       "2020-02-08    14\n",
       "2020-02-09     1\n",
       "Name: date, Length: 1118, dtype: int64"
      ]
     },
     "execution_count": 610,
     "metadata": {},
     "output_type": "execute_result"
    }
   ],
   "source": [
    "tweets_count_day = dates.dt.date.groupby(dates.dt.date).count()\n",
    "tweets_count_day"
   ]
  },
  {
   "cell_type": "code",
   "execution_count": 611,
   "metadata": {},
   "outputs": [
    {
     "data": {
      "text/plain": [
       "date\n",
       "2017-01-07    2017-01-07\n",
       "2017-01-08    2017-01-08\n",
       "2017-01-09    2017-01-09\n",
       "2017-01-10    2017-01-10\n",
       "2017-01-11    2017-01-11\n",
       "                 ...    \n",
       "2020-02-05    2020-02-05\n",
       "2020-02-06    2020-02-06\n",
       "2020-02-07    2020-02-07\n",
       "2020-02-08    2020-02-08\n",
       "2020-02-09    2020-02-09\n",
       "Name: date, Length: 1118, dtype: object"
      ]
     },
     "execution_count": 611,
     "metadata": {},
     "output_type": "execute_result"
    }
   ],
   "source": [
    "tweets_days = tweets_count_day.index.to_series()\n",
    "tweets_days"
   ]
  },
  {
   "cell_type": "code",
   "execution_count": 682,
   "metadata": {},
   "outputs": [],
   "source": [
    "# access the weekdays\n",
    "wday = []\n",
    "for i in tweets_days:\n",
    "    wday.append(i.timetuple()[6])"
   ]
  },
  {
   "cell_type": "code",
   "execution_count": 691,
   "metadata": {},
   "outputs": [],
   "source": [
    "# create df with date, weekday, counts\n",
    "data = {\"dates\": tweets_days,\n",
    "       \"weekdays\": wday,\n",
    "       \"counts\": tweets_count_day}\n",
    "tweets_per_weekday = pd.DataFrame(data, columns = [\"dates\", \"weekdays\", \"counts\"])"
   ]
  },
  {
   "cell_type": "code",
   "execution_count": 692,
   "metadata": {},
   "outputs": [
    {
     "data": {
      "text/html": [
       "<div>\n",
       "<style scoped>\n",
       "    .dataframe tbody tr th:only-of-type {\n",
       "        vertical-align: middle;\n",
       "    }\n",
       "\n",
       "    .dataframe tbody tr th {\n",
       "        vertical-align: top;\n",
       "    }\n",
       "\n",
       "    .dataframe thead th {\n",
       "        text-align: right;\n",
       "    }\n",
       "</style>\n",
       "<table border=\"1\" class=\"dataframe\">\n",
       "  <thead>\n",
       "    <tr style=\"text-align: right;\">\n",
       "      <th></th>\n",
       "      <th>dates</th>\n",
       "      <th>weekdays</th>\n",
       "      <th>counts</th>\n",
       "    </tr>\n",
       "    <tr>\n",
       "      <th>date</th>\n",
       "      <th></th>\n",
       "      <th></th>\n",
       "      <th></th>\n",
       "    </tr>\n",
       "  </thead>\n",
       "  <tbody>\n",
       "    <tr>\n",
       "      <th>2017-01-07</th>\n",
       "      <td>2017-01-07</td>\n",
       "      <td>5</td>\n",
       "      <td>7</td>\n",
       "    </tr>\n",
       "    <tr>\n",
       "      <th>2017-01-08</th>\n",
       "      <td>2017-01-08</td>\n",
       "      <td>6</td>\n",
       "      <td>6</td>\n",
       "    </tr>\n",
       "    <tr>\n",
       "      <th>2017-01-09</th>\n",
       "      <td>2017-01-09</td>\n",
       "      <td>0</td>\n",
       "      <td>8</td>\n",
       "    </tr>\n",
       "    <tr>\n",
       "      <th>2017-01-10</th>\n",
       "      <td>2017-01-10</td>\n",
       "      <td>1</td>\n",
       "      <td>4</td>\n",
       "    </tr>\n",
       "    <tr>\n",
       "      <th>2017-01-11</th>\n",
       "      <td>2017-01-11</td>\n",
       "      <td>2</td>\n",
       "      <td>6</td>\n",
       "    </tr>\n",
       "    <tr>\n",
       "      <th>...</th>\n",
       "      <td>...</td>\n",
       "      <td>...</td>\n",
       "      <td>...</td>\n",
       "    </tr>\n",
       "    <tr>\n",
       "      <th>2020-02-05</th>\n",
       "      <td>2020-02-05</td>\n",
       "      <td>2</td>\n",
       "      <td>8</td>\n",
       "    </tr>\n",
       "    <tr>\n",
       "      <th>2020-02-06</th>\n",
       "      <td>2020-02-06</td>\n",
       "      <td>3</td>\n",
       "      <td>8</td>\n",
       "    </tr>\n",
       "    <tr>\n",
       "      <th>2020-02-07</th>\n",
       "      <td>2020-02-07</td>\n",
       "      <td>4</td>\n",
       "      <td>19</td>\n",
       "    </tr>\n",
       "    <tr>\n",
       "      <th>2020-02-08</th>\n",
       "      <td>2020-02-08</td>\n",
       "      <td>5</td>\n",
       "      <td>14</td>\n",
       "    </tr>\n",
       "    <tr>\n",
       "      <th>2020-02-09</th>\n",
       "      <td>2020-02-09</td>\n",
       "      <td>6</td>\n",
       "      <td>1</td>\n",
       "    </tr>\n",
       "  </tbody>\n",
       "</table>\n",
       "<p>1118 rows × 3 columns</p>\n",
       "</div>"
      ],
      "text/plain": [
       "                 dates  weekdays  counts\n",
       "date                                    \n",
       "2017-01-07  2017-01-07         5       7\n",
       "2017-01-08  2017-01-08         6       6\n",
       "2017-01-09  2017-01-09         0       8\n",
       "2017-01-10  2017-01-10         1       4\n",
       "2017-01-11  2017-01-11         2       6\n",
       "...                ...       ...     ...\n",
       "2020-02-05  2020-02-05         2       8\n",
       "2020-02-06  2020-02-06         3       8\n",
       "2020-02-07  2020-02-07         4      19\n",
       "2020-02-08  2020-02-08         5      14\n",
       "2020-02-09  2020-02-09         6       1\n",
       "\n",
       "[1118 rows x 3 columns]"
      ]
     },
     "execution_count": 692,
     "metadata": {},
     "output_type": "execute_result"
    }
   ],
   "source": [
    "tweets_per_weekday"
   ]
  },
  {
   "cell_type": "code",
   "execution_count": 708,
   "metadata": {},
   "outputs": [
    {
     "data": {
      "text/plain": [
       "(1118, 3)"
      ]
     },
     "execution_count": 708,
     "metadata": {},
     "output_type": "execute_result"
    }
   ],
   "source": [
    "tweets_per_weekday.shape"
   ]
  },
  {
   "cell_type": "code",
   "execution_count": 711,
   "metadata": {},
   "outputs": [],
   "source": [
    "count_per_day = {}\n",
    "for day in range(8):\n",
    "    count_per_day[day] = tweets_per_weekday[tweets_per_weekday[\"weekdays\"] == day].counts"
   ]
  },
  {
   "cell_type": "code",
   "execution_count": 717,
   "metadata": {
    "scrolled": true
   },
   "outputs": [
    {
     "data": {
      "text/plain": [
       "{0: date\n",
       " 2017-01-09     8\n",
       " 2017-01-16     3\n",
       " 2017-01-23     1\n",
       " 2017-01-30     9\n",
       " 2017-02-06     4\n",
       "               ..\n",
       " 2020-01-06     6\n",
       " 2020-01-13    10\n",
       " 2020-01-20    11\n",
       " 2020-01-27    14\n",
       " 2020-02-03    15\n",
       " Name: counts, Length: 160, dtype: int64,\n",
       " 1: date\n",
       " 2017-01-10     4\n",
       " 2017-01-17    11\n",
       " 2017-01-24     4\n",
       " 2017-01-31     3\n",
       " 2017-02-07     5\n",
       "               ..\n",
       " 2020-01-07     6\n",
       " 2020-01-14     3\n",
       " 2020-01-21    12\n",
       " 2020-01-28    19\n",
       " 2020-02-04     8\n",
       " Name: counts, Length: 160, dtype: int64,\n",
       " 2: date\n",
       " 2017-01-11     6\n",
       " 2017-01-18     8\n",
       " 2017-01-25     8\n",
       " 2017-02-01     4\n",
       " 2017-02-08    11\n",
       "               ..\n",
       " 2020-01-08     1\n",
       " 2020-01-15    13\n",
       " 2020-01-22    18\n",
       " 2020-01-29    20\n",
       " 2020-02-05     8\n",
       " Name: counts, Length: 160, dtype: int64,\n",
       " 3: date\n",
       " 2017-01-12     6\n",
       " 2017-01-19     8\n",
       " 2017-01-26     8\n",
       " 2017-02-02     8\n",
       " 2017-02-09     7\n",
       "               ..\n",
       " 2020-01-09    15\n",
       " 2020-01-16    10\n",
       " 2020-01-23    24\n",
       " 2020-01-30    19\n",
       " 2020-02-06     8\n",
       " Name: counts, Length: 159, dtype: int64,\n",
       " 4: date\n",
       " 2017-01-13     8\n",
       " 2017-01-20    13\n",
       " 2017-01-27     8\n",
       " 2017-02-03     6\n",
       " 2017-02-10     3\n",
       "               ..\n",
       " 2020-01-10    13\n",
       " 2020-01-17    15\n",
       " 2020-01-24    20\n",
       " 2020-01-31    10\n",
       " 2020-02-07    19\n",
       " Name: counts, Length: 160, dtype: int64,\n",
       " 5: date\n",
       " 2017-01-07     7\n",
       " 2017-01-14     3\n",
       " 2017-01-21     2\n",
       " 2017-01-28     5\n",
       " 2017-02-04     9\n",
       "               ..\n",
       " 2020-01-11    12\n",
       " 2020-01-18     9\n",
       " 2020-01-25    15\n",
       " 2020-02-01     5\n",
       " 2020-02-08    14\n",
       " Name: counts, Length: 160, dtype: int64,\n",
       " 6: date\n",
       " 2017-01-08     6\n",
       " 2017-01-15     8\n",
       " 2017-01-22     4\n",
       " 2017-01-29     5\n",
       " 2017-02-05     6\n",
       "               ..\n",
       " 2020-01-12    24\n",
       " 2020-01-19     9\n",
       " 2020-01-26    21\n",
       " 2020-02-02    10\n",
       " 2020-02-09     1\n",
       " Name: counts, Length: 159, dtype: int64,\n",
       " 7: Series([], Name: counts, dtype: int64)}"
      ]
     },
     "execution_count": 717,
     "metadata": {},
     "output_type": "execute_result"
    }
   ],
   "source": [
    "count_per_day"
   ]
  },
  {
   "cell_type": "code",
   "execution_count": 720,
   "metadata": {},
   "outputs": [],
   "source": [
    "# crate data for boxplot\n",
    "\n",
    "## combine these different collections into a list    \n",
    "data_to_plot = [count_per_day[0], \n",
    "                count_per_day[1], \n",
    "                count_per_day[2], \n",
    "                count_per_day[3],\n",
    "                count_per_day[4],\n",
    "                count_per_day[5],\n",
    "                count_per_day[6]]"
   ]
  },
  {
   "cell_type": "code",
   "execution_count": 727,
   "metadata": {},
   "outputs": [
    {
     "data": {
      "image/png": "[encoded data removed]",
      "text/plain": [
       "<Figure size 648x432 with 1 Axes>"
      ]
     },
     "metadata": {
      "needs_background": "light"
     },
     "output_type": "display_data"
    }
   ],
   "source": [
    "# Create a figure instance\n",
    "fig = plt.figure(1, figsize=(9, 6))\n",
    "# Create an axes instance\n",
    "ax = fig.add_subplot(111)\n",
    "## Custom x-axis labels\n",
    "ax.set_xticklabels(['Monday', 'Tuesday', 'Wednesday', \n",
    "                    'Thursday', \"Friday\", \"Saturday\", \"Sunday\"])\n",
    "\n",
    "# Create the boxplot\n",
    "bp = ax.boxplot(data_to_plot)\n",
    "## change color and linewidth of the medians\n",
    "for median in bp['medians']:\n",
    "    median.set(color=\"blue\", linewidth=2)"
   ]
  },
  {
   "cell_type": "markdown",
   "metadata": {},
   "source": [
    "# Bar plot - amount of tweets by hour"
   ]
  },
  {
   "cell_type": "code",
   "execution_count": 445,
   "metadata": {},
   "outputs": [],
   "source": [
    "# convert \n",
    "dates = pd.to_datetime(data.date, dayfirst = True)"
   ]
  },
  {
   "cell_type": "code",
   "execution_count": 446,
   "metadata": {},
   "outputs": [
    {
     "name": "stdout",
     "output_type": "stream",
     "text": [
      "Time tweeted most is at 14 pm.\n"
     ]
    }
   ],
   "source": [
    "tweets_hour = dates.dt.hour.groupby(dates.dt.hour).count()\n",
    "tweets_hour\n",
    "hours = [i for i in range(24)]\n",
    "# find max value and index\n",
    "max_tweets_hour = tweets_hour.max()\n",
    "max_tweets_hour_x = list(tweets_hour).index(max_tweets_hour)\n",
    "print(\"Time tweeted most is at\", max_tweets_hour_x, \"pm.\")"
   ]
  },
  {
   "cell_type": "code",
   "execution_count": 447,
   "metadata": {
    "scrolled": true
   },
   "outputs": [
    {
     "data": {
      "image/png": "[encoded data removed]",
      "text/plain": [
       "<Figure size 432x288 with 1 Axes>"
      ]
     },
     "metadata": {
      "needs_background": "light"
     },
     "output_type": "display_data"
    }
   ],
   "source": [
    "plt.bar(hours,tweets_hour, alpha = 0.8, color = \"blue\", label = \"Tweets\")\n",
    "tweets_hour.plot(linestyle = \"--\", label = \"Tweets\")\n",
    "plt.scatter(max_tweets_hour_x,max_tweets_hour, color = \"green\", label = \"max\")\n",
    "plt.xlabel('Hours of the day')\n",
    "plt.ylabel('Amount')\n",
    "plt.title(\"Amount of tweets by hour\")\n",
    "plt.legend()\n",
    "plt.show()"
   ]
  },
  {
   "cell_type": "code",
   "execution_count": 448,
   "metadata": {
    "scrolled": true
   },
   "outputs": [
    {
     "data": {
      "image/png": "[encoded data removed]",
      "text/plain": [
       "<Figure size 432x288 with 1 Axes>"
      ]
     },
     "metadata": {
      "needs_background": "light"
     },
     "output_type": "display_data"
    }
   ],
   "source": [
    "tweets_hour.plot()\n",
    "plt.scatter(max_tweets_hour_x,max_tweets_hour, color = \"g\")\n",
    "#plt.axvline(x = max_tweets_hour_x, color = \"g\")\n",
    "plt.xlabel('Hours of the day')\n",
    "plt.ylabel('Amount')\n",
    "plt.title(\"Amount of tweets by hour\")\n",
    "plt.show()"
   ]
  },
  {
   "cell_type": "markdown",
   "metadata": {},
   "source": [
    "# Bar plot - amount of tweets by day name"
   ]
  },
  {
   "cell_type": "code",
   "execution_count": 451,
   "metadata": {
    "scrolled": false
   },
   "outputs": [
    {
     "data": {
      "text/html": [
       "<div>\n",
       "<style scoped>\n",
       "    .dataframe tbody tr th:only-of-type {\n",
       "        vertical-align: middle;\n",
       "    }\n",
       "\n",
       "    .dataframe tbody tr th {\n",
       "        vertical-align: top;\n",
       "    }\n",
       "\n",
       "    .dataframe thead th {\n",
       "        text-align: right;\n",
       "    }\n",
       "</style>\n",
       "<table border=\"1\" class=\"dataframe\">\n",
       "  <thead>\n",
       "    <tr style=\"text-align: right;\">\n",
       "      <th></th>\n",
       "      <th>Weekday</th>\n",
       "      <th>Amount of tweets</th>\n",
       "    </tr>\n",
       "  </thead>\n",
       "  <tbody>\n",
       "    <tr>\n",
       "      <th>0</th>\n",
       "      <td>Monday</td>\n",
       "      <td>1382</td>\n",
       "    </tr>\n",
       "    <tr>\n",
       "      <th>1</th>\n",
       "      <td>Tuesday</td>\n",
       "      <td>1466</td>\n",
       "    </tr>\n",
       "    <tr>\n",
       "      <th>2</th>\n",
       "      <td>Wednesday</td>\n",
       "      <td>1628</td>\n",
       "    </tr>\n",
       "    <tr>\n",
       "      <th>3</th>\n",
       "      <td>Thursday</td>\n",
       "      <td>1558</td>\n",
       "    </tr>\n",
       "    <tr>\n",
       "      <th>4</th>\n",
       "      <td>Friday</td>\n",
       "      <td>1577</td>\n",
       "    </tr>\n",
       "    <tr>\n",
       "      <th>5</th>\n",
       "      <td>Saturday</td>\n",
       "      <td>1365</td>\n",
       "    </tr>\n",
       "    <tr>\n",
       "      <th>6</th>\n",
       "      <td>Sunday</td>\n",
       "      <td>1274</td>\n",
       "    </tr>\n",
       "  </tbody>\n",
       "</table>\n",
       "</div>"
      ],
      "text/plain": [
       "     Weekday   Amount of tweets\n",
       "0     Monday               1382\n",
       "1    Tuesday               1466\n",
       "2  Wednesday               1628\n",
       "3   Thursday               1558\n",
       "4     Friday               1577\n",
       "5   Saturday               1365\n",
       "6     Sunday               1274"
      ]
     },
     "execution_count": 451,
     "metadata": {},
     "output_type": "execute_result"
    }
   ],
   "source": [
    "# convert \n",
    "dates = pd.to_datetime(data.date, dayfirst = True)\n",
    "dates\n",
    "tweets_day_name = dates.dt.day_name().groupby(dates.dt.day_name()).count()\n",
    "\n",
    "# create dataframe with days sorted\n",
    "#tweet by day name\n",
    "tweet_day_names = pd.DataFrame([[\"Monday\", tweets_day_name.Monday],\n",
    "                               [\"Tuesday\", tweets_day_name.Tuesday],\n",
    "                               [\"Wednesday\", tweets_day_name.Wednesday],\n",
    "                               [\"Thursday\", tweets_day_name.Thursday],\n",
    "                               [\"Friday\", tweets_day_name.Friday],\n",
    "                               [\"Saturday\", tweets_day_name.Saturday],\n",
    "                               [\"Sunday\", tweets_day_name.Sunday]], \n",
    "                               columns = [\"Weekday\", \" Amount of tweets\"])\n",
    "tweet_day_names\n"
   ]
  },
  {
   "cell_type": "code",
   "execution_count": 454,
   "metadata": {},
   "outputs": [
    {
     "data": {
      "text/plain": [
       "6"
      ]
     },
     "execution_count": 454,
     "metadata": {},
     "output_type": "execute_result"
    }
   ],
   "source": [
    "tweets_max_aday = tweets_day_name.max()\n",
    "tweets_max_aday_day = list(tweets_day_name).index(tweets_max_aday)\n",
    "tweets_max_aday_day\n",
    "tweets_max_aday"
   ]
  },
  {
   "cell_type": "code",
   "execution_count": 405,
   "metadata": {},
   "outputs": [
    {
     "data": {
      "image/png": "[encoded data removed]",
      "text/plain": [
       "<Figure size 432x288 with 1 Axes>"
      ]
     },
     "metadata": {
      "needs_background": "light"
     },
     "output_type": "display_data"
    }
   ],
   "source": [
    "plt.plot(tweet_day_names.Weekday,tweet_day_names.iloc[:,1], color = \"blue\", label = \"Tweets\")\n",
    "plt.ylim(1300,1700)\n",
    "plt.scatter(2,tweets_max_aday, color = \"green\", label = \"max\")\n",
    "plt.xticks(rotation=45)\n",
    "plt.xlabel('Hours of the day')\n",
    "plt.ylabel('Amount')\n",
    "plt.title(\"Amount of tweets by hour\")\n",
    "plt.legend()\n",
    "plt.show()"
   ]
  },
  {
   "cell_type": "markdown",
   "metadata": {},
   "source": [
    "# Bar plot - retweets by groups "
   ]
  },
  {
   "cell_type": "code",
   "execution_count": 455,
   "metadata": {
    "scrolled": false
   },
   "outputs": [
    {
     "data": {
      "image/png": "[encoded data removed]",
      "text/plain": [
       "<Figure size 432x288 with 1 Axes>"
      ]
     },
     "metadata": {
      "needs_background": "light"
     },
     "output_type": "display_data"
    }
   ],
   "source": [
    "data.retweets.plot()\n",
    "plt.show()"
   ]
  },
  {
   "cell_type": "code",
   "execution_count": 364,
   "metadata": {},
   "outputs": [
    {
     "data": {
      "image/png": "[encoded data removed]",
      "text/plain": [
       "<Figure size 432x288 with 1 Axes>"
      ]
     },
     "metadata": {
      "needs_background": "light"
     },
     "output_type": "display_data"
    }
   ],
   "source": [
    "plt.boxplot(data.retweets)\n",
    "plt.show()"
   ]
  },
  {
   "cell_type": "markdown",
   "metadata": {},
   "source": [
    "# Bar plot - favorites by groups"
   ]
  },
  {
   "cell_type": "code",
   "execution_count": 456,
   "metadata": {},
   "outputs": [
    {
     "data": {
      "image/png": "[encoded data removed]",
      "text/plain": [
       "<Figure size 432x288 with 1 Axes>"
      ]
     },
     "metadata": {
      "needs_background": "light"
     },
     "output_type": "display_data"
    }
   ],
   "source": [
    "data.favorites.plot()\n",
    "plt.show()"
   ]
  },
  {
   "cell_type": "code",
   "execution_count": 366,
   "metadata": {},
   "outputs": [
    {
     "data": {
      "image/png": "[encoded data removed]",
      "text/plain": [
       "<Figure size 432x288 with 1 Axes>"
      ]
     },
     "metadata": {
      "needs_background": "light"
     },
     "output_type": "display_data"
    }
   ],
   "source": [
    "plt.boxplot(data.retweets)\n",
    "plt.show()"
   ]
  },
  {
   "cell_type": "code",
   "execution_count": 457,
   "metadata": {},
   "outputs": [
    {
     "data": {
      "image/png": "[encoded data removed]",
      "text/plain": [
       "<Figure size 432x288 with 2 Axes>"
      ]
     },
     "metadata": {
      "needs_background": "light"
     },
     "output_type": "display_data"
    }
   ],
   "source": [
    "# create figure and axis objects with subplots()\n",
    "tweets_index = hours = [i for i in range(len(data.favorites))]\n",
    "fig,ax = plt.subplots()\n",
    "plt.title(\"Amount of favories and retweets for each tweet\")\n",
    "ax.plot(tweets_index, data.favorites, marker=\"o\", color = \"blue\", label = \"favorites\")\n",
    "# set x-axis label\n",
    "ax.set_xlabel(\"Index\", fontsize=14)\n",
    "# set y-axis label\n",
    "ax.set_ylabel(\"favorites\", fontsize=14, color = \"blue\")\n",
    "# twin object for two different y-axis on the sample plot\n",
    "ax2= ax.twinx()\n",
    "# make a plot with different y-axis using second axis object\n",
    "ax2.plot(tweets_index, data.retweets, marker=\"o\", color = \"orange\", label = \"retweets\")\n",
    "ax2.set_ylabel(\"retweets\",fontsize=14, color = \"orange\")\n",
    "plt.show()"
   ]
  },
  {
   "cell_type": "code",
   "execution_count": null,
   "metadata": {},
   "outputs": [],
   "source": []
  }
 ],
 "metadata": {
  "kernelspec": {
   "display_name": "Python 3",
   "language": "python",
   "name": "python3"
  },
  "language_info": {
   "codemirror_mode": {
    "name": "ipython",
    "version": 3
   },
   "file_extension": ".py",
   "mimetype": "text/x-python",
   "name": "python",
   "nbconvert_exporter": "python",
   "pygments_lexer": "ipython3",
   "version": "3.7.4"
  }
 },
 "nbformat": 4,
 "nbformat_minor": 4
}
