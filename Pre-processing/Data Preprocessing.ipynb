{
 "cells": [
  {
   "cell_type": "markdown",
   "metadata": {},
   "source": [
    "# Data Preprocessing"
   ]
  },
  {
   "cell_type": "markdown",
   "metadata": {},
   "source": [
    "This notebook is doing preprocessing on the twitter text to pass the tweets through the Watson Natural Language API. "
   ]
  },
  {
   "cell_type": "code",
   "execution_count": 1,
   "metadata": {},
   "outputs": [],
   "source": [
    "# Libraries\n",
    "\n",
    "import numpy as np\n",
    "import pandas as pd\n",
    "import spacy\n",
    "from spacy.lang.en import English"
   ]
  },
  {
   "cell_type": "code",
   "execution_count": 2,
   "metadata": {},
   "outputs": [],
   "source": [
    "data = pd.read_csv(\"trumptweets.csv\", \";\")"
   ]
  },
  {
   "cell_type": "code",
   "execution_count": 3,
   "metadata": {},
   "outputs": [
    {
     "data": {
      "text/html": [
       "<div>\n",
       "<style scoped>\n",
       "    .dataframe tbody tr th:only-of-type {\n",
       "        vertical-align: middle;\n",
       "    }\n",
       "\n",
       "    .dataframe tbody tr th {\n",
       "        vertical-align: top;\n",
       "    }\n",
       "\n",
       "    .dataframe thead th {\n",
       "        text-align: right;\n",
       "    }\n",
       "</style>\n",
       "<table border=\"1\" class=\"dataframe\">\n",
       "  <thead>\n",
       "    <tr style=\"text-align: right;\">\n",
       "      <th></th>\n",
       "      <th>username</th>\n",
       "      <th>date</th>\n",
       "      <th>retweets</th>\n",
       "      <th>favorites</th>\n",
       "      <th>text</th>\n",
       "      <th>geo</th>\n",
       "      <th>mentions</th>\n",
       "      <th>hashtags</th>\n",
       "      <th>id</th>\n",
       "      <th>permalink</th>\n",
       "    </tr>\n",
       "  </thead>\n",
       "  <tbody>\n",
       "    <tr>\n",
       "      <th>0</th>\n",
       "      <td>realDonaldTrump</td>\n",
       "      <td>09.02.20 00:47</td>\n",
       "      <td>13459</td>\n",
       "      <td>72445</td>\n",
       "      <td>A great coach and a fantastic guy. His endorse...</td>\n",
       "      <td>NaN</td>\n",
       "      <td>NaN</td>\n",
       "      <td>NaN</td>\n",
       "      <td>1,22629E+18</td>\n",
       "      <td>https://twitter.com/realDonaldTrump/status/122...</td>\n",
       "    </tr>\n",
       "    <tr>\n",
       "      <th>1</th>\n",
       "      <td>realDonaldTrump</td>\n",
       "      <td>08.02.20 22:08</td>\n",
       "      <td>47880</td>\n",
       "      <td>215503</td>\n",
       "      <td>Pete Rose played Major League Baseball for 24 ...</td>\n",
       "      <td>NaN</td>\n",
       "      <td>NaN</td>\n",
       "      <td>NaN</td>\n",
       "      <td>1,22625E+18</td>\n",
       "      <td>https://twitter.com/realDonaldTrump/status/122...</td>\n",
       "    </tr>\n",
       "    <tr>\n",
       "      <th>2</th>\n",
       "      <td>realDonaldTrump</td>\n",
       "      <td>08.02.20 20:48</td>\n",
       "      <td>9452</td>\n",
       "      <td>37402</td>\n",
       "      <td>Total and complete Endorsement for Debbie Lesk...</td>\n",
       "      <td>NaN</td>\n",
       "      <td>#NAME?</td>\n",
       "      <td>NaN</td>\n",
       "      <td>1,22623E+18</td>\n",
       "      <td>https://twitter.com/realDonaldTrump/status/122...</td>\n",
       "    </tr>\n",
       "    <tr>\n",
       "      <th>3</th>\n",
       "      <td>realDonaldTrump</td>\n",
       "      <td>08.02.20 20:40</td>\n",
       "      <td>17545</td>\n",
       "      <td>62484</td>\n",
       "      <td>Governor Cuomo wanted to see me this weekend. ...</td>\n",
       "      <td>NaN</td>\n",
       "      <td>NaN</td>\n",
       "      <td>NaN</td>\n",
       "      <td>1,22623E+18</td>\n",
       "      <td>https://twitter.com/realDonaldTrump/status/122...</td>\n",
       "    </tr>\n",
       "    <tr>\n",
       "      <th>4</th>\n",
       "      <td>realDonaldTrump</td>\n",
       "      <td>08.02.20 20:01</td>\n",
       "      <td>27437</td>\n",
       "      <td>120598</td>\n",
       "      <td>We will not be touching your Social Security o...</td>\n",
       "      <td>NaN</td>\n",
       "      <td>NaN</td>\n",
       "      <td>NaN</td>\n",
       "      <td>1,22622E+18</td>\n",
       "      <td>https://twitter.com/realDonaldTrump/status/122...</td>\n",
       "    </tr>\n",
       "    <tr>\n",
       "      <th>...</th>\n",
       "      <td>...</td>\n",
       "      <td>...</td>\n",
       "      <td>...</td>\n",
       "      <td>...</td>\n",
       "      <td>...</td>\n",
       "      <td>...</td>\n",
       "      <td>...</td>\n",
       "      <td>...</td>\n",
       "      <td>...</td>\n",
       "      <td>...</td>\n",
       "    </tr>\n",
       "    <tr>\n",
       "      <th>10245</th>\n",
       "      <td>realDonaldTrump</td>\n",
       "      <td>07.01.17 16:02</td>\n",
       "      <td>24681</td>\n",
       "      <td>87739</td>\n",
       "      <td>Having a good relationship with Russia is a go...</td>\n",
       "      <td>NaN</td>\n",
       "      <td>NaN</td>\n",
       "      <td>NaN</td>\n",
       "      <td>8,17748E+17</td>\n",
       "      <td>https://twitter.com/realDonaldTrump/status/817...</td>\n",
       "    </tr>\n",
       "    <tr>\n",
       "      <th>10246</th>\n",
       "      <td>realDonaldTrump</td>\n",
       "      <td>07.01.17 13:03</td>\n",
       "      <td>16601</td>\n",
       "      <td>73661</td>\n",
       "      <td>Only reason the hacking of the poorly defended...</td>\n",
       "      <td>NaN</td>\n",
       "      <td>NaN</td>\n",
       "      <td>NaN</td>\n",
       "      <td>8,17703E+17</td>\n",
       "      <td>https://twitter.com/realDonaldTrump/status/817...</td>\n",
       "    </tr>\n",
       "    <tr>\n",
       "      <th>10247</th>\n",
       "      <td>realDonaldTrump</td>\n",
       "      <td>07.01.17 12:56</td>\n",
       "      <td>15401</td>\n",
       "      <td>60280</td>\n",
       "      <td>Intelligence stated very strongly there was ab...</td>\n",
       "      <td>NaN</td>\n",
       "      <td>NaN</td>\n",
       "      <td>NaN</td>\n",
       "      <td>8,17701E+17</td>\n",
       "      <td>https://twitter.com/realDonaldTrump/status/817...</td>\n",
       "    </tr>\n",
       "    <tr>\n",
       "      <th>10248</th>\n",
       "      <td>realDonaldTrump</td>\n",
       "      <td>07.01.17 04:53</td>\n",
       "      <td>13961</td>\n",
       "      <td>59218</td>\n",
       "      <td>Gross negligence by the Democratic National Co...</td>\n",
       "      <td>NaN</td>\n",
       "      <td>NaN</td>\n",
       "      <td>NaN</td>\n",
       "      <td>8,1758E+17</td>\n",
       "      <td>https://twitter.com/realDonaldTrump/status/817...</td>\n",
       "    </tr>\n",
       "    <tr>\n",
       "      <th>10249</th>\n",
       "      <td>realDonaldTrump</td>\n",
       "      <td>07.01.17 01:07</td>\n",
       "      <td>6657</td>\n",
       "      <td>42476</td>\n",
       "      <td>Happy Birthday @EricTrump ! https://www. faceb...</td>\n",
       "      <td>NaN</td>\n",
       "      <td>#NAME?</td>\n",
       "      <td>NaN</td>\n",
       "      <td>8,17523E+17</td>\n",
       "      <td>https://twitter.com/realDonaldTrump/status/817...</td>\n",
       "    </tr>\n",
       "  </tbody>\n",
       "</table>\n",
       "<p>10250 rows × 10 columns</p>\n",
       "</div>"
      ],
      "text/plain": [
       "              username            date  retweets  favorites  \\\n",
       "0      realDonaldTrump  09.02.20 00:47     13459      72445   \n",
       "1      realDonaldTrump  08.02.20 22:08     47880     215503   \n",
       "2      realDonaldTrump  08.02.20 20:48      9452      37402   \n",
       "3      realDonaldTrump  08.02.20 20:40     17545      62484   \n",
       "4      realDonaldTrump  08.02.20 20:01     27437     120598   \n",
       "...                ...             ...       ...        ...   \n",
       "10245  realDonaldTrump  07.01.17 16:02     24681      87739   \n",
       "10246  realDonaldTrump  07.01.17 13:03     16601      73661   \n",
       "10247  realDonaldTrump  07.01.17 12:56     15401      60280   \n",
       "10248  realDonaldTrump  07.01.17 04:53     13961      59218   \n",
       "10249  realDonaldTrump  07.01.17 01:07      6657      42476   \n",
       "\n",
       "                                                    text  geo mentions  \\\n",
       "0      A great coach and a fantastic guy. His endorse...  NaN      NaN   \n",
       "1      Pete Rose played Major League Baseball for 24 ...  NaN      NaN   \n",
       "2      Total and complete Endorsement for Debbie Lesk...  NaN   #NAME?   \n",
       "3      Governor Cuomo wanted to see me this weekend. ...  NaN      NaN   \n",
       "4      We will not be touching your Social Security o...  NaN      NaN   \n",
       "...                                                  ...  ...      ...   \n",
       "10245  Having a good relationship with Russia is a go...  NaN      NaN   \n",
       "10246  Only reason the hacking of the poorly defended...  NaN      NaN   \n",
       "10247  Intelligence stated very strongly there was ab...  NaN      NaN   \n",
       "10248  Gross negligence by the Democratic National Co...  NaN      NaN   \n",
       "10249  Happy Birthday @EricTrump ! https://www. faceb...  NaN   #NAME?   \n",
       "\n",
       "      hashtags           id                                          permalink  \n",
       "0          NaN  1,22629E+18  https://twitter.com/realDonaldTrump/status/122...  \n",
       "1          NaN  1,22625E+18  https://twitter.com/realDonaldTrump/status/122...  \n",
       "2          NaN  1,22623E+18  https://twitter.com/realDonaldTrump/status/122...  \n",
       "3          NaN  1,22623E+18  https://twitter.com/realDonaldTrump/status/122...  \n",
       "4          NaN  1,22622E+18  https://twitter.com/realDonaldTrump/status/122...  \n",
       "...        ...          ...                                                ...  \n",
       "10245      NaN  8,17748E+17  https://twitter.com/realDonaldTrump/status/817...  \n",
       "10246      NaN  8,17703E+17  https://twitter.com/realDonaldTrump/status/817...  \n",
       "10247      NaN  8,17701E+17  https://twitter.com/realDonaldTrump/status/817...  \n",
       "10248      NaN   8,1758E+17  https://twitter.com/realDonaldTrump/status/817...  \n",
       "10249      NaN  8,17523E+17  https://twitter.com/realDonaldTrump/status/817...  \n",
       "\n",
       "[10250 rows x 10 columns]"
      ]
     },
     "execution_count": 3,
     "metadata": {},
     "output_type": "execute_result"
    }
   ],
   "source": [
    "data"
   ]
  },
  {
   "cell_type": "code",
   "execution_count": 4,
   "metadata": {},
   "outputs": [],
   "source": [
    "text = data.text"
   ]
  },
  {
   "cell_type": "code",
   "execution_count": 5,
   "metadata": {},
   "outputs": [
    {
     "data": {
      "text/plain": [
       "0        A great coach and a fantastic guy. His endorse...\n",
       "1        Pete Rose played Major League Baseball for 24 ...\n",
       "2        Total and complete Endorsement for Debbie Lesk...\n",
       "3        Governor Cuomo wanted to see me this weekend. ...\n",
       "4        We will not be touching your Social Security o...\n",
       "                               ...                        \n",
       "10245    Having a good relationship with Russia is a go...\n",
       "10246    Only reason the hacking of the poorly defended...\n",
       "10247    Intelligence stated very strongly there was ab...\n",
       "10248    Gross negligence by the Democratic National Co...\n",
       "10249    Happy Birthday @EricTrump ! https://www. faceb...\n",
       "Name: text, Length: 10250, dtype: object"
      ]
     },
     "execution_count": 5,
     "metadata": {},
     "output_type": "execute_result"
    }
   ],
   "source": [
    "text"
   ]
  },
  {
   "cell_type": "code",
   "execution_count": 6,
   "metadata": {},
   "outputs": [],
   "source": [
    "nlp = spacy.load(\"en_core_web_sm\", disable=[\"tagger\", \"parser\", \"entityrecognizer\"])\n",
    "#nlp = spacy.load(\"en\")\n",
    "#nlp_en = English()  # Includes English data\n",
    "\n",
    "def preprocess(text):\n",
    "    doc = nlp(text)\n",
    "    \n",
    "    # init an list to save the return\n",
    "    result = []\n",
    "    \n",
    "    # in the function we have to: \n",
    "    # tokeniz the text: \n",
    "    # - Special-case rule to split a string into several tokens or prevent a token from being split when\n",
    "    # remove stop words: \n",
    "    # - Is the token part of a stop list, i.e. the most common words of the language?\n",
    "    # lemma:\n",
    "    # - The base form of the word\n",
    "    # is alpha: \n",
    "    # - Is the token an alpha character?\n",
    "    \n",
    "    for token in doc:\n",
    "        if token.is_alpha == True: \n",
    "                result.append(token.lemma_)\n",
    "    return result"
   ]
  },
  {
   "cell_type": "code",
   "execution_count": 7,
   "metadata": {},
   "outputs": [
    {
     "name": "stdout",
     "output_type": "stream",
     "text": [
      "['A', 'great', 'coach', 'and', 'a', 'fantastic', 'guy', 'His', 'endorsement', 'of', 'me', 'in', 'Indiana', 'be', 'a', 'very', 'big', 'deal']\n",
      "A great coach and a fantastic guy. His endorsement of me in Indiana was a very big deal! https:// twitter.com/kyle__boone/st atus/1226234981808250880 …\n"
     ]
    }
   ],
   "source": [
    "print(preprocess(text[0]))\n",
    "print(text[0])"
   ]
  },
  {
   "cell_type": "code",
   "execution_count": 8,
   "metadata": {},
   "outputs": [
    {
     "data": {
      "text/plain": [
       "40    @nytimes “The Votes Were A Resounding Victory ...\n",
       "41                           pic.twitter.com/FIg1SYtJcy\n",
       "42    I will be making a public statement tomorrow a...\n",
       "43                           pic.twitter.com/JDS4zUXXJG\n",
       "44                           pic.twitter.com/lj8RUqcz37\n",
       "45    “The Democrats want to run a Country, and they...\n",
       "46    Thank you Jonathan, and great job! https:// tw...\n",
       "47    It was a great and triumphant evening for our ...\n",
       "48                 #SOTU2020 pic.twitter.com/W03gQLkdpo\n",
       "49                           pic.twitter.com/QeFYDg9jZ0\n",
       "50    My Approval Rating in the Republican Party = 9...\n",
       "51    Market up big today on very good economic news...\n",
       "52    The Democrat Party in Iowa really messed up, b...\n",
       "53    When will the Democrats start blaming RUSSIA, ...\n",
       "54    It is not the fault of Iowa, it is the Do Noth...\n",
       "55    The Democrat Caucus is an unmitigated disaster...\n",
       "56           Big WIN for us in Iowa tonight. Thank you!\n",
       "57    Many people do not know what a great guy & fan...\n",
       "58                           pic.twitter.com/KSVkKL76NM\n",
       "59    Where’s the Whistleblower? Where’s the second ...\n",
       "Name: text, dtype: object"
      ]
     },
     "execution_count": 8,
     "metadata": {},
     "output_type": "execute_result"
    }
   ],
   "source": [
    "text[40:60]"
   ]
  },
  {
   "cell_type": "code",
   "execution_count": 9,
   "metadata": {},
   "outputs": [
    {
     "name": "stdout",
     "output_type": "stream",
     "text": [
      "where the Whistleblower where the 2 Whistleblower where the Informer Why do Corrupt politician Schiff MAKE UP my conversation with the Ukrainian President Why do the House do its job And sooo much much\n",
      "Where’s the Whistleblower? Where’s the second Whistleblower? Where’s the Informer? Why did Corrupt politician Schiff MAKE UP my conversation with the Ukrainian President??? Why didn’t the House do its job? And sooo much more!\n"
     ]
    }
   ],
   "source": [
    "print(\" \".join(preprocess(text[59])))\n",
    "print(text[59])"
   ]
  },
  {
   "cell_type": "code",
   "execution_count": 10,
   "metadata": {},
   "outputs": [
    {
     "name": "stdout",
     "output_type": "stream",
     "text": [
      "هذا ما قد تبدو عليه دولة فلسطين المستقبلية بعاصمة في أجزاء من القدس الشرقية\n",
      "هذا ما قد تبدو عليه دولة فلسطين المستقبلية بعاصمة في أجزاء من القدس الشرقية. pic.twitter.com/CFuYwwjSso\n"
     ]
    }
   ],
   "source": [
    "print(\" \".join(preprocess(text[142])))\n",
    "print(text[142])"
   ]
  },
  {
   "cell_type": "code",
   "execution_count": 11,
   "metadata": {},
   "outputs": [
    {
     "data": {
      "text/plain": [
       "هذا ما قد تبدو عليه دولة فلسطين المستقبلية بعاصمة في أجزاء من القدس الشرقية. pic.twitter.com/CFuYwwjSso"
      ]
     },
     "execution_count": 11,
     "metadata": {},
     "output_type": "execute_result"
    }
   ],
   "source": [
    "doc = nlp(text[142])\n",
    "doc"
   ]
  },
  {
   "cell_type": "code",
   "execution_count": 12,
   "metadata": {},
   "outputs": [
    {
     "data": {
      "text/plain": [
       "'en'"
      ]
     },
     "execution_count": 12,
     "metadata": {},
     "output_type": "execute_result"
    }
   ],
   "source": [
    "doc.lang_"
   ]
  },
  {
   "cell_type": "code",
   "execution_count": 19,
   "metadata": {},
   "outputs": [
    {
     "name": "stdout",
     "output_type": "stream",
     "text": [
      "True\n",
      "True\n",
      "True\n",
      "True\n",
      "True\n",
      "True\n",
      "True\n",
      "True\n",
      "True\n",
      "True\n",
      "True\n",
      "True\n",
      "True\n",
      "True\n",
      "False\n",
      "False\n"
     ]
    }
   ],
   "source": [
    "for token in doc:\n",
    "    print(token.is_alpha)"
   ]
  },
  {
   "cell_type": "code",
   "execution_count": 14,
   "metadata": {},
   "outputs": [
    {
     "data": {
      "text/plain": [
       "'en'"
      ]
     },
     "execution_count": 14,
     "metadata": {},
     "output_type": "execute_result"
    }
   ],
   "source": [
    "doc = nlp(text[141])\n",
    "doc.text\n",
    "doc.lang_"
   ]
  }
 ],
 "metadata": {
  "kernelspec": {
   "display_name": "Python 3",
   "language": "python",
   "name": "python3"
  },
  "language_info": {
   "codemirror_mode": {
    "name": "ipython",
    "version": 3
   },
   "file_extension": ".py",
   "mimetype": "text/x-python",
   "name": "python",
   "nbconvert_exporter": "python",
   "pygments_lexer": "ipython3",
   "version": "3.7.4"
  }
 },
 "nbformat": 4,
 "nbformat_minor": 4
}
