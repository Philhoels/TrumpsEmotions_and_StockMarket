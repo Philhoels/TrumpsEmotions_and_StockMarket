{
 "cells": [
  {
   "cell_type": "markdown",
   "metadata": {},
   "source": [
    "# Create Emotion label"
   ]
  },
  {
   "cell_type": "markdown",
   "metadata": {},
   "source": [
    "This notebook will create a label on the full \"trumptweets.csv\" data set. \n",
    "The text of Donald Trump´s tweets is going to be emotionally labeled. \n",
    "Therefore the code of the notebook \"Label Test.ipynb\" will be used. \n",
    "This notebook was been used to create a test set of data, which I used for some testing of visualization and classification. \n"
   ]
  },
  {
   "cell_type": "markdown",
   "metadata": {},
   "source": [
    "## Imports"
   ]
  },
  {
   "cell_type": "code",
   "execution_count": 1,
   "metadata": {},
   "outputs": [],
   "source": [
    "# libraries Im going to use\n",
    "import pandas as pd\n",
    "from IPython.display import Image\n",
    "import os\n",
    "from langdetect import detect\n",
    "import time\n",
    "import os\n",
    "from ibm_watson import ApiException"
   ]
  },
  {
   "cell_type": "markdown",
   "metadata": {},
   "source": [
    "## Functions "
   ]
  },
  {
   "cell_type": "code",
   "execution_count": 2,
   "metadata": {},
   "outputs": [],
   "source": [
    "### Emotino classification function\n",
    "# function to classify text (tweet, one tweet)\n",
    "def emotion_classification(Text):\n",
    "    \"\"\"\n",
    "    This function runs the Watson Natural Language Understanding API\n",
    "    \n",
    "    Input:\n",
    "    - Text, which is going to be classifed into specific emotion\n",
    "    \n",
    "    Output:\n",
    "    - list\n",
    "    -- most important - emotion of the document\n",
    "    \"\"\"\n",
    "    response = natural_language_understanding.analyze(\n",
    "        text= Text, # inpute of the function\n",
    "        features=Features(\n",
    "            emotion=EmotionOptions(document=True),\n",
    "            entities=EntitiesOptions(emotion=True, sentiment=True, limit=2),\n",
    "            keywords=KeywordsOptions(emotion=True, sentiment=True,\n",
    "                                     limit=2))\n",
    "    ).get_result()\n",
    "    return(response)"
   ]
  },
  {
   "cell_type": "code",
   "execution_count": 3,
   "metadata": {},
   "outputs": [],
   "source": [
    "### get max emotion\n",
    "def get_max_emotion(emotions_dict):\n",
    "    \"\"\"\n",
    "    This function runs the classification/emotion with it´s given probability\n",
    "    \n",
    "    Input:\n",
    "    - emotions_dict\n",
    "    \n",
    "    Output:\n",
    "    - emotion_max_probability\n",
    "    -- just returns the emotion with the highest probability\n",
    "    - max_probability\n",
    "    -- the probability the emotion come along with\n",
    "    \"\"\"\n",
    "    \n",
    "    # find max value and label\n",
    "    max_probability = max(emotions_dict.values())  \n",
    "\n",
    "    # getting all emotions containing the \"max_probability\" as string\n",
    "    emotion_max_probability = [k for k, v in emotions_dict.items() if v == max_probability][0] \n",
    "    \n",
    "    # return\n",
    "    return(emotion_max_probability,max_probability)\n"
   ]
  },
  {
   "cell_type": "code",
   "execution_count": 4,
   "metadata": {},
   "outputs": [],
   "source": [
    "### drop rows with pictures and links at the beginning of the tweet\n",
    "def drop_pictures_links(df):\n",
    "    \"\"\"\n",
    "    This function does removes the tweets (whole row), which start with a picture or link.\n",
    "    Reason: Often it´s just the picture or the link, this causes a problem by analyzing the \"text\"\n",
    "    ALSO: check the language of the tweet, if it´s not englisch the tweet will be removed\n",
    "    \n",
    "    Input:\n",
    "    - df: the data frame with all unprocessed data\n",
    "    \n",
    "    Output:\n",
    "    - df: without the rows which start with a picture or link\n",
    "    - drop_list: list of the row index which got dropped\n",
    "    \"\"\"\n",
    "    \n",
    "    print(\"The uncleand dataframe has \", df.shape[0], \" rows and \", df.shape[1], \" columns.\")\n",
    "    # init list of all the rows which are going to be dropped\n",
    "    drop_list = []\n",
    "    \n",
    "    # init values for the loop\n",
    "    # check if tweets starts with picture or link\n",
    "    start_picture_tweet = \"pic.twitter.com\"\n",
    "    start_picture_tweet_length = len(start_picture_tweet)\n",
    "    start_link_tweet = \"https://\"\n",
    "    start_link_tweet_length = len(start_link_tweet)\n",
    "    start_hashtag = \"#\"\n",
    "    start_hashtag_length = len(start_hashtag)\n",
    "    \n",
    "    \n",
    "    print(\"The following index and items are going to be removed:\")\n",
    "    # run throguh every row and check which rows start with a picture or link\n",
    "    #for i in range(df.shape[0]):\n",
    "    for i in df.index:\n",
    "        \n",
    "        # check language\n",
    "        #if detect(df.text[i][0:start_link_tweet_length]) != \"en\": \n",
    "        #if(detect(data.text[i]) == \"ar\" or detect(data.text[i]) == \"he\" or detect(data.text[i]) == \"fa\"):\n",
    "        #    drop_list.append(i)\n",
    "        #    print(i, \"lang\", detect(data.text[i]), data.text[i])\n",
    "        # check picture\n",
    "        if df.text[i][0:start_picture_tweet_length] == start_picture_tweet:\n",
    "            drop_list.append(i)\n",
    "            print(i, \"pic\")\n",
    "            \n",
    "        # check for link\n",
    "        if df.text[i][0:start_link_tweet_length] == start_link_tweet:\n",
    "            drop_list.append(i)\n",
    "            print(i, \"link\")\n",
    "        # check for #\n",
    "        if df.text[i][0:start_hashtag_length] == start_hashtag:\n",
    "            drop_list.append(i)\n",
    "            print(i, \"#\")\n",
    "        \n",
    "        \n",
    "     \n",
    "    # drop rows which start with pic or link\n",
    "    df_new = df.drop(drop_list)\n",
    "    \n",
    "    print(\"The cleand dataframe has \", df_new.shape[0], \" rows and \", df_new.shape[1], \" columns.\")\n",
    "    # return list of rows to drop\n",
    "    return(df_new, drop_list)"
   ]
  },
  {
   "cell_type": "markdown",
   "metadata": {},
   "source": [
    "### Remove links at the end of the tweet"
   ]
  },
  {
   "cell_type": "code",
   "execution_count": 5,
   "metadata": {},
   "outputs": [],
   "source": [
    "def remove_link(tweet):\n",
    "    # remove the link at the end of the text\n",
    "    if \"https://\" in tweet:\n",
    "        # setting the maxsplit parameter to 1, will return a list with 2 elements!\n",
    "        # access just the first element\n",
    "        new_string = tweet.split(\"https://\",1)[0]\n",
    "        return(new_string)\n",
    "    else:\n",
    "        return(tweet)\n",
    "def remove_pic(tweet):\n",
    "    if \"pic.twitter.\" in tweet:\n",
    "        # setting the maxsplit parameter to 1, will return a list with 2 elements!\n",
    "        # access just the first element\n",
    "        new_string = tweet.split(\"pic.twitter\",1)[0]\n",
    "        return(new_string)\n",
    "    else:\n",
    "        return(tweet)\n",
    "def remove_hashtag(tweet):\n",
    "    if \"#\" in tweet:\n",
    "        # setting the maxsplit parameter to 1, will return a list with 2 elements!\n",
    "        # access just the first element\n",
    "        new_string = tweet.split(\"#\",1)[0]\n",
    "        return(new_string)\n",
    "    else:\n",
    "        return(tweet)"
   ]
  },
  {
   "cell_type": "markdown",
   "metadata": {},
   "source": [
    "# Check Tweets - picture, link and non-english\n",
    "\n",
    "**Links** - just the beginning"
   ]
  },
  {
   "cell_type": "code",
   "execution_count": 6,
   "metadata": {},
   "outputs": [],
   "source": [
    "def check_tweets_function(data):\n",
    "    # init values for the loop\n",
    "    # check if tweets starts with picture or link\n",
    "    start_picture_tweet = \"pic.twitter.com\"\n",
    "    start_picture_tweet_length = len(start_picture_tweet)\n",
    "    start_link_tweet = \"https://\"\n",
    "    start_link_tweet_length = len(start_link_tweet)\n",
    "\n",
    "    # init variables for picture and link case\n",
    "    index_pictures = []\n",
    "    index_link = []\n",
    "\n",
    "    # init variables for the non-english case\n",
    "    amount_english_tweets = 0\n",
    "    amount_non_english_tweets = 0\n",
    "    index_non_english_tweets = []\n",
    "\n",
    "    for i in range(len(data.text)):\n",
    "        if(i == 1398): # very ugly way, don´t case\n",
    "            i = i +1\n",
    "        # check picture\n",
    "        if data.text[i][0:start_picture_tweet_length] == start_picture_tweet:\n",
    "            index_pictures.append(i)\n",
    "        # check for link\n",
    "        if data.text[i][0:start_link_tweet_length] == start_link_tweet:\n",
    "            index_link.append(i)\n",
    "        # remove if case tweet is Arabic, Hebrew or Persian\n",
    "        #if(detect(data.text[i]) == \"ar\" or detect(data.text[i]) == \"he\" or detect(data.text[i]) == \"fa\"): \n",
    "        #    index_non_english_tweets.append(i)\n",
    "    \n",
    "    # show results\n",
    "    print(\"Amount pictures:\", len(index_pictures))\n",
    "    print(\"Amount links:\", len(index_link))\n",
    "    #print(\"Non-english:\", len(index_non_english_tweets))\n",
    "    # results\n",
    "    return({\"index_picture\": index_pictures,\n",
    "           \"index_links\": index_link,\n",
    "           #\"index_non_english\":index_non_english_tweets\n",
    "           })"
   ]
  },
  {
   "cell_type": "markdown",
   "metadata": {},
   "source": [
    "### Main function"
   ]
  },
  {
   "cell_type": "code",
   "execution_count": 7,
   "metadata": {},
   "outputs": [],
   "source": [
    "def create_emotion1(df):\n",
    "    \"\"\"\n",
    "    The function does transform the data frame, so that just important information are going to be used. \n",
    "    It also adds the emotion and probability of the emotion as column.\n",
    "    \n",
    "    Input:\n",
    "    - df: this is going to be the data frame as we get it from the GitHub function\n",
    "    \n",
    "    Output:\n",
    "    - df_new: data frame we important information, plus enmotion and emotion probability\n",
    "    \"\"\"\n",
    "    \n",
    "    # tranformation of the data frame\n",
    "    # data frame just with relevant informantion (username, date, retweets, favorites)\n",
    "    trump_tweets = df.iloc[:,0:5]\n",
    "\n",
    "    # drop rows of the data frame which start with picture or link\n",
    "    trump_tweets, rowindex_dropped = drop_pictures_links(trump_tweets) # --- function\n",
    "    # reindex data frame - easier to run the loop\n",
    "    trump_tweets = trump_tweets.reset_index()\n",
    "    # init emotion and its probabilites as list - save the results  - going to be return values\n",
    "    emotions_list = []\n",
    "    emotions_prob_list = []\n",
    "    \n",
    "    # loop over every sentence in the data frame\n",
    "    ##########################################################################################\n",
    "    # Here happens the magic\n",
    "    ##########################################################################################\n",
    "    # This loop will take very long for the whole data set\n",
    "    for i in range(trump_tweets.shape[0]):\n",
    "        \n",
    "        # print after every 100 classification to see process\n",
    "        if i in range(0,trump_tweets.shape[0],10):\n",
    "            print(i, \"emotional classifications done!\")\n",
    "\n",
    "        # run the function with Watson API \n",
    "        \n",
    "        # clean the tweet, remove link, picture and hashtag at the end \n",
    "        clean_tweet = remove_pic(remove_link(remove_hashtag(trump_tweets.text[i])))\n",
    "        \n",
    "        # the main function - create emotions of the cleaned text\n",
    "        emotions = emotion_classification(clean_tweet) # --- function\n",
    "\n",
    "        ### --- flag - start ---\n",
    "        # check if there does a emotion exist\n",
    "        # else classify with \"emotionless, 0,0%\"\n",
    "        if(\"emotion\" in emotions.keys()):\n",
    "        ### --- flag - end ---\n",
    "\n",
    "            # access just the emotion of the document (of the tweet)\n",
    "            emotions_dict = emotions[\"emotion\"][\"document\"][\"emotion\"]\n",
    "\n",
    "            # get the max emotion value\n",
    "            # get_max_emotion(emotions_dict) \n",
    "            emotion_max_probability,max_probability = get_max_emotion(emotions_dict) # --- function \n",
    "\n",
    "            # save results for each step\n",
    "            emotions_list.append(emotion_max_probability)\n",
    "            emotions_prob_list.append(max_probability)\n",
    "\n",
    "        # classify emotion with \"emotionsless\"\n",
    "        else:\n",
    "            emotions_list.append(\"emotionless\")\n",
    "            emotions_prob_list.append(0.0)\n",
    "    ##########################################################################################       \n",
    "    # assign emotions and its probabilites to data frame\n",
    "    trump_tweets = trump_tweets.assign(emotion = emotions_list)\n",
    "    trump_tweets = trump_tweets.assign(emotion_probability = emotions_prob_list)\n",
    "    \n",
    "    # return new data frame\n",
    "    return(trump_tweets)"
   ]
  },
  {
   "cell_type": "code",
   "execution_count": 8,
   "metadata": {},
   "outputs": [],
   "source": [
    "def create_emotion(df):\n",
    "    \"\"\"\n",
    "    The function does transform the data frame, so that just important information are going to be used. \n",
    "    It also adds the emotion and probability of the emotion as column.\n",
    "    \n",
    "    Input:\n",
    "    - df: this is going to be the data frame as we get it from the GitHub function\n",
    "    \n",
    "    Output:\n",
    "    - df_new: data frame we important information, plus enmotion and emotion probability\n",
    "    -- column emotion: includes emotions & NaN values\n",
    "    \"\"\"\n",
    "    \n",
    "    # tranformation of the data frame\n",
    "    # data frame just with relevant informantion (username, date, retweets, favorites)\n",
    "    trump_tweets = df.loc[:,[\"username\", \"date\", \"retweets\", \"favorites\", \"text\"]]\n",
    "\n",
    "    # drop rows of the data frame which start with picture or link\n",
    "    trump_tweets, rowindex_dropped = drop_pictures_links(trump_tweets) # --- function\n",
    "    # reindex data frame - easier to run the loop\n",
    "    trump_tweets = trump_tweets.reset_index()\n",
    "    \n",
    "    # init emotion and its probabilites as list - save the results  - going to be return values\n",
    "    emotions_list = []\n",
    "    emotions_list_index = []\n",
    "    emotions_prob_list = []\n",
    "    # Init: for the fail case\n",
    "    fail_index = []\n",
    "    fail_message = []\n",
    "    \n",
    "    # loop over every sentence in the data frame\n",
    "    ##########################################################################################\n",
    "    # Here happens the magic\n",
    "    print(\"-- Wation Natural Language Understanding is now going to create emotions for every tweet--\")\n",
    "    ##########################################################################################\n",
    "    # This loop will take very long for the whole data set\n",
    "    for i in range(trump_tweets.shape[0]):\n",
    "        \n",
    "        # print after every 100 classification to see process\n",
    "        if i in range(0,trump_tweets.shape[0],10):\n",
    "            print(i, \"emotional classifications done!\")\n",
    "\n",
    "        # run the function with Watson API \n",
    "        \n",
    "        # clean the tweet, remove link, picture and hashtag at the end \n",
    "        clean_tweet = remove_pic(remove_link(remove_hashtag(trump_tweets.text[i])))\n",
    "        \n",
    "        # the main function - create emotions of the cleaned text\n",
    "        try:\n",
    "            emotions = emotion_classification(clean_tweet) # --- function\n",
    "            emotions_flag = \"NO_FAIL\"\n",
    "        except ApiException as ex: \n",
    "            print(\"FAIL:\", i, clean_tweet)\n",
    "            # Classify NAN emotion + save fail message\n",
    "            emotions_list.append(\"NaN\")\n",
    "            emotions_prob_list.append(1.0)\n",
    "            emotions_flag = \"FAIL\"\n",
    "            fail_message.append(ex.message)\n",
    "        \n",
    "        ### --- flag - start ---\n",
    "        # check if: the classification failed \n",
    "        # if not, continue, if yes, do next tweet\n",
    "        if emotions_flag == \"NO_FAIL\":\n",
    "            # check if there does a emotion exist\n",
    "            # else classify with \"emotionless, 0,0%\"\n",
    "            if(\"emotion\" in emotions.keys()):\n",
    "            ### --- flag - end ---\n",
    "\n",
    "                # access just the emotion of the document (of the tweet)\n",
    "                emotions_dict = emotions[\"emotion\"][\"document\"][\"emotion\"]\n",
    "\n",
    "                # get the max emotion value\n",
    "                # get_max_emotion(emotions_dict) \n",
    "                emotion_max_probability,max_probability = get_max_emotion(emotions_dict) # --- function \n",
    "\n",
    "                # save results for each step\n",
    "                emotions_list.append(emotion_max_probability)\n",
    "                emotions_list_index.append(i)\n",
    "                emotions_prob_list.append(max_probability)\n",
    "\n",
    "            # classify emotion with \"emotionsless\"\n",
    "            else:\n",
    "                emotions_list.append(\"emotionless\")\n",
    "                emotions_list_index.append(i)\n",
    "                emotions_prob_list.append(0.0)\n",
    "    \n",
    "    # give information about error messages\n",
    "    for f_message in pd.unique(fail_message):\n",
    "        print(f_message, \":\", fail_message.count(f_message))\n",
    "    \n",
    "    ########################################################################################## \n",
    "    #return(trump_tweets,emotions_list,emotions_prob_list)\n",
    "    # assign emotions and its probabilites to data frame\n",
    "    trump_tweets = trump_tweets.assign(emotion = emotions_list)\n",
    "    trump_tweets = trump_tweets.assign(emotion_probability = emotions_prob_list)\n",
    "    \n",
    "    # return new data frame\n",
    "    return(trump_tweets)"
   ]
  },
  {
   "cell_type": "markdown",
   "metadata": {},
   "source": [
    "## Set up of the API"
   ]
  },
  {
   "cell_type": "code",
   "execution_count": 9,
   "metadata": {},
   "outputs": [],
   "source": [
    "### Liberaries\n",
    "# libraries I need to import\n",
    "import json\n",
    "\n",
    "# if import does not work\n",
    "# pip install --upgrade \"ibm-watson>=4.2.1\"\n",
    "from ibm_watson import NaturalLanguageUnderstandingV1\n",
    "from ibm_cloud_sdk_core.authenticators import IAMAuthenticator\n",
    "from ibm_watson.natural_language_understanding_v1 import Features, EntitiesOptions, KeywordsOptions, EmotionOptions"
   ]
  },
  {
   "cell_type": "code",
   "execution_count": 10,
   "metadata": {},
   "outputs": [],
   "source": [
    "### API set up\n",
    "# I saved all my important data into a json file\n",
    "# this file I open here to save the apikey and url in a variable\n",
    "# since other people should not see my keys\n",
    "with open('watson_api.json') as json_file:\n",
    "    # save data in dict\n",
    "    api_access = json.load(json_file)\n",
    "\n",
    "# init variables neeeded \n",
    "apikey = api_access[\"apikey\"]\n",
    "url = api_access[\"url\"]"
   ]
  },
  {
   "cell_type": "code",
   "execution_count": 11,
   "metadata": {},
   "outputs": [],
   "source": [
    "### API settings\n",
    "# settings for the api \n",
    "authenticator = IAMAuthenticator(apikey)\n",
    "natural_language_understanding = NaturalLanguageUnderstandingV1(\n",
    "    version='2019-07-12',\n",
    "    authenticator=authenticator)\n",
    "\n",
    "natural_language_understanding.set_service_url(url)"
   ]
  },
  {
   "cell_type": "markdown",
   "metadata": {},
   "source": [
    "## The data"
   ]
  },
  {
   "cell_type": "code",
   "execution_count": 12,
   "metadata": {},
   "outputs": [],
   "source": [
    "# load the tweets\n",
    "data = pd.read_csv(\"trumptweets.csv\", sep=';')"
   ]
  },
  {
   "cell_type": "markdown",
   "metadata": {},
   "source": [
    "### Check the data\n"
   ]
  },
  {
   "cell_type": "code",
   "execution_count": 13,
   "metadata": {},
   "outputs": [
    {
     "data": {
      "text/html": [
       "<div>\n",
       "<style scoped>\n",
       "    .dataframe tbody tr th:only-of-type {\n",
       "        vertical-align: middle;\n",
       "    }\n",
       "\n",
       "    .dataframe tbody tr th {\n",
       "        vertical-align: top;\n",
       "    }\n",
       "\n",
       "    .dataframe thead th {\n",
       "        text-align: right;\n",
       "    }\n",
       "</style>\n",
       "<table border=\"1\" class=\"dataframe\">\n",
       "  <thead>\n",
       "    <tr style=\"text-align: right;\">\n",
       "      <th></th>\n",
       "      <th>username</th>\n",
       "      <th>date</th>\n",
       "      <th>retweets</th>\n",
       "      <th>favorites</th>\n",
       "      <th>text</th>\n",
       "      <th>geo</th>\n",
       "      <th>mentions</th>\n",
       "      <th>hashtags</th>\n",
       "      <th>id</th>\n",
       "      <th>permalink</th>\n",
       "    </tr>\n",
       "  </thead>\n",
       "  <tbody>\n",
       "    <tr>\n",
       "      <th>0</th>\n",
       "      <td>realDonaldTrump</td>\n",
       "      <td>09.02.20 00:47</td>\n",
       "      <td>13459</td>\n",
       "      <td>72445</td>\n",
       "      <td>A great coach and a fantastic guy. His endorse...</td>\n",
       "      <td>NaN</td>\n",
       "      <td>NaN</td>\n",
       "      <td>NaN</td>\n",
       "      <td>1,22629E+18</td>\n",
       "      <td>https://twitter.com/realDonaldTrump/status/122...</td>\n",
       "    </tr>\n",
       "    <tr>\n",
       "      <th>1</th>\n",
       "      <td>realDonaldTrump</td>\n",
       "      <td>08.02.20 22:08</td>\n",
       "      <td>47880</td>\n",
       "      <td>215503</td>\n",
       "      <td>Pete Rose played Major League Baseball for 24 ...</td>\n",
       "      <td>NaN</td>\n",
       "      <td>NaN</td>\n",
       "      <td>NaN</td>\n",
       "      <td>1,22625E+18</td>\n",
       "      <td>https://twitter.com/realDonaldTrump/status/122...</td>\n",
       "    </tr>\n",
       "    <tr>\n",
       "      <th>2</th>\n",
       "      <td>realDonaldTrump</td>\n",
       "      <td>08.02.20 20:48</td>\n",
       "      <td>9452</td>\n",
       "      <td>37402</td>\n",
       "      <td>Total and complete Endorsement for Debbie Lesk...</td>\n",
       "      <td>NaN</td>\n",
       "      <td>#NAME?</td>\n",
       "      <td>NaN</td>\n",
       "      <td>1,22623E+18</td>\n",
       "      <td>https://twitter.com/realDonaldTrump/status/122...</td>\n",
       "    </tr>\n",
       "    <tr>\n",
       "      <th>3</th>\n",
       "      <td>realDonaldTrump</td>\n",
       "      <td>08.02.20 20:40</td>\n",
       "      <td>17545</td>\n",
       "      <td>62484</td>\n",
       "      <td>Governor Cuomo wanted to see me this weekend. ...</td>\n",
       "      <td>NaN</td>\n",
       "      <td>NaN</td>\n",
       "      <td>NaN</td>\n",
       "      <td>1,22623E+18</td>\n",
       "      <td>https://twitter.com/realDonaldTrump/status/122...</td>\n",
       "    </tr>\n",
       "    <tr>\n",
       "      <th>4</th>\n",
       "      <td>realDonaldTrump</td>\n",
       "      <td>08.02.20 20:01</td>\n",
       "      <td>27437</td>\n",
       "      <td>120598</td>\n",
       "      <td>We will not be touching your Social Security o...</td>\n",
       "      <td>NaN</td>\n",
       "      <td>NaN</td>\n",
       "      <td>NaN</td>\n",
       "      <td>1,22622E+18</td>\n",
       "      <td>https://twitter.com/realDonaldTrump/status/122...</td>\n",
       "    </tr>\n",
       "  </tbody>\n",
       "</table>\n",
       "</div>"
      ],
      "text/plain": [
       "          username            date  retweets  favorites  \\\n",
       "0  realDonaldTrump  09.02.20 00:47     13459      72445   \n",
       "1  realDonaldTrump  08.02.20 22:08     47880     215503   \n",
       "2  realDonaldTrump  08.02.20 20:48      9452      37402   \n",
       "3  realDonaldTrump  08.02.20 20:40     17545      62484   \n",
       "4  realDonaldTrump  08.02.20 20:01     27437     120598   \n",
       "\n",
       "                                                text  geo mentions hashtags  \\\n",
       "0  A great coach and a fantastic guy. His endorse...  NaN      NaN      NaN   \n",
       "1  Pete Rose played Major League Baseball for 24 ...  NaN      NaN      NaN   \n",
       "2  Total and complete Endorsement for Debbie Lesk...  NaN   #NAME?      NaN   \n",
       "3  Governor Cuomo wanted to see me this weekend. ...  NaN      NaN      NaN   \n",
       "4  We will not be touching your Social Security o...  NaN      NaN      NaN   \n",
       "\n",
       "            id                                          permalink  \n",
       "0  1,22629E+18  https://twitter.com/realDonaldTrump/status/122...  \n",
       "1  1,22625E+18  https://twitter.com/realDonaldTrump/status/122...  \n",
       "2  1,22623E+18  https://twitter.com/realDonaldTrump/status/122...  \n",
       "3  1,22623E+18  https://twitter.com/realDonaldTrump/status/122...  \n",
       "4  1,22622E+18  https://twitter.com/realDonaldTrump/status/122...  "
      ]
     },
     "execution_count": 13,
     "metadata": {},
     "output_type": "execute_result"
    }
   ],
   "source": [
    "data.head()"
   ]
  },
  {
   "cell_type": "code",
   "execution_count": 14,
   "metadata": {},
   "outputs": [
    {
     "data": {
      "text/html": [
       "<div>\n",
       "<style scoped>\n",
       "    .dataframe tbody tr th:only-of-type {\n",
       "        vertical-align: middle;\n",
       "    }\n",
       "\n",
       "    .dataframe tbody tr th {\n",
       "        vertical-align: top;\n",
       "    }\n",
       "\n",
       "    .dataframe thead th {\n",
       "        text-align: right;\n",
       "    }\n",
       "</style>\n",
       "<table border=\"1\" class=\"dataframe\">\n",
       "  <thead>\n",
       "    <tr style=\"text-align: right;\">\n",
       "      <th></th>\n",
       "      <th>username</th>\n",
       "      <th>date</th>\n",
       "      <th>retweets</th>\n",
       "      <th>favorites</th>\n",
       "      <th>text</th>\n",
       "      <th>geo</th>\n",
       "      <th>mentions</th>\n",
       "      <th>hashtags</th>\n",
       "      <th>id</th>\n",
       "      <th>permalink</th>\n",
       "    </tr>\n",
       "  </thead>\n",
       "  <tbody>\n",
       "    <tr>\n",
       "      <th>10245</th>\n",
       "      <td>realDonaldTrump</td>\n",
       "      <td>07.01.17 16:02</td>\n",
       "      <td>24681</td>\n",
       "      <td>87739</td>\n",
       "      <td>Having a good relationship with Russia is a go...</td>\n",
       "      <td>NaN</td>\n",
       "      <td>NaN</td>\n",
       "      <td>NaN</td>\n",
       "      <td>8,17748E+17</td>\n",
       "      <td>https://twitter.com/realDonaldTrump/status/817...</td>\n",
       "    </tr>\n",
       "    <tr>\n",
       "      <th>10246</th>\n",
       "      <td>realDonaldTrump</td>\n",
       "      <td>07.01.17 13:03</td>\n",
       "      <td>16601</td>\n",
       "      <td>73661</td>\n",
       "      <td>Only reason the hacking of the poorly defended...</td>\n",
       "      <td>NaN</td>\n",
       "      <td>NaN</td>\n",
       "      <td>NaN</td>\n",
       "      <td>8,17703E+17</td>\n",
       "      <td>https://twitter.com/realDonaldTrump/status/817...</td>\n",
       "    </tr>\n",
       "    <tr>\n",
       "      <th>10247</th>\n",
       "      <td>realDonaldTrump</td>\n",
       "      <td>07.01.17 12:56</td>\n",
       "      <td>15401</td>\n",
       "      <td>60280</td>\n",
       "      <td>Intelligence stated very strongly there was ab...</td>\n",
       "      <td>NaN</td>\n",
       "      <td>NaN</td>\n",
       "      <td>NaN</td>\n",
       "      <td>8,17701E+17</td>\n",
       "      <td>https://twitter.com/realDonaldTrump/status/817...</td>\n",
       "    </tr>\n",
       "    <tr>\n",
       "      <th>10248</th>\n",
       "      <td>realDonaldTrump</td>\n",
       "      <td>07.01.17 04:53</td>\n",
       "      <td>13961</td>\n",
       "      <td>59218</td>\n",
       "      <td>Gross negligence by the Democratic National Co...</td>\n",
       "      <td>NaN</td>\n",
       "      <td>NaN</td>\n",
       "      <td>NaN</td>\n",
       "      <td>8,1758E+17</td>\n",
       "      <td>https://twitter.com/realDonaldTrump/status/817...</td>\n",
       "    </tr>\n",
       "    <tr>\n",
       "      <th>10249</th>\n",
       "      <td>realDonaldTrump</td>\n",
       "      <td>07.01.17 01:07</td>\n",
       "      <td>6657</td>\n",
       "      <td>42476</td>\n",
       "      <td>Happy Birthday @EricTrump ! https://www. faceb...</td>\n",
       "      <td>NaN</td>\n",
       "      <td>#NAME?</td>\n",
       "      <td>NaN</td>\n",
       "      <td>8,17523E+17</td>\n",
       "      <td>https://twitter.com/realDonaldTrump/status/817...</td>\n",
       "    </tr>\n",
       "  </tbody>\n",
       "</table>\n",
       "</div>"
      ],
      "text/plain": [
       "              username            date  retweets  favorites  \\\n",
       "10245  realDonaldTrump  07.01.17 16:02     24681      87739   \n",
       "10246  realDonaldTrump  07.01.17 13:03     16601      73661   \n",
       "10247  realDonaldTrump  07.01.17 12:56     15401      60280   \n",
       "10248  realDonaldTrump  07.01.17 04:53     13961      59218   \n",
       "10249  realDonaldTrump  07.01.17 01:07      6657      42476   \n",
       "\n",
       "                                                    text  geo mentions  \\\n",
       "10245  Having a good relationship with Russia is a go...  NaN      NaN   \n",
       "10246  Only reason the hacking of the poorly defended...  NaN      NaN   \n",
       "10247  Intelligence stated very strongly there was ab...  NaN      NaN   \n",
       "10248  Gross negligence by the Democratic National Co...  NaN      NaN   \n",
       "10249  Happy Birthday @EricTrump ! https://www. faceb...  NaN   #NAME?   \n",
       "\n",
       "      hashtags           id                                          permalink  \n",
       "10245      NaN  8,17748E+17  https://twitter.com/realDonaldTrump/status/817...  \n",
       "10246      NaN  8,17703E+17  https://twitter.com/realDonaldTrump/status/817...  \n",
       "10247      NaN  8,17701E+17  https://twitter.com/realDonaldTrump/status/817...  \n",
       "10248      NaN   8,1758E+17  https://twitter.com/realDonaldTrump/status/817...  \n",
       "10249      NaN  8,17523E+17  https://twitter.com/realDonaldTrump/status/817...  "
      ]
     },
     "execution_count": 14,
     "metadata": {},
     "output_type": "execute_result"
    }
   ],
   "source": [
    "data.tail()"
   ]
  },
  {
   "cell_type": "code",
   "execution_count": 15,
   "metadata": {
    "scrolled": true
   },
   "outputs": [
    {
     "data": {
      "text/plain": [
       "(10250, 10)"
      ]
     },
     "execution_count": 15,
     "metadata": {},
     "output_type": "execute_result"
    }
   ],
   "source": [
    "data.shape"
   ]
  },
  {
   "cell_type": "code",
   "execution_count": null,
   "metadata": {},
   "outputs": [],
   "source": []
  },
  {
   "cell_type": "code",
   "execution_count": 43,
   "metadata": {},
   "outputs": [
    {
     "data": {
      "text/plain": [
       "'#SOTU2020 pic.twitter.com/W03gQLkdpo'"
      ]
     },
     "execution_count": 43,
     "metadata": {},
     "output_type": "execute_result"
    }
   ],
   "source": [
    "data.iloc[48].text"
   ]
  },
  {
   "cell_type": "code",
   "execution_count": null,
   "metadata": {},
   "outputs": [],
   "source": []
  },
  {
   "cell_type": "markdown",
   "metadata": {},
   "source": [
    "### Test data\n",
    "\n",
    "one more small test before I run the whole data set!"
   ]
  },
  {
   "cell_type": "code",
   "execution_count": 16,
   "metadata": {
    "scrolled": true
   },
   "outputs": [
    {
     "data": {
      "text/html": [
       "<div>\n",
       "<style scoped>\n",
       "    .dataframe tbody tr th:only-of-type {\n",
       "        vertical-align: middle;\n",
       "    }\n",
       "\n",
       "    .dataframe tbody tr th {\n",
       "        vertical-align: top;\n",
       "    }\n",
       "\n",
       "    .dataframe thead th {\n",
       "        text-align: right;\n",
       "    }\n",
       "</style>\n",
       "<table border=\"1\" class=\"dataframe\">\n",
       "  <thead>\n",
       "    <tr style=\"text-align: right;\">\n",
       "      <th></th>\n",
       "      <th>username</th>\n",
       "      <th>date</th>\n",
       "      <th>retweets</th>\n",
       "      <th>favorites</th>\n",
       "      <th>text</th>\n",
       "      <th>geo</th>\n",
       "      <th>mentions</th>\n",
       "      <th>hashtags</th>\n",
       "      <th>id</th>\n",
       "      <th>permalink</th>\n",
       "    </tr>\n",
       "  </thead>\n",
       "  <tbody>\n",
       "    <tr>\n",
       "      <th>0</th>\n",
       "      <td>realDonaldTrump</td>\n",
       "      <td>09.02.20 00:47</td>\n",
       "      <td>13459</td>\n",
       "      <td>72445</td>\n",
       "      <td>A great coach and a fantastic guy. His endorse...</td>\n",
       "      <td>NaN</td>\n",
       "      <td>NaN</td>\n",
       "      <td>NaN</td>\n",
       "      <td>1,22629E+18</td>\n",
       "      <td>https://twitter.com/realDonaldTrump/status/122...</td>\n",
       "    </tr>\n",
       "    <tr>\n",
       "      <th>1</th>\n",
       "      <td>realDonaldTrump</td>\n",
       "      <td>08.02.20 22:08</td>\n",
       "      <td>47880</td>\n",
       "      <td>215503</td>\n",
       "      <td>Pete Rose played Major League Baseball for 24 ...</td>\n",
       "      <td>NaN</td>\n",
       "      <td>NaN</td>\n",
       "      <td>NaN</td>\n",
       "      <td>1,22625E+18</td>\n",
       "      <td>https://twitter.com/realDonaldTrump/status/122...</td>\n",
       "    </tr>\n",
       "    <tr>\n",
       "      <th>2</th>\n",
       "      <td>realDonaldTrump</td>\n",
       "      <td>08.02.20 20:48</td>\n",
       "      <td>9452</td>\n",
       "      <td>37402</td>\n",
       "      <td>Total and complete Endorsement for Debbie Lesk...</td>\n",
       "      <td>NaN</td>\n",
       "      <td>#NAME?</td>\n",
       "      <td>NaN</td>\n",
       "      <td>1,22623E+18</td>\n",
       "      <td>https://twitter.com/realDonaldTrump/status/122...</td>\n",
       "    </tr>\n",
       "    <tr>\n",
       "      <th>3</th>\n",
       "      <td>realDonaldTrump</td>\n",
       "      <td>08.02.20 20:40</td>\n",
       "      <td>17545</td>\n",
       "      <td>62484</td>\n",
       "      <td>Governor Cuomo wanted to see me this weekend. ...</td>\n",
       "      <td>NaN</td>\n",
       "      <td>NaN</td>\n",
       "      <td>NaN</td>\n",
       "      <td>1,22623E+18</td>\n",
       "      <td>https://twitter.com/realDonaldTrump/status/122...</td>\n",
       "    </tr>\n",
       "    <tr>\n",
       "      <th>4</th>\n",
       "      <td>realDonaldTrump</td>\n",
       "      <td>08.02.20 20:01</td>\n",
       "      <td>27437</td>\n",
       "      <td>120598</td>\n",
       "      <td>We will not be touching your Social Security o...</td>\n",
       "      <td>NaN</td>\n",
       "      <td>NaN</td>\n",
       "      <td>NaN</td>\n",
       "      <td>1,22622E+18</td>\n",
       "      <td>https://twitter.com/realDonaldTrump/status/122...</td>\n",
       "    </tr>\n",
       "    <tr>\n",
       "      <th>...</th>\n",
       "      <td>...</td>\n",
       "      <td>...</td>\n",
       "      <td>...</td>\n",
       "      <td>...</td>\n",
       "      <td>...</td>\n",
       "      <td>...</td>\n",
       "      <td>...</td>\n",
       "      <td>...</td>\n",
       "      <td>...</td>\n",
       "      <td>...</td>\n",
       "    </tr>\n",
       "    <tr>\n",
       "      <th>395</th>\n",
       "      <td>realDonaldTrump</td>\n",
       "      <td>11.01.20 00:32</td>\n",
       "      <td>15163</td>\n",
       "      <td>90211</td>\n",
       "      <td>Will be interviewed tonight by Laura @Ingraham...</td>\n",
       "      <td>NaN</td>\n",
       "      <td>#NAME?</td>\n",
       "      <td>NaN</td>\n",
       "      <td>1,21578E+18</td>\n",
       "      <td>https://twitter.com/realDonaldTrump/status/121...</td>\n",
       "    </tr>\n",
       "    <tr>\n",
       "      <th>396</th>\n",
       "      <td>realDonaldTrump</td>\n",
       "      <td>10.01.20 16:37</td>\n",
       "      <td>24488</td>\n",
       "      <td>120462</td>\n",
       "      <td>She will go down as perhaps the least successf...</td>\n",
       "      <td>NaN</td>\n",
       "      <td>NaN</td>\n",
       "      <td>NaN</td>\n",
       "      <td>1,21566E+18</td>\n",
       "      <td>https://twitter.com/realDonaldTrump/status/121...</td>\n",
       "    </tr>\n",
       "    <tr>\n",
       "      <th>397</th>\n",
       "      <td>realDonaldTrump</td>\n",
       "      <td>10.01.20 16:31</td>\n",
       "      <td>18077</td>\n",
       "      <td>78224</td>\n",
       "      <td>I love constantly proving them wrong. It’s eas...</td>\n",
       "      <td>NaN</td>\n",
       "      <td>NaN</td>\n",
       "      <td>NaN</td>\n",
       "      <td>1,21566E+18</td>\n",
       "      <td>https://twitter.com/realDonaldTrump/status/121...</td>\n",
       "    </tr>\n",
       "    <tr>\n",
       "      <th>398</th>\n",
       "      <td>realDonaldTrump</td>\n",
       "      <td>10.01.20 16:11</td>\n",
       "      <td>16815</td>\n",
       "      <td>86594</td>\n",
       "      <td>“I’ve been doing this for 40 years and I’ve ne...</td>\n",
       "      <td>NaN</td>\n",
       "      <td>#NAME?</td>\n",
       "      <td>NaN</td>\n",
       "      <td>1,21565E+18</td>\n",
       "      <td>https://twitter.com/realDonaldTrump/status/121...</td>\n",
       "    </tr>\n",
       "    <tr>\n",
       "      <th>399</th>\n",
       "      <td>realDonaldTrump</td>\n",
       "      <td>10.01.20 16:08</td>\n",
       "      <td>29934</td>\n",
       "      <td>142055</td>\n",
       "      <td>“11,000 points gained in the Dow in the 3 year...</td>\n",
       "      <td>NaN</td>\n",
       "      <td>#NAME?</td>\n",
       "      <td>NaN</td>\n",
       "      <td>1,21565E+18</td>\n",
       "      <td>https://twitter.com/realDonaldTrump/status/121...</td>\n",
       "    </tr>\n",
       "  </tbody>\n",
       "</table>\n",
       "<p>400 rows × 10 columns</p>\n",
       "</div>"
      ],
      "text/plain": [
       "            username            date  retweets  favorites  \\\n",
       "0    realDonaldTrump  09.02.20 00:47     13459      72445   \n",
       "1    realDonaldTrump  08.02.20 22:08     47880     215503   \n",
       "2    realDonaldTrump  08.02.20 20:48      9452      37402   \n",
       "3    realDonaldTrump  08.02.20 20:40     17545      62484   \n",
       "4    realDonaldTrump  08.02.20 20:01     27437     120598   \n",
       "..               ...             ...       ...        ...   \n",
       "395  realDonaldTrump  11.01.20 00:32     15163      90211   \n",
       "396  realDonaldTrump  10.01.20 16:37     24488     120462   \n",
       "397  realDonaldTrump  10.01.20 16:31     18077      78224   \n",
       "398  realDonaldTrump  10.01.20 16:11     16815      86594   \n",
       "399  realDonaldTrump  10.01.20 16:08     29934     142055   \n",
       "\n",
       "                                                  text  geo mentions hashtags  \\\n",
       "0    A great coach and a fantastic guy. His endorse...  NaN      NaN      NaN   \n",
       "1    Pete Rose played Major League Baseball for 24 ...  NaN      NaN      NaN   \n",
       "2    Total and complete Endorsement for Debbie Lesk...  NaN   #NAME?      NaN   \n",
       "3    Governor Cuomo wanted to see me this weekend. ...  NaN      NaN      NaN   \n",
       "4    We will not be touching your Social Security o...  NaN      NaN      NaN   \n",
       "..                                                 ...  ...      ...      ...   \n",
       "395  Will be interviewed tonight by Laura @Ingraham...  NaN   #NAME?      NaN   \n",
       "396  She will go down as perhaps the least successf...  NaN      NaN      NaN   \n",
       "397  I love constantly proving them wrong. It’s eas...  NaN      NaN      NaN   \n",
       "398  “I’ve been doing this for 40 years and I’ve ne...  NaN   #NAME?      NaN   \n",
       "399  “11,000 points gained in the Dow in the 3 year...  NaN   #NAME?      NaN   \n",
       "\n",
       "              id                                          permalink  \n",
       "0    1,22629E+18  https://twitter.com/realDonaldTrump/status/122...  \n",
       "1    1,22625E+18  https://twitter.com/realDonaldTrump/status/122...  \n",
       "2    1,22623E+18  https://twitter.com/realDonaldTrump/status/122...  \n",
       "3    1,22623E+18  https://twitter.com/realDonaldTrump/status/122...  \n",
       "4    1,22622E+18  https://twitter.com/realDonaldTrump/status/122...  \n",
       "..           ...                                                ...  \n",
       "395  1,21578E+18  https://twitter.com/realDonaldTrump/status/121...  \n",
       "396  1,21566E+18  https://twitter.com/realDonaldTrump/status/121...  \n",
       "397  1,21566E+18  https://twitter.com/realDonaldTrump/status/121...  \n",
       "398  1,21565E+18  https://twitter.com/realDonaldTrump/status/121...  \n",
       "399  1,21565E+18  https://twitter.com/realDonaldTrump/status/121...  \n",
       "\n",
       "[400 rows x 10 columns]"
      ]
     },
     "execution_count": 16,
     "metadata": {},
     "output_type": "execute_result"
    }
   ],
   "source": [
    "# one more small test \n",
    "# create a test set of 200 tweets\n",
    "data_test = data.iloc[0:400,:]\n",
    "data_test"
   ]
  },
  {
   "cell_type": "markdown",
   "metadata": {},
   "source": [
    "# Check Tweets test - picture, link and non-english\n",
    "\n",
    "**Links** - just the beginning"
   ]
  },
  {
   "cell_type": "code",
   "execution_count": 17,
   "metadata": {
    "scrolled": true
   },
   "outputs": [
    {
     "name": "stdout",
     "output_type": "stream",
     "text": [
      "Amount pictures: 26\n",
      "Amount links: 7\n"
     ]
    }
   ],
   "source": [
    "check_tweet_test = check_tweets_function(data_test)"
   ]
  },
  {
   "cell_type": "code",
   "execution_count": 18,
   "metadata": {
    "scrolled": false
   },
   "outputs": [
    {
     "name": "stdout",
     "output_type": "stream",
     "text": [
      "Totel items: 33\n"
     ]
    }
   ],
   "source": [
    "print(\"Totel items:\", sum(map(len, check_tweet_test.values())))"
   ]
  },
  {
   "cell_type": "markdown",
   "metadata": {},
   "source": [
    "# Make emotional classification - Test set"
   ]
  },
  {
   "cell_type": "code",
   "execution_count": 91,
   "metadata": {
    "scrolled": true
   },
   "outputs": [
    {
     "name": "stdout",
     "output_type": "stream",
     "text": [
      "The uncleand dataframe has  400  rows and  5  columns.\n",
      "The following index and items are going to be removed:\n",
      "13 pic\n",
      "23 pic\n",
      "34 pic\n",
      "38 link\n",
      "41 pic\n",
      "43 pic\n",
      "44 pic\n",
      "48 #\n",
      "49 pic\n",
      "58 pic\n",
      "105 pic\n",
      "106 pic\n",
      "107 pic\n",
      "108 pic\n",
      "111 pic\n",
      "112 pic\n",
      "117 pic\n",
      "139 link\n",
      "142 lang ar هذا ما قد تبدو عليه دولة فلسطين المستقبلية بعاصمة في أجزاء من القدس الشرقية. pic.twitter.com/CFuYwwjSso\n",
      "144 lang he תמיד אעמוד לצד מדינת ישראל והעם היהודי. אני תומך בחוזקה בבטיחותם ובטחונם ובזכותם לחיות במולדתם ההיסטורית. הגיע הזמן לשלום! pic.twitter.com/AtNnQtnGZs\n",
      "145 link\n",
      "156 link\n",
      "157 pic\n",
      "167 pic\n",
      "187 pic\n",
      "189 lang fa وزیر امور خارجه ایران می گوید ایران خواستار مذاکره با ایالات متحده است اما می خواهد که تحریم ها برداشته شود. @FoxNews @OANN نه، مرسی! https:// twitter.com/realDonaldTrum p/status/1221225245220265985 …\n",
      "205 link\n",
      "208 #\n",
      "222 pic\n",
      "223 pic\n",
      "225 pic\n",
      "278 link\n",
      "294 pic\n",
      "307 lang fa مردم نجیب ایران، که آمریکا را دوست می دارند، سزاوار دولتی هستند که بیش از تمرکز بر کشتن آنها به جرم احترام خواهی، به آنها کمک کند تا به رؤیاهایشان دست یابند. رهبران ایران به جای آن که ایران را به سمت ویرانی بکشانند، باید هراس افکنی را کنار بنهند و ایران را دوباره باعظمت کنند! https:// twitter.com/khamenei_ir/st atus/1218141834842660864 …\n",
      "333 link\n",
      "358 lang fa مشاور امنیت ملی امروز عنوان کرد كه تحریم ها و اعتراضات، ایران را«به شدت تحت فشار»قرار داده است و آنها را مجبور به مذاكره می كند.در واقع، اصلا برایم اهمیتی نداردکه آیا آنها مذاکره می کنند یا نه.این کاملاً به عهده ی خودشان است، اما سلاح هسته ای نداشته باشیدو«معترضان خود را نکشید.» https:// twitter.com/realDonaldTrum p/status/1216506722153639942 …\n",
      "361 pic\n",
      "362 pic\n",
      "363 pic\n",
      "368 lang fa خطاب به رهبران ايران: معترضان خود را نكشيد. هزاران تن تاكنون به دست شما كشته يا زنداني شده اند، و جهان نظاره گر است. مهمتر از ان، ايالات متحده نظاره گر است. اينترنت را دوباره وصل كنيد و به خبرنگاران اجازه دهيد ازادانه حركت كنند! كشتار مردم بزرگ ايران را متوقف كنيد! https:// twitter.com/realDonaldTrum p/status/1216356280933273600 …\n",
      "383 pic\n",
      "384 lang fa دولت ایران باید به گروه‌های حقوق بشر اجازه بدهد حقیقت کنونی اعتراضات در جریان مردم ایران را نظارت کرده و گزارش بدهند. نباید شاهد کشتار دوباره ی معترضان مسالمت آمیز و یا قطع اینترنت باشیم. جهان نظاره گر این اتفاقات است.\n",
      "386 lang fa به مردم شجاع و رنج کشیده ایران: من از ابتدای دوره ریاست جمهوریم با شما ایستاده‌ام و دولت من همچنان با شما خواهد ایستاد. ما اعتراضات شما را از نزدیک دنبال می کنیم. شجاعت شما الهام بخش است.\n",
      "The cleand dataframe has  357  rows and  5  columns.\n",
      "0 emotional classifications done!\n",
      "10 emotional classifications done!\n"
     ]
    },
    {
     "name": "stderr",
     "output_type": "stream",
     "text": [
      "ERROR:root:not enough text for language id\n",
      "Traceback (most recent call last):\n",
      "  File \"/Users/phillipholscher/opt/anaconda3/lib/python3.7/site-packages/ibm_cloud_sdk_core/base_service.py\", line 229, in send\n",
      "    response.status_code, error_message, http_response=response)\n",
      "ibm_cloud_sdk_core.api_exception.ApiException: Error: not enough text for language id, Code: 422 , X-global-transaction-id: c841d487-daf2-49d2-86fe-38743ef993a8\n"
     ]
    },
    {
     "name": "stdout",
     "output_type": "stream",
     "text": [
      "FAIL: 12 Not good! \n",
      "20 emotional classifications done!\n"
     ]
    },
    {
     "name": "stderr",
     "output_type": "stream",
     "text": [
      "ERROR:root:not enough text for language id\n",
      "Traceback (most recent call last):\n",
      "  File \"/Users/phillipholscher/opt/anaconda3/lib/python3.7/site-packages/ibm_cloud_sdk_core/base_service.py\", line 229, in send\n",
      "    response.status_code, error_message, http_response=response)\n",
      "ibm_cloud_sdk_core.api_exception.ApiException: Error: not enough text for language id, Code: 422 , X-global-transaction-id: 2cb36be1-2ae6-4a03-b254-ccffe03a3bff\n"
     ]
    },
    {
     "name": "stdout",
     "output_type": "stream",
     "text": [
      "FAIL: 25 So do I! \n",
      "30 emotional classifications done!\n"
     ]
    },
    {
     "name": "stderr",
     "output_type": "stream",
     "text": [
      "ERROR:root:not enough text for language id\n",
      "Traceback (most recent call last):\n",
      "  File \"/Users/phillipholscher/opt/anaconda3/lib/python3.7/site-packages/ibm_cloud_sdk_core/base_service.py\", line 229, in send\n",
      "    response.status_code, error_message, http_response=response)\n",
      "ibm_cloud_sdk_core.api_exception.ApiException: Error: not enough text for language id, Code: 422 , X-global-transaction-id: 8011d999-db2d-4ca1-b5aa-35cb2c6bb6b2\n"
     ]
    },
    {
     "name": "stdout",
     "output_type": "stream",
     "text": [
      "FAIL: 34 So true! \n",
      "40 emotional classifications done!\n",
      "50 emotional classifications done!\n"
     ]
    },
    {
     "name": "stderr",
     "output_type": "stream",
     "text": [
      "ERROR:root:unsupported text language: unknown\n",
      "Traceback (most recent call last):\n",
      "  File \"/Users/phillipholscher/opt/anaconda3/lib/python3.7/site-packages/ibm_cloud_sdk_core/base_service.py\", line 229, in send\n",
      "    response.status_code, error_message, http_response=response)\n",
      "ibm_cloud_sdk_core.api_exception.ApiException: Error: unsupported text language: unknown, Code: 400 , X-global-transaction-id: 6e1a7cdb-b645-4729-aa5e-06263d04175e\n"
     ]
    },
    {
     "name": "stdout",
     "output_type": "stream",
     "text": [
      "FAIL: 54 @LindseyGrahamSC \n",
      "60 emotional classifications done!\n"
     ]
    },
    {
     "name": "stderr",
     "output_type": "stream",
     "text": [
      "ERROR:root:not enough text for language id\n",
      "Traceback (most recent call last):\n",
      "  File \"/Users/phillipholscher/opt/anaconda3/lib/python3.7/site-packages/ibm_cloud_sdk_core/base_service.py\", line 229, in send\n",
      "    response.status_code, error_message, http_response=response)\n",
      "ibm_cloud_sdk_core.api_exception.ApiException: Error: not enough text for language id, Code: 422 , X-global-transaction-id: c622851d-c8e4-4205-b497-17bf38c7065c\n"
     ]
    },
    {
     "name": "stdout",
     "output_type": "stream",
     "text": [
      "FAIL: 68 Correct! \n",
      "70 emotional classifications done!\n",
      "80 emotional classifications done!\n",
      "90 emotional classifications done!\n"
     ]
    },
    {
     "name": "stderr",
     "output_type": "stream",
     "text": [
      "ERROR:root:not enough text for language id\n",
      "Traceback (most recent call last):\n",
      "  File \"/Users/phillipholscher/opt/anaconda3/lib/python3.7/site-packages/ibm_cloud_sdk_core/base_service.py\", line 229, in send\n",
      "    response.status_code, error_message, http_response=response)\n",
      "ibm_cloud_sdk_core.api_exception.ApiException: Error: not enough text for language id, Code: 422 , X-global-transaction-id: e27a2333-b94b-413a-b567-894e424b69e1\n"
     ]
    },
    {
     "name": "stdout",
     "output_type": "stream",
     "text": [
      "100 emotional classifications done!\n",
      "FAIL: 100 GAME OVER! \n",
      "110 emotional classifications done!\n"
     ]
    },
    {
     "name": "stderr",
     "output_type": "stream",
     "text": [
      "ERROR:root:not enough text for language id\n",
      "Traceback (most recent call last):\n",
      "  File \"/Users/phillipholscher/opt/anaconda3/lib/python3.7/site-packages/ibm_cloud_sdk_core/base_service.py\", line 229, in send\n",
      "    response.status_code, error_message, http_response=response)\n",
      "ibm_cloud_sdk_core.api_exception.ApiException: Error: not enough text for language id, Code: 422 , X-global-transaction-id: cd674d7d-d0cd-4954-b3e7-24cdb7c0f701\n"
     ]
    },
    {
     "name": "stdout",
     "output_type": "stream",
     "text": [
      "FAIL: 114 Thank you! \n",
      "120 emotional classifications done!\n",
      "130 emotional classifications done!\n",
      "140 emotional classifications done!\n",
      "150 emotional classifications done!\n",
      "160 emotional classifications done!\n"
     ]
    },
    {
     "name": "stderr",
     "output_type": "stream",
     "text": [
      "ERROR:root:not enough text for language id\n",
      "Traceback (most recent call last):\n",
      "  File \"/Users/phillipholscher/opt/anaconda3/lib/python3.7/site-packages/ibm_cloud_sdk_core/base_service.py\", line 229, in send\n",
      "    response.status_code, error_message, http_response=response)\n",
      "ibm_cloud_sdk_core.api_exception.ApiException: Error: not enough text for language id, Code: 422 , X-global-transaction-id: 08a39e0b-937b-4f03-9497-bee0b9eb0205\n"
     ]
    },
    {
     "name": "stdout",
     "output_type": "stream",
     "text": [
      "FAIL: 162 True! \n",
      "170 emotional classifications done!\n",
      "180 emotional classifications done!\n",
      "190 emotional classifications done!\n"
     ]
    },
    {
     "name": "stderr",
     "output_type": "stream",
     "text": [
      "ERROR:root:not enough text for language id\n",
      "Traceback (most recent call last):\n",
      "  File \"/Users/phillipholscher/opt/anaconda3/lib/python3.7/site-packages/ibm_cloud_sdk_core/base_service.py\", line 229, in send\n",
      "    response.status_code, error_message, http_response=response)\n",
      "ibm_cloud_sdk_core.api_exception.ApiException: Error: not enough text for language id, Code: 422 , X-global-transaction-id: 3160ba1e-4a33-4956-94ac-4c248f8b4907\n"
     ]
    },
    {
     "name": "stdout",
     "output_type": "stream",
     "text": [
      "FAIL: 195 True! \n",
      "200 emotional classifications done!\n",
      "210 emotional classifications done!\n",
      "220 emotional classifications done!\n"
     ]
    },
    {
     "name": "stderr",
     "output_type": "stream",
     "text": [
      "ERROR:root:not enough text for language id\n",
      "Traceback (most recent call last):\n",
      "  File \"/Users/phillipholscher/opt/anaconda3/lib/python3.7/site-packages/ibm_cloud_sdk_core/base_service.py\", line 229, in send\n",
      "    response.status_code, error_message, http_response=response)\n",
      "ibm_cloud_sdk_core.api_exception.ApiException: Error: not enough text for language id, Code: 422 , X-global-transaction-id: e41b1dc8-ec4e-4261-9e69-2960614a73e9\n"
     ]
    },
    {
     "name": "stdout",
     "output_type": "stream",
     "text": [
      "FAIL: 221 True! \n",
      "230 emotional classifications done!\n"
     ]
    },
    {
     "name": "stderr",
     "output_type": "stream",
     "text": [
      "ERROR:root:not enough text for language id\n",
      "Traceback (most recent call last):\n",
      "  File \"/Users/phillipholscher/opt/anaconda3/lib/python3.7/site-packages/ibm_cloud_sdk_core/base_service.py\", line 229, in send\n",
      "    response.status_code, error_message, http_response=response)\n",
      "ibm_cloud_sdk_core.api_exception.ApiException: Error: not enough text for language id, Code: 422 , X-global-transaction-id: 2aa7349a-8d9c-4b92-a4ef-62da70c54d80\n"
     ]
    },
    {
     "name": "stdout",
     "output_type": "stream",
     "text": [
      "FAIL: 233 ENJOY! \n"
     ]
    },
    {
     "name": "stderr",
     "output_type": "stream",
     "text": [
      "ERROR:root:not enough text for language id\n",
      "Traceback (most recent call last):\n",
      "  File \"/Users/phillipholscher/opt/anaconda3/lib/python3.7/site-packages/ibm_cloud_sdk_core/base_service.py\", line 229, in send\n",
      "    response.status_code, error_message, http_response=response)\n",
      "ibm_cloud_sdk_core.api_exception.ApiException: Error: not enough text for language id, Code: 422 , X-global-transaction-id: cbd80330-e5c1-4fb4-bdc2-ae6c01979b32\n"
     ]
    },
    {
     "name": "stdout",
     "output_type": "stream",
     "text": [
      "FAIL: 236 Wow! \n",
      "240 emotional classifications done!\n"
     ]
    },
    {
     "name": "stderr",
     "output_type": "stream",
     "text": [
      "ERROR:root:not enough text for language id\n",
      "Traceback (most recent call last):\n",
      "  File \"/Users/phillipholscher/opt/anaconda3/lib/python3.7/site-packages/ibm_cloud_sdk_core/base_service.py\", line 229, in send\n",
      "    response.status_code, error_message, http_response=response)\n",
      "ibm_cloud_sdk_core.api_exception.ApiException: Error: not enough text for language id, Code: 422 , X-global-transaction-id: 6f466d54-17f6-4c20-9b62-d420910e6bff\n"
     ]
    },
    {
     "name": "stdout",
     "output_type": "stream",
     "text": [
      "FAIL: 246 Excellent! \n",
      "250 emotional classifications done!\n"
     ]
    },
    {
     "name": "stderr",
     "output_type": "stream",
     "text": [
      "ERROR:root:not enough text for language id\n",
      "Traceback (most recent call last):\n",
      "  File \"/Users/phillipholscher/opt/anaconda3/lib/python3.7/site-packages/ibm_cloud_sdk_core/base_service.py\", line 229, in send\n",
      "    response.status_code, error_message, http_response=response)\n",
      "ibm_cloud_sdk_core.api_exception.ApiException: Error: not enough text for language id, Code: 422 , X-global-transaction-id: 9591625f-d4a8-4d5f-847f-8812fd9d323a\n"
     ]
    },
    {
     "name": "stdout",
     "output_type": "stream",
     "text": [
      "FAIL: 252 USA! USA! USA!\n",
      "260 emotional classifications done!\n",
      "270 emotional classifications done!\n",
      "280 emotional classifications done!\n"
     ]
    },
    {
     "name": "stderr",
     "output_type": "stream",
     "text": [
      "ERROR:root:not enough text for language id\n",
      "Traceback (most recent call last):\n",
      "  File \"/Users/phillipholscher/opt/anaconda3/lib/python3.7/site-packages/ibm_cloud_sdk_core/base_service.py\", line 229, in send\n",
      "    response.status_code, error_message, http_response=response)\n",
      "ibm_cloud_sdk_core.api_exception.ApiException: Error: not enough text for language id, Code: 422 , X-global-transaction-id: a4fb331b-7708-4b69-9792-aa17e33d7af5\n"
     ]
    },
    {
     "name": "stdout",
     "output_type": "stream",
     "text": [
      "290 emotional classifications done!\n",
      "FAIL: 290 THANK YOU! \n",
      "300 emotional classifications done!\n",
      "310 emotional classifications done!\n"
     ]
    },
    {
     "name": "stderr",
     "output_type": "stream",
     "text": [
      "ERROR:root:not enough text for language id\n",
      "Traceback (most recent call last):\n",
      "  File \"/Users/phillipholscher/opt/anaconda3/lib/python3.7/site-packages/ibm_cloud_sdk_core/base_service.py\", line 229, in send\n",
      "    response.status_code, error_message, http_response=response)\n",
      "ibm_cloud_sdk_core.api_exception.ApiException: Error: not enough text for language id, Code: 422 , X-global-transaction-id: 10ca34ac-afdb-436b-988e-569d8e63730e\n"
     ]
    },
    {
     "name": "stdout",
     "output_type": "stream",
     "text": [
      "FAIL: 312 Thank you! \n",
      "320 emotional classifications done!\n",
      "330 emotional classifications done!\n",
      "340 emotional classifications done!\n",
      "350 emotional classifications done!\n",
      "not enough text for language id : 15\n",
      "unsupported text language: unknown : 1\n",
      "--- 150.5794951915741 seconds ---\n"
     ]
    }
   ],
   "source": [
    "# create data frame \n",
    "start_time = time.time()\n",
    "data_emotion = create_emotion(data_test)\n",
    "print(\"--- %s seconds ---\" % (time.time() - start_time))"
   ]
  },
  {
   "cell_type": "code",
   "execution_count": 93,
   "metadata": {},
   "outputs": [
    {
     "data": {
      "text/html": [
       "<div>\n",
       "<style scoped>\n",
       "    .dataframe tbody tr th:only-of-type {\n",
       "        vertical-align: middle;\n",
       "    }\n",
       "\n",
       "    .dataframe tbody tr th {\n",
       "        vertical-align: top;\n",
       "    }\n",
       "\n",
       "    .dataframe thead th {\n",
       "        text-align: right;\n",
       "    }\n",
       "</style>\n",
       "<table border=\"1\" class=\"dataframe\">\n",
       "  <thead>\n",
       "    <tr style=\"text-align: right;\">\n",
       "      <th></th>\n",
       "      <th>index</th>\n",
       "      <th>username</th>\n",
       "      <th>date</th>\n",
       "      <th>retweets</th>\n",
       "      <th>favorites</th>\n",
       "      <th>text</th>\n",
       "      <th>emotion</th>\n",
       "      <th>emotion_probability</th>\n",
       "    </tr>\n",
       "  </thead>\n",
       "  <tbody>\n",
       "    <tr>\n",
       "      <th>0</th>\n",
       "      <td>0</td>\n",
       "      <td>realDonaldTrump</td>\n",
       "      <td>09.02.20 00:47</td>\n",
       "      <td>13459</td>\n",
       "      <td>72445</td>\n",
       "      <td>A great coach and a fantastic guy. His endorse...</td>\n",
       "      <td>joy</td>\n",
       "      <td>0.887483</td>\n",
       "    </tr>\n",
       "    <tr>\n",
       "      <th>1</th>\n",
       "      <td>1</td>\n",
       "      <td>realDonaldTrump</td>\n",
       "      <td>08.02.20 22:08</td>\n",
       "      <td>47880</td>\n",
       "      <td>215503</td>\n",
       "      <td>Pete Rose played Major League Baseball for 24 ...</td>\n",
       "      <td>sadness</td>\n",
       "      <td>0.320811</td>\n",
       "    </tr>\n",
       "    <tr>\n",
       "      <th>2</th>\n",
       "      <td>2</td>\n",
       "      <td>realDonaldTrump</td>\n",
       "      <td>08.02.20 20:48</td>\n",
       "      <td>9452</td>\n",
       "      <td>37402</td>\n",
       "      <td>Total and complete Endorsement for Debbie Lesk...</td>\n",
       "      <td>joy</td>\n",
       "      <td>0.755680</td>\n",
       "    </tr>\n",
       "    <tr>\n",
       "      <th>3</th>\n",
       "      <td>3</td>\n",
       "      <td>realDonaldTrump</td>\n",
       "      <td>08.02.20 20:40</td>\n",
       "      <td>17545</td>\n",
       "      <td>62484</td>\n",
       "      <td>Governor Cuomo wanted to see me this weekend. ...</td>\n",
       "      <td>sadness</td>\n",
       "      <td>0.491409</td>\n",
       "    </tr>\n",
       "    <tr>\n",
       "      <th>4</th>\n",
       "      <td>4</td>\n",
       "      <td>realDonaldTrump</td>\n",
       "      <td>08.02.20 20:01</td>\n",
       "      <td>27437</td>\n",
       "      <td>120598</td>\n",
       "      <td>We will not be touching your Social Security o...</td>\n",
       "      <td>anger</td>\n",
       "      <td>0.648076</td>\n",
       "    </tr>\n",
       "    <tr>\n",
       "      <th>...</th>\n",
       "      <td>...</td>\n",
       "      <td>...</td>\n",
       "      <td>...</td>\n",
       "      <td>...</td>\n",
       "      <td>...</td>\n",
       "      <td>...</td>\n",
       "      <td>...</td>\n",
       "      <td>...</td>\n",
       "    </tr>\n",
       "    <tr>\n",
       "      <th>352</th>\n",
       "      <td>395</td>\n",
       "      <td>realDonaldTrump</td>\n",
       "      <td>11.01.20 00:32</td>\n",
       "      <td>15163</td>\n",
       "      <td>90211</td>\n",
       "      <td>Will be interviewed tonight by Laura @Ingraham...</td>\n",
       "      <td>joy</td>\n",
       "      <td>0.841806</td>\n",
       "    </tr>\n",
       "    <tr>\n",
       "      <th>353</th>\n",
       "      <td>396</td>\n",
       "      <td>realDonaldTrump</td>\n",
       "      <td>10.01.20 16:37</td>\n",
       "      <td>24488</td>\n",
       "      <td>120462</td>\n",
       "      <td>She will go down as perhaps the least successf...</td>\n",
       "      <td>joy</td>\n",
       "      <td>0.563260</td>\n",
       "    </tr>\n",
       "    <tr>\n",
       "      <th>354</th>\n",
       "      <td>397</td>\n",
       "      <td>realDonaldTrump</td>\n",
       "      <td>10.01.20 16:31</td>\n",
       "      <td>18077</td>\n",
       "      <td>78224</td>\n",
       "      <td>I love constantly proving them wrong. It’s eas...</td>\n",
       "      <td>sadness</td>\n",
       "      <td>0.405583</td>\n",
       "    </tr>\n",
       "    <tr>\n",
       "      <th>355</th>\n",
       "      <td>398</td>\n",
       "      <td>realDonaldTrump</td>\n",
       "      <td>10.01.20 16:11</td>\n",
       "      <td>16815</td>\n",
       "      <td>86594</td>\n",
       "      <td>“I’ve been doing this for 40 years and I’ve ne...</td>\n",
       "      <td>joy</td>\n",
       "      <td>0.421897</td>\n",
       "    </tr>\n",
       "    <tr>\n",
       "      <th>356</th>\n",
       "      <td>399</td>\n",
       "      <td>realDonaldTrump</td>\n",
       "      <td>10.01.20 16:08</td>\n",
       "      <td>29934</td>\n",
       "      <td>142055</td>\n",
       "      <td>“11,000 points gained in the Dow in the 3 year...</td>\n",
       "      <td>joy</td>\n",
       "      <td>0.430502</td>\n",
       "    </tr>\n",
       "  </tbody>\n",
       "</table>\n",
       "<p>357 rows × 8 columns</p>\n",
       "</div>"
      ],
      "text/plain": [
       "     index         username            date  retweets  favorites  \\\n",
       "0        0  realDonaldTrump  09.02.20 00:47     13459      72445   \n",
       "1        1  realDonaldTrump  08.02.20 22:08     47880     215503   \n",
       "2        2  realDonaldTrump  08.02.20 20:48      9452      37402   \n",
       "3        3  realDonaldTrump  08.02.20 20:40     17545      62484   \n",
       "4        4  realDonaldTrump  08.02.20 20:01     27437     120598   \n",
       "..     ...              ...             ...       ...        ...   \n",
       "352    395  realDonaldTrump  11.01.20 00:32     15163      90211   \n",
       "353    396  realDonaldTrump  10.01.20 16:37     24488     120462   \n",
       "354    397  realDonaldTrump  10.01.20 16:31     18077      78224   \n",
       "355    398  realDonaldTrump  10.01.20 16:11     16815      86594   \n",
       "356    399  realDonaldTrump  10.01.20 16:08     29934     142055   \n",
       "\n",
       "                                                  text  emotion  \\\n",
       "0    A great coach and a fantastic guy. His endorse...      joy   \n",
       "1    Pete Rose played Major League Baseball for 24 ...  sadness   \n",
       "2    Total and complete Endorsement for Debbie Lesk...      joy   \n",
       "3    Governor Cuomo wanted to see me this weekend. ...  sadness   \n",
       "4    We will not be touching your Social Security o...    anger   \n",
       "..                                                 ...      ...   \n",
       "352  Will be interviewed tonight by Laura @Ingraham...      joy   \n",
       "353  She will go down as perhaps the least successf...      joy   \n",
       "354  I love constantly proving them wrong. It’s eas...  sadness   \n",
       "355  “I’ve been doing this for 40 years and I’ve ne...      joy   \n",
       "356  “11,000 points gained in the Dow in the 3 year...      joy   \n",
       "\n",
       "     emotion_probability  \n",
       "0               0.887483  \n",
       "1               0.320811  \n",
       "2               0.755680  \n",
       "3               0.491409  \n",
       "4               0.648076  \n",
       "..                   ...  \n",
       "352             0.841806  \n",
       "353             0.563260  \n",
       "354             0.405583  \n",
       "355             0.421897  \n",
       "356             0.430502  \n",
       "\n",
       "[357 rows x 8 columns]"
      ]
     },
     "execution_count": 93,
     "metadata": {},
     "output_type": "execute_result"
    }
   ],
   "source": [
    "data_emotion"
   ]
  },
  {
   "cell_type": "markdown",
   "metadata": {},
   "source": [
    "# Make emotional classification - Full data set"
   ]
  },
  {
   "cell_type": "markdown",
   "metadata": {},
   "source": [
    "### Check how long the cell runs to make all classifications"
   ]
  },
  {
   "cell_type": "code",
   "execution_count": 108,
   "metadata": {},
   "outputs": [
    {
     "data": {
      "text/html": [
       "<div>\n",
       "<style scoped>\n",
       "    .dataframe tbody tr th:only-of-type {\n",
       "        vertical-align: middle;\n",
       "    }\n",
       "\n",
       "    .dataframe tbody tr th {\n",
       "        vertical-align: top;\n",
       "    }\n",
       "\n",
       "    .dataframe thead th {\n",
       "        text-align: right;\n",
       "    }\n",
       "</style>\n",
       "<table border=\"1\" class=\"dataframe\">\n",
       "  <thead>\n",
       "    <tr style=\"text-align: right;\">\n",
       "      <th></th>\n",
       "      <th>username</th>\n",
       "      <th>date</th>\n",
       "      <th>retweets</th>\n",
       "      <th>favorites</th>\n",
       "      <th>text</th>\n",
       "      <th>geo</th>\n",
       "      <th>mentions</th>\n",
       "      <th>hashtags</th>\n",
       "      <th>id</th>\n",
       "      <th>permalink</th>\n",
       "    </tr>\n",
       "  </thead>\n",
       "  <tbody>\n",
       "    <tr>\n",
       "      <th>1386</th>\n",
       "      <td>realDonaldTrump</td>\n",
       "      <td>27.10.19 15:31</td>\n",
       "      <td>24652</td>\n",
       "      <td>92817</td>\n",
       "      <td>https://www. pscp.tv/w/cIWhpTFvTlFs TFJub1dwUX...</td>\n",
       "      <td>NaN</td>\n",
       "      <td>NaN</td>\n",
       "      <td>NaN</td>\n",
       "      <td>1,18846E+18</td>\n",
       "      <td>https://twitter.com/realDonaldTrump/status/118...</td>\n",
       "    </tr>\n",
       "    <tr>\n",
       "      <th>1387</th>\n",
       "      <td>realDonaldTrump</td>\n",
       "      <td>27.10.19 11:21</td>\n",
       "      <td>27288</td>\n",
       "      <td>131951</td>\n",
       "      <td>As Diwali commences, @FLOTUS Melania and I wis...</td>\n",
       "      <td>NaN</td>\n",
       "      <td>#NAME?</td>\n",
       "      <td>#HappyDiwali</td>\n",
       "      <td>1,1884E+18</td>\n",
       "      <td>https://twitter.com/realDonaldTrump/status/118...</td>\n",
       "    </tr>\n",
       "    <tr>\n",
       "      <th>1388</th>\n",
       "      <td>realDonaldTrump</td>\n",
       "      <td>27.10.19 02:23</td>\n",
       "      <td>71808</td>\n",
       "      <td>360486</td>\n",
       "      <td>Something very big has just happened!</td>\n",
       "      <td>NaN</td>\n",
       "      <td>NaN</td>\n",
       "      <td>NaN</td>\n",
       "      <td>1,18826E+18</td>\n",
       "      <td>https://twitter.com/realDonaldTrump/status/118...</td>\n",
       "    </tr>\n",
       "    <tr>\n",
       "      <th>1389</th>\n",
       "      <td>realDonaldTrump</td>\n",
       "      <td>26.10.19 22:26</td>\n",
       "      <td>11997</td>\n",
       "      <td>51307</td>\n",
       "      <td>....Matt has my Complete and Total Endorsement...</td>\n",
       "      <td>NaN</td>\n",
       "      <td>#NAME?</td>\n",
       "      <td>NaN</td>\n",
       "      <td>1,18819E+18</td>\n",
       "      <td>https://twitter.com/realDonaldTrump/status/118...</td>\n",
       "    </tr>\n",
       "    <tr>\n",
       "      <th>1390</th>\n",
       "      <td>realDonaldTrump</td>\n",
       "      <td>26.10.19 22:26</td>\n",
       "      <td>14758</td>\n",
       "      <td>63159</td>\n",
       "      <td>Governor @MattBevin has done a wonderful job f...</td>\n",
       "      <td>NaN</td>\n",
       "      <td>#NAME?</td>\n",
       "      <td>NaN</td>\n",
       "      <td>1,18819E+18</td>\n",
       "      <td>https://twitter.com/realDonaldTrump/status/118...</td>\n",
       "    </tr>\n",
       "    <tr>\n",
       "      <th>1391</th>\n",
       "      <td>realDonaldTrump</td>\n",
       "      <td>26.10.19 22:20</td>\n",
       "      <td>13118</td>\n",
       "      <td>53713</td>\n",
       "      <td>....He loves our Military and supports our Vet...</td>\n",
       "      <td>NaN</td>\n",
       "      <td>NaN</td>\n",
       "      <td>NaN</td>\n",
       "      <td>1,18819E+18</td>\n",
       "      <td>https://twitter.com/realDonaldTrump/status/118...</td>\n",
       "    </tr>\n",
       "    <tr>\n",
       "      <th>1392</th>\n",
       "      <td>realDonaldTrump</td>\n",
       "      <td>26.10.19 22:20</td>\n",
       "      <td>18548</td>\n",
       "      <td>68447</td>\n",
       "      <td>MISSISSIPPI! There is a VERY important electio...</td>\n",
       "      <td>NaN</td>\n",
       "      <td>#NAME?</td>\n",
       "      <td>NaN</td>\n",
       "      <td>1,18819E+18</td>\n",
       "      <td>https://twitter.com/realDonaldTrump/status/118...</td>\n",
       "    </tr>\n",
       "    <tr>\n",
       "      <th>1393</th>\n",
       "      <td>realDonaldTrump</td>\n",
       "      <td>26.10.19 22:17</td>\n",
       "      <td>14061</td>\n",
       "      <td>52052</td>\n",
       "      <td>....Our Republican candidate @EddieRispone is ...</td>\n",
       "      <td>NaN</td>\n",
       "      <td>#NAME?</td>\n",
       "      <td>NaN</td>\n",
       "      <td>1,18819E+18</td>\n",
       "      <td>https://twitter.com/realDonaldTrump/status/118...</td>\n",
       "    </tr>\n",
       "    <tr>\n",
       "      <th>1394</th>\n",
       "      <td>realDonaldTrump</td>\n",
       "      <td>26.10.19 22:17</td>\n",
       "      <td>21459</td>\n",
       "      <td>74535</td>\n",
       "      <td>LOUISIANA! Extreme Democrat John Bel Edwards h...</td>\n",
       "      <td>NaN</td>\n",
       "      <td>NaN</td>\n",
       "      <td>NaN</td>\n",
       "      <td>1,18819E+18</td>\n",
       "      <td>https://twitter.com/realDonaldTrump/status/118...</td>\n",
       "    </tr>\n",
       "    <tr>\n",
       "      <th>1395</th>\n",
       "      <td>realDonaldTrump</td>\n",
       "      <td>26.10.19 16:43</td>\n",
       "      <td>27135</td>\n",
       "      <td>130051</td>\n",
       "      <td>Where’s the Whistleblower?</td>\n",
       "      <td>NaN</td>\n",
       "      <td>NaN</td>\n",
       "      <td>NaN</td>\n",
       "      <td>1,1881E+18</td>\n",
       "      <td>https://twitter.com/realDonaldTrump/status/118...</td>\n",
       "    </tr>\n",
       "    <tr>\n",
       "      <th>1396</th>\n",
       "      <td>realDonaldTrump</td>\n",
       "      <td>26.10.19 16:41</td>\n",
       "      <td>25746</td>\n",
       "      <td>108055</td>\n",
       "      <td>The Fake Washington Post keeps doing phony sto...</td>\n",
       "      <td>NaN</td>\n",
       "      <td>NaN</td>\n",
       "      <td>NaN</td>\n",
       "      <td>1,1881E+18</td>\n",
       "      <td>https://twitter.com/realDonaldTrump/status/118...</td>\n",
       "    </tr>\n",
       "    <tr>\n",
       "      <th>1397</th>\n",
       "      <td>realDonaldTrump</td>\n",
       "      <td>26.10.19 15:54</td>\n",
       "      <td>13971</td>\n",
       "      <td>56423</td>\n",
       "      <td>My Administration is fighting hard to end the ...</td>\n",
       "      <td>NaN</td>\n",
       "      <td>NaN</td>\n",
       "      <td>#TakeBackDay</td>\n",
       "      <td>1,18809E+18</td>\n",
       "      <td>https://twitter.com/realDonaldTrump/status/118...</td>\n",
       "    </tr>\n",
       "    <tr>\n",
       "      <th>1398</th>\n",
       "      <td>realDonaldTrump</td>\n",
       "      <td>26.10.19 14:18</td>\n",
       "      <td>13428</td>\n",
       "      <td>50637</td>\n",
       "      <td>....</td>\n",
       "      <td>NaN</td>\n",
       "      <td>NaN</td>\n",
       "      <td>NaN</td>\n",
       "      <td>1,18807E+18</td>\n",
       "      <td>https://twitter.com/realDonaldTrump/status/118...</td>\n",
       "    </tr>\n",
       "    <tr>\n",
       "      <th>1399</th>\n",
       "      <td>realDonaldTrump</td>\n",
       "      <td>26.10.19 14:18</td>\n",
       "      <td>16283</td>\n",
       "      <td>71196</td>\n",
       "      <td>....greatly help the African American communit...</td>\n",
       "      <td>NaN</td>\n",
       "      <td>NaN</td>\n",
       "      <td>NaN</td>\n",
       "      <td>1,18807E+18</td>\n",
       "      <td>https://twitter.com/realDonaldTrump/status/118...</td>\n",
       "    </tr>\n",
       "  </tbody>\n",
       "</table>\n",
       "</div>"
      ],
      "text/plain": [
       "             username            date  retweets  favorites  \\\n",
       "1386  realDonaldTrump  27.10.19 15:31     24652      92817   \n",
       "1387  realDonaldTrump  27.10.19 11:21     27288     131951   \n",
       "1388  realDonaldTrump  27.10.19 02:23     71808     360486   \n",
       "1389  realDonaldTrump  26.10.19 22:26     11997      51307   \n",
       "1390  realDonaldTrump  26.10.19 22:26     14758      63159   \n",
       "1391  realDonaldTrump  26.10.19 22:20     13118      53713   \n",
       "1392  realDonaldTrump  26.10.19 22:20     18548      68447   \n",
       "1393  realDonaldTrump  26.10.19 22:17     14061      52052   \n",
       "1394  realDonaldTrump  26.10.19 22:17     21459      74535   \n",
       "1395  realDonaldTrump  26.10.19 16:43     27135     130051   \n",
       "1396  realDonaldTrump  26.10.19 16:41     25746     108055   \n",
       "1397  realDonaldTrump  26.10.19 15:54     13971      56423   \n",
       "1398  realDonaldTrump  26.10.19 14:18     13428      50637   \n",
       "1399  realDonaldTrump  26.10.19 14:18     16283      71196   \n",
       "\n",
       "                                                   text  geo mentions  \\\n",
       "1386  https://www. pscp.tv/w/cIWhpTFvTlFs TFJub1dwUX...  NaN      NaN   \n",
       "1387  As Diwali commences, @FLOTUS Melania and I wis...  NaN   #NAME?   \n",
       "1388              Something very big has just happened!  NaN      NaN   \n",
       "1389  ....Matt has my Complete and Total Endorsement...  NaN   #NAME?   \n",
       "1390  Governor @MattBevin has done a wonderful job f...  NaN   #NAME?   \n",
       "1391  ....He loves our Military and supports our Vet...  NaN      NaN   \n",
       "1392  MISSISSIPPI! There is a VERY important electio...  NaN   #NAME?   \n",
       "1393  ....Our Republican candidate @EddieRispone is ...  NaN   #NAME?   \n",
       "1394  LOUISIANA! Extreme Democrat John Bel Edwards h...  NaN      NaN   \n",
       "1395                         Where’s the Whistleblower?  NaN      NaN   \n",
       "1396  The Fake Washington Post keeps doing phony sto...  NaN      NaN   \n",
       "1397  My Administration is fighting hard to end the ...  NaN      NaN   \n",
       "1398                                               ....  NaN      NaN   \n",
       "1399  ....greatly help the African American communit...  NaN      NaN   \n",
       "\n",
       "          hashtags           id  \\\n",
       "1386           NaN  1,18846E+18   \n",
       "1387  #HappyDiwali   1,1884E+18   \n",
       "1388           NaN  1,18826E+18   \n",
       "1389           NaN  1,18819E+18   \n",
       "1390           NaN  1,18819E+18   \n",
       "1391           NaN  1,18819E+18   \n",
       "1392           NaN  1,18819E+18   \n",
       "1393           NaN  1,18819E+18   \n",
       "1394           NaN  1,18819E+18   \n",
       "1395           NaN   1,1881E+18   \n",
       "1396           NaN   1,1881E+18   \n",
       "1397  #TakeBackDay  1,18809E+18   \n",
       "1398           NaN  1,18807E+18   \n",
       "1399           NaN  1,18807E+18   \n",
       "\n",
       "                                              permalink  \n",
       "1386  https://twitter.com/realDonaldTrump/status/118...  \n",
       "1387  https://twitter.com/realDonaldTrump/status/118...  \n",
       "1388  https://twitter.com/realDonaldTrump/status/118...  \n",
       "1389  https://twitter.com/realDonaldTrump/status/118...  \n",
       "1390  https://twitter.com/realDonaldTrump/status/118...  \n",
       "1391  https://twitter.com/realDonaldTrump/status/118...  \n",
       "1392  https://twitter.com/realDonaldTrump/status/118...  \n",
       "1393  https://twitter.com/realDonaldTrump/status/118...  \n",
       "1394  https://twitter.com/realDonaldTrump/status/118...  \n",
       "1395  https://twitter.com/realDonaldTrump/status/118...  \n",
       "1396  https://twitter.com/realDonaldTrump/status/118...  \n",
       "1397  https://twitter.com/realDonaldTrump/status/118...  \n",
       "1398  https://twitter.com/realDonaldTrump/status/118...  \n",
       "1399  https://twitter.com/realDonaldTrump/status/118...  "
      ]
     },
     "execution_count": 108,
     "metadata": {},
     "output_type": "execute_result"
    }
   ],
   "source": [
    "data[1386:1400]"
   ]
  },
  {
   "cell_type": "code",
   "execution_count": 118,
   "metadata": {},
   "outputs": [
    {
     "name": "stdout",
     "output_type": "stream",
     "text": [
      "The uncleand dataframe has  10250  rows and  5  columns.\n",
      "The following index and items are going to be removed:\n",
      "13 pic\n",
      "23 pic\n",
      "34 pic\n",
      "38 link\n",
      "41 pic\n",
      "43 pic\n",
      "44 pic\n",
      "48 #\n",
      "49 pic\n",
      "58 pic\n",
      "105 pic\n",
      "106 pic\n",
      "107 pic\n",
      "108 pic\n",
      "111 pic\n",
      "112 pic\n",
      "117 pic\n",
      "139 link\n",
      "145 link\n",
      "156 link\n",
      "157 pic\n",
      "167 pic\n",
      "187 pic\n",
      "205 link\n",
      "208 #\n",
      "222 pic\n",
      "223 pic\n",
      "225 pic\n",
      "278 link\n",
      "294 pic\n",
      "333 link\n",
      "361 pic\n",
      "362 pic\n",
      "363 pic\n",
      "383 pic\n",
      "431 pic\n",
      "432 pic\n",
      "445 pic\n",
      "455 pic\n",
      "465 pic\n",
      "550 pic\n",
      "551 pic\n",
      "570 pic\n",
      "571 pic\n",
      "572 pic\n",
      "574 link\n",
      "579 pic\n",
      "608 #\n",
      "626 pic\n",
      "653 pic\n",
      "668 link\n",
      "669 pic\n",
      "708 pic\n",
      "711 pic\n",
      "712 pic\n",
      "748 #\n",
      "772 pic\n",
      "820 pic\n",
      "821 pic\n",
      "854 pic\n",
      "880 pic\n",
      "915 link\n",
      "923 pic\n",
      "925 pic\n",
      "928 pic\n",
      "936 pic\n",
      "939 pic\n",
      "963 pic\n",
      "964 pic\n",
      "965 pic\n",
      "977 pic\n",
      "985 pic\n",
      "987 pic\n",
      "1009 pic\n",
      "1013 link\n",
      "1020 pic\n",
      "1030 pic\n",
      "1031 pic\n",
      "1039 link\n",
      "1045 pic\n",
      "1048 pic\n",
      "1049 pic\n",
      "1051 pic\n",
      "1055 pic\n",
      "1060 pic\n",
      "1061 pic\n",
      "1062 pic\n",
      "1064 pic\n",
      "1065 pic\n",
      "1066 pic\n",
      "1067 pic\n",
      "1079 pic\n",
      "1080 pic\n",
      "1081 pic\n",
      "1091 #\n",
      "1092 pic\n",
      "1094 link\n",
      "1099 pic\n",
      "1100 pic\n",
      "1101 pic\n",
      "1102 pic\n",
      "1103 pic\n",
      "1126 pic\n",
      "1164 link\n",
      "1165 link\n",
      "1168 link\n",
      "1169 pic\n",
      "1170 pic\n",
      "1177 link\n",
      "1201 pic\n",
      "1218 link\n",
      "1232 #\n",
      "1271 pic\n",
      "1289 pic\n",
      "1342 pic\n",
      "1385 pic\n",
      "1386 link\n",
      "1411 link\n",
      "1412 link\n",
      "1446 link\n",
      "1478 pic\n",
      "1479 pic\n",
      "1480 pic\n",
      "1490 pic\n",
      "1491 pic\n",
      "1494 pic\n",
      "1498 pic\n",
      "1503 link\n",
      "1515 #\n",
      "1522 pic\n",
      "1524 pic\n",
      "1549 pic\n",
      "1562 pic\n",
      "1575 link\n",
      "1604 pic\n",
      "1607 pic\n",
      "1608 pic\n",
      "1609 pic\n",
      "1644 link\n",
      "1645 pic\n",
      "1681 pic\n",
      "1682 pic\n",
      "1697 pic\n",
      "1725 pic\n",
      "1726 pic\n",
      "1739 pic\n",
      "1755 pic\n",
      "1784 pic\n",
      "1785 pic\n",
      "1787 #\n",
      "1796 pic\n",
      "1797 pic\n",
      "1798 pic\n",
      "1807 pic\n",
      "1817 pic\n",
      "1819 pic\n",
      "1836 pic\n",
      "1844 pic\n",
      "1849 pic\n",
      "1872 pic\n",
      "1896 #\n",
      "1912 pic\n",
      "1918 pic\n",
      "1921 pic\n",
      "1931 #\n",
      "1940 pic\n",
      "1942 pic\n",
      "1954 pic\n",
      "1955 pic\n",
      "1957 pic\n",
      "1960 pic\n",
      "1978 link\n",
      "1986 pic\n",
      "1992 pic\n",
      "1993 pic\n",
      "1994 pic\n",
      "1996 pic\n",
      "1997 pic\n",
      "1998 pic\n",
      "2015 pic\n",
      "2016 link\n",
      "2020 pic\n",
      "2021 link\n",
      "2023 pic\n",
      "2026 pic\n",
      "2039 pic\n",
      "2041 pic\n",
      "2052 pic\n",
      "2054 #\n",
      "2060 pic\n",
      "2064 pic\n",
      "2067 link\n",
      "2076 pic\n",
      "2085 pic\n",
      "2086 pic\n",
      "2087 pic\n",
      "2089 pic\n",
      "2090 pic\n",
      "2098 pic\n",
      "2112 pic\n",
      "2113 pic\n",
      "2130 pic\n",
      "2223 pic\n",
      "2227 pic\n",
      "2274 pic\n",
      "2279 pic\n",
      "2296 pic\n",
      "2300 pic\n",
      "2301 pic\n",
      "2335 pic\n",
      "2356 #\n",
      "2368 link\n",
      "2421 pic\n",
      "2430 pic\n",
      "2436 pic\n",
      "2482 link\n",
      "2488 pic\n",
      "2584 pic\n",
      "2634 pic\n",
      "2635 pic\n",
      "2643 link\n",
      "2732 pic\n",
      "2800 pic\n",
      "2805 pic\n",
      "2807 pic\n",
      "2833 pic\n",
      "2883 pic\n",
      "2890 pic\n",
      "2906 pic\n",
      "2908 pic\n",
      "2943 pic\n",
      "2947 pic\n",
      "2952 pic\n",
      "2953 pic\n",
      "2986 pic\n",
      "3002 pic\n",
      "3004 pic\n",
      "3017 pic\n",
      "3035 pic\n",
      "3093 pic\n",
      "3131 #\n",
      "3174 pic\n",
      "3175 pic\n",
      "3227 pic\n",
      "3229 #\n",
      "3257 pic\n",
      "3263 link\n",
      "3281 pic\n",
      "3287 pic\n",
      "3308 pic\n",
      "3323 pic\n",
      "3350 pic\n",
      "3351 pic\n",
      "3356 pic\n",
      "3361 pic\n",
      "3368 pic\n",
      "3424 pic\n",
      "3440 pic\n",
      "3508 #\n",
      "3509 pic\n",
      "3510 pic\n",
      "3516 pic\n",
      "3517 pic\n",
      "3554 pic\n",
      "3555 pic\n",
      "3556 #\n",
      "3559 #\n",
      "3564 #\n",
      "3568 #\n",
      "3579 #\n",
      "3584 link\n",
      "3585 #\n",
      "3637 pic\n",
      "3664 pic\n",
      "3666 #\n",
      "3667 pic\n",
      "3693 pic\n",
      "3728 link\n",
      "3871 pic\n",
      "3873 pic\n",
      "3990 link\n",
      "4110 pic\n",
      "4114 pic\n",
      "4115 pic\n",
      "4134 pic\n",
      "4222 pic\n",
      "4290 pic\n",
      "4334 pic\n",
      "4335 pic\n",
      "4343 pic\n",
      "4344 pic\n",
      "4348 pic\n",
      "4351 pic\n",
      "4352 pic\n",
      "4363 link\n",
      "4364 pic\n",
      "4376 pic\n",
      "4377 pic\n",
      "4379 pic\n",
      "4386 pic\n",
      "4388 pic\n",
      "4400 pic\n",
      "4406 pic\n",
      "4407 pic\n",
      "4410 pic\n",
      "4413 pic\n",
      "4427 pic\n",
      "4442 pic\n",
      "4444 pic\n",
      "4446 pic\n",
      "4447 pic\n",
      "4449 pic\n",
      "4459 link\n",
      "4475 pic\n",
      "4508 pic\n",
      "4568 link\n",
      "4587 pic\n",
      "4588 pic\n",
      "4654 pic\n",
      "4679 pic\n",
      "4680 pic\n",
      "4690 pic\n",
      "4691 pic\n",
      "4700 link\n",
      "4701 pic\n",
      "4714 pic\n",
      "4755 pic\n",
      "4756 #\n",
      "4781 pic\n",
      "4817 #\n",
      "4835 link\n",
      "4884 pic\n",
      "4895 link\n",
      "4904 pic\n",
      "4907 pic\n",
      "4935 pic\n",
      "4955 pic\n",
      "4995 link\n",
      "5012 pic\n",
      "5036 pic\n",
      "5038 pic\n",
      "5260 #\n",
      "5314 #\n",
      "5336 #\n",
      "5398 pic\n",
      "5578 pic\n",
      "5593 #\n",
      "5640 #\n",
      "5686 #\n",
      "5687 pic\n",
      "5696 link\n",
      "5730 #\n",
      "5735 #\n",
      "5757 pic\n",
      "5758 pic\n",
      "5759 pic\n",
      "5760 pic\n",
      "5807 pic\n",
      "5816 pic\n",
      "5825 pic\n",
      "5826 pic\n",
      "5827 pic\n",
      "5839 link\n",
      "5850 pic\n",
      "5851 link\n",
      "5889 pic\n",
      "5907 link\n",
      "5917 link\n",
      "5922 pic\n",
      "5938 link\n",
      "5944 pic\n",
      "5956 pic\n",
      "5957 pic\n",
      "5963 pic\n",
      "5977 pic\n",
      "5979 pic\n",
      "5990 pic\n",
      "6000 pic\n",
      "6014 pic\n",
      "6063 #\n",
      "6067 pic\n",
      "6074 #\n",
      "6077 #\n",
      "6083 #\n",
      "6085 pic\n",
      "6192 pic\n",
      "6219 #\n",
      "6238 pic\n",
      "6276 pic\n",
      "6288 pic\n",
      "6289 pic\n",
      "6290 pic\n",
      "6295 pic\n",
      "6296 pic\n",
      "6298 link\n",
      "6299 pic\n",
      "6321 pic\n",
      "6338 pic\n",
      "6342 pic\n",
      "6350 pic\n",
      "6409 pic\n",
      "6516 #\n",
      "6550 pic\n",
      "6567 pic\n",
      "6615 #\n",
      "6623 #\n",
      "6708 pic\n",
      "6715 #\n",
      "6767 pic\n",
      "6914 link\n",
      "6925 #\n",
      "6998 pic\n",
      "7061 pic\n",
      "7081 #\n",
      "7100 pic\n",
      "7146 #\n",
      "7254 #\n",
      "7263 #\n",
      "7322 #\n",
      "7470 link\n",
      "7542 #\n",
      "7563 pic\n",
      "7922 #\n",
      "8403 #\n",
      "8458 #\n",
      "8497 #\n",
      "8620 #\n",
      "8675 #\n",
      "8783 #\n",
      "8812 #\n",
      "8850 #\n",
      "8900 #\n",
      "9010 #\n",
      "9092 #\n",
      "9211 #\n",
      "9243 #\n",
      "9342 #\n",
      "9345 #\n",
      "9359 #\n",
      "9396 #\n",
      "9474 #\n",
      "9514 #\n",
      "9537 #\n",
      "9538 #\n",
      "9591 #\n",
      "9595 #\n",
      "9607 #\n",
      "9612 #\n",
      "9655 #\n",
      "9678 #\n",
      "9746 #\n",
      "9749 #\n",
      "9820 #\n",
      "9874 #\n",
      "9946 #\n",
      "10021 #\n",
      "The cleand dataframe has  9794  rows and  5  columns.\n",
      "-- Wation Natural Language Understanding is now going to create emotions for every tweet--\n",
      "0 emotional classifications done!\n",
      "10 emotional classifications done!\n"
     ]
    },
    {
     "name": "stderr",
     "output_type": "stream",
     "text": [
      "ERROR:root:not enough text for language id\n",
      "Traceback (most recent call last):\n",
      "  File \"/Users/phillipholscher/opt/anaconda3/lib/python3.7/site-packages/ibm_cloud_sdk_core/base_service.py\", line 229, in send\n",
      "    response.status_code, error_message, http_response=response)\n",
      "ibm_cloud_sdk_core.api_exception.ApiException: Error: not enough text for language id, Code: 422 , X-global-transaction-id: 80d70d99-7223-4633-bc74-4408e55a4b00\n"
     ]
    },
    {
     "name": "stdout",
     "output_type": "stream",
     "text": [
      "FAIL: 12 Not good! \n",
      "20 emotional classifications done!\n"
     ]
    },
    {
     "name": "stderr",
     "output_type": "stream",
     "text": [
      "ERROR:root:not enough text for language id\n",
      "Traceback (most recent call last):\n",
      "  File \"/Users/phillipholscher/opt/anaconda3/lib/python3.7/site-packages/ibm_cloud_sdk_core/base_service.py\", line 229, in send\n",
      "    response.status_code, error_message, http_response=response)\n",
      "ibm_cloud_sdk_core.api_exception.ApiException: Error: not enough text for language id, Code: 422 , X-global-transaction-id: 5d5c32d4-bb60-4c22-b8cb-2aec8fb903dd\n"
     ]
    },
    {
     "name": "stdout",
     "output_type": "stream",
     "text": [
      "FAIL: 25 So do I! \n",
      "30 emotional classifications done!\n"
     ]
    },
    {
     "name": "stderr",
     "output_type": "stream",
     "text": [
      "ERROR:root:not enough text for language id\n",
      "Traceback (most recent call last):\n",
      "  File \"/Users/phillipholscher/opt/anaconda3/lib/python3.7/site-packages/ibm_cloud_sdk_core/base_service.py\", line 229, in send\n",
      "    response.status_code, error_message, http_response=response)\n",
      "ibm_cloud_sdk_core.api_exception.ApiException: Error: not enough text for language id, Code: 422 , X-global-transaction-id: 61339587-0530-42e6-ab06-8d79ff96b160\n"
     ]
    },
    {
     "name": "stdout",
     "output_type": "stream",
     "text": [
      "FAIL: 34 So true! \n",
      "40 emotional classifications done!\n",
      "50 emotional classifications done!\n"
     ]
    },
    {
     "name": "stderr",
     "output_type": "stream",
     "text": [
      "ERROR:root:unsupported text language: unknown\n",
      "Traceback (most recent call last):\n",
      "  File \"/Users/phillipholscher/opt/anaconda3/lib/python3.7/site-packages/ibm_cloud_sdk_core/base_service.py\", line 229, in send\n",
      "    response.status_code, error_message, http_response=response)\n",
      "ibm_cloud_sdk_core.api_exception.ApiException: Error: unsupported text language: unknown, Code: 400 , X-global-transaction-id: 4bf94dbd-b60f-4a54-be3f-e2ad5faba2ef\n"
     ]
    },
    {
     "name": "stdout",
     "output_type": "stream",
     "text": [
      "FAIL: 54 @LindseyGrahamSC \n",
      "60 emotional classifications done!\n"
     ]
    },
    {
     "name": "stderr",
     "output_type": "stream",
     "text": [
      "ERROR:root:not enough text for language id\n",
      "Traceback (most recent call last):\n",
      "  File \"/Users/phillipholscher/opt/anaconda3/lib/python3.7/site-packages/ibm_cloud_sdk_core/base_service.py\", line 229, in send\n",
      "    response.status_code, error_message, http_response=response)\n",
      "ibm_cloud_sdk_core.api_exception.ApiException: Error: not enough text for language id, Code: 422 , X-global-transaction-id: 77cbe43d-1efb-4fad-a071-9c8147f2ce7d\n"
     ]
    },
    {
     "name": "stdout",
     "output_type": "stream",
     "text": [
      "FAIL: 68 Correct! \n",
      "70 emotional classifications done!\n",
      "80 emotional classifications done!\n",
      "90 emotional classifications done!\n"
     ]
    },
    {
     "name": "stderr",
     "output_type": "stream",
     "text": [
      "ERROR:root:not enough text for language id\n",
      "Traceback (most recent call last):\n",
      "  File \"/Users/phillipholscher/opt/anaconda3/lib/python3.7/site-packages/ibm_cloud_sdk_core/base_service.py\", line 229, in send\n",
      "    response.status_code, error_message, http_response=response)\n",
      "ibm_cloud_sdk_core.api_exception.ApiException: Error: not enough text for language id, Code: 422 , X-global-transaction-id: f67d2cb1-acf2-4a1a-b9da-2b02c8537db9\n"
     ]
    },
    {
     "name": "stdout",
     "output_type": "stream",
     "text": [
      "100 emotional classifications done!\n",
      "FAIL: 100 GAME OVER! \n",
      "110 emotional classifications done!\n"
     ]
    },
    {
     "name": "stderr",
     "output_type": "stream",
     "text": [
      "ERROR:root:not enough text for language id\n",
      "Traceback (most recent call last):\n",
      "  File \"/Users/phillipholscher/opt/anaconda3/lib/python3.7/site-packages/ibm_cloud_sdk_core/base_service.py\", line 229, in send\n",
      "    response.status_code, error_message, http_response=response)\n",
      "ibm_cloud_sdk_core.api_exception.ApiException: Error: not enough text for language id, Code: 422 , X-global-transaction-id: ca42ff28-5696-4804-8105-a884dc0bc0c3\n"
     ]
    },
    {
     "name": "stdout",
     "output_type": "stream",
     "text": [
      "FAIL: 114 Thank you! \n",
      "120 emotional classifications done!\n",
      "130 emotional classifications done!\n",
      "140 emotional classifications done!\n",
      "150 emotional classifications done!\n",
      "160 emotional classifications done!\n"
     ]
    },
    {
     "name": "stderr",
     "output_type": "stream",
     "text": [
      "ERROR:root:not enough text for language id\n",
      "Traceback (most recent call last):\n",
      "  File \"/Users/phillipholscher/opt/anaconda3/lib/python3.7/site-packages/ibm_cloud_sdk_core/base_service.py\", line 229, in send\n",
      "    response.status_code, error_message, http_response=response)\n",
      "ibm_cloud_sdk_core.api_exception.ApiException: Error: not enough text for language id, Code: 422 , X-global-transaction-id: b569ce74-6c90-4ea6-a181-2d4ee7defe86\n"
     ]
    },
    {
     "name": "stdout",
     "output_type": "stream",
     "text": [
      "FAIL: 164 True! \n"
     ]
    },
    {
     "name": "stderr",
     "output_type": "stream",
     "text": [
      "ERROR:root:unsupported text language: fa\n",
      "Traceback (most recent call last):\n",
      "  File \"/Users/phillipholscher/opt/anaconda3/lib/python3.7/site-packages/ibm_cloud_sdk_core/base_service.py\", line 229, in send\n",
      "    response.status_code, error_message, http_response=response)\n",
      "ibm_cloud_sdk_core.api_exception.ApiException: Error: unsupported text language: fa, Code: 400 , X-global-transaction-id: 5a26c51e-6347-4970-b94a-07eae02b4a8e\n"
     ]
    },
    {
     "name": "stdout",
     "output_type": "stream",
     "text": [
      "FAIL: 166 وزیر امور خارجه ایران می گوید ایران خواستار مذاکره با ایالات متحده است اما می خواهد که تحریم ها برداشته شود. @FoxNews @OANN نه، مرسی! \n",
      "170 emotional classifications done!\n",
      "180 emotional classifications done!\n",
      "190 emotional classifications done!\n"
     ]
    },
    {
     "name": "stderr",
     "output_type": "stream",
     "text": [
      "ERROR:root:not enough text for language id\n",
      "Traceback (most recent call last):\n",
      "  File \"/Users/phillipholscher/opt/anaconda3/lib/python3.7/site-packages/ibm_cloud_sdk_core/base_service.py\", line 229, in send\n",
      "    response.status_code, error_message, http_response=response)\n",
      "ibm_cloud_sdk_core.api_exception.ApiException: Error: not enough text for language id, Code: 422 , X-global-transaction-id: 39bb8b30-616d-469c-83d7-425f5d6e9b85\n"
     ]
    },
    {
     "name": "stdout",
     "output_type": "stream",
     "text": [
      "FAIL: 198 True! \n",
      "200 emotional classifications done!\n",
      "210 emotional classifications done!\n",
      "220 emotional classifications done!\n"
     ]
    },
    {
     "name": "stderr",
     "output_type": "stream",
     "text": [
      "ERROR:root:not enough text for language id\n",
      "Traceback (most recent call last):\n",
      "  File \"/Users/phillipholscher/opt/anaconda3/lib/python3.7/site-packages/ibm_cloud_sdk_core/base_service.py\", line 229, in send\n",
      "    response.status_code, error_message, http_response=response)\n",
      "ibm_cloud_sdk_core.api_exception.ApiException: Error: not enough text for language id, Code: 422 , X-global-transaction-id: 9b58ec5f-7ba1-44a4-9ef2-3d0b85e32744\n"
     ]
    },
    {
     "name": "stdout",
     "output_type": "stream",
     "text": [
      "FAIL: 224 True! \n",
      "230 emotional classifications done!\n"
     ]
    },
    {
     "name": "stderr",
     "output_type": "stream",
     "text": [
      "ERROR:root:not enough text for language id\n",
      "Traceback (most recent call last):\n",
      "  File \"/Users/phillipholscher/opt/anaconda3/lib/python3.7/site-packages/ibm_cloud_sdk_core/base_service.py\", line 229, in send\n",
      "    response.status_code, error_message, http_response=response)\n",
      "ibm_cloud_sdk_core.api_exception.ApiException: Error: not enough text for language id, Code: 422 , X-global-transaction-id: 5f6b2c17-3b15-4ef4-81b9-0ad474c0028d\n"
     ]
    },
    {
     "name": "stdout",
     "output_type": "stream",
     "text": [
      "FAIL: 236 ENJOY! \n"
     ]
    },
    {
     "name": "stderr",
     "output_type": "stream",
     "text": [
      "ERROR:root:not enough text for language id\n",
      "Traceback (most recent call last):\n",
      "  File \"/Users/phillipholscher/opt/anaconda3/lib/python3.7/site-packages/ibm_cloud_sdk_core/base_service.py\", line 229, in send\n",
      "    response.status_code, error_message, http_response=response)\n",
      "ibm_cloud_sdk_core.api_exception.ApiException: Error: not enough text for language id, Code: 422 , X-global-transaction-id: e4f1ae46-e7ea-49e8-a5e2-75a177357773\n"
     ]
    },
    {
     "name": "stdout",
     "output_type": "stream",
     "text": [
      "FAIL: 239 Wow! \n",
      "240 emotional classifications done!\n"
     ]
    },
    {
     "name": "stderr",
     "output_type": "stream",
     "text": [
      "ERROR:root:not enough text for language id\n",
      "Traceback (most recent call last):\n",
      "  File \"/Users/phillipholscher/opt/anaconda3/lib/python3.7/site-packages/ibm_cloud_sdk_core/base_service.py\", line 229, in send\n",
      "    response.status_code, error_message, http_response=response)\n",
      "ibm_cloud_sdk_core.api_exception.ApiException: Error: not enough text for language id, Code: 422 , X-global-transaction-id: a7c35d43-b640-4ed1-a0f2-52ba712b17b9\n"
     ]
    },
    {
     "name": "stdout",
     "output_type": "stream",
     "text": [
      "FAIL: 249 Excellent! \n",
      "250 emotional classifications done!\n"
     ]
    },
    {
     "name": "stderr",
     "output_type": "stream",
     "text": [
      "ERROR:root:not enough text for language id\n",
      "Traceback (most recent call last):\n",
      "  File \"/Users/phillipholscher/opt/anaconda3/lib/python3.7/site-packages/ibm_cloud_sdk_core/base_service.py\", line 229, in send\n",
      "    response.status_code, error_message, http_response=response)\n",
      "ibm_cloud_sdk_core.api_exception.ApiException: Error: not enough text for language id, Code: 422 , X-global-transaction-id: 8b570aaf-e989-4a65-9c84-a63f8e2f225f\n"
     ]
    },
    {
     "name": "stdout",
     "output_type": "stream",
     "text": [
      "FAIL: 255 USA! USA! USA!\n",
      "260 emotional classifications done!\n",
      "270 emotional classifications done!\n"
     ]
    },
    {
     "name": "stderr",
     "output_type": "stream",
     "text": [
      "ERROR:root:unsupported text language: fa\n",
      "Traceback (most recent call last):\n",
      "  File \"/Users/phillipholscher/opt/anaconda3/lib/python3.7/site-packages/ibm_cloud_sdk_core/base_service.py\", line 229, in send\n",
      "    response.status_code, error_message, http_response=response)\n",
      "ibm_cloud_sdk_core.api_exception.ApiException: Error: unsupported text language: fa, Code: 400 , X-global-transaction-id: d6de2feb-8e55-4b82-b769-47247a96a21b\n"
     ]
    },
    {
     "name": "stdout",
     "output_type": "stream",
     "text": [
      "FAIL: 277 مردم نجیب ایران، که آمریکا را دوست می دارند، سزاوار دولتی هستند که بیش از تمرکز بر کشتن آنها به جرم احترام خواهی، به آنها کمک کند تا به رؤیاهایشان دست یابند. رهبران ایران به جای آن که ایران را به سمت ویرانی بکشانند، باید هراس افکنی را کنار بنهند و ایران را دوباره باعظمت کنند! \n",
      "280 emotional classifications done!\n",
      "290 emotional classifications done!\n"
     ]
    },
    {
     "name": "stderr",
     "output_type": "stream",
     "text": [
      "ERROR:root:not enough text for language id\n",
      "Traceback (most recent call last):\n",
      "  File \"/Users/phillipholscher/opt/anaconda3/lib/python3.7/site-packages/ibm_cloud_sdk_core/base_service.py\", line 229, in send\n",
      "    response.status_code, error_message, http_response=response)\n",
      "ibm_cloud_sdk_core.api_exception.ApiException: Error: not enough text for language id, Code: 422 , X-global-transaction-id: 949d1012-8380-43ca-877e-3cf74534ab82\n"
     ]
    },
    {
     "name": "stdout",
     "output_type": "stream",
     "text": [
      "FAIL: 294 THANK YOU! \n",
      "300 emotional classifications done!\n",
      "310 emotional classifications done!\n"
     ]
    },
    {
     "name": "stderr",
     "output_type": "stream",
     "text": [
      "ERROR:root:not enough text for language id\n",
      "Traceback (most recent call last):\n",
      "  File \"/Users/phillipholscher/opt/anaconda3/lib/python3.7/site-packages/ibm_cloud_sdk_core/base_service.py\", line 229, in send\n",
      "    response.status_code, error_message, http_response=response)\n",
      "ibm_cloud_sdk_core.api_exception.ApiException: Error: not enough text for language id, Code: 422 , X-global-transaction-id: d6b559af-22fd-40cc-99ca-1e11a1e5888b\n"
     ]
    },
    {
     "name": "stdout",
     "output_type": "stream",
     "text": [
      "FAIL: 316 Thank you! \n",
      "320 emotional classifications done!\n"
     ]
    },
    {
     "name": "stderr",
     "output_type": "stream",
     "text": [
      "ERROR:root:unsupported text language: fa\n",
      "Traceback (most recent call last):\n",
      "  File \"/Users/phillipholscher/opt/anaconda3/lib/python3.7/site-packages/ibm_cloud_sdk_core/base_service.py\", line 229, in send\n",
      "    response.status_code, error_message, http_response=response)\n",
      "ibm_cloud_sdk_core.api_exception.ApiException: Error: unsupported text language: fa, Code: 400 , X-global-transaction-id: e1c8e97f-a961-4fec-932d-339c67c557bb\n"
     ]
    },
    {
     "name": "stdout",
     "output_type": "stream",
     "text": [
      "FAIL: 327 مشاور امنیت ملی امروز عنوان کرد كه تحریم ها و اعتراضات، ایران را«به شدت تحت فشار»قرار داده است و آنها را مجبور به مذاكره می كند.در واقع، اصلا برایم اهمیتی نداردکه آیا آنها مذاکره می کنند یا نه.این کاملاً به عهده ی خودشان است، اما سلاح هسته ای نداشته باشیدو«معترضان خود را نکشید.» \n",
      "330 emotional classifications done!\n"
     ]
    },
    {
     "name": "stderr",
     "output_type": "stream",
     "text": [
      "ERROR:root:unsupported text language: fa\n",
      "Traceback (most recent call last):\n",
      "  File \"/Users/phillipholscher/opt/anaconda3/lib/python3.7/site-packages/ibm_cloud_sdk_core/base_service.py\", line 229, in send\n",
      "    response.status_code, error_message, http_response=response)\n",
      "ibm_cloud_sdk_core.api_exception.ApiException: Error: unsupported text language: fa, Code: 400 , X-global-transaction-id: 96df4e90-13a1-4a04-929e-e6487e67c687\n"
     ]
    },
    {
     "name": "stdout",
     "output_type": "stream",
     "text": [
      "FAIL: 334 خطاب به رهبران ايران: معترضان خود را نكشيد. هزاران تن تاكنون به دست شما كشته يا زنداني شده اند، و جهان نظاره گر است. مهمتر از ان، ايالات متحده نظاره گر است. اينترنت را دوباره وصل كنيد و به خبرنگاران اجازه دهيد ازادانه حركت كنند! كشتار مردم بزرگ ايران را متوقف كنيد! \n",
      "340 emotional classifications done!\n"
     ]
    },
    {
     "name": "stderr",
     "output_type": "stream",
     "text": [
      "ERROR:root:unsupported text language: fa\n",
      "Traceback (most recent call last):\n",
      "  File \"/Users/phillipholscher/opt/anaconda3/lib/python3.7/site-packages/ibm_cloud_sdk_core/base_service.py\", line 229, in send\n",
      "    response.status_code, error_message, http_response=response)\n",
      "ibm_cloud_sdk_core.api_exception.ApiException: Error: unsupported text language: fa, Code: 400 , X-global-transaction-id: e040abc6-ebd9-4108-a6ca-cb32fe795a78\n"
     ]
    },
    {
     "name": "stdout",
     "output_type": "stream",
     "text": [
      "FAIL: 349 دولت ایران باید به گروه‌های حقوق بشر اجازه بدهد حقیقت کنونی اعتراضات در جریان مردم ایران را نظارت کرده و گزارش بدهند. نباید شاهد کشتار دوباره ی معترضان مسالمت آمیز و یا قطع اینترنت باشیم. جهان نظاره گر این اتفاقات است.\n",
      "350 emotional classifications done!\n"
     ]
    },
    {
     "name": "stderr",
     "output_type": "stream",
     "text": [
      "ERROR:root:unsupported text language: fa\n",
      "Traceback (most recent call last):\n",
      "  File \"/Users/phillipholscher/opt/anaconda3/lib/python3.7/site-packages/ibm_cloud_sdk_core/base_service.py\", line 229, in send\n",
      "    response.status_code, error_message, http_response=response)\n",
      "ibm_cloud_sdk_core.api_exception.ApiException: Error: unsupported text language: fa, Code: 400 , X-global-transaction-id: 558b2bb9-f282-4d50-b685-af4c72d4a18f\n"
     ]
    },
    {
     "name": "stdout",
     "output_type": "stream",
     "text": [
      "FAIL: 351 به مردم شجاع و رنج کشیده ایران: من از ابتدای دوره ریاست جمهوریم با شما ایستاده‌ام و دولت من همچنان با شما خواهد ایستاد. ما اعتراضات شما را از نزدیک دنبال می کنیم. شجاعت شما الهام بخش است.\n",
      "360 emotional classifications done!\n",
      "370 emotional classifications done!\n"
     ]
    },
    {
     "name": "stderr",
     "output_type": "stream",
     "text": [
      "ERROR:root:not enough text for language id\n",
      "Traceback (most recent call last):\n",
      "  File \"/Users/phillipholscher/opt/anaconda3/lib/python3.7/site-packages/ibm_cloud_sdk_core/base_service.py\", line 229, in send\n",
      "    response.status_code, error_message, http_response=response)\n",
      "ibm_cloud_sdk_core.api_exception.ApiException: Error: not enough text for language id, Code: 422 , X-global-transaction-id: 821fb07a-b306-418b-b560-1543c3cebed8\n"
     ]
    },
    {
     "name": "stdout",
     "output_type": "stream",
     "text": [
      "FAIL: 377 Thank you! \n",
      "380 emotional classifications done!\n"
     ]
    },
    {
     "name": "stderr",
     "output_type": "stream",
     "text": [
      "ERROR:root:not enough text for language id\n",
      "Traceback (most recent call last):\n",
      "  File \"/Users/phillipholscher/opt/anaconda3/lib/python3.7/site-packages/ibm_cloud_sdk_core/base_service.py\", line 229, in send\n",
      "    response.status_code, error_message, http_response=response)\n",
      "ibm_cloud_sdk_core.api_exception.ApiException: Error: not enough text for language id, Code: 422 , X-global-transaction-id: 7702a2e2-5c4e-4615-926f-d3e722c7ef1e\n"
     ]
    },
    {
     "name": "stdout",
     "output_type": "stream",
     "text": [
      "FAIL: 386 Great! \n"
     ]
    },
    {
     "name": "stderr",
     "output_type": "stream",
     "text": [
      "ERROR:root:not enough text for language id\n",
      "Traceback (most recent call last):\n",
      "  File \"/Users/phillipholscher/opt/anaconda3/lib/python3.7/site-packages/ibm_cloud_sdk_core/base_service.py\", line 229, in send\n",
      "    response.status_code, error_message, http_response=response)\n",
      "ibm_cloud_sdk_core.api_exception.ApiException: Error: not enough text for language id, Code: 422 , X-global-transaction-id: 4db99bf0-f226-4117-a0e3-a6d8a77a5404\n",
      "ERROR:root:not enough text for language id\n",
      "Traceback (most recent call last):\n",
      "  File \"/Users/phillipholscher/opt/anaconda3/lib/python3.7/site-packages/ibm_cloud_sdk_core/base_service.py\", line 229, in send\n",
      "    response.status_code, error_message, http_response=response)\n",
      "ibm_cloud_sdk_core.api_exception.ApiException: Error: not enough text for language id, Code: 422 , X-global-transaction-id: 2a0784b5-c3f0-4021-bd9a-ef602ca9960a\n"
     ]
    },
    {
     "name": "stdout",
     "output_type": "stream",
     "text": [
      "FAIL: 387 WINRED! \n",
      "FAIL: 388 See you later! \n",
      "390 emotional classifications done!\n",
      "400 emotional classifications done!\n",
      "410 emotional classifications done!\n",
      "420 emotional classifications done!\n",
      "430 emotional classifications done!\n",
      "440 emotional classifications done!\n",
      "450 emotional classifications done!\n",
      "460 emotional classifications done!\n",
      "470 emotional classifications done!\n",
      "480 emotional classifications done!\n",
      "490 emotional classifications done!\n",
      "500 emotional classifications done!\n",
      "510 emotional classifications done!\n"
     ]
    },
    {
     "name": "stderr",
     "output_type": "stream",
     "text": [
      "ERROR:root:not enough text for language id\n",
      "Traceback (most recent call last):\n",
      "  File \"/Users/phillipholscher/opt/anaconda3/lib/python3.7/site-packages/ibm_cloud_sdk_core/base_service.py\", line 229, in send\n",
      "    response.status_code, error_message, http_response=response)\n",
      "ibm_cloud_sdk_core.api_exception.ApiException: Error: not enough text for language id, Code: 422 , X-global-transaction-id: 35d043c8-8e54-454f-a0bc-13ba3ec256c3\n"
     ]
    },
    {
     "name": "stdout",
     "output_type": "stream",
     "text": [
      "520 emotional classifications done!\n",
      "FAIL: 520 I agree 100%! \n",
      "530 emotional classifications done!\n",
      "540 emotional classifications done!\n"
     ]
    },
    {
     "name": "stderr",
     "output_type": "stream",
     "text": [
      "ERROR:root:not enough text for language id\n",
      "Traceback (most recent call last):\n",
      "  File \"/Users/phillipholscher/opt/anaconda3/lib/python3.7/site-packages/ibm_cloud_sdk_core/base_service.py\", line 229, in send\n",
      "    response.status_code, error_message, http_response=response)\n",
      "ibm_cloud_sdk_core.api_exception.ApiException: Error: not enough text for language id, Code: 422 , X-global-transaction-id: 8bdde504-3f2e-49c0-b74f-952ba9b6e95c\n"
     ]
    },
    {
     "name": "stdout",
     "output_type": "stream",
     "text": [
      "FAIL: 544 THANK YOU! \n",
      "550 emotional classifications done!\n",
      "560 emotional classifications done!\n",
      "570 emotional classifications done!\n"
     ]
    },
    {
     "name": "stderr",
     "output_type": "stream",
     "text": [
      "ERROR:root:not enough text for language id\n",
      "Traceback (most recent call last):\n",
      "  File \"/Users/phillipholscher/opt/anaconda3/lib/python3.7/site-packages/ibm_cloud_sdk_core/base_service.py\", line 229, in send\n",
      "    response.status_code, error_message, http_response=response)\n",
      "ibm_cloud_sdk_core.api_exception.ApiException: Error: not enough text for language id, Code: 422 , X-global-transaction-id: 37f06c7c-cd5f-4394-ab3f-e25da1b8d6ff\n"
     ]
    },
    {
     "name": "stdout",
     "output_type": "stream",
     "text": [
      "FAIL: 578 THANK YOU! \n",
      "580 emotional classifications done!\n"
     ]
    },
    {
     "name": "stderr",
     "output_type": "stream",
     "text": [
      "ERROR:root:not enough text for language id\n",
      "Traceback (most recent call last):\n",
      "  File \"/Users/phillipholscher/opt/anaconda3/lib/python3.7/site-packages/ibm_cloud_sdk_core/base_service.py\", line 229, in send\n",
      "    response.status_code, error_message, http_response=response)\n",
      "ibm_cloud_sdk_core.api_exception.ApiException: Error: not enough text for language id, Code: 422 , X-global-transaction-id: ca51a3b9-d83f-4df8-892a-9d1172b380e3\n"
     ]
    },
    {
     "name": "stdout",
     "output_type": "stream",
     "text": [
      "FAIL: 585 Thank you! \n"
     ]
    },
    {
     "name": "stderr",
     "output_type": "stream",
     "text": [
      "ERROR:root:not enough text for language id\n",
      "Traceback (most recent call last):\n",
      "  File \"/Users/phillipholscher/opt/anaconda3/lib/python3.7/site-packages/ibm_cloud_sdk_core/base_service.py\", line 229, in send\n",
      "    response.status_code, error_message, http_response=response)\n",
      "ibm_cloud_sdk_core.api_exception.ApiException: Error: not enough text for language id, Code: 422 , X-global-transaction-id: 1040bf9d-d692-43f2-b15c-ab31a0c279b2\n"
     ]
    },
    {
     "name": "stdout",
     "output_type": "stream",
     "text": [
      "FAIL: 588 Thank you! \n",
      "590 emotional classifications done!\n",
      "600 emotional classifications done!\n",
      "610 emotional classifications done!\n"
     ]
    },
    {
     "name": "stderr",
     "output_type": "stream",
     "text": [
      "ERROR:root:not enough text for language id\n",
      "Traceback (most recent call last):\n",
      "  File \"/Users/phillipholscher/opt/anaconda3/lib/python3.7/site-packages/ibm_cloud_sdk_core/base_service.py\", line 229, in send\n",
      "    response.status_code, error_message, http_response=response)\n",
      "ibm_cloud_sdk_core.api_exception.ApiException: Error: not enough text for language id, Code: 422 , X-global-transaction-id: a2442f97-d931-49c4-8129-ec9916629744\n"
     ]
    },
    {
     "name": "stdout",
     "output_type": "stream",
     "text": [
      "FAIL: 619 Wow! \n",
      "620 emotional classifications done!\n",
      "630 emotional classifications done!\n"
     ]
    },
    {
     "name": "stderr",
     "output_type": "stream",
     "text": [
      "ERROR:root:not enough text for language id\n",
      "Traceback (most recent call last):\n",
      "  File \"/Users/phillipholscher/opt/anaconda3/lib/python3.7/site-packages/ibm_cloud_sdk_core/base_service.py\", line 229, in send\n",
      "    response.status_code, error_message, http_response=response)\n",
      "ibm_cloud_sdk_core.api_exception.ApiException: Error: not enough text for language id, Code: 422 , X-global-transaction-id: dd12d03f-18da-4a34-a33c-e2b264b5345d\n"
     ]
    },
    {
     "name": "stdout",
     "output_type": "stream",
     "text": [
      "FAIL: 634 Fake News! \n",
      "640 emotional classifications done!\n",
      "650 emotional classifications done!\n",
      "660 emotional classifications done!\n",
      "670 emotional classifications done!\n",
      "680 emotional classifications done!\n",
      "690 emotional classifications done!\n"
     ]
    },
    {
     "name": "stderr",
     "output_type": "stream",
     "text": [
      "ERROR:root:not enough text for language id\n",
      "Traceback (most recent call last):\n",
      "  File \"/Users/phillipholscher/opt/anaconda3/lib/python3.7/site-packages/ibm_cloud_sdk_core/base_service.py\", line 229, in send\n",
      "    response.status_code, error_message, http_response=response)\n",
      "ibm_cloud_sdk_core.api_exception.ApiException: Error: not enough text for language id, Code: 422 , X-global-transaction-id: e9b4e2b1-1323-48ad-ba37-fa66cc103ca2\n"
     ]
    },
    {
     "name": "stdout",
     "output_type": "stream",
     "text": [
      "FAIL: 691 Big!!! \n"
     ]
    },
    {
     "name": "stderr",
     "output_type": "stream",
     "text": [
      "ERROR:root:not enough text for language id\n",
      "Traceback (most recent call last):\n",
      "  File \"/Users/phillipholscher/opt/anaconda3/lib/python3.7/site-packages/ibm_cloud_sdk_core/base_service.py\", line 229, in send\n",
      "    response.status_code, error_message, http_response=response)\n",
      "ibm_cloud_sdk_core.api_exception.ApiException: Error: not enough text for language id, Code: 422 , X-global-transaction-id: a42a59fb-2f58-4602-a191-1f1244488cfc\n"
     ]
    },
    {
     "name": "stdout",
     "output_type": "stream",
     "text": [
      "FAIL: 693 I agree! \n"
     ]
    },
    {
     "name": "stderr",
     "output_type": "stream",
     "text": [
      "ERROR:root:not enough text for language id\n",
      "Traceback (most recent call last):\n",
      "  File \"/Users/phillipholscher/opt/anaconda3/lib/python3.7/site-packages/ibm_cloud_sdk_core/base_service.py\", line 229, in send\n",
      "    response.status_code, error_message, http_response=response)\n",
      "ibm_cloud_sdk_core.api_exception.ApiException: Error: not enough text for language id, Code: 422 , X-global-transaction-id: ed438b1b-8cb1-478e-8b71-c4cfd6c07538\n"
     ]
    },
    {
     "name": "stdout",
     "output_type": "stream",
     "text": [
      "FAIL: 695 Amazing! \n"
     ]
    },
    {
     "name": "stderr",
     "output_type": "stream",
     "text": [
      "ERROR:root:not enough text for language id\n",
      "Traceback (most recent call last):\n",
      "  File \"/Users/phillipholscher/opt/anaconda3/lib/python3.7/site-packages/ibm_cloud_sdk_core/base_service.py\", line 229, in send\n",
      "    response.status_code, error_message, http_response=response)\n",
      "ibm_cloud_sdk_core.api_exception.ApiException: Error: not enough text for language id, Code: 422 , X-global-transaction-id: 5b688182-3828-4551-ad1e-23e40c6a3c89\n"
     ]
    },
    {
     "name": "stdout",
     "output_type": "stream",
     "text": [
      "FAIL: 697 True! \n"
     ]
    },
    {
     "name": "stderr",
     "output_type": "stream",
     "text": [
      "ERROR:root:not enough text for language id\n",
      "Traceback (most recent call last):\n",
      "  File \"/Users/phillipholscher/opt/anaconda3/lib/python3.7/site-packages/ibm_cloud_sdk_core/base_service.py\", line 229, in send\n",
      "    response.status_code, error_message, http_response=response)\n",
      "ibm_cloud_sdk_core.api_exception.ApiException: Error: not enough text for language id, Code: 422 , X-global-transaction-id: 37d240dd-cae4-467b-8898-c4e48d86f0f6\n"
     ]
    },
    {
     "name": "stdout",
     "output_type": "stream",
     "text": [
      "FAIL: 699 Very sad! \n",
      "700 emotional classifications done!\n"
     ]
    },
    {
     "name": "stderr",
     "output_type": "stream",
     "text": [
      "ERROR:root:not enough text for language id\n",
      "Traceback (most recent call last):\n",
      "  File \"/Users/phillipholscher/opt/anaconda3/lib/python3.7/site-packages/ibm_cloud_sdk_core/base_service.py\", line 229, in send\n",
      "    response.status_code, error_message, http_response=response)\n",
      "ibm_cloud_sdk_core.api_exception.ApiException: Error: not enough text for language id, Code: 422 , X-global-transaction-id: cecaf88f-8f14-4540-8cb6-83548c9be4ff\n"
     ]
    },
    {
     "name": "stdout",
     "output_type": "stream",
     "text": [
      "FAIL: 702 Thank you! \n",
      "710 emotional classifications done!\n",
      "720 emotional classifications done!\n",
      "730 emotional classifications done!\n"
     ]
    },
    {
     "name": "stderr",
     "output_type": "stream",
     "text": [
      "ERROR:root:not enough text for language id\n",
      "Traceback (most recent call last):\n",
      "  File \"/Users/phillipholscher/opt/anaconda3/lib/python3.7/site-packages/ibm_cloud_sdk_core/base_service.py\", line 229, in send\n",
      "    response.status_code, error_message, http_response=response)\n",
      "ibm_cloud_sdk_core.api_exception.ApiException: Error: not enough text for language id, Code: 422 , X-global-transaction-id: 081b2bcc-699f-48db-9bcb-19d2b4ea0f87\n"
     ]
    },
    {
     "name": "stdout",
     "output_type": "stream",
     "text": [
      "FAIL: 735 True! \n",
      "740 emotional classifications done!\n"
     ]
    },
    {
     "name": "stderr",
     "output_type": "stream",
     "text": [
      "ERROR:root:not enough text for language id\n",
      "Traceback (most recent call last):\n",
      "  File \"/Users/phillipholscher/opt/anaconda3/lib/python3.7/site-packages/ibm_cloud_sdk_core/base_service.py\", line 229, in send\n",
      "    response.status_code, error_message, http_response=response)\n",
      "ibm_cloud_sdk_core.api_exception.ApiException: Error: not enough text for language id, Code: 422 , X-global-transaction-id: e41e54c6-9c0c-401d-998c-9fb1fa4eb006\n"
     ]
    },
    {
     "name": "stdout",
     "output_type": "stream",
     "text": [
      "FAIL: 742 AMERICA FIRST! \n",
      "750 emotional classifications done!\n"
     ]
    },
    {
     "name": "stderr",
     "output_type": "stream",
     "text": [
      "ERROR:root:not enough text for language id\n",
      "Traceback (most recent call last):\n",
      "  File \"/Users/phillipholscher/opt/anaconda3/lib/python3.7/site-packages/ibm_cloud_sdk_core/base_service.py\", line 229, in send\n",
      "    response.status_code, error_message, http_response=response)\n",
      "ibm_cloud_sdk_core.api_exception.ApiException: Error: not enough text for language id, Code: 422 , X-global-transaction-id: 670572c0-7b6b-4000-98b6-9d54019dabae\n"
     ]
    },
    {
     "name": "stdout",
     "output_type": "stream",
     "text": [
      "FAIL: 754 Great! \n",
      "760 emotional classifications done!\n",
      "770 emotional classifications done!\n",
      "780 emotional classifications done!\n",
      "790 emotional classifications done!\n"
     ]
    },
    {
     "name": "stderr",
     "output_type": "stream",
     "text": [
      "ERROR:root:not enough text for language id\n",
      "Traceback (most recent call last):\n",
      "  File \"/Users/phillipholscher/opt/anaconda3/lib/python3.7/site-packages/ibm_cloud_sdk_core/base_service.py\", line 229, in send\n",
      "    response.status_code, error_message, http_response=response)\n",
      "ibm_cloud_sdk_core.api_exception.ApiException: Error: not enough text for language id, Code: 422 , X-global-transaction-id: dc519eb6-5c7b-4f76-9db7-f54f5eaef18e\n"
     ]
    },
    {
     "name": "stdout",
     "output_type": "stream",
     "text": [
      "FAIL: 797 THANK YOU! \n",
      "800 emotional classifications done!\n",
      "810 emotional classifications done!\n"
     ]
    },
    {
     "name": "stderr",
     "output_type": "stream",
     "text": [
      "ERROR:root:not enough text for language id\n",
      "Traceback (most recent call last):\n",
      "  File \"/Users/phillipholscher/opt/anaconda3/lib/python3.7/site-packages/ibm_cloud_sdk_core/base_service.py\", line 229, in send\n",
      "    response.status_code, error_message, http_response=response)\n",
      "ibm_cloud_sdk_core.api_exception.ApiException: Error: not enough text for language id, Code: 422 , X-global-transaction-id: 0cde3d98-d0c8-4cf6-b367-ef28ca731e18\n"
     ]
    },
    {
     "name": "stdout",
     "output_type": "stream",
     "text": [
      "FAIL: 812 Thank you! \n"
     ]
    },
    {
     "name": "stderr",
     "output_type": "stream",
     "text": [
      "ERROR:root:not enough text for language id\n",
      "Traceback (most recent call last):\n",
      "  File \"/Users/phillipholscher/opt/anaconda3/lib/python3.7/site-packages/ibm_cloud_sdk_core/base_service.py\", line 229, in send\n",
      "    response.status_code, error_message, http_response=response)\n",
      "ibm_cloud_sdk_core.api_exception.ApiException: Error: not enough text for language id, Code: 422 , X-global-transaction-id: 728012f0-e795-4c2e-8b68-6be3243bab9a\n"
     ]
    },
    {
     "name": "stdout",
     "output_type": "stream",
     "text": [
      "FAIL: 815 True! \n",
      "820 emotional classifications done!\n",
      "830 emotional classifications done!\n",
      "840 emotional classifications done!\n",
      "850 emotional classifications done!\n",
      "860 emotional classifications done!\n",
      "870 emotional classifications done!\n",
      "880 emotional classifications done!\n"
     ]
    },
    {
     "name": "stderr",
     "output_type": "stream",
     "text": [
      "ERROR:root:not enough text for language id\n",
      "Traceback (most recent call last):\n",
      "  File \"/Users/phillipholscher/opt/anaconda3/lib/python3.7/site-packages/ibm_cloud_sdk_core/base_service.py\", line 229, in send\n",
      "    response.status_code, error_message, http_response=response)\n",
      "ibm_cloud_sdk_core.api_exception.ApiException: Error: not enough text for language id, Code: 422 , X-global-transaction-id: e4ca77f5-191e-4c23-9182-7b22f4717602\n"
     ]
    },
    {
     "name": "stdout",
     "output_type": "stream",
     "text": [
      "FAIL: 886 100% Correct! \n",
      "890 emotional classifications done!\n",
      "900 emotional classifications done!\n",
      "910 emotional classifications done!\n",
      "920 emotional classifications done!\n",
      "930 emotional classifications done!\n",
      "940 emotional classifications done!\n",
      "950 emotional classifications done!\n"
     ]
    },
    {
     "name": "stderr",
     "output_type": "stream",
     "text": [
      "ERROR:root:not enough text for language id\n",
      "Traceback (most recent call last):\n",
      "  File \"/Users/phillipholscher/opt/anaconda3/lib/python3.7/site-packages/ibm_cloud_sdk_core/base_service.py\", line 229, in send\n",
      "    response.status_code, error_message, http_response=response)\n",
      "ibm_cloud_sdk_core.api_exception.ApiException: Error: not enough text for language id, Code: 422 , X-global-transaction-id: 643ee321-2cdc-43f8-b638-213503be0a09\n"
     ]
    },
    {
     "name": "stdout",
     "output_type": "stream",
     "text": [
      "960 emotional classifications done!\n",
      "FAIL: 960 THANK YOU! \n",
      "970 emotional classifications done!\n"
     ]
    },
    {
     "name": "stderr",
     "output_type": "stream",
     "text": [
      "ERROR:root:not enough text for language id\n",
      "Traceback (most recent call last):\n",
      "  File \"/Users/phillipholscher/opt/anaconda3/lib/python3.7/site-packages/ibm_cloud_sdk_core/base_service.py\", line 229, in send\n",
      "    response.status_code, error_message, http_response=response)\n",
      "ibm_cloud_sdk_core.api_exception.ApiException: Error: not enough text for language id, Code: 422 , X-global-transaction-id: f6bb20cf-f055-4353-9d26-5375b577df90\n"
     ]
    },
    {
     "name": "stdout",
     "output_type": "stream",
     "text": [
      "FAIL: 975 Thanks Eric! \n",
      "980 emotional classifications done!\n"
     ]
    },
    {
     "name": "stderr",
     "output_type": "stream",
     "text": [
      "ERROR:root:not enough text for language id\n",
      "Traceback (most recent call last):\n",
      "  File \"/Users/phillipholscher/opt/anaconda3/lib/python3.7/site-packages/ibm_cloud_sdk_core/base_service.py\", line 229, in send\n",
      "    response.status_code, error_message, http_response=response)\n",
      "ibm_cloud_sdk_core.api_exception.ApiException: Error: not enough text for language id, Code: 422 , X-global-transaction-id: 69117e41-dc11-478c-9222-6cd358ed2b3a\n"
     ]
    },
    {
     "name": "stdout",
     "output_type": "stream",
     "text": [
      "FAIL: 988 True! \n",
      "990 emotional classifications done!\n"
     ]
    },
    {
     "name": "stderr",
     "output_type": "stream",
     "text": [
      "ERROR:root:not enough text for language id\n",
      "Traceback (most recent call last):\n",
      "  File \"/Users/phillipholscher/opt/anaconda3/lib/python3.7/site-packages/ibm_cloud_sdk_core/base_service.py\", line 229, in send\n",
      "    response.status_code, error_message, http_response=response)\n",
      "ibm_cloud_sdk_core.api_exception.ApiException: Error: not enough text for language id, Code: 422 , X-global-transaction-id: 60c92648-d767-4fc2-a84b-b99a7b333c07\n"
     ]
    },
    {
     "name": "stdout",
     "output_type": "stream",
     "text": [
      "FAIL: 997 THANK YOU! \n",
      "1000 emotional classifications done!\n",
      "1010 emotional classifications done!\n",
      "1020 emotional classifications done!\n",
      "1030 emotional classifications done!\n",
      "1040 emotional classifications done!\n",
      "1050 emotional classifications done!\n",
      "1060 emotional classifications done!\n",
      "1070 emotional classifications done!\n"
     ]
    },
    {
     "name": "stderr",
     "output_type": "stream",
     "text": [
      "ERROR:root:not enough text for language id\n",
      "Traceback (most recent call last):\n",
      "  File \"/Users/phillipholscher/opt/anaconda3/lib/python3.7/site-packages/ibm_cloud_sdk_core/base_service.py\", line 229, in send\n",
      "    response.status_code, error_message, http_response=response)\n",
      "ibm_cloud_sdk_core.api_exception.ApiException: Error: not enough text for language id, Code: 422 , X-global-transaction-id: 0e4ab550-9350-4214-92f5-73d900dfde1e\n"
     ]
    },
    {
     "name": "stdout",
     "output_type": "stream",
     "text": [
      "FAIL: 1071 Great! \n"
     ]
    },
    {
     "name": "stderr",
     "output_type": "stream",
     "text": [
      "ERROR:root:not enough text for language id\n",
      "Traceback (most recent call last):\n",
      "  File \"/Users/phillipholscher/opt/anaconda3/lib/python3.7/site-packages/ibm_cloud_sdk_core/base_service.py\", line 229, in send\n",
      "    response.status_code, error_message, http_response=response)\n",
      "ibm_cloud_sdk_core.api_exception.ApiException: Error: not enough text for language id, Code: 422 , X-global-transaction-id: 5c167156-4194-47ac-afb4-90942913628b\n"
     ]
    },
    {
     "name": "stdout",
     "output_type": "stream",
     "text": [
      "FAIL: 1076 Totally! \n",
      "1080 emotional classifications done!\n"
     ]
    },
    {
     "name": "stderr",
     "output_type": "stream",
     "text": [
      "ERROR:root:not enough text for language id\n",
      "Traceback (most recent call last):\n",
      "  File \"/Users/phillipholscher/opt/anaconda3/lib/python3.7/site-packages/ibm_cloud_sdk_core/base_service.py\", line 229, in send\n",
      "    response.status_code, error_message, http_response=response)\n",
      "ibm_cloud_sdk_core.api_exception.ApiException: Error: not enough text for language id, Code: 422 , X-global-transaction-id: 460399b1-306b-4e0a-8608-adcd3cc3b4a3\n"
     ]
    },
    {
     "name": "stdout",
     "output_type": "stream",
     "text": [
      "FAIL: 1087 True! \n",
      "1090 emotional classifications done!\n"
     ]
    },
    {
     "name": "stderr",
     "output_type": "stream",
     "text": [
      "ERROR:root:not enough text for language id\n",
      "Traceback (most recent call last):\n",
      "  File \"/Users/phillipholscher/opt/anaconda3/lib/python3.7/site-packages/ibm_cloud_sdk_core/base_service.py\", line 229, in send\n",
      "    response.status_code, error_message, http_response=response)\n",
      "ibm_cloud_sdk_core.api_exception.ApiException: Error: not enough text for language id, Code: 422 , X-global-transaction-id: 70e7cf36-adb6-425c-9608-e5dd50cd60e7\n"
     ]
    },
    {
     "name": "stdout",
     "output_type": "stream",
     "text": [
      "FAIL: 1096 THANK YOU! \n",
      "1100 emotional classifications done!\n",
      "1110 emotional classifications done!\n",
      "1120 emotional classifications done!\n"
     ]
    },
    {
     "name": "stderr",
     "output_type": "stream",
     "text": [
      "ERROR:root:not enough text for language id\n",
      "Traceback (most recent call last):\n",
      "  File \"/Users/phillipholscher/opt/anaconda3/lib/python3.7/site-packages/ibm_cloud_sdk_core/base_service.py\", line 229, in send\n",
      "    response.status_code, error_message, http_response=response)\n",
      "ibm_cloud_sdk_core.api_exception.ApiException: Error: not enough text for language id, Code: 422 , X-global-transaction-id: 91bd2337-5453-4f17-8970-84e43dc9ed03\n"
     ]
    },
    {
     "name": "stdout",
     "output_type": "stream",
     "text": [
      "FAIL: 1123 KENTUCKY! \n",
      "1130 emotional classifications done!\n",
      "1140 emotional classifications done!\n",
      "1150 emotional classifications done!\n"
     ]
    },
    {
     "name": "stderr",
     "output_type": "stream",
     "text": [
      "ERROR:root:not enough text for language id\n",
      "Traceback (most recent call last):\n",
      "  File \"/Users/phillipholscher/opt/anaconda3/lib/python3.7/site-packages/ibm_cloud_sdk_core/base_service.py\", line 229, in send\n",
      "    response.status_code, error_message, http_response=response)\n",
      "ibm_cloud_sdk_core.api_exception.ApiException: Error: not enough text for language id, Code: 422 , X-global-transaction-id: 978da229-8f16-4547-9fd3-8ca85f06244a\n"
     ]
    },
    {
     "name": "stdout",
     "output_type": "stream",
     "text": [
      "FAIL: 1153 Good point! \n",
      "1160 emotional classifications done!\n"
     ]
    },
    {
     "name": "stderr",
     "output_type": "stream",
     "text": [
      "ERROR:root:not enough text for language id\n",
      "Traceback (most recent call last):\n",
      "  File \"/Users/phillipholscher/opt/anaconda3/lib/python3.7/site-packages/ibm_cloud_sdk_core/base_service.py\", line 229, in send\n",
      "    response.status_code, error_message, http_response=response)\n",
      "ibm_cloud_sdk_core.api_exception.ApiException: Error: not enough text for language id, Code: 422 , X-global-transaction-id: ac1bd53c-14da-460a-8f0c-14c33653590d\n"
     ]
    },
    {
     "name": "stdout",
     "output_type": "stream",
     "text": [
      "FAIL: 1163 Fake News! \n",
      "1170 emotional classifications done!\n"
     ]
    },
    {
     "name": "stderr",
     "output_type": "stream",
     "text": [
      "ERROR:root:not enough text for language id\n",
      "Traceback (most recent call last):\n",
      "  File \"/Users/phillipholscher/opt/anaconda3/lib/python3.7/site-packages/ibm_cloud_sdk_core/base_service.py\", line 229, in send\n",
      "    response.status_code, error_message, http_response=response)\n",
      "ibm_cloud_sdk_core.api_exception.ApiException: Error: not enough text for language id, Code: 422 , X-global-transaction-id: 8370ee9f-336e-4abb-af12-fd2a1d1b5880\n"
     ]
    },
    {
     "name": "stdout",
     "output_type": "stream",
     "text": [
      "FAIL: 1177 A giant Scam! \n",
      "1180 emotional classifications done!\n",
      "1190 emotional classifications done!\n",
      "1200 emotional classifications done!\n"
     ]
    },
    {
     "name": "stderr",
     "output_type": "stream",
     "text": [
      "ERROR:root:not enough text for language id\n",
      "Traceback (most recent call last):\n",
      "  File \"/Users/phillipholscher/opt/anaconda3/lib/python3.7/site-packages/ibm_cloud_sdk_core/base_service.py\", line 229, in send\n",
      "    response.status_code, error_message, http_response=response)\n",
      "ibm_cloud_sdk_core.api_exception.ApiException: Error: not enough text for language id, Code: 422 , X-global-transaction-id: 7e76bd3c-7e89-4c06-9351-6cd7766ec0b9\n"
     ]
    },
    {
     "name": "stdout",
     "output_type": "stream",
     "text": [
      "FAIL: 1207 Thank you! \n",
      "1210 emotional classifications done!\n",
      "1220 emotional classifications done!\n",
      "1230 emotional classifications done!\n"
     ]
    },
    {
     "name": "stderr",
     "output_type": "stream",
     "text": [
      "ERROR:root:not enough text for language id\n",
      "Traceback (most recent call last):\n",
      "  File \"/Users/phillipholscher/opt/anaconda3/lib/python3.7/site-packages/ibm_cloud_sdk_core/base_service.py\", line 229, in send\n",
      "    response.status_code, error_message, http_response=response)\n",
      "ibm_cloud_sdk_core.api_exception.ApiException: Error: not enough text for language id, Code: 422 , X-global-transaction-id: 4172ca01-a049-4263-a71e-2dd5d551bf30\n"
     ]
    },
    {
     "name": "stdout",
     "output_type": "stream",
     "text": [
      "FAIL: 1234 AMERICAN HERO! \n",
      "1240 emotional classifications done!\n",
      "1250 emotional classifications done!\n"
     ]
    },
    {
     "name": "stderr",
     "output_type": "stream",
     "text": [
      "ERROR:root:unsupported text language: ca\n",
      "Traceback (most recent call last):\n",
      "  File \"/Users/phillipholscher/opt/anaconda3/lib/python3.7/site-packages/ibm_cloud_sdk_core/base_service.py\", line 229, in send\n",
      "    response.status_code, error_message, http_response=response)\n",
      "ibm_cloud_sdk_core.api_exception.ApiException: Error: unsupported text language: ca, Code: 400 , X-global-transaction-id: 57272732-ce89-4fbd-892c-50ce62811a0b\n"
     ]
    },
    {
     "name": "stdout",
     "output_type": "stream",
     "text": [
      "FAIL: 1258 Correct, a total scam! \n",
      "1260 emotional classifications done!\n"
     ]
    },
    {
     "name": "stderr",
     "output_type": "stream",
     "text": [
      "ERROR:root:not enough text for language id\n",
      "Traceback (most recent call last):\n",
      "  File \"/Users/phillipholscher/opt/anaconda3/lib/python3.7/site-packages/ibm_cloud_sdk_core/base_service.py\", line 229, in send\n",
      "    response.status_code, error_message, http_response=response)\n",
      "ibm_cloud_sdk_core.api_exception.ApiException: Error: not enough text for language id, Code: 422 , X-global-transaction-id: 930e5bdb-54d4-44f5-adc5-f5c748c696e8\n"
     ]
    },
    {
     "name": "stdout",
     "output_type": "stream",
     "text": [
      "FAIL: 1267 THANK YOU \n",
      "1270 emotional classifications done!\n",
      "1280 emotional classifications done!\n"
     ]
    },
    {
     "name": "stderr",
     "output_type": "stream",
     "text": [
      "ERROR:root:not enough text for language id\n",
      "Traceback (most recent call last):\n",
      "  File \"/Users/phillipholscher/opt/anaconda3/lib/python3.7/site-packages/ibm_cloud_sdk_core/base_service.py\", line 229, in send\n",
      "    response.status_code, error_message, http_response=response)\n",
      "ibm_cloud_sdk_core.api_exception.ApiException: Error: not enough text for language id, Code: 422 , X-global-transaction-id: d073b894-ac98-41b8-8cf6-5b15758cbe07\n"
     ]
    },
    {
     "name": "stdout",
     "output_type": "stream",
     "text": [
      "FAIL: 1281 ....\n",
      "1290 emotional classifications done!\n"
     ]
    },
    {
     "name": "stderr",
     "output_type": "stream",
     "text": [
      "ERROR:root:not enough text for language id\n",
      "Traceback (most recent call last):\n",
      "  File \"/Users/phillipholscher/opt/anaconda3/lib/python3.7/site-packages/ibm_cloud_sdk_core/base_service.py\", line 229, in send\n",
      "    response.status_code, error_message, http_response=response)\n",
      "ibm_cloud_sdk_core.api_exception.ApiException: Error: not enough text for language id, Code: 422 , X-global-transaction-id: c71f3dd9-a9e7-46da-b012-c8a115ac92c7\n"
     ]
    },
    {
     "name": "stdout",
     "output_type": "stream",
     "text": [
      "FAIL: 1295 Wow! \n",
      "1300 emotional classifications done!\n",
      "1310 emotional classifications done!\n",
      "1320 emotional classifications done!\n",
      "1330 emotional classifications done!\n",
      "1340 emotional classifications done!\n",
      "1350 emotional classifications done!\n",
      "1360 emotional classifications done!\n"
     ]
    },
    {
     "name": "stderr",
     "output_type": "stream",
     "text": [
      "ERROR:root:unsupported text language: ca\n",
      "Traceback (most recent call last):\n",
      "  File \"/Users/phillipholscher/opt/anaconda3/lib/python3.7/site-packages/ibm_cloud_sdk_core/base_service.py\", line 229, in send\n",
      "    response.status_code, error_message, http_response=response)\n",
      "ibm_cloud_sdk_core.api_exception.ApiException: Error: unsupported text language: ca, Code: 400 , X-global-transaction-id: 735e9195-ecb2-427e-a955-0bb36d8d097c\n"
     ]
    },
    {
     "name": "stdout",
     "output_type": "stream",
     "text": [
      "FAIL: 1360 Congratulations Barbara! \n",
      "1370 emotional classifications done!\n"
     ]
    },
    {
     "name": "stderr",
     "output_type": "stream",
     "text": [
      "ERROR:root:not enough text for language id\n",
      "Traceback (most recent call last):\n",
      "  File \"/Users/phillipholscher/opt/anaconda3/lib/python3.7/site-packages/ibm_cloud_sdk_core/base_service.py\", line 229, in send\n",
      "    response.status_code, error_message, http_response=response)\n",
      "ibm_cloud_sdk_core.api_exception.ApiException: Error: not enough text for language id, Code: 422 , X-global-transaction-id: 0c0fe60d-dfc0-4a3c-bc8d-cb72bea03186\n"
     ]
    },
    {
     "name": "stdout",
     "output_type": "stream",
     "text": [
      "FAIL: 1375 See you there! \n",
      "1380 emotional classifications done!\n"
     ]
    },
    {
     "name": "stderr",
     "output_type": "stream",
     "text": [
      "ERROR:root:not enough text for language id\n",
      "Traceback (most recent call last):\n",
      "  File \"/Users/phillipholscher/opt/anaconda3/lib/python3.7/site-packages/ibm_cloud_sdk_core/base_service.py\", line 229, in send\n",
      "    response.status_code, error_message, http_response=response)\n",
      "ibm_cloud_sdk_core.api_exception.ApiException: Error: not enough text for language id, Code: 422 , X-global-transaction-id: f260dbbb-316f-4f86-8d0b-22ab109efbb1\n"
     ]
    },
    {
     "name": "stdout",
     "output_type": "stream",
     "text": [
      "FAIL: 1383 I agree! \n",
      "1390 emotional classifications done!\n",
      "1400 emotional classifications done!\n"
     ]
    },
    {
     "name": "stderr",
     "output_type": "stream",
     "text": [
      "ERROR:root:not enough text for language id\n",
      "Traceback (most recent call last):\n",
      "  File \"/Users/phillipholscher/opt/anaconda3/lib/python3.7/site-packages/ibm_cloud_sdk_core/base_service.py\", line 229, in send\n",
      "    response.status_code, error_message, http_response=response)\n",
      "ibm_cloud_sdk_core.api_exception.ApiException: Error: not enough text for language id, Code: 422 , X-global-transaction-id: a236abfd-90c0-4bd7-9ff0-7bec3130c151\n"
     ]
    },
    {
     "name": "stdout",
     "output_type": "stream",
     "text": [
      "FAIL: 1401 The USA! \n",
      "1410 emotional classifications done!\n",
      "1420 emotional classifications done!\n"
     ]
    },
    {
     "name": "stderr",
     "output_type": "stream",
     "text": [
      "ERROR:root:not enough text for language id\n",
      "Traceback (most recent call last):\n",
      "  File \"/Users/phillipholscher/opt/anaconda3/lib/python3.7/site-packages/ibm_cloud_sdk_core/base_service.py\", line 229, in send\n",
      "    response.status_code, error_message, http_response=response)\n",
      "ibm_cloud_sdk_core.api_exception.ApiException: Error: not enough text for language id, Code: 422 , X-global-transaction-id: 8ff94959-a558-4afd-8f0e-740b0e54051c\n"
     ]
    },
    {
     "name": "stdout",
     "output_type": "stream",
     "text": [
      "FAIL: 1428 FAKE NEWS! \n",
      "1430 emotional classifications done!\n",
      "1440 emotional classifications done!\n",
      "1450 emotional classifications done!\n",
      "1460 emotional classifications done!\n"
     ]
    },
    {
     "name": "stderr",
     "output_type": "stream",
     "text": [
      "ERROR:root:not enough text for language id\n",
      "Traceback (most recent call last):\n",
      "  File \"/Users/phillipholscher/opt/anaconda3/lib/python3.7/site-packages/ibm_cloud_sdk_core/base_service.py\", line 229, in send\n",
      "    response.status_code, error_message, http_response=response)\n",
      "ibm_cloud_sdk_core.api_exception.ApiException: Error: not enough text for language id, Code: 422 , X-global-transaction-id: 0c9ffa8b-b641-41ff-80c7-99398a8db8a1\n"
     ]
    },
    {
     "name": "stdout",
     "output_type": "stream",
     "text": [
      "FAIL: 1468 America First!\n",
      "1470 emotional classifications done!\n",
      "1480 emotional classifications done!\n",
      "1490 emotional classifications done!\n",
      "1500 emotional classifications done!\n",
      "1510 emotional classifications done!\n",
      "1520 emotional classifications done!\n"
     ]
    },
    {
     "name": "stderr",
     "output_type": "stream",
     "text": [
      "ERROR:root:not enough text for language id\n",
      "Traceback (most recent call last):\n",
      "  File \"/Users/phillipholscher/opt/anaconda3/lib/python3.7/site-packages/ibm_cloud_sdk_core/base_service.py\", line 229, in send\n",
      "    response.status_code, error_message, http_response=response)\n",
      "ibm_cloud_sdk_core.api_exception.ApiException: Error: not enough text for language id, Code: 422 , X-global-transaction-id: e3847a40-f28c-4b4f-bd31-56d473272e3f\n"
     ]
    },
    {
     "name": "stdout",
     "output_type": "stream",
     "text": [
      "FAIL: 1525 A Giant Scam! \n",
      "1530 emotional classifications done!\n",
      "1540 emotional classifications done!\n",
      "1550 emotional classifications done!\n",
      "1560 emotional classifications done!\n",
      "1570 emotional classifications done!\n",
      "1580 emotional classifications done!\n"
     ]
    },
    {
     "name": "stderr",
     "output_type": "stream",
     "text": [
      "ERROR:root:not enough text for language id\n",
      "Traceback (most recent call last):\n",
      "  File \"/Users/phillipholscher/opt/anaconda3/lib/python3.7/site-packages/ibm_cloud_sdk_core/base_service.py\", line 229, in send\n",
      "    response.status_code, error_message, http_response=response)\n",
      "ibm_cloud_sdk_core.api_exception.ApiException: Error: not enough text for language id, Code: 422 , X-global-transaction-id: 0d2adc68-4459-4fc5-ac3a-a8bb412dda5e\n"
     ]
    },
    {
     "name": "stdout",
     "output_type": "stream",
     "text": [
      "FAIL: 1581 So amazing! \n",
      "1590 emotional classifications done!\n",
      "1600 emotional classifications done!\n",
      "1610 emotional classifications done!\n",
      "1620 emotional classifications done!\n",
      "1630 emotional classifications done!\n",
      "1640 emotional classifications done!\n",
      "1650 emotional classifications done!\n",
      "1660 emotional classifications done!\n"
     ]
    },
    {
     "name": "stderr",
     "output_type": "stream",
     "text": [
      "ERROR:root:not enough text for language id\n",
      "Traceback (most recent call last):\n",
      "  File \"/Users/phillipholscher/opt/anaconda3/lib/python3.7/site-packages/ibm_cloud_sdk_core/base_service.py\", line 229, in send\n",
      "    response.status_code, error_message, http_response=response)\n",
      "ibm_cloud_sdk_core.api_exception.ApiException: Error: not enough text for language id, Code: 422 , X-global-transaction-id: fb8b29fb-0341-4e48-b249-8fbb1922b8e0\n"
     ]
    },
    {
     "name": "stdout",
     "output_type": "stream",
     "text": [
      "FAIL: 1663 Too bad! \n",
      "1670 emotional classifications done!\n",
      "1680 emotional classifications done!\n",
      "1690 emotional classifications done!\n",
      "1700 emotional classifications done!\n",
      "1710 emotional classifications done!\n",
      "1720 emotional classifications done!\n",
      "1730 emotional classifications done!\n",
      "1740 emotional classifications done!\n",
      "1750 emotional classifications done!\n"
     ]
    },
    {
     "name": "stderr",
     "output_type": "stream",
     "text": [
      "ERROR:root:not enough text for language id\n",
      "Traceback (most recent call last):\n",
      "  File \"/Users/phillipholscher/opt/anaconda3/lib/python3.7/site-packages/ibm_cloud_sdk_core/base_service.py\", line 229, in send\n",
      "    response.status_code, error_message, http_response=response)\n",
      "ibm_cloud_sdk_core.api_exception.ApiException: Error: not enough text for language id, Code: 422 , X-global-transaction-id: 54101a7d-43fd-4fb3-8ac6-c8b32c3f4e54\n"
     ]
    },
    {
     "name": "stdout",
     "output_type": "stream",
     "text": [
      "FAIL: 1756 THANK YOU! \n",
      "1760 emotional classifications done!\n",
      "1770 emotional classifications done!\n",
      "1780 emotional classifications done!\n",
      "1790 emotional classifications done!\n",
      "1800 emotional classifications done!\n",
      "1810 emotional classifications done!\n",
      "1820 emotional classifications done!\n",
      "1830 emotional classifications done!\n",
      "1840 emotional classifications done!\n",
      "1850 emotional classifications done!\n"
     ]
    },
    {
     "name": "stderr",
     "output_type": "stream",
     "text": [
      "ERROR:root:not enough text for language id\n",
      "Traceback (most recent call last):\n",
      "  File \"/Users/phillipholscher/opt/anaconda3/lib/python3.7/site-packages/ibm_cloud_sdk_core/base_service.py\", line 229, in send\n",
      "    response.status_code, error_message, http_response=response)\n",
      "ibm_cloud_sdk_core.api_exception.ApiException: Error: not enough text for language id, Code: 422 , X-global-transaction-id: 7f3f313b-5c9f-4673-84c1-f22cb9cf9edb\n"
     ]
    },
    {
     "name": "stdout",
     "output_type": "stream",
     "text": [
      "1860 emotional classifications done!\n",
      "FAIL: 1860 THANK YOU! \n",
      "1870 emotional classifications done!\n",
      "1880 emotional classifications done!\n",
      "1890 emotional classifications done!\n",
      "1900 emotional classifications done!\n",
      "1910 emotional classifications done!\n"
     ]
    },
    {
     "name": "stderr",
     "output_type": "stream",
     "text": [
      "ERROR:root:not enough text for language id\n",
      "Traceback (most recent call last):\n",
      "  File \"/Users/phillipholscher/opt/anaconda3/lib/python3.7/site-packages/ibm_cloud_sdk_core/base_service.py\", line 229, in send\n",
      "    response.status_code, error_message, http_response=response)\n",
      "ibm_cloud_sdk_core.api_exception.ApiException: Error: not enough text for language id, Code: 422 , X-global-transaction-id: 9922cd09-7616-4c0c-87c7-441f739009bc\n"
     ]
    },
    {
     "name": "stdout",
     "output_type": "stream",
     "text": [
      "FAIL: 1912 Thank you! \n",
      "1920 emotional classifications done!\n"
     ]
    },
    {
     "name": "stderr",
     "output_type": "stream",
     "text": [
      "ERROR:root:not enough text for language id\n",
      "Traceback (most recent call last):\n",
      "  File \"/Users/phillipholscher/opt/anaconda3/lib/python3.7/site-packages/ibm_cloud_sdk_core/base_service.py\", line 229, in send\n",
      "    response.status_code, error_message, http_response=response)\n",
      "ibm_cloud_sdk_core.api_exception.ApiException: Error: not enough text for language id, Code: 422 , X-global-transaction-id: 1917caca-73a7-483d-ab6c-87ce2504ea85\n"
     ]
    },
    {
     "name": "stdout",
     "output_type": "stream",
     "text": [
      "FAIL: 1923 Great! \n",
      "1930 emotional classifications done!\n",
      "1940 emotional classifications done!\n"
     ]
    },
    {
     "name": "stderr",
     "output_type": "stream",
     "text": [
      "ERROR:root:unsupported text language: ca\n",
      "Traceback (most recent call last):\n",
      "  File \"/Users/phillipholscher/opt/anaconda3/lib/python3.7/site-packages/ibm_cloud_sdk_core/base_service.py\", line 229, in send\n",
      "    response.status_code, error_message, http_response=response)\n",
      "ibm_cloud_sdk_core.api_exception.ApiException: Error: unsupported text language: ca, Code: 400 , X-global-transaction-id: 6cdd8a5d-f2e1-4e42-b056-88288053573b\n"
     ]
    },
    {
     "name": "stdout",
     "output_type": "stream",
     "text": [
      "FAIL: 1941 Congratulations @MarianoRivera ! \n",
      "1950 emotional classifications done!\n",
      "1960 emotional classifications done!\n",
      "1970 emotional classifications done!\n"
     ]
    },
    {
     "name": "stderr",
     "output_type": "stream",
     "text": [
      "ERROR:root:not enough text for language id\n",
      "Traceback (most recent call last):\n",
      "  File \"/Users/phillipholscher/opt/anaconda3/lib/python3.7/site-packages/ibm_cloud_sdk_core/base_service.py\", line 229, in send\n",
      "    response.status_code, error_message, http_response=response)\n",
      "ibm_cloud_sdk_core.api_exception.ApiException: Error: not enough text for language id, Code: 422 , X-global-transaction-id: b53f180b-b602-440f-8e9a-fea5f2e293b9\n"
     ]
    },
    {
     "name": "stdout",
     "output_type": "stream",
     "text": [
      "FAIL: 1976 Thank you! \n"
     ]
    },
    {
     "name": "stderr",
     "output_type": "stream",
     "text": [
      "ERROR:root:not enough text for language id\n",
      "Traceback (most recent call last):\n",
      "  File \"/Users/phillipholscher/opt/anaconda3/lib/python3.7/site-packages/ibm_cloud_sdk_core/base_service.py\", line 229, in send\n",
      "    response.status_code, error_message, http_response=response)\n",
      "ibm_cloud_sdk_core.api_exception.ApiException: Error: not enough text for language id, Code: 422 , X-global-transaction-id: 061a4d3d-d73b-47d5-bc87-701098129ecc\n"
     ]
    },
    {
     "name": "stdout",
     "output_type": "stream",
     "text": [
      "FAIL: 1979 Amazing! \n",
      "1980 emotional classifications done!\n",
      "1990 emotional classifications done!\n",
      "2000 emotional classifications done!\n",
      "2010 emotional classifications done!\n",
      "2020 emotional classifications done!\n",
      "2030 emotional classifications done!\n",
      "2040 emotional classifications done!\n",
      "2050 emotional classifications done!\n",
      "2060 emotional classifications done!\n",
      "2070 emotional classifications done!\n",
      "2080 emotional classifications done!\n",
      "2090 emotional classifications done!\n",
      "2100 emotional classifications done!\n",
      "2110 emotional classifications done!\n",
      "2120 emotional classifications done!\n",
      "2130 emotional classifications done!\n",
      "2140 emotional classifications done!\n",
      "2150 emotional classifications done!\n",
      "2160 emotional classifications done!\n",
      "2170 emotional classifications done!\n",
      "2180 emotional classifications done!\n",
      "2190 emotional classifications done!\n",
      "2200 emotional classifications done!\n",
      "2210 emotional classifications done!\n",
      "2220 emotional classifications done!\n",
      "2230 emotional classifications done!\n",
      "2240 emotional classifications done!\n",
      "2250 emotional classifications done!\n",
      "2260 emotional classifications done!\n"
     ]
    },
    {
     "name": "stderr",
     "output_type": "stream",
     "text": [
      "ERROR:root:not enough text for language id\n",
      "Traceback (most recent call last):\n",
      "  File \"/Users/phillipholscher/opt/anaconda3/lib/python3.7/site-packages/ibm_cloud_sdk_core/base_service.py\", line 229, in send\n",
      "    response.status_code, error_message, http_response=response)\n",
      "ibm_cloud_sdk_core.api_exception.ApiException: Error: not enough text for language id, Code: 422 , X-global-transaction-id: a6e9d44f-f347-4b92-9e24-3c0722f2ac30\n"
     ]
    },
    {
     "name": "stdout",
     "output_type": "stream",
     "text": [
      "FAIL: 2265 I agree 100%! \n",
      "2270 emotional classifications done!\n"
     ]
    },
    {
     "name": "stderr",
     "output_type": "stream",
     "text": [
      "ERROR:root:not enough text for language id\n",
      "Traceback (most recent call last):\n",
      "  File \"/Users/phillipholscher/opt/anaconda3/lib/python3.7/site-packages/ibm_cloud_sdk_core/base_service.py\", line 229, in send\n",
      "    response.status_code, error_message, http_response=response)\n",
      "ibm_cloud_sdk_core.api_exception.ApiException: Error: not enough text for language id, Code: 422 , X-global-transaction-id: 8e0c505a-b929-4796-93ce-fe99346b6de3\n"
     ]
    },
    {
     "name": "stdout",
     "output_type": "stream",
     "text": [
      "FAIL: 2278 A disgrace! \n",
      "2280 emotional classifications done!\n",
      "2290 emotional classifications done!\n",
      "2300 emotional classifications done!\n"
     ]
    },
    {
     "name": "stderr",
     "output_type": "stream",
     "text": [
      "ERROR:root:not enough text for language id\n",
      "Traceback (most recent call last):\n",
      "  File \"/Users/phillipholscher/opt/anaconda3/lib/python3.7/site-packages/ibm_cloud_sdk_core/base_service.py\", line 229, in send\n",
      "    response.status_code, error_message, http_response=response)\n",
      "ibm_cloud_sdk_core.api_exception.ApiException: Error: not enough text for language id, Code: 422 , X-global-transaction-id: dbbcff61-ff6c-41c1-b8ae-5a86d87c5378\n"
     ]
    },
    {
     "name": "stdout",
     "output_type": "stream",
     "text": [
      "FAIL: 2307 Disgraceful! \n",
      "2310 emotional classifications done!\n",
      "2320 emotional classifications done!\n",
      "2330 emotional classifications done!\n",
      "2340 emotional classifications done!\n",
      "2350 emotional classifications done!\n",
      "2360 emotional classifications done!\n",
      "2370 emotional classifications done!\n",
      "2380 emotional classifications done!\n"
     ]
    },
    {
     "name": "stderr",
     "output_type": "stream",
     "text": [
      "ERROR:root:not enough text for language id\n",
      "Traceback (most recent call last):\n",
      "  File \"/Users/phillipholscher/opt/anaconda3/lib/python3.7/site-packages/ibm_cloud_sdk_core/base_service.py\", line 229, in send\n",
      "    response.status_code, error_message, http_response=response)\n",
      "ibm_cloud_sdk_core.api_exception.ApiException: Error: not enough text for language id, Code: 422 , X-global-transaction-id: b298fe26-4081-487d-bf5c-c990ece3489d\n"
     ]
    },
    {
     "name": "stdout",
     "output_type": "stream",
     "text": [
      "FAIL: 2382 THANK YOU! \n",
      "2390 emotional classifications done!\n",
      "2400 emotional classifications done!\n"
     ]
    },
    {
     "name": "stderr",
     "output_type": "stream",
     "text": [
      "ERROR:root:not enough text for language id\n",
      "Traceback (most recent call last):\n",
      "  File \"/Users/phillipholscher/opt/anaconda3/lib/python3.7/site-packages/ibm_cloud_sdk_core/base_service.py\", line 229, in send\n",
      "    response.status_code, error_message, http_response=response)\n",
      "ibm_cloud_sdk_core.api_exception.ApiException: Error: not enough text for language id, Code: 422 , X-global-transaction-id: 35409f9b-c24a-496f-9379-4edf8cce5e83\n"
     ]
    },
    {
     "name": "stdout",
     "output_type": "stream",
     "text": [
      "FAIL: 2403 Thank you! \n",
      "2410 emotional classifications done!\n",
      "2420 emotional classifications done!\n",
      "2430 emotional classifications done!\n",
      "2440 emotional classifications done!\n"
     ]
    },
    {
     "name": "stderr",
     "output_type": "stream",
     "text": [
      "ERROR:root:not enough text for language id\n",
      "Traceback (most recent call last):\n",
      "  File \"/Users/phillipholscher/opt/anaconda3/lib/python3.7/site-packages/ibm_cloud_sdk_core/base_service.py\", line 229, in send\n",
      "    response.status_code, error_message, http_response=response)\n",
      "ibm_cloud_sdk_core.api_exception.ApiException: Error: not enough text for language id, Code: 422 , X-global-transaction-id: fd958f30-294f-4637-931f-637bdf441425\n"
     ]
    },
    {
     "name": "stdout",
     "output_type": "stream",
     "text": [
      "FAIL: 2442 Sad! \n",
      "2450 emotional classifications done!\n",
      "2460 emotional classifications done!\n",
      "2470 emotional classifications done!\n",
      "2480 emotional classifications done!\n",
      "2490 emotional classifications done!\n",
      "2500 emotional classifications done!\n",
      "2510 emotional classifications done!\n",
      "2520 emotional classifications done!\n",
      "2530 emotional classifications done!\n",
      "2540 emotional classifications done!\n",
      "2550 emotional classifications done!\n",
      "2560 emotional classifications done!\n",
      "2570 emotional classifications done!\n",
      "2580 emotional classifications done!\n",
      "2590 emotional classifications done!\n",
      "2600 emotional classifications done!\n",
      "2610 emotional classifications done!\n",
      "2620 emotional classifications done!\n",
      "2630 emotional classifications done!\n",
      "2640 emotional classifications done!\n",
      "2650 emotional classifications done!\n",
      "2660 emotional classifications done!\n",
      "2670 emotional classifications done!\n",
      "2680 emotional classifications done!\n",
      "2690 emotional classifications done!\n",
      "2700 emotional classifications done!\n",
      "2710 emotional classifications done!\n",
      "2720 emotional classifications done!\n",
      "2730 emotional classifications done!\n",
      "2740 emotional classifications done!\n",
      "2750 emotional classifications done!\n",
      "2760 emotional classifications done!\n",
      "2770 emotional classifications done!\n",
      "2780 emotional classifications done!\n"
     ]
    },
    {
     "name": "stderr",
     "output_type": "stream",
     "text": [
      "ERROR:root:not enough text for language id\n",
      "Traceback (most recent call last):\n",
      "  File \"/Users/phillipholscher/opt/anaconda3/lib/python3.7/site-packages/ibm_cloud_sdk_core/base_service.py\", line 229, in send\n",
      "    response.status_code, error_message, http_response=response)\n",
      "ibm_cloud_sdk_core.api_exception.ApiException: Error: not enough text for language id, Code: 422 , X-global-transaction-id: 1cf86bed-bd89-4e68-bc99-288cc4021adf\n"
     ]
    },
    {
     "name": "stdout",
     "output_type": "stream",
     "text": [
      "FAIL: 2785 Thank you! \n",
      "2790 emotional classifications done!\n",
      "2800 emotional classifications done!\n",
      "2810 emotional classifications done!\n",
      "2820 emotional classifications done!\n",
      "2830 emotional classifications done!\n",
      "2840 emotional classifications done!\n",
      "2850 emotional classifications done!\n",
      "2860 emotional classifications done!\n",
      "2870 emotional classifications done!\n",
      "2880 emotional classifications done!\n"
     ]
    },
    {
     "name": "stderr",
     "output_type": "stream",
     "text": [
      "ERROR:root:not enough text for language id\n",
      "Traceback (most recent call last):\n",
      "  File \"/Users/phillipholscher/opt/anaconda3/lib/python3.7/site-packages/ibm_cloud_sdk_core/base_service.py\", line 229, in send\n",
      "    response.status_code, error_message, http_response=response)\n",
      "ibm_cloud_sdk_core.api_exception.ApiException: Error: not enough text for language id, Code: 422 , X-global-transaction-id: 8a143749-3b4b-46d0-b655-734a2fa5cf61\n",
      "ERROR:root:not enough text for language id\n",
      "Traceback (most recent call last):\n",
      "  File \"/Users/phillipholscher/opt/anaconda3/lib/python3.7/site-packages/ibm_cloud_sdk_core/base_service.py\", line 229, in send\n",
      "    response.status_code, error_message, http_response=response)\n",
      "ibm_cloud_sdk_core.api_exception.ApiException: Error: not enough text for language id, Code: 422 , X-global-transaction-id: 31e413d1-3322-46b2-baa6-bdec8eee50f3\n"
     ]
    },
    {
     "name": "stdout",
     "output_type": "stream",
     "text": [
      "FAIL: 2885 Interesting! \n",
      "FAIL: 2886 Thank you! \n",
      "2890 emotional classifications done!\n",
      "2900 emotional classifications done!\n",
      "2910 emotional classifications done!\n",
      "2920 emotional classifications done!\n",
      "2930 emotional classifications done!\n",
      "2940 emotional classifications done!\n",
      "2950 emotional classifications done!\n"
     ]
    },
    {
     "name": "stderr",
     "output_type": "stream",
     "text": [
      "ERROR:root:not enough text for language id\n",
      "Traceback (most recent call last):\n",
      "  File \"/Users/phillipholscher/opt/anaconda3/lib/python3.7/site-packages/ibm_cloud_sdk_core/base_service.py\", line 229, in send\n",
      "    response.status_code, error_message, http_response=response)\n",
      "ibm_cloud_sdk_core.api_exception.ApiException: Error: not enough text for language id, Code: 422 , X-global-transaction-id: baa2a086-d87f-4d94-8084-2b172d685f49\n"
     ]
    },
    {
     "name": "stdout",
     "output_type": "stream",
     "text": [
      "FAIL: 2955 Thank you Ari! \n",
      "2960 emotional classifications done!\n",
      "2970 emotional classifications done!\n",
      "2980 emotional classifications done!\n"
     ]
    },
    {
     "name": "stderr",
     "output_type": "stream",
     "text": [
      "ERROR:root:not enough text for language id\n",
      "Traceback (most recent call last):\n",
      "  File \"/Users/phillipholscher/opt/anaconda3/lib/python3.7/site-packages/ibm_cloud_sdk_core/base_service.py\", line 229, in send\n",
      "    response.status_code, error_message, http_response=response)\n",
      "ibm_cloud_sdk_core.api_exception.ApiException: Error: not enough text for language id, Code: 422 , X-global-transaction-id: f578fcc5-8381-4f5b-ad33-9aec0f48f757\n"
     ]
    },
    {
     "name": "stdout",
     "output_type": "stream",
     "text": [
      "FAIL: 2982 Thanks Ari! \n",
      "2990 emotional classifications done!\n",
      "3000 emotional classifications done!\n",
      "3010 emotional classifications done!\n",
      "3020 emotional classifications done!\n",
      "3030 emotional classifications done!\n",
      "3040 emotional classifications done!\n"
     ]
    },
    {
     "name": "stderr",
     "output_type": "stream",
     "text": [
      "ERROR:root:not enough text for language id\n",
      "Traceback (most recent call last):\n",
      "  File \"/Users/phillipholscher/opt/anaconda3/lib/python3.7/site-packages/ibm_cloud_sdk_core/base_service.py\", line 229, in send\n",
      "    response.status_code, error_message, http_response=response)\n",
      "ibm_cloud_sdk_core.api_exception.ApiException: Error: not enough text for language id, Code: 422 , X-global-transaction-id: 87e68c9c-7878-4286-a5c8-923117c0a4ae\n"
     ]
    },
    {
     "name": "stdout",
     "output_type": "stream",
     "text": [
      "FAIL: 3046 Thank you \n",
      "3050 emotional classifications done!\n"
     ]
    },
    {
     "name": "stderr",
     "output_type": "stream",
     "text": [
      "ERROR:root:not enough text for language id\n",
      "Traceback (most recent call last):\n",
      "  File \"/Users/phillipholscher/opt/anaconda3/lib/python3.7/site-packages/ibm_cloud_sdk_core/base_service.py\", line 229, in send\n",
      "    response.status_code, error_message, http_response=response)\n",
      "ibm_cloud_sdk_core.api_exception.ApiException: Error: not enough text for language id, Code: 422 , X-global-transaction-id: b1aa6a47-ff6e-4167-b766-0c1a2826c576\n"
     ]
    },
    {
     "name": "stdout",
     "output_type": "stream",
     "text": [
      "FAIL: 3056 Thank you! \n",
      "3060 emotional classifications done!\n"
     ]
    },
    {
     "name": "stderr",
     "output_type": "stream",
     "text": [
      "ERROR:root:not enough text for language id\n",
      "Traceback (most recent call last):\n",
      "  File \"/Users/phillipholscher/opt/anaconda3/lib/python3.7/site-packages/ibm_cloud_sdk_core/base_service.py\", line 229, in send\n",
      "    response.status_code, error_message, http_response=response)\n",
      "ibm_cloud_sdk_core.api_exception.ApiException: Error: not enough text for language id, Code: 422 , X-global-transaction-id: f05c0110-de8c-4972-a2cc-a26695f9f64c\n"
     ]
    },
    {
     "name": "stdout",
     "output_type": "stream",
     "text": [
      "FAIL: 3061 BORING!\n",
      "3070 emotional classifications done!\n",
      "3080 emotional classifications done!\n",
      "3090 emotional classifications done!\n",
      "3100 emotional classifications done!\n",
      "3110 emotional classifications done!\n",
      "3120 emotional classifications done!\n",
      "3130 emotional classifications done!\n"
     ]
    },
    {
     "name": "stderr",
     "output_type": "stream",
     "text": [
      "ERROR:root:not enough text for language id\n",
      "Traceback (most recent call last):\n",
      "  File \"/Users/phillipholscher/opt/anaconda3/lib/python3.7/site-packages/ibm_cloud_sdk_core/base_service.py\", line 229, in send\n",
      "    response.status_code, error_message, http_response=response)\n",
      "ibm_cloud_sdk_core.api_exception.ApiException: Error: not enough text for language id, Code: 422 , X-global-transaction-id: 1bb866d9-bf2d-4947-ab43-e6b401779b93\n"
     ]
    },
    {
     "name": "stdout",
     "output_type": "stream",
     "text": [
      "FAIL: 3134 THANK YOU! \n",
      "3140 emotional classifications done!\n",
      "3150 emotional classifications done!\n",
      "3160 emotional classifications done!\n",
      "3170 emotional classifications done!\n",
      "3180 emotional classifications done!\n",
      "3190 emotional classifications done!\n",
      "3200 emotional classifications done!\n",
      "3210 emotional classifications done!\n",
      "3220 emotional classifications done!\n"
     ]
    },
    {
     "name": "stderr",
     "output_type": "stream",
     "text": [
      "ERROR:root:not enough text for language id\n",
      "Traceback (most recent call last):\n",
      "  File \"/Users/phillipholscher/opt/anaconda3/lib/python3.7/site-packages/ibm_cloud_sdk_core/base_service.py\", line 229, in send\n",
      "    response.status_code, error_message, http_response=response)\n",
      "ibm_cloud_sdk_core.api_exception.ApiException: Error: not enough text for language id, Code: 422 , X-global-transaction-id: b12ac381-384d-4b45-b720-97c95f7464f8\n"
     ]
    },
    {
     "name": "stdout",
     "output_type": "stream",
     "text": [
      "FAIL: 3225 Thank you! \n",
      "3230 emotional classifications done!\n",
      "3240 emotional classifications done!\n",
      "3250 emotional classifications done!\n",
      "3260 emotional classifications done!\n",
      "3270 emotional classifications done!\n",
      "3280 emotional classifications done!\n",
      "3290 emotional classifications done!\n",
      "3300 emotional classifications done!\n",
      "3310 emotional classifications done!\n",
      "3320 emotional classifications done!\n"
     ]
    },
    {
     "name": "stderr",
     "output_type": "stream",
     "text": [
      "ERROR:root:not enough text for language id\n",
      "Traceback (most recent call last):\n",
      "  File \"/Users/phillipholscher/opt/anaconda3/lib/python3.7/site-packages/ibm_cloud_sdk_core/base_service.py\", line 229, in send\n",
      "    response.status_code, error_message, http_response=response)\n",
      "ibm_cloud_sdk_core.api_exception.ApiException: Error: not enough text for language id, Code: 422 , X-global-transaction-id: 2ae5203f-375c-4052-8751-b1aa53701af0\n"
     ]
    },
    {
     "name": "stdout",
     "output_type": "stream",
     "text": [
      "FAIL: 3321 Thank you! \n",
      "3330 emotional classifications done!\n",
      "3340 emotional classifications done!\n",
      "3350 emotional classifications done!\n",
      "3360 emotional classifications done!\n",
      "3370 emotional classifications done!\n",
      "3380 emotional classifications done!\n",
      "3390 emotional classifications done!\n",
      "3400 emotional classifications done!\n",
      "3410 emotional classifications done!\n",
      "3420 emotional classifications done!\n",
      "3430 emotional classifications done!\n",
      "3440 emotional classifications done!\n",
      "3450 emotional classifications done!\n",
      "3460 emotional classifications done!\n",
      "3470 emotional classifications done!\n",
      "3480 emotional classifications done!\n",
      "3490 emotional classifications done!\n",
      "3500 emotional classifications done!\n",
      "3510 emotional classifications done!\n",
      "3520 emotional classifications done!\n",
      "3530 emotional classifications done!\n",
      "3540 emotional classifications done!\n",
      "3550 emotional classifications done!\n",
      "3560 emotional classifications done!\n",
      "3570 emotional classifications done!\n",
      "3580 emotional classifications done!\n",
      "3590 emotional classifications done!\n"
     ]
    },
    {
     "name": "stderr",
     "output_type": "stream",
     "text": [
      "ERROR:root:not enough text for language id\n",
      "Traceback (most recent call last):\n",
      "  File \"/Users/phillipholscher/opt/anaconda3/lib/python3.7/site-packages/ibm_cloud_sdk_core/base_service.py\", line 229, in send\n",
      "    response.status_code, error_message, http_response=response)\n",
      "ibm_cloud_sdk_core.api_exception.ApiException: Error: not enough text for language id, Code: 422 , X-global-transaction-id: 3fb9d9da-b7af-45e3-9c12-f0026c861068\n"
     ]
    },
    {
     "name": "stdout",
     "output_type": "stream",
     "text": [
      "FAIL: 3592 Really sad! \n",
      "3600 emotional classifications done!\n",
      "3610 emotional classifications done!\n",
      "3620 emotional classifications done!\n",
      "3630 emotional classifications done!\n",
      "3640 emotional classifications done!\n",
      "3650 emotional classifications done!\n",
      "3660 emotional classifications done!\n",
      "3670 emotional classifications done!\n",
      "3680 emotional classifications done!\n",
      "3690 emotional classifications done!\n",
      "3700 emotional classifications done!\n",
      "3710 emotional classifications done!\n",
      "3720 emotional classifications done!\n",
      "3730 emotional classifications done!\n",
      "3740 emotional classifications done!\n",
      "3750 emotional classifications done!\n",
      "3760 emotional classifications done!\n"
     ]
    },
    {
     "name": "stderr",
     "output_type": "stream",
     "text": [
      "ERROR:root:not enough text for language id\n",
      "Traceback (most recent call last):\n",
      "  File \"/Users/phillipholscher/opt/anaconda3/lib/python3.7/site-packages/ibm_cloud_sdk_core/base_service.py\", line 229, in send\n",
      "    response.status_code, error_message, http_response=response)\n",
      "ibm_cloud_sdk_core.api_exception.ApiException: Error: not enough text for language id, Code: 422 , X-global-transaction-id: 1970ebb5-e4c0-4571-b50a-926445a4bca1\n"
     ]
    },
    {
     "name": "stdout",
     "output_type": "stream",
     "text": [
      "FAIL: 3763 Thank you! \n",
      "3770 emotional classifications done!\n",
      "3780 emotional classifications done!\n",
      "3790 emotional classifications done!\n",
      "3800 emotional classifications done!\n",
      "3810 emotional classifications done!\n",
      "3820 emotional classifications done!\n",
      "3830 emotional classifications done!\n",
      "3840 emotional classifications done!\n",
      "3850 emotional classifications done!\n",
      "3860 emotional classifications done!\n",
      "3870 emotional classifications done!\n",
      "3880 emotional classifications done!\n",
      "3890 emotional classifications done!\n",
      "3900 emotional classifications done!\n",
      "3910 emotional classifications done!\n",
      "3920 emotional classifications done!\n",
      "3930 emotional classifications done!\n",
      "3940 emotional classifications done!\n",
      "3950 emotional classifications done!\n",
      "3960 emotional classifications done!\n",
      "3970 emotional classifications done!\n",
      "3980 emotional classifications done!\n",
      "3990 emotional classifications done!\n",
      "4000 emotional classifications done!\n",
      "4010 emotional classifications done!\n",
      "4020 emotional classifications done!\n",
      "4030 emotional classifications done!\n",
      "4040 emotional classifications done!\n",
      "4050 emotional classifications done!\n",
      "4060 emotional classifications done!\n",
      "4070 emotional classifications done!\n",
      "4080 emotional classifications done!\n",
      "4090 emotional classifications done!\n",
      "4100 emotional classifications done!\n"
     ]
    },
    {
     "name": "stderr",
     "output_type": "stream",
     "text": [
      "ERROR:root:not enough text for language id\n",
      "Traceback (most recent call last):\n",
      "  File \"/Users/phillipholscher/opt/anaconda3/lib/python3.7/site-packages/ibm_cloud_sdk_core/base_service.py\", line 229, in send\n",
      "    response.status_code, error_message, http_response=response)\n",
      "ibm_cloud_sdk_core.api_exception.ApiException: Error: not enough text for language id, Code: 422 , X-global-transaction-id: 8b2ffbb1-5496-43a3-b36f-f65a9a847e08\n"
     ]
    },
    {
     "name": "stdout",
     "output_type": "stream",
     "text": [
      "FAIL: 4102 A total loser! \n",
      "4110 emotional classifications done!\n",
      "4120 emotional classifications done!\n",
      "4130 emotional classifications done!\n",
      "4140 emotional classifications done!\n"
     ]
    },
    {
     "name": "stderr",
     "output_type": "stream",
     "text": [
      "ERROR:root:not enough text for language id\n",
      "Traceback (most recent call last):\n",
      "  File \"/Users/phillipholscher/opt/anaconda3/lib/python3.7/site-packages/ibm_cloud_sdk_core/base_service.py\", line 229, in send\n",
      "    response.status_code, error_message, http_response=response)\n",
      "ibm_cloud_sdk_core.api_exception.ApiException: Error: not enough text for language id, Code: 422 , X-global-transaction-id: 3c491fbe-465f-4a9e-95ca-d377b00d9068\n"
     ]
    },
    {
     "name": "stdout",
     "output_type": "stream",
     "text": [
      "FAIL: 4148 VETO!\n",
      "4150 emotional classifications done!\n",
      "4160 emotional classifications done!\n",
      "4170 emotional classifications done!\n",
      "4180 emotional classifications done!\n",
      "4190 emotional classifications done!\n",
      "4200 emotional classifications done!\n",
      "4210 emotional classifications done!\n",
      "4220 emotional classifications done!\n",
      "4230 emotional classifications done!\n",
      "4240 emotional classifications done!\n",
      "4250 emotional classifications done!\n",
      "4260 emotional classifications done!\n",
      "4270 emotional classifications done!\n",
      "4280 emotional classifications done!\n",
      "4290 emotional classifications done!\n",
      "4300 emotional classifications done!\n",
      "4310 emotional classifications done!\n",
      "4320 emotional classifications done!\n",
      "4330 emotional classifications done!\n",
      "4340 emotional classifications done!\n"
     ]
    },
    {
     "name": "stderr",
     "output_type": "stream",
     "text": [
      "ERROR:root:not enough text for language id\n",
      "Traceback (most recent call last):\n",
      "  File \"/Users/phillipholscher/opt/anaconda3/lib/python3.7/site-packages/ibm_cloud_sdk_core/base_service.py\", line 229, in send\n",
      "    response.status_code, error_message, http_response=response)\n",
      "ibm_cloud_sdk_core.api_exception.ApiException: Error: not enough text for language id, Code: 422 , X-global-transaction-id: 70c4a298-f82c-4fa2-a636-89f3507815a0\n"
     ]
    },
    {
     "name": "stdout",
     "output_type": "stream",
     "text": [
      "FAIL: 4345 Amazing! \n",
      "4350 emotional classifications done!\n",
      "4360 emotional classifications done!\n",
      "4370 emotional classifications done!\n",
      "4380 emotional classifications done!\n"
     ]
    },
    {
     "name": "stderr",
     "output_type": "stream",
     "text": [
      "ERROR:root:unsupported text language: fa\n",
      "Traceback (most recent call last):\n",
      "  File \"/Users/phillipholscher/opt/anaconda3/lib/python3.7/site-packages/ibm_cloud_sdk_core/base_service.py\", line 229, in send\n",
      "    response.status_code, error_message, http_response=response)\n",
      "ibm_cloud_sdk_core.api_exception.ApiException: Error: unsupported text language: fa, Code: 400 , X-global-transaction-id: 6576cb20-84bd-4123-90fa-ce77e1d7f9fc\n"
     ]
    },
    {
     "name": "stdout",
     "output_type": "stream",
     "text": [
      "FAIL: 4387 ۴۰ سال فساد. ۴۰ سال سرکوب. ۴۰ سال ترور. رژیم ایران فقط موجب \n",
      "4390 emotional classifications done!\n",
      "4400 emotional classifications done!\n",
      "4410 emotional classifications done!\n",
      "4420 emotional classifications done!\n",
      "4430 emotional classifications done!\n",
      "4440 emotional classifications done!\n",
      "4450 emotional classifications done!\n",
      "4460 emotional classifications done!\n",
      "4470 emotional classifications done!\n",
      "4480 emotional classifications done!\n",
      "4490 emotional classifications done!\n",
      "4500 emotional classifications done!\n",
      "4510 emotional classifications done!\n",
      "4520 emotional classifications done!\n",
      "4530 emotional classifications done!\n",
      "4540 emotional classifications done!\n",
      "4550 emotional classifications done!\n",
      "4560 emotional classifications done!\n",
      "4570 emotional classifications done!\n"
     ]
    },
    {
     "name": "stderr",
     "output_type": "stream",
     "text": [
      "ERROR:root:not enough text for language id\n",
      "Traceback (most recent call last):\n",
      "  File \"/Users/phillipholscher/opt/anaconda3/lib/python3.7/site-packages/ibm_cloud_sdk_core/base_service.py\", line 229, in send\n",
      "    response.status_code, error_message, http_response=response)\n",
      "ibm_cloud_sdk_core.api_exception.ApiException: Error: not enough text for language id, Code: 422 , X-global-transaction-id: b308a188-9134-4270-af9d-34420adcb34f\n"
     ]
    },
    {
     "name": "stdout",
     "output_type": "stream",
     "text": [
      "FAIL: 4573 AMERICA FIRST!\n",
      "4580 emotional classifications done!\n",
      "4590 emotional classifications done!\n",
      "4600 emotional classifications done!\n",
      "4610 emotional classifications done!\n",
      "4620 emotional classifications done!\n",
      "4630 emotional classifications done!\n",
      "4640 emotional classifications done!\n"
     ]
    },
    {
     "name": "stderr",
     "output_type": "stream",
     "text": [
      "ERROR:root:not enough text for language id\n",
      "Traceback (most recent call last):\n",
      "  File \"/Users/phillipholscher/opt/anaconda3/lib/python3.7/site-packages/ibm_cloud_sdk_core/base_service.py\", line 229, in send\n",
      "    response.status_code, error_message, http_response=response)\n",
      "ibm_cloud_sdk_core.api_exception.ApiException: Error: not enough text for language id, Code: 422 , X-global-transaction-id: e1989713-00dd-4bad-ad29-17aa5adc06ad\n"
     ]
    },
    {
     "name": "stdout",
     "output_type": "stream",
     "text": [
      "FAIL: 4642 Dear Diary... \n",
      "4650 emotional classifications done!\n",
      "4660 emotional classifications done!\n",
      "4670 emotional classifications done!\n",
      "4680 emotional classifications done!\n",
      "4690 emotional classifications done!\n",
      "4700 emotional classifications done!\n",
      "4710 emotional classifications done!\n",
      "4720 emotional classifications done!\n",
      "4730 emotional classifications done!\n",
      "4740 emotional classifications done!\n",
      "4750 emotional classifications done!\n",
      "4760 emotional classifications done!\n",
      "4770 emotional classifications done!\n",
      "4780 emotional classifications done!\n",
      "4790 emotional classifications done!\n",
      "4800 emotional classifications done!\n",
      "4810 emotional classifications done!\n",
      "4820 emotional classifications done!\n",
      "4830 emotional classifications done!\n",
      "4840 emotional classifications done!\n",
      "4850 emotional classifications done!\n",
      "4860 emotional classifications done!\n",
      "4870 emotional classifications done!\n",
      "4880 emotional classifications done!\n",
      "4890 emotional classifications done!\n",
      "4900 emotional classifications done!\n",
      "4910 emotional classifications done!\n",
      "4920 emotional classifications done!\n",
      "4930 emotional classifications done!\n",
      "4940 emotional classifications done!\n",
      "4950 emotional classifications done!\n",
      "4960 emotional classifications done!\n",
      "4970 emotional classifications done!\n",
      "4980 emotional classifications done!\n",
      "4990 emotional classifications done!\n",
      "5000 emotional classifications done!\n",
      "5010 emotional classifications done!\n",
      "5020 emotional classifications done!\n",
      "5030 emotional classifications done!\n",
      "5040 emotional classifications done!\n",
      "5050 emotional classifications done!\n",
      "5060 emotional classifications done!\n"
     ]
    },
    {
     "name": "stderr",
     "output_type": "stream",
     "text": [
      "ERROR:root:not enough text for language id\n",
      "Traceback (most recent call last):\n",
      "  File \"/Users/phillipholscher/opt/anaconda3/lib/python3.7/site-packages/ibm_cloud_sdk_core/base_service.py\", line 229, in send\n",
      "    response.status_code, error_message, http_response=response)\n",
      "ibm_cloud_sdk_core.api_exception.ApiException: Error: not enough text for language id, Code: 422 , X-global-transaction-id: 8862f058-93f8-40ec-a902-7da0951dd7c4\n"
     ]
    },
    {
     "name": "stdout",
     "output_type": "stream",
     "text": [
      "5070 emotional classifications done!\n",
      "FAIL: 5070 AMERICA FIRST!\n",
      "5080 emotional classifications done!\n",
      "5090 emotional classifications done!\n",
      "5100 emotional classifications done!\n",
      "5110 emotional classifications done!\n",
      "5120 emotional classifications done!\n",
      "5130 emotional classifications done!\n",
      "5140 emotional classifications done!\n",
      "5150 emotional classifications done!\n",
      "5160 emotional classifications done!\n",
      "5170 emotional classifications done!\n",
      "5180 emotional classifications done!\n",
      "5190 emotional classifications done!\n",
      "5200 emotional classifications done!\n",
      "5210 emotional classifications done!\n",
      "5220 emotional classifications done!\n"
     ]
    },
    {
     "name": "stderr",
     "output_type": "stream",
     "text": [
      "ERROR:root:not enough text for language id\n",
      "Traceback (most recent call last):\n",
      "  File \"/Users/phillipholscher/opt/anaconda3/lib/python3.7/site-packages/ibm_cloud_sdk_core/base_service.py\", line 229, in send\n",
      "    response.status_code, error_message, http_response=response)\n",
      "ibm_cloud_sdk_core.api_exception.ApiException: Error: not enough text for language id, Code: 422 , X-global-transaction-id: 949e6c6b-e978-4a64-b457-5a737d3020ba\n"
     ]
    },
    {
     "name": "stdout",
     "output_type": "stream",
     "text": [
      "FAIL: 5225 Massive \n",
      "5230 emotional classifications done!\n"
     ]
    },
    {
     "name": "stderr",
     "output_type": "stream",
     "text": [
      "ERROR:root:not enough text for language id\n",
      "Traceback (most recent call last):\n",
      "  File \"/Users/phillipholscher/opt/anaconda3/lib/python3.7/site-packages/ibm_cloud_sdk_core/base_service.py\", line 229, in send\n",
      "    response.status_code, error_message, http_response=response)\n",
      "ibm_cloud_sdk_core.api_exception.ApiException: Error: not enough text for language id, Code: 422 , X-global-transaction-id: 10ad5982-b542-414f-8419-f64179f40947\n"
     ]
    },
    {
     "name": "stdout",
     "output_type": "stream",
     "text": [
      "FAIL: 5232 Fantastic \n",
      "5240 emotional classifications done!\n",
      "5250 emotional classifications done!\n",
      "5260 emotional classifications done!\n",
      "5270 emotional classifications done!\n"
     ]
    },
    {
     "name": "stderr",
     "output_type": "stream",
     "text": [
      "ERROR:root:not enough text for language id\n",
      "Traceback (most recent call last):\n",
      "  File \"/Users/phillipholscher/opt/anaconda3/lib/python3.7/site-packages/ibm_cloud_sdk_core/base_service.py\", line 229, in send\n",
      "    response.status_code, error_message, http_response=response)\n",
      "ibm_cloud_sdk_core.api_exception.ApiException: Error: not enough text for language id, Code: 422 , X-global-transaction-id: 059fc92b-62b7-46c9-960f-1ea7e4cb3494\n"
     ]
    },
    {
     "name": "stdout",
     "output_type": "stream",
     "text": [
      "FAIL: 5273 So Revealing! \n",
      "5280 emotional classifications done!\n",
      "5290 emotional classifications done!\n",
      "5300 emotional classifications done!\n",
      "5310 emotional classifications done!\n",
      "5320 emotional classifications done!\n",
      "5330 emotional classifications done!\n",
      "5340 emotional classifications done!\n",
      "5350 emotional classifications done!\n",
      "5360 emotional classifications done!\n",
      "5370 emotional classifications done!\n",
      "5380 emotional classifications done!\n",
      "5390 emotional classifications done!\n",
      "5400 emotional classifications done!\n",
      "5410 emotional classifications done!\n",
      "5420 emotional classifications done!\n",
      "5430 emotional classifications done!\n",
      "5440 emotional classifications done!\n",
      "5450 emotional classifications done!\n"
     ]
    },
    {
     "name": "stderr",
     "output_type": "stream",
     "text": [
      "ERROR:root:not enough text for language id\n",
      "Traceback (most recent call last):\n",
      "  File \"/Users/phillipholscher/opt/anaconda3/lib/python3.7/site-packages/ibm_cloud_sdk_core/base_service.py\", line 229, in send\n",
      "    response.status_code, error_message, http_response=response)\n",
      "ibm_cloud_sdk_core.api_exception.ApiException: Error: not enough text for language id, Code: 422 , X-global-transaction-id: 15f7d017-1210-476b-bebd-585e5696ee8e\n"
     ]
    },
    {
     "name": "stdout",
     "output_type": "stream",
     "text": [
      "FAIL: 5458 Happy \n",
      "5460 emotional classifications done!\n",
      "5470 emotional classifications done!\n",
      "5480 emotional classifications done!\n",
      "5490 emotional classifications done!\n",
      "5500 emotional classifications done!\n",
      "5510 emotional classifications done!\n",
      "5520 emotional classifications done!\n",
      "5530 emotional classifications done!\n",
      "5540 emotional classifications done!\n",
      "5550 emotional classifications done!\n",
      "5560 emotional classifications done!\n",
      "5570 emotional classifications done!\n",
      "5580 emotional classifications done!\n",
      "5590 emotional classifications done!\n",
      "5600 emotional classifications done!\n",
      "5610 emotional classifications done!\n",
      "5620 emotional classifications done!\n",
      "5630 emotional classifications done!\n",
      "5640 emotional classifications done!\n",
      "5650 emotional classifications done!\n",
      "5660 emotional classifications done!\n",
      "5670 emotional classifications done!\n",
      "5680 emotional classifications done!\n",
      "5690 emotional classifications done!\n",
      "5700 emotional classifications done!\n",
      "5710 emotional classifications done!\n",
      "5720 emotional classifications done!\n",
      "5730 emotional classifications done!\n",
      "5740 emotional classifications done!\n",
      "5750 emotional classifications done!\n"
     ]
    },
    {
     "name": "stderr",
     "output_type": "stream",
     "text": [
      "ERROR:root:not enough text for language id\n",
      "Traceback (most recent call last):\n",
      "  File \"/Users/phillipholscher/opt/anaconda3/lib/python3.7/site-packages/ibm_cloud_sdk_core/base_service.py\", line 229, in send\n",
      "    response.status_code, error_message, http_response=response)\n",
      "ibm_cloud_sdk_core.api_exception.ApiException: Error: not enough text for language id, Code: 422 , X-global-transaction-id: d41032eb-ce30-4209-8945-8a978a6eb21e\n"
     ]
    },
    {
     "name": "stdout",
     "output_type": "stream",
     "text": [
      "FAIL: 5751 TREASON?\n",
      "5760 emotional classifications done!\n"
     ]
    },
    {
     "name": "stderr",
     "output_type": "stream",
     "text": [
      "ERROR:root:unsupported text language: la\n",
      "Traceback (most recent call last):\n",
      "  File \"/Users/phillipholscher/opt/anaconda3/lib/python3.7/site-packages/ibm_cloud_sdk_core/base_service.py\", line 229, in send\n",
      "    response.status_code, error_message, http_response=response)\n",
      "ibm_cloud_sdk_core.api_exception.ApiException: Error: unsupported text language: la, Code: 400 , X-global-transaction-id: 8e94286a-f768-4960-ba18-3350704deaa6\n"
     ]
    },
    {
     "name": "stdout",
     "output_type": "stream",
     "text": [
      "FAIL: 5761 “Secretary Mattis Nukes Woodward Allegations” \n",
      "5770 emotional classifications done!\n",
      "5780 emotional classifications done!\n",
      "5790 emotional classifications done!\n",
      "5800 emotional classifications done!\n",
      "5810 emotional classifications done!\n",
      "5820 emotional classifications done!\n",
      "5830 emotional classifications done!\n",
      "5840 emotional classifications done!\n",
      "5850 emotional classifications done!\n",
      "5860 emotional classifications done!\n",
      "5870 emotional classifications done!\n"
     ]
    },
    {
     "name": "stderr",
     "output_type": "stream",
     "text": [
      "ERROR:root:not enough text for language id\n",
      "Traceback (most recent call last):\n",
      "  File \"/Users/phillipholscher/opt/anaconda3/lib/python3.7/site-packages/ibm_cloud_sdk_core/base_service.py\", line 229, in send\n",
      "    response.status_code, error_message, http_response=response)\n",
      "ibm_cloud_sdk_core.api_exception.ApiException: Error: not enough text for language id, Code: 422 , X-global-transaction-id: 188fad89-d248-4430-a3b1-7a07e98000e1\n"
     ]
    },
    {
     "name": "stdout",
     "output_type": "stream",
     "text": [
      "5880 emotional classifications done!\n",
      "FAIL: 5880 Great \n",
      "5890 emotional classifications done!\n",
      "5900 emotional classifications done!\n",
      "5910 emotional classifications done!\n",
      "5920 emotional classifications done!\n",
      "5930 emotional classifications done!\n",
      "5940 emotional classifications done!\n",
      "5950 emotional classifications done!\n",
      "5960 emotional classifications done!\n",
      "5970 emotional classifications done!\n",
      "5980 emotional classifications done!\n",
      "5990 emotional classifications done!\n",
      "6000 emotional classifications done!\n",
      "6010 emotional classifications done!\n",
      "6020 emotional classifications done!\n",
      "6030 emotional classifications done!\n",
      "6040 emotional classifications done!\n"
     ]
    },
    {
     "name": "stderr",
     "output_type": "stream",
     "text": [
      "ERROR:root:not enough text for language id\n",
      "Traceback (most recent call last):\n",
      "  File \"/Users/phillipholscher/opt/anaconda3/lib/python3.7/site-packages/ibm_cloud_sdk_core/base_service.py\", line 229, in send\n",
      "    response.status_code, error_message, http_response=response)\n",
      "ibm_cloud_sdk_core.api_exception.ApiException: Error: not enough text for language id, Code: 422 , X-global-transaction-id: fb3260b0-e1dd-4aea-a54f-d2e8b68e9861\n"
     ]
    },
    {
     "name": "stdout",
     "output_type": "stream",
     "text": [
      "FAIL: 6049 RED WAVE!\n",
      "6050 emotional classifications done!\n"
     ]
    },
    {
     "name": "stderr",
     "output_type": "stream",
     "text": [
      "ERROR:root:not enough text for language id\n",
      "Traceback (most recent call last):\n",
      "  File \"/Users/phillipholscher/opt/anaconda3/lib/python3.7/site-packages/ibm_cloud_sdk_core/base_service.py\", line 229, in send\n",
      "    response.status_code, error_message, http_response=response)\n",
      "ibm_cloud_sdk_core.api_exception.ApiException: Error: not enough text for language id, Code: 422 , X-global-transaction-id: ee945f7f-c4d0-4418-8224-38c85ed9341e\n"
     ]
    },
    {
     "name": "stdout",
     "output_type": "stream",
     "text": [
      "FAIL: 6053 5 for 5!\n",
      "6060 emotional classifications done!\n",
      "6070 emotional classifications done!\n",
      "6080 emotional classifications done!\n",
      "6090 emotional classifications done!\n"
     ]
    },
    {
     "name": "stderr",
     "output_type": "stream",
     "text": [
      "ERROR:root:unsupported text language: ca\n",
      "Traceback (most recent call last):\n",
      "  File \"/Users/phillipholscher/opt/anaconda3/lib/python3.7/site-packages/ibm_cloud_sdk_core/base_service.py\", line 229, in send\n",
      "    response.status_code, error_message, http_response=response)\n",
      "ibm_cloud_sdk_core.api_exception.ApiException: Error: unsupported text language: ca, Code: 400 , X-global-transaction-id: bde98aa9-4de2-48c1-b78e-c519414485be\n"
     ]
    },
    {
     "name": "stdout",
     "output_type": "stream",
     "text": [
      "FAIL: 6099 Congratulations Marsha! \n",
      "6100 emotional classifications done!\n",
      "6110 emotional classifications done!\n",
      "6120 emotional classifications done!\n",
      "6130 emotional classifications done!\n",
      "6140 emotional classifications done!\n",
      "6150 emotional classifications done!\n",
      "6160 emotional classifications done!\n",
      "6170 emotional classifications done!\n",
      "6180 emotional classifications done!\n"
     ]
    },
    {
     "name": "stderr",
     "output_type": "stream",
     "text": [
      "ERROR:root:not enough text for language id\n",
      "Traceback (most recent call last):\n",
      "  File \"/Users/phillipholscher/opt/anaconda3/lib/python3.7/site-packages/ibm_cloud_sdk_core/base_service.py\", line 229, in send\n",
      "    response.status_code, error_message, http_response=response)\n",
      "ibm_cloud_sdk_core.api_exception.ApiException: Error: not enough text for language id, Code: 422 , X-global-transaction-id: 50b76243-3b4f-4fa0-993c-ed177ca2dc50\n"
     ]
    },
    {
     "name": "stdout",
     "output_type": "stream",
     "text": [
      "FAIL: 6184 PROMISES KEPT! \n",
      "6190 emotional classifications done!\n",
      "6200 emotional classifications done!\n",
      "6210 emotional classifications done!\n",
      "6220 emotional classifications done!\n",
      "6230 emotional classifications done!\n",
      "6240 emotional classifications done!\n",
      "6250 emotional classifications done!\n",
      "6260 emotional classifications done!\n",
      "6270 emotional classifications done!\n",
      "6280 emotional classifications done!\n",
      "6290 emotional classifications done!\n",
      "6300 emotional classifications done!\n"
     ]
    },
    {
     "name": "stderr",
     "output_type": "stream",
     "text": [
      "ERROR:root:not enough text for language id\n",
      "Traceback (most recent call last):\n",
      "  File \"/Users/phillipholscher/opt/anaconda3/lib/python3.7/site-packages/ibm_cloud_sdk_core/base_service.py\", line 229, in send\n",
      "    response.status_code, error_message, http_response=response)\n",
      "ibm_cloud_sdk_core.api_exception.ApiException: Error: not enough text for language id, Code: 422 , X-global-transaction-id: 4cb41ce2-6c0d-4f17-a50e-3a4fd6395718\n"
     ]
    },
    {
     "name": "stdout",
     "output_type": "stream",
     "text": [
      "FAIL: 6307 Thank you \n",
      "6310 emotional classifications done!\n",
      "6320 emotional classifications done!\n",
      "6330 emotional classifications done!\n",
      "6340 emotional classifications done!\n",
      "6350 emotional classifications done!\n",
      "6360 emotional classifications done!\n",
      "6370 emotional classifications done!\n",
      "6380 emotional classifications done!\n",
      "6390 emotional classifications done!\n",
      "6400 emotional classifications done!\n",
      "6410 emotional classifications done!\n",
      "6420 emotional classifications done!\n",
      "6430 emotional classifications done!\n",
      "6440 emotional classifications done!\n",
      "6450 emotional classifications done!\n",
      "6460 emotional classifications done!\n",
      "6470 emotional classifications done!\n"
     ]
    },
    {
     "name": "stderr",
     "output_type": "stream",
     "text": [
      "ERROR:root:upstream connect error or disconnect/reset before headers. reset reason: connection termination\n",
      "Traceback (most recent call last):\n",
      "  File \"/Users/phillipholscher/opt/anaconda3/lib/python3.7/site-packages/ibm_cloud_sdk_core/base_service.py\", line 229, in send\n",
      "    response.status_code, error_message, http_response=response)\n",
      "ibm_cloud_sdk_core.api_exception.ApiException: Error: upstream connect error or disconnect/reset before headers. reset reason: connection termination, Code: 503 , X-global-transaction-id: a9c1ddf0-428f-4a78-adf1-67ad198d95ad\n"
     ]
    },
    {
     "name": "stdout",
     "output_type": "stream",
     "text": [
      "FAIL: 6479 Elect more Republicans in November and we will pass the finest, fairest and most comprehensive Immigration Bills anywhere in the world. Right now we have the dumbest and the worst. Dems are doing nothing but Obstructing. Remember their motto, RESIST! Ours is PRODUCE!\n",
      "6480 emotional classifications done!\n",
      "6490 emotional classifications done!\n",
      "6500 emotional classifications done!\n",
      "6510 emotional classifications done!\n",
      "6520 emotional classifications done!\n",
      "6530 emotional classifications done!\n",
      "6540 emotional classifications done!\n",
      "6550 emotional classifications done!\n"
     ]
    },
    {
     "name": "stderr",
     "output_type": "stream",
     "text": [
      "ERROR:root:not enough text for language id\n",
      "Traceback (most recent call last):\n",
      "  File \"/Users/phillipholscher/opt/anaconda3/lib/python3.7/site-packages/ibm_cloud_sdk_core/base_service.py\", line 229, in send\n",
      "    response.status_code, error_message, http_response=response)\n",
      "ibm_cloud_sdk_core.api_exception.ApiException: Error: not enough text for language id, Code: 422 , X-global-transaction-id: 3cd4af34-e688-4703-a0e0-722590fbf5b9\n"
     ]
    },
    {
     "name": "stdout",
     "output_type": "stream",
     "text": [
      "FAIL: 6557 Happy \n",
      "6560 emotional classifications done!\n",
      "6570 emotional classifications done!\n",
      "6580 emotional classifications done!\n",
      "6590 emotional classifications done!\n",
      "6600 emotional classifications done!\n",
      "6610 emotional classifications done!\n",
      "6620 emotional classifications done!\n",
      "6630 emotional classifications done!\n",
      "6640 emotional classifications done!\n",
      "6650 emotional classifications done!\n",
      "6660 emotional classifications done!\n",
      "6670 emotional classifications done!\n",
      "6680 emotional classifications done!\n",
      "6690 emotional classifications done!\n"
     ]
    },
    {
     "name": "stderr",
     "output_type": "stream",
     "text": [
      "ERROR:root:not enough text for language id\n",
      "Traceback (most recent call last):\n",
      "  File \"/Users/phillipholscher/opt/anaconda3/lib/python3.7/site-packages/ibm_cloud_sdk_core/base_service.py\", line 229, in send\n",
      "    response.status_code, error_message, http_response=response)\n",
      "ibm_cloud_sdk_core.api_exception.ApiException: Error: not enough text for language id, Code: 422 , X-global-transaction-id: 29ef4c36-6d46-49f0-bffb-f9576b73eefa\n"
     ]
    },
    {
     "name": "stdout",
     "output_type": "stream",
     "text": [
      "FAIL: 6695 FAIR TRADE!\n",
      "6700 emotional classifications done!\n"
     ]
    },
    {
     "name": "stderr",
     "output_type": "stream",
     "text": [
      "ERROR:root:not enough text for language id\n",
      "Traceback (most recent call last):\n",
      "  File \"/Users/phillipholscher/opt/anaconda3/lib/python3.7/site-packages/ibm_cloud_sdk_core/base_service.py\", line 229, in send\n",
      "    response.status_code, error_message, http_response=response)\n",
      "ibm_cloud_sdk_core.api_exception.ApiException: Error: not enough text for language id, Code: 422 , X-global-transaction-id: fb06f9bc-83d4-433c-94ef-5ee2e1c302fe\n"
     ]
    },
    {
     "name": "stdout",
     "output_type": "stream",
     "text": [
      "FAIL: 6708 With the \n",
      "6710 emotional classifications done!\n",
      "6720 emotional classifications done!\n",
      "6730 emotional classifications done!\n",
      "6740 emotional classifications done!\n",
      "6750 emotional classifications done!\n",
      "6760 emotional classifications done!\n",
      "6770 emotional classifications done!\n",
      "6780 emotional classifications done!\n",
      "6790 emotional classifications done!\n",
      "6800 emotional classifications done!\n"
     ]
    },
    {
     "name": "stderr",
     "output_type": "stream",
     "text": [
      "ERROR:root:not enough text for language id\n",
      "Traceback (most recent call last):\n",
      "  File \"/Users/phillipholscher/opt/anaconda3/lib/python3.7/site-packages/ibm_cloud_sdk_core/base_service.py\", line 229, in send\n",
      "    response.status_code, error_message, http_response=response)\n",
      "ibm_cloud_sdk_core.api_exception.ApiException: Error: not enough text for language id, Code: 422 , X-global-transaction-id: 81d7772a-b201-41b2-b564-feb4c3296df3\n"
     ]
    },
    {
     "name": "stdout",
     "output_type": "stream",
     "text": [
      "FAIL: 6807 Happy \n",
      "6810 emotional classifications done!\n",
      "6820 emotional classifications done!\n",
      "6830 emotional classifications done!\n",
      "6840 emotional classifications done!\n",
      "6850 emotional classifications done!\n",
      "6860 emotional classifications done!\n",
      "6870 emotional classifications done!\n",
      "6880 emotional classifications done!\n",
      "6890 emotional classifications done!\n",
      "6900 emotional classifications done!\n",
      "6910 emotional classifications done!\n"
     ]
    },
    {
     "name": "stderr",
     "output_type": "stream",
     "text": [
      "ERROR:root:unsupported text language: unknown\n",
      "Traceback (most recent call last):\n",
      "  File \"/Users/phillipholscher/opt/anaconda3/lib/python3.7/site-packages/ibm_cloud_sdk_core/base_service.py\", line 229, in send\n",
      "    response.status_code, error_message, http_response=response)\n",
      "ibm_cloud_sdk_core.api_exception.ApiException: Error: unsupported text language: unknown, Code: 400 , X-global-transaction-id: 5c15ed74-4c3c-4dee-a710-f226cf245017\n"
     ]
    },
    {
     "name": "stdout",
     "output_type": "stream",
     "text": [
      "FAIL: 6914 Congratulations @SecPompeo ! \n",
      "6920 emotional classifications done!\n",
      "6930 emotional classifications done!\n",
      "6940 emotional classifications done!\n",
      "6950 emotional classifications done!\n"
     ]
    },
    {
     "name": "stderr",
     "output_type": "stream",
     "text": [
      "ERROR:root:not enough text for language id\n",
      "Traceback (most recent call last):\n",
      "  File \"/Users/phillipholscher/opt/anaconda3/lib/python3.7/site-packages/ibm_cloud_sdk_core/base_service.py\", line 229, in send\n",
      "    response.status_code, error_message, http_response=response)\n",
      "ibm_cloud_sdk_core.api_exception.ApiException: Error: not enough text for language id, Code: 422 , X-global-transaction-id: 6d861fbe-8ee6-4fd9-8d62-dd5f5ab4cfe6\n"
     ]
    },
    {
     "name": "stdout",
     "output_type": "stream",
     "text": [
      "FAIL: 6958 MAGA! \n",
      "6960 emotional classifications done!\n",
      "6970 emotional classifications done!\n",
      "6980 emotional classifications done!\n",
      "6990 emotional classifications done!\n",
      "7000 emotional classifications done!\n",
      "7010 emotional classifications done!\n"
     ]
    },
    {
     "name": "stderr",
     "output_type": "stream",
     "text": [
      "ERROR:root:not enough text for language id\n",
      "Traceback (most recent call last):\n",
      "  File \"/Users/phillipholscher/opt/anaconda3/lib/python3.7/site-packages/ibm_cloud_sdk_core/base_service.py\", line 229, in send\n",
      "    response.status_code, error_message, http_response=response)\n",
      "ibm_cloud_sdk_core.api_exception.ApiException: Error: not enough text for language id, Code: 422 , X-global-transaction-id: 0e669d5e-471b-4c57-8ef7-3e53c40f2288\n"
     ]
    },
    {
     "name": "stdout",
     "output_type": "stream",
     "text": [
      "FAIL: 7012 THANK YOU \n",
      "7020 emotional classifications done!\n",
      "7030 emotional classifications done!\n",
      "7040 emotional classifications done!\n",
      "7050 emotional classifications done!\n",
      "7060 emotional classifications done!\n",
      "7070 emotional classifications done!\n",
      "7080 emotional classifications done!\n",
      "7090 emotional classifications done!\n",
      "7100 emotional classifications done!\n",
      "7110 emotional classifications done!\n",
      "7120 emotional classifications done!\n",
      "7130 emotional classifications done!\n",
      "7140 emotional classifications done!\n",
      "7150 emotional classifications done!\n",
      "7160 emotional classifications done!\n",
      "7170 emotional classifications done!\n",
      "7180 emotional classifications done!\n",
      "7190 emotional classifications done!\n"
     ]
    },
    {
     "name": "stderr",
     "output_type": "stream",
     "text": [
      "ERROR:root:not enough text for language id\n",
      "Traceback (most recent call last):\n",
      "  File \"/Users/phillipholscher/opt/anaconda3/lib/python3.7/site-packages/ibm_cloud_sdk_core/base_service.py\", line 229, in send\n",
      "    response.status_code, error_message, http_response=response)\n",
      "ibm_cloud_sdk_core.api_exception.ApiException: Error: not enough text for language id, Code: 422 , X-global-transaction-id: 8e531717-d0a4-4393-b52b-fe29018aef0b\n"
     ]
    },
    {
     "name": "stdout",
     "output_type": "stream",
     "text": [
      "FAIL: 7198 Happy \n",
      "7200 emotional classifications done!\n",
      "7210 emotional classifications done!\n",
      "7220 emotional classifications done!\n",
      "7230 emotional classifications done!\n",
      "7240 emotional classifications done!\n",
      "7250 emotional classifications done!\n"
     ]
    },
    {
     "name": "stderr",
     "output_type": "stream",
     "text": [
      "ERROR:root:not enough text for language id\n",
      "Traceback (most recent call last):\n",
      "  File \"/Users/phillipholscher/opt/anaconda3/lib/python3.7/site-packages/ibm_cloud_sdk_core/base_service.py\", line 229, in send\n",
      "    response.status_code, error_message, http_response=response)\n",
      "ibm_cloud_sdk_core.api_exception.ApiException: Error: not enough text for language id, Code: 422 , X-global-transaction-id: a4c0a158-13f3-4888-af1c-eac8cdab831b\n"
     ]
    },
    {
     "name": "stdout",
     "output_type": "stream",
     "text": [
      "FAIL: 7256 Happy \n",
      "7260 emotional classifications done!\n",
      "7270 emotional classifications done!\n",
      "7280 emotional classifications done!\n",
      "7290 emotional classifications done!\n",
      "7300 emotional classifications done!\n",
      "7310 emotional classifications done!\n",
      "7320 emotional classifications done!\n",
      "7330 emotional classifications done!\n"
     ]
    },
    {
     "name": "stderr",
     "output_type": "stream",
     "text": [
      "ERROR:root:not enough text for language id\n",
      "Traceback (most recent call last):\n",
      "  File \"/Users/phillipholscher/opt/anaconda3/lib/python3.7/site-packages/ibm_cloud_sdk_core/base_service.py\", line 229, in send\n",
      "    response.status_code, error_message, http_response=response)\n",
      "ibm_cloud_sdk_core.api_exception.ApiException: Error: not enough text for language id, Code: 422 , X-global-transaction-id: 5d9ee242-30b9-4e4b-a734-ef484a4f0b9d\n"
     ]
    },
    {
     "name": "stdout",
     "output_type": "stream",
     "text": [
      "FAIL: 7333 CPAC Today!\n",
      "7340 emotional classifications done!\n",
      "7350 emotional classifications done!\n",
      "7360 emotional classifications done!\n",
      "7370 emotional classifications done!\n",
      "7380 emotional classifications done!\n",
      "7390 emotional classifications done!\n",
      "7400 emotional classifications done!\n",
      "7410 emotional classifications done!\n",
      "7420 emotional classifications done!\n",
      "7430 emotional classifications done!\n",
      "7440 emotional classifications done!\n",
      "7450 emotional classifications done!\n",
      "7460 emotional classifications done!\n",
      "7470 emotional classifications done!\n",
      "7480 emotional classifications done!\n",
      "7490 emotional classifications done!\n",
      "7500 emotional classifications done!\n",
      "7510 emotional classifications done!\n",
      "7520 emotional classifications done!\n",
      "7530 emotional classifications done!\n",
      "7540 emotional classifications done!\n"
     ]
    },
    {
     "name": "stderr",
     "output_type": "stream",
     "text": [
      "ERROR:root:not enough text for language id\n",
      "Traceback (most recent call last):\n",
      "  File \"/Users/phillipholscher/opt/anaconda3/lib/python3.7/site-packages/ibm_cloud_sdk_core/base_service.py\", line 229, in send\n",
      "    response.status_code, error_message, http_response=response)\n",
      "ibm_cloud_sdk_core.api_exception.ApiException: Error: not enough text for language id, Code: 422 , X-global-transaction-id: ee7b5375-43c5-489d-8382-5e694164fdf5\n"
     ]
    },
    {
     "name": "stdout",
     "output_type": "stream",
     "text": [
      "FAIL: 7547 AMERICA FIRST!\n",
      "7550 emotional classifications done!\n",
      "7560 emotional classifications done!\n",
      "7570 emotional classifications done!\n",
      "7580 emotional classifications done!\n",
      "7590 emotional classifications done!\n",
      "7600 emotional classifications done!\n",
      "7610 emotional classifications done!\n",
      "7620 emotional classifications done!\n",
      "7630 emotional classifications done!\n",
      "7640 emotional classifications done!\n",
      "7650 emotional classifications done!\n",
      "7660 emotional classifications done!\n",
      "7670 emotional classifications done!\n",
      "7680 emotional classifications done!\n",
      "7690 emotional classifications done!\n"
     ]
    },
    {
     "name": "stderr",
     "output_type": "stream",
     "text": [
      "ERROR:root:not enough text for language id\n",
      "Traceback (most recent call last):\n",
      "  File \"/Users/phillipholscher/opt/anaconda3/lib/python3.7/site-packages/ibm_cloud_sdk_core/base_service.py\", line 229, in send\n",
      "    response.status_code, error_message, http_response=response)\n",
      "ibm_cloud_sdk_core.api_exception.ApiException: Error: not enough text for language id, Code: 422 , X-global-transaction-id: 26497233-8b68-400f-b417-8f72dcfc49a7\n"
     ]
    },
    {
     "name": "stdout",
     "output_type": "stream",
     "text": [
      "FAIL: 7691 So true! \n",
      "7700 emotional classifications done!\n",
      "7710 emotional classifications done!\n",
      "7720 emotional classifications done!\n",
      "7730 emotional classifications done!\n",
      "7740 emotional classifications done!\n",
      "7750 emotional classifications done!\n",
      "7760 emotional classifications done!\n",
      "7770 emotional classifications done!\n",
      "7780 emotional classifications done!\n",
      "7790 emotional classifications done!\n",
      "7800 emotional classifications done!\n",
      "7810 emotional classifications done!\n",
      "7820 emotional classifications done!\n",
      "7830 emotional classifications done!\n",
      "7840 emotional classifications done!\n",
      "7850 emotional classifications done!\n"
     ]
    },
    {
     "name": "stderr",
     "output_type": "stream",
     "text": [
      "ERROR:root:not enough text for language id\n",
      "Traceback (most recent call last):\n",
      "  File \"/Users/phillipholscher/opt/anaconda3/lib/python3.7/site-packages/ibm_cloud_sdk_core/base_service.py\", line 229, in send\n",
      "    response.status_code, error_message, http_response=response)\n",
      "ibm_cloud_sdk_core.api_exception.ApiException: Error: not enough text for language id, Code: 422 , X-global-transaction-id: 5d569d27-76ab-47e2-959c-358d74436733\n"
     ]
    },
    {
     "name": "stdout",
     "output_type": "stream",
     "text": [
      "FAIL: 7859 Happy \n",
      "7860 emotional classifications done!\n",
      "7870 emotional classifications done!\n",
      "7880 emotional classifications done!\n",
      "7890 emotional classifications done!\n",
      "7900 emotional classifications done!\n",
      "7910 emotional classifications done!\n"
     ]
    },
    {
     "name": "stderr",
     "output_type": "stream",
     "text": [
      "ERROR:root:not enough text for language id\n",
      "Traceback (most recent call last):\n",
      "  File \"/Users/phillipholscher/opt/anaconda3/lib/python3.7/site-packages/ibm_cloud_sdk_core/base_service.py\", line 229, in send\n",
      "    response.status_code, error_message, http_response=response)\n",
      "ibm_cloud_sdk_core.api_exception.ApiException: Error: not enough text for language id, Code: 422 , X-global-transaction-id: 884ca04e-8775-479c-b666-1c416616f233\n"
     ]
    },
    {
     "name": "stdout",
     "output_type": "stream",
     "text": [
      "FAIL: 7913 Thank you! \n",
      "7920 emotional classifications done!\n",
      "7930 emotional classifications done!\n"
     ]
    },
    {
     "name": "stderr",
     "output_type": "stream",
     "text": [
      "ERROR:root:not enough text for language id\n",
      "Traceback (most recent call last):\n",
      "  File \"/Users/phillipholscher/opt/anaconda3/lib/python3.7/site-packages/ibm_cloud_sdk_core/base_service.py\", line 229, in send\n",
      "    response.status_code, error_message, http_response=response)\n",
      "ibm_cloud_sdk_core.api_exception.ApiException: Error: not enough text for language id, Code: 422 , X-global-transaction-id: 20bab105-02af-4b05-a1b6-3f6df3ea6526\n"
     ]
    },
    {
     "name": "stdout",
     "output_type": "stream",
     "text": [
      "FAIL: 7931 Thank you! \n",
      "7940 emotional classifications done!\n",
      "7950 emotional classifications done!\n",
      "7960 emotional classifications done!\n",
      "7970 emotional classifications done!\n",
      "7980 emotional classifications done!\n",
      "7990 emotional classifications done!\n",
      "8000 emotional classifications done!\n",
      "8010 emotional classifications done!\n",
      "8020 emotional classifications done!\n",
      "8030 emotional classifications done!\n",
      "8040 emotional classifications done!\n",
      "8050 emotional classifications done!\n",
      "8060 emotional classifications done!\n"
     ]
    },
    {
     "name": "stderr",
     "output_type": "stream",
     "text": [
      "ERROR:root:not enough text for language id\n",
      "Traceback (most recent call last):\n",
      "  File \"/Users/phillipholscher/opt/anaconda3/lib/python3.7/site-packages/ibm_cloud_sdk_core/base_service.py\", line 229, in send\n",
      "    response.status_code, error_message, http_response=response)\n",
      "ibm_cloud_sdk_core.api_exception.ApiException: Error: not enough text for language id, Code: 422 , X-global-transaction-id: 5ca15c62-d981-4155-ac8b-43defe6c1c9e\n"
     ]
    },
    {
     "name": "stdout",
     "output_type": "stream",
     "text": [
      "FAIL: 8064 Happy \n",
      "8070 emotional classifications done!\n",
      "8080 emotional classifications done!\n",
      "8090 emotional classifications done!\n",
      "8100 emotional classifications done!\n",
      "8110 emotional classifications done!\n",
      "8120 emotional classifications done!\n",
      "8130 emotional classifications done!\n",
      "8140 emotional classifications done!\n",
      "8150 emotional classifications done!\n",
      "8160 emotional classifications done!\n"
     ]
    },
    {
     "name": "stderr",
     "output_type": "stream",
     "text": [
      "ERROR:root:not enough text for language id\n",
      "Traceback (most recent call last):\n",
      "  File \"/Users/phillipholscher/opt/anaconda3/lib/python3.7/site-packages/ibm_cloud_sdk_core/base_service.py\", line 229, in send\n",
      "    response.status_code, error_message, http_response=response)\n",
      "ibm_cloud_sdk_core.api_exception.ApiException: Error: not enough text for language id, Code: 422 , X-global-transaction-id: bd72babc-3833-436d-ac7e-393988fc3cbf\n"
     ]
    },
    {
     "name": "stdout",
     "output_type": "stream",
     "text": [
      "FAIL: 8169 WOW! \n",
      "8170 emotional classifications done!\n",
      "8180 emotional classifications done!\n",
      "8190 emotional classifications done!\n",
      "8200 emotional classifications done!\n"
     ]
    },
    {
     "name": "stderr",
     "output_type": "stream",
     "text": [
      "ERROR:root:not enough text for language id\n",
      "Traceback (most recent call last):\n",
      "  File \"/Users/phillipholscher/opt/anaconda3/lib/python3.7/site-packages/ibm_cloud_sdk_core/base_service.py\", line 229, in send\n",
      "    response.status_code, error_message, http_response=response)\n",
      "ibm_cloud_sdk_core.api_exception.ApiException: Error: not enough text for language id, Code: 422 , X-global-transaction-id: 6a26bf68-409a-4aca-ab0d-6fb6e6836bad\n"
     ]
    },
    {
     "name": "stdout",
     "output_type": "stream",
     "text": [
      "FAIL: 8205 Happy \n",
      "8210 emotional classifications done!\n",
      "8220 emotional classifications done!\n",
      "8230 emotional classifications done!\n",
      "8240 emotional classifications done!\n",
      "8250 emotional classifications done!\n",
      "8260 emotional classifications done!\n"
     ]
    },
    {
     "name": "stderr",
     "output_type": "stream",
     "text": [
      "ERROR:root:not enough text for language id\n",
      "Traceback (most recent call last):\n",
      "  File \"/Users/phillipholscher/opt/anaconda3/lib/python3.7/site-packages/ibm_cloud_sdk_core/base_service.py\", line 229, in send\n",
      "    response.status_code, error_message, http_response=response)\n",
      "ibm_cloud_sdk_core.api_exception.ApiException: Error: not enough text for language id, Code: 422 , X-global-transaction-id: 992f2d53-b188-4b3d-9747-e23df27f550b\n"
     ]
    },
    {
     "name": "stdout",
     "output_type": "stream",
     "text": [
      "FAIL: 8264 Thank you! \n",
      "8270 emotional classifications done!\n",
      "8280 emotional classifications done!\n",
      "8290 emotional classifications done!\n"
     ]
    },
    {
     "name": "stderr",
     "output_type": "stream",
     "text": [
      "ERROR:root:not enough text for language id\n",
      "Traceback (most recent call last):\n",
      "  File \"/Users/phillipholscher/opt/anaconda3/lib/python3.7/site-packages/ibm_cloud_sdk_core/base_service.py\", line 229, in send\n",
      "    response.status_code, error_message, http_response=response)\n",
      "ibm_cloud_sdk_core.api_exception.ApiException: Error: not enough text for language id, Code: 422 , X-global-transaction-id: 3e67698d-be00-4470-a625-d948b28d2407\n"
     ]
    },
    {
     "name": "stdout",
     "output_type": "stream",
     "text": [
      "FAIL: 8294 ...... \n",
      "8300 emotional classifications done!\n",
      "8310 emotional classifications done!\n",
      "8320 emotional classifications done!\n",
      "8330 emotional classifications done!\n",
      "8340 emotional classifications done!\n",
      "8350 emotional classifications done!\n"
     ]
    },
    {
     "name": "stderr",
     "output_type": "stream",
     "text": [
      "ERROR:root:not enough text for language id\n",
      "Traceback (most recent call last):\n",
      "  File \"/Users/phillipholscher/opt/anaconda3/lib/python3.7/site-packages/ibm_cloud_sdk_core/base_service.py\", line 229, in send\n",
      "    response.status_code, error_message, http_response=response)\n",
      "ibm_cloud_sdk_core.api_exception.ApiException: Error: not enough text for language id, Code: 422 , X-global-transaction-id: 7c7291cf-61ca-4256-81a3-2d11acb2292b\n"
     ]
    },
    {
     "name": "stdout",
     "output_type": "stream",
     "text": [
      "FAIL: 8354 . @CNN is \n",
      "8360 emotional classifications done!\n",
      "8370 emotional classifications done!\n",
      "8380 emotional classifications done!\n"
     ]
    },
    {
     "name": "stderr",
     "output_type": "stream",
     "text": [
      "ERROR:root:not enough text for language id\n",
      "Traceback (most recent call last):\n",
      "  File \"/Users/phillipholscher/opt/anaconda3/lib/python3.7/site-packages/ibm_cloud_sdk_core/base_service.py\", line 229, in send\n",
      "    response.status_code, error_message, http_response=response)\n",
      "ibm_cloud_sdk_core.api_exception.ApiException: Error: not enough text for language id, Code: 422 , X-global-transaction-id: c5303133-a65d-4ecf-8115-87fba56e97eb\n"
     ]
    },
    {
     "name": "stdout",
     "output_type": "stream",
     "text": [
      "FAIL: 8386 Thank you! \n",
      "8390 emotional classifications done!\n",
      "8400 emotional classifications done!\n",
      "8410 emotional classifications done!\n",
      "8420 emotional classifications done!\n"
     ]
    },
    {
     "name": "stderr",
     "output_type": "stream",
     "text": [
      "ERROR:root:not enough text for language id\n",
      "Traceback (most recent call last):\n",
      "  File \"/Users/phillipholscher/opt/anaconda3/lib/python3.7/site-packages/ibm_cloud_sdk_core/base_service.py\", line 229, in send\n",
      "    response.status_code, error_message, http_response=response)\n",
      "ibm_cloud_sdk_core.api_exception.ApiException: Error: not enough text for language id, Code: 422 , X-global-transaction-id: 6d6949de-6793-430d-8846-8f05a9bbf5c6\n"
     ]
    },
    {
     "name": "stdout",
     "output_type": "stream",
     "text": [
      "FAIL: 8429 Thank you! \n",
      "8430 emotional classifications done!\n",
      "8440 emotional classifications done!\n",
      "8450 emotional classifications done!\n",
      "8460 emotional classifications done!\n",
      "8470 emotional classifications done!\n",
      "8480 emotional classifications done!\n",
      "8490 emotional classifications done!\n"
     ]
    },
    {
     "name": "stderr",
     "output_type": "stream",
     "text": [
      "ERROR:root:unsupported text language: unknown\n",
      "Traceback (most recent call last):\n",
      "  File \"/Users/phillipholscher/opt/anaconda3/lib/python3.7/site-packages/ibm_cloud_sdk_core/base_service.py\", line 229, in send\n",
      "    response.status_code, error_message, http_response=response)\n",
      "ibm_cloud_sdk_core.api_exception.ApiException: Error: unsupported text language: unknown, Code: 400 , X-global-transaction-id: 4a409b15-143e-44f9-bf9c-a623b3584659\n"
     ]
    },
    {
     "name": "stdout",
     "output_type": "stream",
     "text": [
      "FAIL: 8493 'President Donald J. Trump Approves Emergency Declarations' http:// 45.wh.gov/Florida http:// 45.wh.gov/PuertoRico http:// 45.wh.gov/USVirginIslands \n",
      "8500 emotional classifications done!\n",
      "8510 emotional classifications done!\n",
      "8520 emotional classifications done!\n",
      "8530 emotional classifications done!\n",
      "8540 emotional classifications done!\n",
      "8550 emotional classifications done!\n"
     ]
    },
    {
     "name": "stderr",
     "output_type": "stream",
     "text": [
      "ERROR:root:not enough text for language id\n",
      "Traceback (most recent call last):\n",
      "  File \"/Users/phillipholscher/opt/anaconda3/lib/python3.7/site-packages/ibm_cloud_sdk_core/base_service.py\", line 229, in send\n",
      "    response.status_code, error_message, http_response=response)\n",
      "ibm_cloud_sdk_core.api_exception.ApiException: Error: not enough text for language id, Code: 422 , X-global-transaction-id: 918e49f3-9f5b-4b5d-b952-35871833fc5e\n"
     ]
    },
    {
     "name": "stdout",
     "output_type": "stream",
     "text": [
      "FAIL: 8555 Received a \n",
      "8560 emotional classifications done!\n"
     ]
    },
    {
     "name": "stderr",
     "output_type": "stream",
     "text": [
      "ERROR:root:not enough text for language id\n",
      "Traceback (most recent call last):\n",
      "  File \"/Users/phillipholscher/opt/anaconda3/lib/python3.7/site-packages/ibm_cloud_sdk_core/base_service.py\", line 229, in send\n",
      "    response.status_code, error_message, http_response=response)\n",
      "ibm_cloud_sdk_core.api_exception.ApiException: Error: not enough text for language id, Code: 422 , X-global-transaction-id: 2e160ac7-d382-4c9b-a544-ef0d96956d04\n"
     ]
    },
    {
     "name": "stdout",
     "output_type": "stream",
     "text": [
      "FAIL: 8563 As \n",
      "8570 emotional classifications done!\n",
      "8580 emotional classifications done!\n",
      "8590 emotional classifications done!\n",
      "8600 emotional classifications done!\n",
      "8610 emotional classifications done!\n",
      "8620 emotional classifications done!\n",
      "8630 emotional classifications done!\n",
      "8640 emotional classifications done!\n",
      "8650 emotional classifications done!\n"
     ]
    },
    {
     "name": "stderr",
     "output_type": "stream",
     "text": [
      "ERROR:root:Error in service call\n",
      "Traceback (most recent call last):\n",
      "  File \"/Users/phillipholscher/opt/anaconda3/lib/python3.7/site-packages/urllib3/connection.py\", line 160, in _new_conn\n",
      "    (self._dns_host, self.port), self.timeout, **extra_kw\n",
      "  File \"/Users/phillipholscher/opt/anaconda3/lib/python3.7/site-packages/urllib3/util/connection.py\", line 61, in create_connection\n",
      "    for res in socket.getaddrinfo(host, port, family, socket.SOCK_STREAM):\n",
      "  File \"/Users/phillipholscher/opt/anaconda3/lib/python3.7/socket.py\", line 748, in getaddrinfo\n",
      "    for res in _socket.getaddrinfo(host, port, family, type, proto, flags):\n",
      "socket.gaierror: [Errno 8] nodename nor servname provided, or not known\n",
      "\n",
      "During handling of the above exception, another exception occurred:\n",
      "\n",
      "Traceback (most recent call last):\n",
      "  File \"/Users/phillipholscher/opt/anaconda3/lib/python3.7/site-packages/urllib3/connectionpool.py\", line 677, in urlopen\n",
      "    chunked=chunked,\n",
      "  File \"/Users/phillipholscher/opt/anaconda3/lib/python3.7/site-packages/urllib3/connectionpool.py\", line 381, in _make_request\n",
      "    self._validate_conn(conn)\n",
      "  File \"/Users/phillipholscher/opt/anaconda3/lib/python3.7/site-packages/urllib3/connectionpool.py\", line 978, in _validate_conn\n",
      "    conn.connect()\n",
      "  File \"/Users/phillipholscher/opt/anaconda3/lib/python3.7/site-packages/urllib3/connection.py\", line 309, in connect\n",
      "    conn = self._new_conn()\n",
      "  File \"/Users/phillipholscher/opt/anaconda3/lib/python3.7/site-packages/urllib3/connection.py\", line 172, in _new_conn\n",
      "    self, \"Failed to establish a new connection: %s\" % e\n",
      "urllib3.exceptions.NewConnectionError: <urllib3.connection.HTTPSConnection object at 0x7ff6a5c2cc90>: Failed to establish a new connection: [Errno 8] nodename nor servname provided, or not known\n",
      "\n",
      "During handling of the above exception, another exception occurred:\n",
      "\n",
      "Traceback (most recent call last):\n",
      "  File \"/Users/phillipholscher/opt/anaconda3/lib/python3.7/site-packages/requests/adapters.py\", line 449, in send\n",
      "    timeout=timeout\n",
      "  File \"/Users/phillipholscher/opt/anaconda3/lib/python3.7/site-packages/urllib3/connectionpool.py\", line 727, in urlopen\n",
      "    method, url, error=e, _pool=self, _stacktrace=sys.exc_info()[2]\n",
      "  File \"/Users/phillipholscher/opt/anaconda3/lib/python3.7/site-packages/urllib3/util/retry.py\", line 446, in increment\n",
      "    raise MaxRetryError(_pool, url, error or ResponseError(cause))\n",
      "urllib3.exceptions.MaxRetryError: HTTPSConnectionPool(host='api.eu-gb.natural-language-understanding.watson.cloud.ibm.com', port=443): Max retries exceeded with url: /instances/f80638d4-fc46-4e76-b427-8087219c13fb/v1/analyze?version=2019-07-12 (Caused by NewConnectionError('<urllib3.connection.HTTPSConnection object at 0x7ff6a5c2cc90>: Failed to establish a new connection: [Errno 8] nodename nor servname provided, or not known'))\n",
      "\n",
      "During handling of the above exception, another exception occurred:\n",
      "\n",
      "Traceback (most recent call last):\n",
      "  File \"/Users/phillipholscher/opt/anaconda3/lib/python3.7/site-packages/ibm_cloud_sdk_core/base_service.py\", line 208, in send\n",
      "    response = requests.request(**request, cookies=self.jar, **kwargs)\n",
      "  File \"/Users/phillipholscher/opt/anaconda3/lib/python3.7/site-packages/requests/api.py\", line 61, in request\n",
      "    return session.request(method=method, url=url, **kwargs)\n",
      "  File \"/Users/phillipholscher/opt/anaconda3/lib/python3.7/site-packages/requests/sessions.py\", line 530, in request\n",
      "    resp = self.send(prep, **send_kwargs)\n",
      "  File \"/Users/phillipholscher/opt/anaconda3/lib/python3.7/site-packages/requests/sessions.py\", line 643, in send\n",
      "    r = adapter.send(request, **kwargs)\n",
      "  File \"/Users/phillipholscher/opt/anaconda3/lib/python3.7/site-packages/requests/adapters.py\", line 516, in send\n",
      "    raise ConnectionError(e, request=request)\n",
      "requests.exceptions.ConnectionError: HTTPSConnectionPool(host='api.eu-gb.natural-language-understanding.watson.cloud.ibm.com', port=443): Max retries exceeded with url: /instances/f80638d4-fc46-4e76-b427-8087219c13fb/v1/analyze?version=2019-07-12 (Caused by NewConnectionError('<urllib3.connection.HTTPSConnection object at 0x7ff6a5c2cc90>: Failed to establish a new connection: [Errno 8] nodename nor servname provided, or not known'))\n"
     ]
    },
    {
     "ename": "ConnectionError",
     "evalue": "HTTPSConnectionPool(host='api.eu-gb.natural-language-understanding.watson.cloud.ibm.com', port=443): Max retries exceeded with url: /instances/f80638d4-fc46-4e76-b427-8087219c13fb/v1/analyze?version=2019-07-12 (Caused by NewConnectionError('<urllib3.connection.HTTPSConnection object at 0x7ff6a5c2cc90>: Failed to establish a new connection: [Errno 8] nodename nor servname provided, or not known'))",
     "output_type": "error",
     "traceback": [
      "\u001b[0;31m---------------------------------------------------------------------------\u001b[0m",
      "\u001b[0;31mgaierror\u001b[0m                                  Traceback (most recent call last)",
      "\u001b[0;32m~/opt/anaconda3/lib/python3.7/site-packages/urllib3/connection.py\u001b[0m in \u001b[0;36m_new_conn\u001b[0;34m(self)\u001b[0m\n\u001b[1;32m    159\u001b[0m             conn = connection.create_connection(\n\u001b[0;32m--> 160\u001b[0;31m                 \u001b[0;34m(\u001b[0m\u001b[0mself\u001b[0m\u001b[0;34m.\u001b[0m\u001b[0m_dns_host\u001b[0m\u001b[0;34m,\u001b[0m \u001b[0mself\u001b[0m\u001b[0;34m.\u001b[0m\u001b[0mport\u001b[0m\u001b[0;34m)\u001b[0m\u001b[0;34m,\u001b[0m \u001b[0mself\u001b[0m\u001b[0;34m.\u001b[0m\u001b[0mtimeout\u001b[0m\u001b[0;34m,\u001b[0m \u001b[0;34m**\u001b[0m\u001b[0mextra_kw\u001b[0m\u001b[0;34m\u001b[0m\u001b[0;34m\u001b[0m\u001b[0m\n\u001b[0m\u001b[1;32m    161\u001b[0m             )\n",
      "\u001b[0;32m~/opt/anaconda3/lib/python3.7/site-packages/urllib3/util/connection.py\u001b[0m in \u001b[0;36mcreate_connection\u001b[0;34m(address, timeout, source_address, socket_options)\u001b[0m\n\u001b[1;32m     60\u001b[0m \u001b[0;34m\u001b[0m\u001b[0m\n\u001b[0;32m---> 61\u001b[0;31m     \u001b[0;32mfor\u001b[0m \u001b[0mres\u001b[0m \u001b[0;32min\u001b[0m \u001b[0msocket\u001b[0m\u001b[0;34m.\u001b[0m\u001b[0mgetaddrinfo\u001b[0m\u001b[0;34m(\u001b[0m\u001b[0mhost\u001b[0m\u001b[0;34m,\u001b[0m \u001b[0mport\u001b[0m\u001b[0;34m,\u001b[0m \u001b[0mfamily\u001b[0m\u001b[0;34m,\u001b[0m \u001b[0msocket\u001b[0m\u001b[0;34m.\u001b[0m\u001b[0mSOCK_STREAM\u001b[0m\u001b[0;34m)\u001b[0m\u001b[0;34m:\u001b[0m\u001b[0;34m\u001b[0m\u001b[0;34m\u001b[0m\u001b[0m\n\u001b[0m\u001b[1;32m     62\u001b[0m         \u001b[0maf\u001b[0m\u001b[0;34m,\u001b[0m \u001b[0msocktype\u001b[0m\u001b[0;34m,\u001b[0m \u001b[0mproto\u001b[0m\u001b[0;34m,\u001b[0m \u001b[0mcanonname\u001b[0m\u001b[0;34m,\u001b[0m \u001b[0msa\u001b[0m \u001b[0;34m=\u001b[0m \u001b[0mres\u001b[0m\u001b[0;34m\u001b[0m\u001b[0;34m\u001b[0m\u001b[0m\n",
      "\u001b[0;32m~/opt/anaconda3/lib/python3.7/socket.py\u001b[0m in \u001b[0;36mgetaddrinfo\u001b[0;34m(host, port, family, type, proto, flags)\u001b[0m\n\u001b[1;32m    747\u001b[0m     \u001b[0maddrlist\u001b[0m \u001b[0;34m=\u001b[0m \u001b[0;34m[\u001b[0m\u001b[0;34m]\u001b[0m\u001b[0;34m\u001b[0m\u001b[0;34m\u001b[0m\u001b[0m\n\u001b[0;32m--> 748\u001b[0;31m     \u001b[0;32mfor\u001b[0m \u001b[0mres\u001b[0m \u001b[0;32min\u001b[0m \u001b[0m_socket\u001b[0m\u001b[0;34m.\u001b[0m\u001b[0mgetaddrinfo\u001b[0m\u001b[0;34m(\u001b[0m\u001b[0mhost\u001b[0m\u001b[0;34m,\u001b[0m \u001b[0mport\u001b[0m\u001b[0;34m,\u001b[0m \u001b[0mfamily\u001b[0m\u001b[0;34m,\u001b[0m \u001b[0mtype\u001b[0m\u001b[0;34m,\u001b[0m \u001b[0mproto\u001b[0m\u001b[0;34m,\u001b[0m \u001b[0mflags\u001b[0m\u001b[0;34m)\u001b[0m\u001b[0;34m:\u001b[0m\u001b[0;34m\u001b[0m\u001b[0;34m\u001b[0m\u001b[0m\n\u001b[0m\u001b[1;32m    749\u001b[0m         \u001b[0maf\u001b[0m\u001b[0;34m,\u001b[0m \u001b[0msocktype\u001b[0m\u001b[0;34m,\u001b[0m \u001b[0mproto\u001b[0m\u001b[0;34m,\u001b[0m \u001b[0mcanonname\u001b[0m\u001b[0;34m,\u001b[0m \u001b[0msa\u001b[0m \u001b[0;34m=\u001b[0m \u001b[0mres\u001b[0m\u001b[0;34m\u001b[0m\u001b[0;34m\u001b[0m\u001b[0m\n",
      "\u001b[0;31mgaierror\u001b[0m: [Errno 8] nodename nor servname provided, or not known",
      "\nDuring handling of the above exception, another exception occurred:\n",
      "\u001b[0;31mNewConnectionError\u001b[0m                        Traceback (most recent call last)",
      "\u001b[0;32m~/opt/anaconda3/lib/python3.7/site-packages/urllib3/connectionpool.py\u001b[0m in \u001b[0;36murlopen\u001b[0;34m(self, method, url, body, headers, retries, redirect, assert_same_host, timeout, pool_timeout, release_conn, chunked, body_pos, **response_kw)\u001b[0m\n\u001b[1;32m    676\u001b[0m                 \u001b[0mheaders\u001b[0m\u001b[0;34m=\u001b[0m\u001b[0mheaders\u001b[0m\u001b[0;34m,\u001b[0m\u001b[0;34m\u001b[0m\u001b[0;34m\u001b[0m\u001b[0m\n\u001b[0;32m--> 677\u001b[0;31m                 \u001b[0mchunked\u001b[0m\u001b[0;34m=\u001b[0m\u001b[0mchunked\u001b[0m\u001b[0;34m,\u001b[0m\u001b[0;34m\u001b[0m\u001b[0;34m\u001b[0m\u001b[0m\n\u001b[0m\u001b[1;32m    678\u001b[0m             )\n",
      "\u001b[0;32m~/opt/anaconda3/lib/python3.7/site-packages/urllib3/connectionpool.py\u001b[0m in \u001b[0;36m_make_request\u001b[0;34m(self, conn, method, url, timeout, chunked, **httplib_request_kw)\u001b[0m\n\u001b[1;32m    380\u001b[0m         \u001b[0;32mtry\u001b[0m\u001b[0;34m:\u001b[0m\u001b[0;34m\u001b[0m\u001b[0;34m\u001b[0m\u001b[0m\n\u001b[0;32m--> 381\u001b[0;31m             \u001b[0mself\u001b[0m\u001b[0;34m.\u001b[0m\u001b[0m_validate_conn\u001b[0m\u001b[0;34m(\u001b[0m\u001b[0mconn\u001b[0m\u001b[0;34m)\u001b[0m\u001b[0;34m\u001b[0m\u001b[0;34m\u001b[0m\u001b[0m\n\u001b[0m\u001b[1;32m    382\u001b[0m         \u001b[0;32mexcept\u001b[0m \u001b[0;34m(\u001b[0m\u001b[0mSocketTimeout\u001b[0m\u001b[0;34m,\u001b[0m \u001b[0mBaseSSLError\u001b[0m\u001b[0;34m)\u001b[0m \u001b[0;32mas\u001b[0m \u001b[0me\u001b[0m\u001b[0;34m:\u001b[0m\u001b[0;34m\u001b[0m\u001b[0;34m\u001b[0m\u001b[0m\n",
      "\u001b[0;32m~/opt/anaconda3/lib/python3.7/site-packages/urllib3/connectionpool.py\u001b[0m in \u001b[0;36m_validate_conn\u001b[0;34m(self, conn)\u001b[0m\n\u001b[1;32m    977\u001b[0m         \u001b[0;32mif\u001b[0m \u001b[0;32mnot\u001b[0m \u001b[0mgetattr\u001b[0m\u001b[0;34m(\u001b[0m\u001b[0mconn\u001b[0m\u001b[0;34m,\u001b[0m \u001b[0;34m\"sock\"\u001b[0m\u001b[0;34m,\u001b[0m \u001b[0;32mNone\u001b[0m\u001b[0;34m)\u001b[0m\u001b[0;34m:\u001b[0m  \u001b[0;31m# AppEngine might not have  `.sock`\u001b[0m\u001b[0;34m\u001b[0m\u001b[0;34m\u001b[0m\u001b[0m\n\u001b[0;32m--> 978\u001b[0;31m             \u001b[0mconn\u001b[0m\u001b[0;34m.\u001b[0m\u001b[0mconnect\u001b[0m\u001b[0;34m(\u001b[0m\u001b[0;34m)\u001b[0m\u001b[0;34m\u001b[0m\u001b[0;34m\u001b[0m\u001b[0m\n\u001b[0m\u001b[1;32m    979\u001b[0m \u001b[0;34m\u001b[0m\u001b[0m\n",
      "\u001b[0;32m~/opt/anaconda3/lib/python3.7/site-packages/urllib3/connection.py\u001b[0m in \u001b[0;36mconnect\u001b[0;34m(self)\u001b[0m\n\u001b[1;32m    308\u001b[0m         \u001b[0;31m# Add certificate verification\u001b[0m\u001b[0;34m\u001b[0m\u001b[0;34m\u001b[0m\u001b[0;34m\u001b[0m\u001b[0m\n\u001b[0;32m--> 309\u001b[0;31m         \u001b[0mconn\u001b[0m \u001b[0;34m=\u001b[0m \u001b[0mself\u001b[0m\u001b[0;34m.\u001b[0m\u001b[0m_new_conn\u001b[0m\u001b[0;34m(\u001b[0m\u001b[0;34m)\u001b[0m\u001b[0;34m\u001b[0m\u001b[0;34m\u001b[0m\u001b[0m\n\u001b[0m\u001b[1;32m    310\u001b[0m         \u001b[0mhostname\u001b[0m \u001b[0;34m=\u001b[0m \u001b[0mself\u001b[0m\u001b[0;34m.\u001b[0m\u001b[0mhost\u001b[0m\u001b[0;34m\u001b[0m\u001b[0;34m\u001b[0m\u001b[0m\n",
      "\u001b[0;32m~/opt/anaconda3/lib/python3.7/site-packages/urllib3/connection.py\u001b[0m in \u001b[0;36m_new_conn\u001b[0;34m(self)\u001b[0m\n\u001b[1;32m    171\u001b[0m             raise NewConnectionError(\n\u001b[0;32m--> 172\u001b[0;31m                 \u001b[0mself\u001b[0m\u001b[0;34m,\u001b[0m \u001b[0;34m\"Failed to establish a new connection: %s\"\u001b[0m \u001b[0;34m%\u001b[0m \u001b[0me\u001b[0m\u001b[0;34m\u001b[0m\u001b[0;34m\u001b[0m\u001b[0m\n\u001b[0m\u001b[1;32m    173\u001b[0m             )\n",
      "\u001b[0;31mNewConnectionError\u001b[0m: <urllib3.connection.HTTPSConnection object at 0x7ff6a5c2cc90>: Failed to establish a new connection: [Errno 8] nodename nor servname provided, or not known",
      "\nDuring handling of the above exception, another exception occurred:\n",
      "\u001b[0;31mMaxRetryError\u001b[0m                             Traceback (most recent call last)",
      "\u001b[0;32m~/opt/anaconda3/lib/python3.7/site-packages/requests/adapters.py\u001b[0m in \u001b[0;36msend\u001b[0;34m(self, request, stream, timeout, verify, cert, proxies)\u001b[0m\n\u001b[1;32m    448\u001b[0m                     \u001b[0mretries\u001b[0m\u001b[0;34m=\u001b[0m\u001b[0mself\u001b[0m\u001b[0;34m.\u001b[0m\u001b[0mmax_retries\u001b[0m\u001b[0;34m,\u001b[0m\u001b[0;34m\u001b[0m\u001b[0;34m\u001b[0m\u001b[0m\n\u001b[0;32m--> 449\u001b[0;31m                     \u001b[0mtimeout\u001b[0m\u001b[0;34m=\u001b[0m\u001b[0mtimeout\u001b[0m\u001b[0;34m\u001b[0m\u001b[0;34m\u001b[0m\u001b[0m\n\u001b[0m\u001b[1;32m    450\u001b[0m                 )\n",
      "\u001b[0;32m~/opt/anaconda3/lib/python3.7/site-packages/urllib3/connectionpool.py\u001b[0m in \u001b[0;36murlopen\u001b[0;34m(self, method, url, body, headers, retries, redirect, assert_same_host, timeout, pool_timeout, release_conn, chunked, body_pos, **response_kw)\u001b[0m\n\u001b[1;32m    726\u001b[0m             retries = retries.increment(\n\u001b[0;32m--> 727\u001b[0;31m                 \u001b[0mmethod\u001b[0m\u001b[0;34m,\u001b[0m \u001b[0murl\u001b[0m\u001b[0;34m,\u001b[0m \u001b[0merror\u001b[0m\u001b[0;34m=\u001b[0m\u001b[0me\u001b[0m\u001b[0;34m,\u001b[0m \u001b[0m_pool\u001b[0m\u001b[0;34m=\u001b[0m\u001b[0mself\u001b[0m\u001b[0;34m,\u001b[0m \u001b[0m_stacktrace\u001b[0m\u001b[0;34m=\u001b[0m\u001b[0msys\u001b[0m\u001b[0;34m.\u001b[0m\u001b[0mexc_info\u001b[0m\u001b[0;34m(\u001b[0m\u001b[0;34m)\u001b[0m\u001b[0;34m[\u001b[0m\u001b[0;36m2\u001b[0m\u001b[0;34m]\u001b[0m\u001b[0;34m\u001b[0m\u001b[0;34m\u001b[0m\u001b[0m\n\u001b[0m\u001b[1;32m    728\u001b[0m             )\n",
      "\u001b[0;32m~/opt/anaconda3/lib/python3.7/site-packages/urllib3/util/retry.py\u001b[0m in \u001b[0;36mincrement\u001b[0;34m(self, method, url, response, error, _pool, _stacktrace)\u001b[0m\n\u001b[1;32m    445\u001b[0m         \u001b[0;32mif\u001b[0m \u001b[0mnew_retry\u001b[0m\u001b[0;34m.\u001b[0m\u001b[0mis_exhausted\u001b[0m\u001b[0;34m(\u001b[0m\u001b[0;34m)\u001b[0m\u001b[0;34m:\u001b[0m\u001b[0;34m\u001b[0m\u001b[0;34m\u001b[0m\u001b[0m\n\u001b[0;32m--> 446\u001b[0;31m             \u001b[0;32mraise\u001b[0m \u001b[0mMaxRetryError\u001b[0m\u001b[0;34m(\u001b[0m\u001b[0m_pool\u001b[0m\u001b[0;34m,\u001b[0m \u001b[0murl\u001b[0m\u001b[0;34m,\u001b[0m \u001b[0merror\u001b[0m \u001b[0;32mor\u001b[0m \u001b[0mResponseError\u001b[0m\u001b[0;34m(\u001b[0m\u001b[0mcause\u001b[0m\u001b[0;34m)\u001b[0m\u001b[0;34m)\u001b[0m\u001b[0;34m\u001b[0m\u001b[0;34m\u001b[0m\u001b[0m\n\u001b[0m\u001b[1;32m    447\u001b[0m \u001b[0;34m\u001b[0m\u001b[0m\n",
      "\u001b[0;31mMaxRetryError\u001b[0m: HTTPSConnectionPool(host='api.eu-gb.natural-language-understanding.watson.cloud.ibm.com', port=443): Max retries exceeded with url: /instances/f80638d4-fc46-4e76-b427-8087219c13fb/v1/analyze?version=2019-07-12 (Caused by NewConnectionError('<urllib3.connection.HTTPSConnection object at 0x7ff6a5c2cc90>: Failed to establish a new connection: [Errno 8] nodename nor servname provided, or not known'))",
      "\nDuring handling of the above exception, another exception occurred:\n",
      "\u001b[0;31mConnectionError\u001b[0m                           Traceback (most recent call last)",
      "\u001b[0;32m<ipython-input-118-6242d75d151e>\u001b[0m in \u001b[0;36m<module>\u001b[0;34m\u001b[0m\n\u001b[1;32m      2\u001b[0m \u001b[0;31m# create data frame\u001b[0m\u001b[0;34m\u001b[0m\u001b[0;34m\u001b[0m\u001b[0;34m\u001b[0m\u001b[0m\n\u001b[1;32m      3\u001b[0m \u001b[0mstart_time\u001b[0m \u001b[0;34m=\u001b[0m \u001b[0mtime\u001b[0m\u001b[0;34m.\u001b[0m\u001b[0mtime\u001b[0m\u001b[0;34m(\u001b[0m\u001b[0;34m)\u001b[0m\u001b[0;34m\u001b[0m\u001b[0;34m\u001b[0m\u001b[0m\n\u001b[0;32m----> 4\u001b[0;31m \u001b[0mnew_data\u001b[0m \u001b[0;34m=\u001b[0m \u001b[0mcreate_emotion\u001b[0m\u001b[0;34m(\u001b[0m\u001b[0mdata\u001b[0m\u001b[0;34m)\u001b[0m\u001b[0;34m\u001b[0m\u001b[0;34m\u001b[0m\u001b[0m\n\u001b[0m\u001b[1;32m      5\u001b[0m \u001b[0mprint\u001b[0m\u001b[0;34m(\u001b[0m\u001b[0;34m\"--- %s seconds ---\"\u001b[0m \u001b[0;34m%\u001b[0m \u001b[0;34m(\u001b[0m\u001b[0mtime\u001b[0m\u001b[0;34m.\u001b[0m\u001b[0mtime\u001b[0m\u001b[0;34m(\u001b[0m\u001b[0;34m)\u001b[0m \u001b[0;34m-\u001b[0m \u001b[0mstart_time\u001b[0m\u001b[0;34m)\u001b[0m\u001b[0;34m)\u001b[0m\u001b[0;34m\u001b[0m\u001b[0;34m\u001b[0m\u001b[0m\n",
      "\u001b[0;32m<ipython-input-96-65f93a594f8b>\u001b[0m in \u001b[0;36mcreate_emotion\u001b[0;34m(df)\u001b[0m\n\u001b[1;32m     48\u001b[0m         \u001b[0;31m# the main function - create emotions of the cleaned text\u001b[0m\u001b[0;34m\u001b[0m\u001b[0;34m\u001b[0m\u001b[0;34m\u001b[0m\u001b[0m\n\u001b[1;32m     49\u001b[0m         \u001b[0;32mtry\u001b[0m\u001b[0;34m:\u001b[0m\u001b[0;34m\u001b[0m\u001b[0;34m\u001b[0m\u001b[0m\n\u001b[0;32m---> 50\u001b[0;31m             \u001b[0memotions\u001b[0m \u001b[0;34m=\u001b[0m \u001b[0memotion_classification\u001b[0m\u001b[0;34m(\u001b[0m\u001b[0mclean_tweet\u001b[0m\u001b[0;34m)\u001b[0m \u001b[0;31m# --- function\u001b[0m\u001b[0;34m\u001b[0m\u001b[0;34m\u001b[0m\u001b[0m\n\u001b[0m\u001b[1;32m     51\u001b[0m             \u001b[0memotions_flag\u001b[0m \u001b[0;34m=\u001b[0m \u001b[0;34m\"NO_FAIL\"\u001b[0m\u001b[0;34m\u001b[0m\u001b[0;34m\u001b[0m\u001b[0m\n\u001b[1;32m     52\u001b[0m         \u001b[0;32mexcept\u001b[0m \u001b[0mApiException\u001b[0m \u001b[0;32mas\u001b[0m \u001b[0mex\u001b[0m\u001b[0;34m:\u001b[0m\u001b[0;34m\u001b[0m\u001b[0;34m\u001b[0m\u001b[0m\n",
      "\u001b[0;32m<ipython-input-5-cb7b3cbb3960>\u001b[0m in \u001b[0;36memotion_classification\u001b[0;34m(Text)\u001b[0m\n\u001b[1;32m     18\u001b[0m             \u001b[0mentities\u001b[0m\u001b[0;34m=\u001b[0m\u001b[0mEntitiesOptions\u001b[0m\u001b[0;34m(\u001b[0m\u001b[0memotion\u001b[0m\u001b[0;34m=\u001b[0m\u001b[0;32mTrue\u001b[0m\u001b[0;34m,\u001b[0m \u001b[0msentiment\u001b[0m\u001b[0;34m=\u001b[0m\u001b[0;32mTrue\u001b[0m\u001b[0;34m,\u001b[0m \u001b[0mlimit\u001b[0m\u001b[0;34m=\u001b[0m\u001b[0;36m2\u001b[0m\u001b[0;34m)\u001b[0m\u001b[0;34m,\u001b[0m\u001b[0;34m\u001b[0m\u001b[0;34m\u001b[0m\u001b[0m\n\u001b[1;32m     19\u001b[0m             keywords=KeywordsOptions(emotion=True, sentiment=True,\n\u001b[0;32m---> 20\u001b[0;31m                                      limit=2))\n\u001b[0m\u001b[1;32m     21\u001b[0m     ).get_result()\n\u001b[1;32m     22\u001b[0m     \u001b[0;32mreturn\u001b[0m\u001b[0;34m(\u001b[0m\u001b[0mresponse\u001b[0m\u001b[0;34m)\u001b[0m\u001b[0;34m\u001b[0m\u001b[0;34m\u001b[0m\u001b[0m\n",
      "\u001b[0;32m~/opt/anaconda3/lib/python3.7/site-packages/ibm_watson/natural_language_understanding_v1.py\u001b[0m in \u001b[0;36manalyze\u001b[0;34m(self, features, text, html, url, clean, xpath, fallback_to_raw, return_analyzed_text, language, limit_text_characters, **kwargs)\u001b[0m\n\u001b[1;32m    183\u001b[0m                                        data=data)\n\u001b[1;32m    184\u001b[0m \u001b[0;34m\u001b[0m\u001b[0m\n\u001b[0;32m--> 185\u001b[0;31m         \u001b[0mresponse\u001b[0m \u001b[0;34m=\u001b[0m \u001b[0mself\u001b[0m\u001b[0;34m.\u001b[0m\u001b[0msend\u001b[0m\u001b[0;34m(\u001b[0m\u001b[0mrequest\u001b[0m\u001b[0;34m)\u001b[0m\u001b[0;34m\u001b[0m\u001b[0;34m\u001b[0m\u001b[0m\n\u001b[0m\u001b[1;32m    186\u001b[0m         \u001b[0;32mreturn\u001b[0m \u001b[0mresponse\u001b[0m\u001b[0;34m\u001b[0m\u001b[0;34m\u001b[0m\u001b[0m\n\u001b[1;32m    187\u001b[0m \u001b[0;34m\u001b[0m\u001b[0m\n",
      "\u001b[0;32m~/opt/anaconda3/lib/python3.7/site-packages/ibm_cloud_sdk_core/base_service.py\u001b[0m in \u001b[0;36msend\u001b[0;34m(self, request, **kwargs)\u001b[0m\n\u001b[1;32m    206\u001b[0m \u001b[0;34m\u001b[0m\u001b[0m\n\u001b[1;32m    207\u001b[0m         \u001b[0;32mtry\u001b[0m\u001b[0;34m:\u001b[0m\u001b[0;34m\u001b[0m\u001b[0;34m\u001b[0m\u001b[0m\n\u001b[0;32m--> 208\u001b[0;31m             \u001b[0mresponse\u001b[0m \u001b[0;34m=\u001b[0m \u001b[0mrequests\u001b[0m\u001b[0;34m.\u001b[0m\u001b[0mrequest\u001b[0m\u001b[0;34m(\u001b[0m\u001b[0;34m**\u001b[0m\u001b[0mrequest\u001b[0m\u001b[0;34m,\u001b[0m \u001b[0mcookies\u001b[0m\u001b[0;34m=\u001b[0m\u001b[0mself\u001b[0m\u001b[0;34m.\u001b[0m\u001b[0mjar\u001b[0m\u001b[0;34m,\u001b[0m \u001b[0;34m**\u001b[0m\u001b[0mkwargs\u001b[0m\u001b[0;34m)\u001b[0m\u001b[0;34m\u001b[0m\u001b[0;34m\u001b[0m\u001b[0m\n\u001b[0m\u001b[1;32m    209\u001b[0m \u001b[0;34m\u001b[0m\u001b[0m\n\u001b[1;32m    210\u001b[0m             \u001b[0;32mif\u001b[0m \u001b[0;36m200\u001b[0m \u001b[0;34m<=\u001b[0m \u001b[0mresponse\u001b[0m\u001b[0;34m.\u001b[0m\u001b[0mstatus_code\u001b[0m \u001b[0;34m<=\u001b[0m \u001b[0;36m299\u001b[0m\u001b[0;34m:\u001b[0m\u001b[0;34m\u001b[0m\u001b[0;34m\u001b[0m\u001b[0m\n",
      "\u001b[0;32m~/opt/anaconda3/lib/python3.7/site-packages/requests/api.py\u001b[0m in \u001b[0;36mrequest\u001b[0;34m(method, url, **kwargs)\u001b[0m\n\u001b[1;32m     59\u001b[0m     \u001b[0;31m# cases, and look like a memory leak in others.\u001b[0m\u001b[0;34m\u001b[0m\u001b[0;34m\u001b[0m\u001b[0;34m\u001b[0m\u001b[0m\n\u001b[1;32m     60\u001b[0m     \u001b[0;32mwith\u001b[0m \u001b[0msessions\u001b[0m\u001b[0;34m.\u001b[0m\u001b[0mSession\u001b[0m\u001b[0;34m(\u001b[0m\u001b[0;34m)\u001b[0m \u001b[0;32mas\u001b[0m \u001b[0msession\u001b[0m\u001b[0;34m:\u001b[0m\u001b[0;34m\u001b[0m\u001b[0;34m\u001b[0m\u001b[0m\n\u001b[0;32m---> 61\u001b[0;31m         \u001b[0;32mreturn\u001b[0m \u001b[0msession\u001b[0m\u001b[0;34m.\u001b[0m\u001b[0mrequest\u001b[0m\u001b[0;34m(\u001b[0m\u001b[0mmethod\u001b[0m\u001b[0;34m=\u001b[0m\u001b[0mmethod\u001b[0m\u001b[0;34m,\u001b[0m \u001b[0murl\u001b[0m\u001b[0;34m=\u001b[0m\u001b[0murl\u001b[0m\u001b[0;34m,\u001b[0m \u001b[0;34m**\u001b[0m\u001b[0mkwargs\u001b[0m\u001b[0;34m)\u001b[0m\u001b[0;34m\u001b[0m\u001b[0;34m\u001b[0m\u001b[0m\n\u001b[0m\u001b[1;32m     62\u001b[0m \u001b[0;34m\u001b[0m\u001b[0m\n\u001b[1;32m     63\u001b[0m \u001b[0;34m\u001b[0m\u001b[0m\n",
      "\u001b[0;32m~/opt/anaconda3/lib/python3.7/site-packages/requests/sessions.py\u001b[0m in \u001b[0;36mrequest\u001b[0;34m(self, method, url, params, data, headers, cookies, files, auth, timeout, allow_redirects, proxies, hooks, stream, verify, cert, json)\u001b[0m\n\u001b[1;32m    528\u001b[0m         }\n\u001b[1;32m    529\u001b[0m         \u001b[0msend_kwargs\u001b[0m\u001b[0;34m.\u001b[0m\u001b[0mupdate\u001b[0m\u001b[0;34m(\u001b[0m\u001b[0msettings\u001b[0m\u001b[0;34m)\u001b[0m\u001b[0;34m\u001b[0m\u001b[0;34m\u001b[0m\u001b[0m\n\u001b[0;32m--> 530\u001b[0;31m         \u001b[0mresp\u001b[0m \u001b[0;34m=\u001b[0m \u001b[0mself\u001b[0m\u001b[0;34m.\u001b[0m\u001b[0msend\u001b[0m\u001b[0;34m(\u001b[0m\u001b[0mprep\u001b[0m\u001b[0;34m,\u001b[0m \u001b[0;34m**\u001b[0m\u001b[0msend_kwargs\u001b[0m\u001b[0;34m)\u001b[0m\u001b[0;34m\u001b[0m\u001b[0;34m\u001b[0m\u001b[0m\n\u001b[0m\u001b[1;32m    531\u001b[0m \u001b[0;34m\u001b[0m\u001b[0m\n\u001b[1;32m    532\u001b[0m         \u001b[0;32mreturn\u001b[0m \u001b[0mresp\u001b[0m\u001b[0;34m\u001b[0m\u001b[0;34m\u001b[0m\u001b[0m\n",
      "\u001b[0;32m~/opt/anaconda3/lib/python3.7/site-packages/requests/sessions.py\u001b[0m in \u001b[0;36msend\u001b[0;34m(self, request, **kwargs)\u001b[0m\n\u001b[1;32m    641\u001b[0m \u001b[0;34m\u001b[0m\u001b[0m\n\u001b[1;32m    642\u001b[0m         \u001b[0;31m# Send the request\u001b[0m\u001b[0;34m\u001b[0m\u001b[0;34m\u001b[0m\u001b[0;34m\u001b[0m\u001b[0m\n\u001b[0;32m--> 643\u001b[0;31m         \u001b[0mr\u001b[0m \u001b[0;34m=\u001b[0m \u001b[0madapter\u001b[0m\u001b[0;34m.\u001b[0m\u001b[0msend\u001b[0m\u001b[0;34m(\u001b[0m\u001b[0mrequest\u001b[0m\u001b[0;34m,\u001b[0m \u001b[0;34m**\u001b[0m\u001b[0mkwargs\u001b[0m\u001b[0;34m)\u001b[0m\u001b[0;34m\u001b[0m\u001b[0;34m\u001b[0m\u001b[0m\n\u001b[0m\u001b[1;32m    644\u001b[0m \u001b[0;34m\u001b[0m\u001b[0m\n\u001b[1;32m    645\u001b[0m         \u001b[0;31m# Total elapsed time of the request (approximately)\u001b[0m\u001b[0;34m\u001b[0m\u001b[0;34m\u001b[0m\u001b[0;34m\u001b[0m\u001b[0m\n",
      "\u001b[0;32m~/opt/anaconda3/lib/python3.7/site-packages/requests/adapters.py\u001b[0m in \u001b[0;36msend\u001b[0;34m(self, request, stream, timeout, verify, cert, proxies)\u001b[0m\n\u001b[1;32m    514\u001b[0m                 \u001b[0;32mraise\u001b[0m \u001b[0mSSLError\u001b[0m\u001b[0;34m(\u001b[0m\u001b[0me\u001b[0m\u001b[0;34m,\u001b[0m \u001b[0mrequest\u001b[0m\u001b[0;34m=\u001b[0m\u001b[0mrequest\u001b[0m\u001b[0;34m)\u001b[0m\u001b[0;34m\u001b[0m\u001b[0;34m\u001b[0m\u001b[0m\n\u001b[1;32m    515\u001b[0m \u001b[0;34m\u001b[0m\u001b[0m\n\u001b[0;32m--> 516\u001b[0;31m             \u001b[0;32mraise\u001b[0m \u001b[0mConnectionError\u001b[0m\u001b[0;34m(\u001b[0m\u001b[0me\u001b[0m\u001b[0;34m,\u001b[0m \u001b[0mrequest\u001b[0m\u001b[0;34m=\u001b[0m\u001b[0mrequest\u001b[0m\u001b[0;34m)\u001b[0m\u001b[0;34m\u001b[0m\u001b[0;34m\u001b[0m\u001b[0m\n\u001b[0m\u001b[1;32m    517\u001b[0m \u001b[0;34m\u001b[0m\u001b[0m\n\u001b[1;32m    518\u001b[0m         \u001b[0;32mexcept\u001b[0m \u001b[0mClosedPoolError\u001b[0m \u001b[0;32mas\u001b[0m \u001b[0me\u001b[0m\u001b[0;34m:\u001b[0m\u001b[0;34m\u001b[0m\u001b[0;34m\u001b[0m\u001b[0m\n",
      "\u001b[0;31mConnectionError\u001b[0m: HTTPSConnectionPool(host='api.eu-gb.natural-language-understanding.watson.cloud.ibm.com', port=443): Max retries exceeded with url: /instances/f80638d4-fc46-4e76-b427-8087219c13fb/v1/analyze?version=2019-07-12 (Caused by NewConnectionError('<urllib3.connection.HTTPSConnection object at 0x7ff6a5c2cc90>: Failed to establish a new connection: [Errno 8] nodename nor servname provided, or not known'))"
     ]
    }
   ],
   "source": [
    "# Make emotional classification\n",
    "# create data frame \n",
    "start_time = time.time()\n",
    "new_data = create_emotion(data)\n",
    "print(\"--- %s seconds ---\" % (time.time() - start_time))"
   ]
  },
  {
   "cell_type": "markdown",
   "metadata": {},
   "source": [
    "# Make emotional classification - split data"
   ]
  },
  {
   "cell_type": "markdown",
   "metadata": {},
   "source": [
    "Not sure what the error message caused\n",
    "\n",
    "- assumption 1: the many requests at ones -> split the data in smaller parts\n",
    "- assumption 2: the 30k requests are all used (unlikely)"
   ]
  },
  {
   "cell_type": "code",
   "execution_count": 19,
   "metadata": {},
   "outputs": [],
   "source": [
    "# one more small test \n",
    "# create a test set of 8000 tweets\n",
    "data_2000 = data.iloc[0:2000,:]\n",
    "data_4000 = data.iloc[2000:4000,:]\n",
    "data_6000 = data.iloc[4000:6000,:]\n",
    "data_8000 = data.iloc[6000:8000,:]\n",
    "data_10000 = data.iloc[8000:,:]\n"
   ]
  },
  {
   "cell_type": "markdown",
   "metadata": {},
   "source": [
    "## Split data - first part"
   ]
  },
  {
   "cell_type": "markdown",
   "metadata": {},
   "source": [
    "# 0-2000"
   ]
  },
  {
   "cell_type": "code",
   "execution_count": 20,
   "metadata": {},
   "outputs": [
    {
     "name": "stdout",
     "output_type": "stream",
     "text": [
      "The uncleand dataframe has  2000  rows and  5  columns.\n",
      "The following index and items are going to be removed:\n",
      "13 pic\n",
      "23 pic\n",
      "34 pic\n",
      "38 link\n",
      "41 pic\n",
      "43 pic\n",
      "44 pic\n",
      "48 #\n",
      "49 pic\n",
      "58 pic\n",
      "105 pic\n",
      "106 pic\n",
      "107 pic\n",
      "108 pic\n",
      "111 pic\n",
      "112 pic\n",
      "117 pic\n",
      "139 link\n",
      "145 link\n",
      "156 link\n",
      "157 pic\n",
      "167 pic\n",
      "187 pic\n",
      "205 link\n",
      "208 #\n",
      "222 pic\n",
      "223 pic\n",
      "225 pic\n",
      "278 link\n",
      "294 pic\n",
      "333 link\n",
      "361 pic\n",
      "362 pic\n",
      "363 pic\n",
      "383 pic\n",
      "431 pic\n",
      "432 pic\n",
      "445 pic\n",
      "455 pic\n",
      "465 pic\n",
      "550 pic\n",
      "551 pic\n",
      "570 pic\n",
      "571 pic\n",
      "572 pic\n",
      "574 link\n",
      "579 pic\n",
      "608 #\n",
      "626 pic\n",
      "653 pic\n",
      "668 link\n",
      "669 pic\n",
      "708 pic\n",
      "711 pic\n",
      "712 pic\n",
      "748 #\n",
      "772 pic\n",
      "820 pic\n",
      "821 pic\n",
      "854 pic\n",
      "880 pic\n",
      "915 link\n",
      "923 pic\n",
      "925 pic\n",
      "928 pic\n",
      "936 pic\n",
      "939 pic\n",
      "963 pic\n",
      "964 pic\n",
      "965 pic\n",
      "977 pic\n",
      "985 pic\n",
      "987 pic\n",
      "1009 pic\n",
      "1013 link\n",
      "1020 pic\n",
      "1030 pic\n",
      "1031 pic\n",
      "1039 link\n",
      "1045 pic\n",
      "1048 pic\n",
      "1049 pic\n",
      "1051 pic\n",
      "1055 pic\n",
      "1060 pic\n",
      "1061 pic\n",
      "1062 pic\n",
      "1064 pic\n",
      "1065 pic\n",
      "1066 pic\n",
      "1067 pic\n",
      "1079 pic\n",
      "1080 pic\n",
      "1081 pic\n",
      "1091 #\n",
      "1092 pic\n",
      "1094 link\n",
      "1099 pic\n",
      "1100 pic\n",
      "1101 pic\n",
      "1102 pic\n",
      "1103 pic\n",
      "1126 pic\n",
      "1164 link\n",
      "1165 link\n",
      "1168 link\n",
      "1169 pic\n",
      "1170 pic\n",
      "1177 link\n",
      "1201 pic\n",
      "1218 link\n",
      "1232 #\n",
      "1271 pic\n",
      "1289 pic\n",
      "1342 pic\n",
      "1385 pic\n",
      "1386 link\n",
      "1411 link\n",
      "1412 link\n",
      "1446 link\n",
      "1478 pic\n",
      "1479 pic\n",
      "1480 pic\n",
      "1490 pic\n",
      "1491 pic\n",
      "1494 pic\n",
      "1498 pic\n",
      "1503 link\n",
      "1515 #\n",
      "1522 pic\n",
      "1524 pic\n",
      "1549 pic\n",
      "1562 pic\n",
      "1575 link\n",
      "1604 pic\n",
      "1607 pic\n",
      "1608 pic\n",
      "1609 pic\n",
      "1644 link\n",
      "1645 pic\n",
      "1681 pic\n",
      "1682 pic\n",
      "1697 pic\n",
      "1725 pic\n",
      "1726 pic\n",
      "1739 pic\n",
      "1755 pic\n",
      "1784 pic\n",
      "1785 pic\n",
      "1787 #\n",
      "1796 pic\n",
      "1797 pic\n",
      "1798 pic\n",
      "1807 pic\n",
      "1817 pic\n",
      "1819 pic\n",
      "1836 pic\n",
      "1844 pic\n",
      "1849 pic\n",
      "1872 pic\n",
      "1896 #\n",
      "1912 pic\n",
      "1918 pic\n",
      "1921 pic\n",
      "1931 #\n",
      "1940 pic\n",
      "1942 pic\n",
      "1954 pic\n",
      "1955 pic\n",
      "1957 pic\n",
      "1960 pic\n",
      "1978 link\n",
      "1986 pic\n",
      "1992 pic\n",
      "1993 pic\n",
      "1994 pic\n",
      "1996 pic\n",
      "1997 pic\n",
      "1998 pic\n",
      "The cleand dataframe has  1821  rows and  5  columns.\n",
      "-- Wation Natural Language Understanding is now going to create emotions for every tweet--\n",
      "0 emotional classifications done!\n",
      "10 emotional classifications done!\n"
     ]
    },
    {
     "name": "stderr",
     "output_type": "stream",
     "text": [
      "ERROR:root:not enough text for language id\n",
      "Traceback (most recent call last):\n",
      "  File \"/Users/phillipholscher/opt/anaconda3/lib/python3.7/site-packages/ibm_cloud_sdk_core/base_service.py\", line 229, in send\n",
      "    response.status_code, error_message, http_response=response)\n",
      "ibm_cloud_sdk_core.api_exception.ApiException: Error: not enough text for language id, Code: 422 , X-global-transaction-id: 70c4fc58-5511-4830-b31e-5d62dca9bcea\n"
     ]
    },
    {
     "name": "stdout",
     "output_type": "stream",
     "text": [
      "FAIL: 12 Not good! \n",
      "20 emotional classifications done!\n"
     ]
    },
    {
     "name": "stderr",
     "output_type": "stream",
     "text": [
      "ERROR:root:not enough text for language id\n",
      "Traceback (most recent call last):\n",
      "  File \"/Users/phillipholscher/opt/anaconda3/lib/python3.7/site-packages/ibm_cloud_sdk_core/base_service.py\", line 229, in send\n",
      "    response.status_code, error_message, http_response=response)\n",
      "ibm_cloud_sdk_core.api_exception.ApiException: Error: not enough text for language id, Code: 422 , X-global-transaction-id: 11dec349-d864-4073-8d2a-23c241414dc8\n"
     ]
    },
    {
     "name": "stdout",
     "output_type": "stream",
     "text": [
      "FAIL: 25 So do I! \n",
      "30 emotional classifications done!\n"
     ]
    },
    {
     "name": "stderr",
     "output_type": "stream",
     "text": [
      "ERROR:root:not enough text for language id\n",
      "Traceback (most recent call last):\n",
      "  File \"/Users/phillipholscher/opt/anaconda3/lib/python3.7/site-packages/ibm_cloud_sdk_core/base_service.py\", line 229, in send\n",
      "    response.status_code, error_message, http_response=response)\n",
      "ibm_cloud_sdk_core.api_exception.ApiException: Error: not enough text for language id, Code: 422 , X-global-transaction-id: c1a681a1-8a46-496b-9656-be1321e0a0d2\n"
     ]
    },
    {
     "name": "stdout",
     "output_type": "stream",
     "text": [
      "FAIL: 34 So true! \n",
      "40 emotional classifications done!\n",
      "50 emotional classifications done!\n"
     ]
    },
    {
     "name": "stderr",
     "output_type": "stream",
     "text": [
      "ERROR:root:unsupported text language: unknown\n",
      "Traceback (most recent call last):\n",
      "  File \"/Users/phillipholscher/opt/anaconda3/lib/python3.7/site-packages/ibm_cloud_sdk_core/base_service.py\", line 229, in send\n",
      "    response.status_code, error_message, http_response=response)\n",
      "ibm_cloud_sdk_core.api_exception.ApiException: Error: unsupported text language: unknown, Code: 400 , X-global-transaction-id: d40b3e32-2d24-492a-a381-63a0bd015359\n"
     ]
    },
    {
     "name": "stdout",
     "output_type": "stream",
     "text": [
      "FAIL: 54 @LindseyGrahamSC \n",
      "60 emotional classifications done!\n"
     ]
    },
    {
     "name": "stderr",
     "output_type": "stream",
     "text": [
      "ERROR:root:not enough text for language id\n",
      "Traceback (most recent call last):\n",
      "  File \"/Users/phillipholscher/opt/anaconda3/lib/python3.7/site-packages/ibm_cloud_sdk_core/base_service.py\", line 229, in send\n",
      "    response.status_code, error_message, http_response=response)\n",
      "ibm_cloud_sdk_core.api_exception.ApiException: Error: not enough text for language id, Code: 422 , X-global-transaction-id: 517ddeaa-9321-4cf9-b013-d2cf42ef8485\n"
     ]
    },
    {
     "name": "stdout",
     "output_type": "stream",
     "text": [
      "FAIL: 68 Correct! \n",
      "70 emotional classifications done!\n",
      "80 emotional classifications done!\n",
      "90 emotional classifications done!\n"
     ]
    },
    {
     "name": "stderr",
     "output_type": "stream",
     "text": [
      "ERROR:root:not enough text for language id\n",
      "Traceback (most recent call last):\n",
      "  File \"/Users/phillipholscher/opt/anaconda3/lib/python3.7/site-packages/ibm_cloud_sdk_core/base_service.py\", line 229, in send\n",
      "    response.status_code, error_message, http_response=response)\n",
      "ibm_cloud_sdk_core.api_exception.ApiException: Error: not enough text for language id, Code: 422 , X-global-transaction-id: bd78b78c-ed25-4df6-9695-12938880bd3f\n"
     ]
    },
    {
     "name": "stdout",
     "output_type": "stream",
     "text": [
      "100 emotional classifications done!\n",
      "FAIL: 100 GAME OVER! \n",
      "110 emotional classifications done!\n"
     ]
    },
    {
     "name": "stderr",
     "output_type": "stream",
     "text": [
      "ERROR:root:not enough text for language id\n",
      "Traceback (most recent call last):\n",
      "  File \"/Users/phillipholscher/opt/anaconda3/lib/python3.7/site-packages/ibm_cloud_sdk_core/base_service.py\", line 229, in send\n",
      "    response.status_code, error_message, http_response=response)\n",
      "ibm_cloud_sdk_core.api_exception.ApiException: Error: not enough text for language id, Code: 422 , X-global-transaction-id: 54802b3a-3a64-489b-bb8c-f4fdada987dd\n"
     ]
    },
    {
     "name": "stdout",
     "output_type": "stream",
     "text": [
      "FAIL: 114 Thank you! \n",
      "120 emotional classifications done!\n",
      "130 emotional classifications done!\n",
      "140 emotional classifications done!\n",
      "150 emotional classifications done!\n",
      "160 emotional classifications done!\n"
     ]
    },
    {
     "name": "stderr",
     "output_type": "stream",
     "text": [
      "ERROR:root:not enough text for language id\n",
      "Traceback (most recent call last):\n",
      "  File \"/Users/phillipholscher/opt/anaconda3/lib/python3.7/site-packages/ibm_cloud_sdk_core/base_service.py\", line 229, in send\n",
      "    response.status_code, error_message, http_response=response)\n",
      "ibm_cloud_sdk_core.api_exception.ApiException: Error: not enough text for language id, Code: 422 , X-global-transaction-id: f235b472-f66d-4317-81d9-45ec1f3eb2e5\n"
     ]
    },
    {
     "name": "stdout",
     "output_type": "stream",
     "text": [
      "FAIL: 164 True! \n"
     ]
    },
    {
     "name": "stderr",
     "output_type": "stream",
     "text": [
      "ERROR:root:unsupported text language: fa\n",
      "Traceback (most recent call last):\n",
      "  File \"/Users/phillipholscher/opt/anaconda3/lib/python3.7/site-packages/ibm_cloud_sdk_core/base_service.py\", line 229, in send\n",
      "    response.status_code, error_message, http_response=response)\n",
      "ibm_cloud_sdk_core.api_exception.ApiException: Error: unsupported text language: fa, Code: 400 , X-global-transaction-id: 7aab0dd9-a547-45e2-a60c-b3c4193bd738\n"
     ]
    },
    {
     "name": "stdout",
     "output_type": "stream",
     "text": [
      "FAIL: 166 وزیر امور خارجه ایران می گوید ایران خواستار مذاکره با ایالات متحده است اما می خواهد که تحریم ها برداشته شود. @FoxNews @OANN نه، مرسی! \n",
      "170 emotional classifications done!\n",
      "180 emotional classifications done!\n",
      "190 emotional classifications done!\n"
     ]
    },
    {
     "name": "stderr",
     "output_type": "stream",
     "text": [
      "ERROR:root:not enough text for language id\n",
      "Traceback (most recent call last):\n",
      "  File \"/Users/phillipholscher/opt/anaconda3/lib/python3.7/site-packages/ibm_cloud_sdk_core/base_service.py\", line 229, in send\n",
      "    response.status_code, error_message, http_response=response)\n",
      "ibm_cloud_sdk_core.api_exception.ApiException: Error: not enough text for language id, Code: 422 , X-global-transaction-id: fa432c1d-a57c-4ffd-b5d6-ccd3148047fb\n"
     ]
    },
    {
     "name": "stdout",
     "output_type": "stream",
     "text": [
      "FAIL: 198 True! \n",
      "200 emotional classifications done!\n",
      "210 emotional classifications done!\n",
      "220 emotional classifications done!\n"
     ]
    },
    {
     "name": "stderr",
     "output_type": "stream",
     "text": [
      "ERROR:root:not enough text for language id\n",
      "Traceback (most recent call last):\n",
      "  File \"/Users/phillipholscher/opt/anaconda3/lib/python3.7/site-packages/ibm_cloud_sdk_core/base_service.py\", line 229, in send\n",
      "    response.status_code, error_message, http_response=response)\n",
      "ibm_cloud_sdk_core.api_exception.ApiException: Error: not enough text for language id, Code: 422 , X-global-transaction-id: e177d7ad-889d-445f-a856-5e5b6ee08fae\n"
     ]
    },
    {
     "name": "stdout",
     "output_type": "stream",
     "text": [
      "FAIL: 224 True! \n",
      "230 emotional classifications done!\n"
     ]
    },
    {
     "name": "stderr",
     "output_type": "stream",
     "text": [
      "ERROR:root:not enough text for language id\n",
      "Traceback (most recent call last):\n",
      "  File \"/Users/phillipholscher/opt/anaconda3/lib/python3.7/site-packages/ibm_cloud_sdk_core/base_service.py\", line 229, in send\n",
      "    response.status_code, error_message, http_response=response)\n",
      "ibm_cloud_sdk_core.api_exception.ApiException: Error: not enough text for language id, Code: 422 , X-global-transaction-id: 02768cda-dda0-4478-b5b7-b4e567ba1b31\n"
     ]
    },
    {
     "name": "stdout",
     "output_type": "stream",
     "text": [
      "FAIL: 236 ENJOY! \n"
     ]
    },
    {
     "name": "stderr",
     "output_type": "stream",
     "text": [
      "ERROR:root:not enough text for language id\n",
      "Traceback (most recent call last):\n",
      "  File \"/Users/phillipholscher/opt/anaconda3/lib/python3.7/site-packages/ibm_cloud_sdk_core/base_service.py\", line 229, in send\n",
      "    response.status_code, error_message, http_response=response)\n",
      "ibm_cloud_sdk_core.api_exception.ApiException: Error: not enough text for language id, Code: 422 , X-global-transaction-id: e5e27d37-1ab2-44a7-8675-66fa63aba209\n"
     ]
    },
    {
     "name": "stdout",
     "output_type": "stream",
     "text": [
      "FAIL: 239 Wow! \n",
      "240 emotional classifications done!\n"
     ]
    },
    {
     "name": "stderr",
     "output_type": "stream",
     "text": [
      "ERROR:root:not enough text for language id\n",
      "Traceback (most recent call last):\n",
      "  File \"/Users/phillipholscher/opt/anaconda3/lib/python3.7/site-packages/ibm_cloud_sdk_core/base_service.py\", line 229, in send\n",
      "    response.status_code, error_message, http_response=response)\n",
      "ibm_cloud_sdk_core.api_exception.ApiException: Error: not enough text for language id, Code: 422 , X-global-transaction-id: cae41266-6328-439e-af6c-ee3e0b381d12\n"
     ]
    },
    {
     "name": "stdout",
     "output_type": "stream",
     "text": [
      "FAIL: 249 Excellent! \n",
      "250 emotional classifications done!\n"
     ]
    },
    {
     "name": "stderr",
     "output_type": "stream",
     "text": [
      "ERROR:root:not enough text for language id\n",
      "Traceback (most recent call last):\n",
      "  File \"/Users/phillipholscher/opt/anaconda3/lib/python3.7/site-packages/ibm_cloud_sdk_core/base_service.py\", line 229, in send\n",
      "    response.status_code, error_message, http_response=response)\n",
      "ibm_cloud_sdk_core.api_exception.ApiException: Error: not enough text for language id, Code: 422 , X-global-transaction-id: c44823a3-29e2-40c1-bdd2-9af863b9bce5\n"
     ]
    },
    {
     "name": "stdout",
     "output_type": "stream",
     "text": [
      "FAIL: 255 USA! USA! USA!\n",
      "260 emotional classifications done!\n",
      "270 emotional classifications done!\n"
     ]
    },
    {
     "name": "stderr",
     "output_type": "stream",
     "text": [
      "ERROR:root:unsupported text language: fa\n",
      "Traceback (most recent call last):\n",
      "  File \"/Users/phillipholscher/opt/anaconda3/lib/python3.7/site-packages/ibm_cloud_sdk_core/base_service.py\", line 229, in send\n",
      "    response.status_code, error_message, http_response=response)\n",
      "ibm_cloud_sdk_core.api_exception.ApiException: Error: unsupported text language: fa, Code: 400 , X-global-transaction-id: 8ae7b948-13f7-4883-802f-2fde11b4bae0\n"
     ]
    },
    {
     "name": "stdout",
     "output_type": "stream",
     "text": [
      "FAIL: 277 مردم نجیب ایران، که آمریکا را دوست می دارند، سزاوار دولتی هستند که بیش از تمرکز بر کشتن آنها به جرم احترام خواهی، به آنها کمک کند تا به رؤیاهایشان دست یابند. رهبران ایران به جای آن که ایران را به سمت ویرانی بکشانند، باید هراس افکنی را کنار بنهند و ایران را دوباره باعظمت کنند! \n",
      "280 emotional classifications done!\n",
      "290 emotional classifications done!\n"
     ]
    },
    {
     "name": "stderr",
     "output_type": "stream",
     "text": [
      "ERROR:root:not enough text for language id\n",
      "Traceback (most recent call last):\n",
      "  File \"/Users/phillipholscher/opt/anaconda3/lib/python3.7/site-packages/ibm_cloud_sdk_core/base_service.py\", line 229, in send\n",
      "    response.status_code, error_message, http_response=response)\n",
      "ibm_cloud_sdk_core.api_exception.ApiException: Error: not enough text for language id, Code: 422 , X-global-transaction-id: 13d62759-749c-45b0-a4b6-3c86b8c613fb\n"
     ]
    },
    {
     "name": "stdout",
     "output_type": "stream",
     "text": [
      "FAIL: 294 THANK YOU! \n",
      "300 emotional classifications done!\n",
      "310 emotional classifications done!\n"
     ]
    },
    {
     "name": "stderr",
     "output_type": "stream",
     "text": [
      "ERROR:root:not enough text for language id\n",
      "Traceback (most recent call last):\n",
      "  File \"/Users/phillipholscher/opt/anaconda3/lib/python3.7/site-packages/ibm_cloud_sdk_core/base_service.py\", line 229, in send\n",
      "    response.status_code, error_message, http_response=response)\n",
      "ibm_cloud_sdk_core.api_exception.ApiException: Error: not enough text for language id, Code: 422 , X-global-transaction-id: b8f46f62-299a-4048-8734-9a068f5356a6\n"
     ]
    },
    {
     "name": "stdout",
     "output_type": "stream",
     "text": [
      "FAIL: 316 Thank you! \n",
      "320 emotional classifications done!\n"
     ]
    },
    {
     "name": "stderr",
     "output_type": "stream",
     "text": [
      "ERROR:root:unsupported text language: fa\n",
      "Traceback (most recent call last):\n",
      "  File \"/Users/phillipholscher/opt/anaconda3/lib/python3.7/site-packages/ibm_cloud_sdk_core/base_service.py\", line 229, in send\n",
      "    response.status_code, error_message, http_response=response)\n",
      "ibm_cloud_sdk_core.api_exception.ApiException: Error: unsupported text language: fa, Code: 400 , X-global-transaction-id: c7fc0d89-fb22-4317-b37d-ee7aeece60a3\n"
     ]
    },
    {
     "name": "stdout",
     "output_type": "stream",
     "text": [
      "FAIL: 327 مشاور امنیت ملی امروز عنوان کرد كه تحریم ها و اعتراضات، ایران را«به شدت تحت فشار»قرار داده است و آنها را مجبور به مذاكره می كند.در واقع، اصلا برایم اهمیتی نداردکه آیا آنها مذاکره می کنند یا نه.این کاملاً به عهده ی خودشان است، اما سلاح هسته ای نداشته باشیدو«معترضان خود را نکشید.» \n",
      "330 emotional classifications done!\n"
     ]
    },
    {
     "name": "stderr",
     "output_type": "stream",
     "text": [
      "ERROR:root:unsupported text language: fa\n",
      "Traceback (most recent call last):\n",
      "  File \"/Users/phillipholscher/opt/anaconda3/lib/python3.7/site-packages/ibm_cloud_sdk_core/base_service.py\", line 229, in send\n",
      "    response.status_code, error_message, http_response=response)\n",
      "ibm_cloud_sdk_core.api_exception.ApiException: Error: unsupported text language: fa, Code: 400 , X-global-transaction-id: c4bfffac-7dbc-4b2b-8ce2-e3d9e9d175e2\n"
     ]
    },
    {
     "name": "stdout",
     "output_type": "stream",
     "text": [
      "FAIL: 334 خطاب به رهبران ايران: معترضان خود را نكشيد. هزاران تن تاكنون به دست شما كشته يا زنداني شده اند، و جهان نظاره گر است. مهمتر از ان، ايالات متحده نظاره گر است. اينترنت را دوباره وصل كنيد و به خبرنگاران اجازه دهيد ازادانه حركت كنند! كشتار مردم بزرگ ايران را متوقف كنيد! \n",
      "340 emotional classifications done!\n"
     ]
    },
    {
     "name": "stderr",
     "output_type": "stream",
     "text": [
      "ERROR:root:unsupported text language: fa\n",
      "Traceback (most recent call last):\n",
      "  File \"/Users/phillipholscher/opt/anaconda3/lib/python3.7/site-packages/ibm_cloud_sdk_core/base_service.py\", line 229, in send\n",
      "    response.status_code, error_message, http_response=response)\n",
      "ibm_cloud_sdk_core.api_exception.ApiException: Error: unsupported text language: fa, Code: 400 , X-global-transaction-id: 73938b65-ee8f-48bc-a423-a6cbccbaec30\n"
     ]
    },
    {
     "name": "stdout",
     "output_type": "stream",
     "text": [
      "FAIL: 349 دولت ایران باید به گروه‌های حقوق بشر اجازه بدهد حقیقت کنونی اعتراضات در جریان مردم ایران را نظارت کرده و گزارش بدهند. نباید شاهد کشتار دوباره ی معترضان مسالمت آمیز و یا قطع اینترنت باشیم. جهان نظاره گر این اتفاقات است.\n",
      "350 emotional classifications done!\n"
     ]
    },
    {
     "name": "stderr",
     "output_type": "stream",
     "text": [
      "ERROR:root:unsupported text language: fa\n",
      "Traceback (most recent call last):\n",
      "  File \"/Users/phillipholscher/opt/anaconda3/lib/python3.7/site-packages/ibm_cloud_sdk_core/base_service.py\", line 229, in send\n",
      "    response.status_code, error_message, http_response=response)\n",
      "ibm_cloud_sdk_core.api_exception.ApiException: Error: unsupported text language: fa, Code: 400 , X-global-transaction-id: efcb8846-284c-4de7-bb9c-1b52efbb8956\n"
     ]
    },
    {
     "name": "stdout",
     "output_type": "stream",
     "text": [
      "FAIL: 351 به مردم شجاع و رنج کشیده ایران: من از ابتدای دوره ریاست جمهوریم با شما ایستاده‌ام و دولت من همچنان با شما خواهد ایستاد. ما اعتراضات شما را از نزدیک دنبال می کنیم. شجاعت شما الهام بخش است.\n",
      "360 emotional classifications done!\n",
      "370 emotional classifications done!\n"
     ]
    },
    {
     "name": "stderr",
     "output_type": "stream",
     "text": [
      "ERROR:root:not enough text for language id\n",
      "Traceback (most recent call last):\n",
      "  File \"/Users/phillipholscher/opt/anaconda3/lib/python3.7/site-packages/ibm_cloud_sdk_core/base_service.py\", line 229, in send\n",
      "    response.status_code, error_message, http_response=response)\n",
      "ibm_cloud_sdk_core.api_exception.ApiException: Error: not enough text for language id, Code: 422 , X-global-transaction-id: e808e4e5-c508-4987-9baa-600f1ec21e20\n"
     ]
    },
    {
     "name": "stdout",
     "output_type": "stream",
     "text": [
      "FAIL: 377 Thank you! \n",
      "380 emotional classifications done!\n"
     ]
    },
    {
     "name": "stderr",
     "output_type": "stream",
     "text": [
      "ERROR:root:not enough text for language id\n",
      "Traceback (most recent call last):\n",
      "  File \"/Users/phillipholscher/opt/anaconda3/lib/python3.7/site-packages/ibm_cloud_sdk_core/base_service.py\", line 229, in send\n",
      "    response.status_code, error_message, http_response=response)\n",
      "ibm_cloud_sdk_core.api_exception.ApiException: Error: not enough text for language id, Code: 422 , X-global-transaction-id: 644eaa65-c75e-4617-814a-c37ccf8d4612\n",
      "ERROR:root:not enough text for language id\n",
      "Traceback (most recent call last):\n",
      "  File \"/Users/phillipholscher/opt/anaconda3/lib/python3.7/site-packages/ibm_cloud_sdk_core/base_service.py\", line 229, in send\n",
      "    response.status_code, error_message, http_response=response)\n",
      "ibm_cloud_sdk_core.api_exception.ApiException: Error: not enough text for language id, Code: 422 , X-global-transaction-id: 3fcc75b6-39fd-4fd2-8521-2ee79ad9a858\n"
     ]
    },
    {
     "name": "stdout",
     "output_type": "stream",
     "text": [
      "FAIL: 386 Great! \n",
      "FAIL: 387 WINRED! \n"
     ]
    },
    {
     "name": "stderr",
     "output_type": "stream",
     "text": [
      "ERROR:root:not enough text for language id\n",
      "Traceback (most recent call last):\n",
      "  File \"/Users/phillipholscher/opt/anaconda3/lib/python3.7/site-packages/ibm_cloud_sdk_core/base_service.py\", line 229, in send\n",
      "    response.status_code, error_message, http_response=response)\n",
      "ibm_cloud_sdk_core.api_exception.ApiException: Error: not enough text for language id, Code: 422 , X-global-transaction-id: f16a4011-ffee-4eb2-87ac-848eeb90b657\n"
     ]
    },
    {
     "name": "stdout",
     "output_type": "stream",
     "text": [
      "FAIL: 388 See you later! \n",
      "390 emotional classifications done!\n",
      "400 emotional classifications done!\n",
      "410 emotional classifications done!\n",
      "420 emotional classifications done!\n",
      "430 emotional classifications done!\n",
      "440 emotional classifications done!\n",
      "450 emotional classifications done!\n",
      "460 emotional classifications done!\n",
      "470 emotional classifications done!\n",
      "480 emotional classifications done!\n",
      "490 emotional classifications done!\n",
      "500 emotional classifications done!\n",
      "510 emotional classifications done!\n"
     ]
    },
    {
     "name": "stderr",
     "output_type": "stream",
     "text": [
      "ERROR:root:not enough text for language id\n",
      "Traceback (most recent call last):\n",
      "  File \"/Users/phillipholscher/opt/anaconda3/lib/python3.7/site-packages/ibm_cloud_sdk_core/base_service.py\", line 229, in send\n",
      "    response.status_code, error_message, http_response=response)\n",
      "ibm_cloud_sdk_core.api_exception.ApiException: Error: not enough text for language id, Code: 422 , X-global-transaction-id: 91e258cb-c082-4ce5-80e1-e5c7e7e50e72\n"
     ]
    },
    {
     "name": "stdout",
     "output_type": "stream",
     "text": [
      "520 emotional classifications done!\n",
      "FAIL: 520 I agree 100%! \n",
      "530 emotional classifications done!\n",
      "540 emotional classifications done!\n"
     ]
    },
    {
     "name": "stderr",
     "output_type": "stream",
     "text": [
      "ERROR:root:not enough text for language id\n",
      "Traceback (most recent call last):\n",
      "  File \"/Users/phillipholscher/opt/anaconda3/lib/python3.7/site-packages/ibm_cloud_sdk_core/base_service.py\", line 229, in send\n",
      "    response.status_code, error_message, http_response=response)\n",
      "ibm_cloud_sdk_core.api_exception.ApiException: Error: not enough text for language id, Code: 422 , X-global-transaction-id: 60a67c6f-02c1-4c0a-97dd-1d83605007cc\n"
     ]
    },
    {
     "name": "stdout",
     "output_type": "stream",
     "text": [
      "FAIL: 544 THANK YOU! \n",
      "550 emotional classifications done!\n",
      "560 emotional classifications done!\n",
      "570 emotional classifications done!\n"
     ]
    },
    {
     "name": "stderr",
     "output_type": "stream",
     "text": [
      "ERROR:root:not enough text for language id\n",
      "Traceback (most recent call last):\n",
      "  File \"/Users/phillipholscher/opt/anaconda3/lib/python3.7/site-packages/ibm_cloud_sdk_core/base_service.py\", line 229, in send\n",
      "    response.status_code, error_message, http_response=response)\n",
      "ibm_cloud_sdk_core.api_exception.ApiException: Error: not enough text for language id, Code: 422 , X-global-transaction-id: 89e8fc8d-f970-4f25-9322-c783914cdbb8\n"
     ]
    },
    {
     "name": "stdout",
     "output_type": "stream",
     "text": [
      "FAIL: 578 THANK YOU! \n",
      "580 emotional classifications done!\n"
     ]
    },
    {
     "name": "stderr",
     "output_type": "stream",
     "text": [
      "ERROR:root:not enough text for language id\n",
      "Traceback (most recent call last):\n",
      "  File \"/Users/phillipholscher/opt/anaconda3/lib/python3.7/site-packages/ibm_cloud_sdk_core/base_service.py\", line 229, in send\n",
      "    response.status_code, error_message, http_response=response)\n",
      "ibm_cloud_sdk_core.api_exception.ApiException: Error: not enough text for language id, Code: 422 , X-global-transaction-id: 82a1da2b-3d57-4a33-8fc5-61f14a0a28b3\n"
     ]
    },
    {
     "name": "stdout",
     "output_type": "stream",
     "text": [
      "FAIL: 585 Thank you! \n"
     ]
    },
    {
     "name": "stderr",
     "output_type": "stream",
     "text": [
      "ERROR:root:not enough text for language id\n",
      "Traceback (most recent call last):\n",
      "  File \"/Users/phillipholscher/opt/anaconda3/lib/python3.7/site-packages/ibm_cloud_sdk_core/base_service.py\", line 229, in send\n",
      "    response.status_code, error_message, http_response=response)\n",
      "ibm_cloud_sdk_core.api_exception.ApiException: Error: not enough text for language id, Code: 422 , X-global-transaction-id: 57719291-f2d7-4dd4-81ce-30b1b6ee7bb8\n"
     ]
    },
    {
     "name": "stdout",
     "output_type": "stream",
     "text": [
      "FAIL: 588 Thank you! \n",
      "590 emotional classifications done!\n",
      "600 emotional classifications done!\n",
      "610 emotional classifications done!\n"
     ]
    },
    {
     "name": "stderr",
     "output_type": "stream",
     "text": [
      "ERROR:root:not enough text for language id\n",
      "Traceback (most recent call last):\n",
      "  File \"/Users/phillipholscher/opt/anaconda3/lib/python3.7/site-packages/ibm_cloud_sdk_core/base_service.py\", line 229, in send\n",
      "    response.status_code, error_message, http_response=response)\n",
      "ibm_cloud_sdk_core.api_exception.ApiException: Error: not enough text for language id, Code: 422 , X-global-transaction-id: 29344804-19a3-46bc-9410-c1c5a48c9784\n"
     ]
    },
    {
     "name": "stdout",
     "output_type": "stream",
     "text": [
      "FAIL: 619 Wow! \n",
      "620 emotional classifications done!\n",
      "630 emotional classifications done!\n"
     ]
    },
    {
     "name": "stderr",
     "output_type": "stream",
     "text": [
      "ERROR:root:not enough text for language id\n",
      "Traceback (most recent call last):\n",
      "  File \"/Users/phillipholscher/opt/anaconda3/lib/python3.7/site-packages/ibm_cloud_sdk_core/base_service.py\", line 229, in send\n",
      "    response.status_code, error_message, http_response=response)\n",
      "ibm_cloud_sdk_core.api_exception.ApiException: Error: not enough text for language id, Code: 422 , X-global-transaction-id: 23d6d1f4-c194-4904-b870-e11b4a3ed4ee\n"
     ]
    },
    {
     "name": "stdout",
     "output_type": "stream",
     "text": [
      "FAIL: 634 Fake News! \n",
      "640 emotional classifications done!\n",
      "650 emotional classifications done!\n",
      "660 emotional classifications done!\n",
      "670 emotional classifications done!\n",
      "680 emotional classifications done!\n",
      "690 emotional classifications done!\n"
     ]
    },
    {
     "name": "stderr",
     "output_type": "stream",
     "text": [
      "ERROR:root:not enough text for language id\n",
      "Traceback (most recent call last):\n",
      "  File \"/Users/phillipholscher/opt/anaconda3/lib/python3.7/site-packages/ibm_cloud_sdk_core/base_service.py\", line 229, in send\n",
      "    response.status_code, error_message, http_response=response)\n",
      "ibm_cloud_sdk_core.api_exception.ApiException: Error: not enough text for language id, Code: 422 , X-global-transaction-id: 09b00ba2-4818-483e-8ae9-4d9a450cf91b\n"
     ]
    },
    {
     "name": "stdout",
     "output_type": "stream",
     "text": [
      "FAIL: 691 Big!!! \n"
     ]
    },
    {
     "name": "stderr",
     "output_type": "stream",
     "text": [
      "ERROR:root:not enough text for language id\n",
      "Traceback (most recent call last):\n",
      "  File \"/Users/phillipholscher/opt/anaconda3/lib/python3.7/site-packages/ibm_cloud_sdk_core/base_service.py\", line 229, in send\n",
      "    response.status_code, error_message, http_response=response)\n",
      "ibm_cloud_sdk_core.api_exception.ApiException: Error: not enough text for language id, Code: 422 , X-global-transaction-id: 6bfac3aa-d458-4313-8ce0-f5446182bf95\n"
     ]
    },
    {
     "name": "stdout",
     "output_type": "stream",
     "text": [
      "FAIL: 693 I agree! \n"
     ]
    },
    {
     "name": "stderr",
     "output_type": "stream",
     "text": [
      "ERROR:root:not enough text for language id\n",
      "Traceback (most recent call last):\n",
      "  File \"/Users/phillipholscher/opt/anaconda3/lib/python3.7/site-packages/ibm_cloud_sdk_core/base_service.py\", line 229, in send\n",
      "    response.status_code, error_message, http_response=response)\n",
      "ibm_cloud_sdk_core.api_exception.ApiException: Error: not enough text for language id, Code: 422 , X-global-transaction-id: cc27fb74-c366-4f99-9fd3-91a4b118043c\n"
     ]
    },
    {
     "name": "stdout",
     "output_type": "stream",
     "text": [
      "FAIL: 695 Amazing! \n"
     ]
    },
    {
     "name": "stderr",
     "output_type": "stream",
     "text": [
      "ERROR:root:not enough text for language id\n",
      "Traceback (most recent call last):\n",
      "  File \"/Users/phillipholscher/opt/anaconda3/lib/python3.7/site-packages/ibm_cloud_sdk_core/base_service.py\", line 229, in send\n",
      "    response.status_code, error_message, http_response=response)\n",
      "ibm_cloud_sdk_core.api_exception.ApiException: Error: not enough text for language id, Code: 422 , X-global-transaction-id: b1f8199a-cc44-4223-b1ff-95c5ea9b5566\n"
     ]
    },
    {
     "name": "stdout",
     "output_type": "stream",
     "text": [
      "FAIL: 697 True! \n"
     ]
    },
    {
     "name": "stderr",
     "output_type": "stream",
     "text": [
      "ERROR:root:not enough text for language id\n",
      "Traceback (most recent call last):\n",
      "  File \"/Users/phillipholscher/opt/anaconda3/lib/python3.7/site-packages/ibm_cloud_sdk_core/base_service.py\", line 229, in send\n",
      "    response.status_code, error_message, http_response=response)\n",
      "ibm_cloud_sdk_core.api_exception.ApiException: Error: not enough text for language id, Code: 422 , X-global-transaction-id: 5e3fe4b3-ed6e-4b64-84bf-177205c74999\n"
     ]
    },
    {
     "name": "stdout",
     "output_type": "stream",
     "text": [
      "FAIL: 699 Very sad! \n",
      "700 emotional classifications done!\n"
     ]
    },
    {
     "name": "stderr",
     "output_type": "stream",
     "text": [
      "ERROR:root:not enough text for language id\n",
      "Traceback (most recent call last):\n",
      "  File \"/Users/phillipholscher/opt/anaconda3/lib/python3.7/site-packages/ibm_cloud_sdk_core/base_service.py\", line 229, in send\n",
      "    response.status_code, error_message, http_response=response)\n",
      "ibm_cloud_sdk_core.api_exception.ApiException: Error: not enough text for language id, Code: 422 , X-global-transaction-id: 24bb7d08-bf5b-440b-ae1b-fae16fcd33c3\n"
     ]
    },
    {
     "name": "stdout",
     "output_type": "stream",
     "text": [
      "FAIL: 702 Thank you! \n",
      "710 emotional classifications done!\n",
      "720 emotional classifications done!\n",
      "730 emotional classifications done!\n"
     ]
    },
    {
     "name": "stderr",
     "output_type": "stream",
     "text": [
      "ERROR:root:not enough text for language id\n",
      "Traceback (most recent call last):\n",
      "  File \"/Users/phillipholscher/opt/anaconda3/lib/python3.7/site-packages/ibm_cloud_sdk_core/base_service.py\", line 229, in send\n",
      "    response.status_code, error_message, http_response=response)\n",
      "ibm_cloud_sdk_core.api_exception.ApiException: Error: not enough text for language id, Code: 422 , X-global-transaction-id: 94b2d684-4f87-4459-922d-3c541de45a70\n"
     ]
    },
    {
     "name": "stdout",
     "output_type": "stream",
     "text": [
      "FAIL: 735 True! \n",
      "740 emotional classifications done!\n"
     ]
    },
    {
     "name": "stderr",
     "output_type": "stream",
     "text": [
      "ERROR:root:not enough text for language id\n",
      "Traceback (most recent call last):\n",
      "  File \"/Users/phillipholscher/opt/anaconda3/lib/python3.7/site-packages/ibm_cloud_sdk_core/base_service.py\", line 229, in send\n",
      "    response.status_code, error_message, http_response=response)\n",
      "ibm_cloud_sdk_core.api_exception.ApiException: Error: not enough text for language id, Code: 422 , X-global-transaction-id: 0ef044f1-9987-4c86-86a1-c15835b0e30c\n"
     ]
    },
    {
     "name": "stdout",
     "output_type": "stream",
     "text": [
      "FAIL: 742 AMERICA FIRST! \n",
      "750 emotional classifications done!\n"
     ]
    },
    {
     "name": "stderr",
     "output_type": "stream",
     "text": [
      "ERROR:root:not enough text for language id\n",
      "Traceback (most recent call last):\n",
      "  File \"/Users/phillipholscher/opt/anaconda3/lib/python3.7/site-packages/ibm_cloud_sdk_core/base_service.py\", line 229, in send\n",
      "    response.status_code, error_message, http_response=response)\n",
      "ibm_cloud_sdk_core.api_exception.ApiException: Error: not enough text for language id, Code: 422 , X-global-transaction-id: 63b8f18f-d5ed-4e85-b616-55b340cbab74\n"
     ]
    },
    {
     "name": "stdout",
     "output_type": "stream",
     "text": [
      "FAIL: 754 Great! \n",
      "760 emotional classifications done!\n",
      "770 emotional classifications done!\n",
      "780 emotional classifications done!\n",
      "790 emotional classifications done!\n"
     ]
    },
    {
     "name": "stderr",
     "output_type": "stream",
     "text": [
      "ERROR:root:not enough text for language id\n",
      "Traceback (most recent call last):\n",
      "  File \"/Users/phillipholscher/opt/anaconda3/lib/python3.7/site-packages/ibm_cloud_sdk_core/base_service.py\", line 229, in send\n",
      "    response.status_code, error_message, http_response=response)\n",
      "ibm_cloud_sdk_core.api_exception.ApiException: Error: not enough text for language id, Code: 422 , X-global-transaction-id: 887ecc2e-3472-4aae-af1c-fa9740e273cd\n"
     ]
    },
    {
     "name": "stdout",
     "output_type": "stream",
     "text": [
      "FAIL: 797 THANK YOU! \n",
      "800 emotional classifications done!\n",
      "810 emotional classifications done!\n"
     ]
    },
    {
     "name": "stderr",
     "output_type": "stream",
     "text": [
      "ERROR:root:not enough text for language id\n",
      "Traceback (most recent call last):\n",
      "  File \"/Users/phillipholscher/opt/anaconda3/lib/python3.7/site-packages/ibm_cloud_sdk_core/base_service.py\", line 229, in send\n",
      "    response.status_code, error_message, http_response=response)\n",
      "ibm_cloud_sdk_core.api_exception.ApiException: Error: not enough text for language id, Code: 422 , X-global-transaction-id: 6b43c5d7-8d94-46dd-a660-f6671081128c\n"
     ]
    },
    {
     "name": "stdout",
     "output_type": "stream",
     "text": [
      "FAIL: 812 Thank you! \n"
     ]
    },
    {
     "name": "stderr",
     "output_type": "stream",
     "text": [
      "ERROR:root:not enough text for language id\n",
      "Traceback (most recent call last):\n",
      "  File \"/Users/phillipholscher/opt/anaconda3/lib/python3.7/site-packages/ibm_cloud_sdk_core/base_service.py\", line 229, in send\n",
      "    response.status_code, error_message, http_response=response)\n",
      "ibm_cloud_sdk_core.api_exception.ApiException: Error: not enough text for language id, Code: 422 , X-global-transaction-id: c07ff05e-a9f6-4e56-bd67-5b97d0e685db\n"
     ]
    },
    {
     "name": "stdout",
     "output_type": "stream",
     "text": [
      "FAIL: 815 True! \n",
      "820 emotional classifications done!\n",
      "830 emotional classifications done!\n",
      "840 emotional classifications done!\n",
      "850 emotional classifications done!\n",
      "860 emotional classifications done!\n",
      "870 emotional classifications done!\n",
      "880 emotional classifications done!\n"
     ]
    },
    {
     "name": "stderr",
     "output_type": "stream",
     "text": [
      "ERROR:root:not enough text for language id\n",
      "Traceback (most recent call last):\n",
      "  File \"/Users/phillipholscher/opt/anaconda3/lib/python3.7/site-packages/ibm_cloud_sdk_core/base_service.py\", line 229, in send\n",
      "    response.status_code, error_message, http_response=response)\n",
      "ibm_cloud_sdk_core.api_exception.ApiException: Error: not enough text for language id, Code: 422 , X-global-transaction-id: 50d5fb84-2075-472f-9c1a-06b7d10003c0\n"
     ]
    },
    {
     "name": "stdout",
     "output_type": "stream",
     "text": [
      "FAIL: 886 100% Correct! \n",
      "890 emotional classifications done!\n",
      "900 emotional classifications done!\n",
      "910 emotional classifications done!\n",
      "920 emotional classifications done!\n",
      "930 emotional classifications done!\n",
      "940 emotional classifications done!\n",
      "950 emotional classifications done!\n"
     ]
    },
    {
     "name": "stderr",
     "output_type": "stream",
     "text": [
      "ERROR:root:not enough text for language id\n",
      "Traceback (most recent call last):\n",
      "  File \"/Users/phillipholscher/opt/anaconda3/lib/python3.7/site-packages/ibm_cloud_sdk_core/base_service.py\", line 229, in send\n",
      "    response.status_code, error_message, http_response=response)\n",
      "ibm_cloud_sdk_core.api_exception.ApiException: Error: not enough text for language id, Code: 422 , X-global-transaction-id: 6d4cb926-6f4f-4ccd-978e-5ab78f05e694\n"
     ]
    },
    {
     "name": "stdout",
     "output_type": "stream",
     "text": [
      "960 emotional classifications done!\n",
      "FAIL: 960 THANK YOU! \n",
      "970 emotional classifications done!\n"
     ]
    },
    {
     "name": "stderr",
     "output_type": "stream",
     "text": [
      "ERROR:root:not enough text for language id\n",
      "Traceback (most recent call last):\n",
      "  File \"/Users/phillipholscher/opt/anaconda3/lib/python3.7/site-packages/ibm_cloud_sdk_core/base_service.py\", line 229, in send\n",
      "    response.status_code, error_message, http_response=response)\n",
      "ibm_cloud_sdk_core.api_exception.ApiException: Error: not enough text for language id, Code: 422 , X-global-transaction-id: e7dd9864-59ae-4777-864a-662313bb038c\n"
     ]
    },
    {
     "name": "stdout",
     "output_type": "stream",
     "text": [
      "FAIL: 975 Thanks Eric! \n",
      "980 emotional classifications done!\n"
     ]
    },
    {
     "name": "stderr",
     "output_type": "stream",
     "text": [
      "ERROR:root:not enough text for language id\n",
      "Traceback (most recent call last):\n",
      "  File \"/Users/phillipholscher/opt/anaconda3/lib/python3.7/site-packages/ibm_cloud_sdk_core/base_service.py\", line 229, in send\n",
      "    response.status_code, error_message, http_response=response)\n",
      "ibm_cloud_sdk_core.api_exception.ApiException: Error: not enough text for language id, Code: 422 , X-global-transaction-id: ee7cd038-269b-4d8e-a0a0-b839c4652d74\n"
     ]
    },
    {
     "name": "stdout",
     "output_type": "stream",
     "text": [
      "FAIL: 988 True! \n",
      "990 emotional classifications done!\n"
     ]
    },
    {
     "name": "stderr",
     "output_type": "stream",
     "text": [
      "ERROR:root:not enough text for language id\n",
      "Traceback (most recent call last):\n",
      "  File \"/Users/phillipholscher/opt/anaconda3/lib/python3.7/site-packages/ibm_cloud_sdk_core/base_service.py\", line 229, in send\n",
      "    response.status_code, error_message, http_response=response)\n",
      "ibm_cloud_sdk_core.api_exception.ApiException: Error: not enough text for language id, Code: 422 , X-global-transaction-id: 624a79ac-91c9-469d-a283-4d8124b47fc9\n"
     ]
    },
    {
     "name": "stdout",
     "output_type": "stream",
     "text": [
      "FAIL: 997 THANK YOU! \n",
      "1000 emotional classifications done!\n",
      "1010 emotional classifications done!\n",
      "1020 emotional classifications done!\n",
      "1030 emotional classifications done!\n",
      "1040 emotional classifications done!\n",
      "1050 emotional classifications done!\n",
      "1060 emotional classifications done!\n",
      "1070 emotional classifications done!\n"
     ]
    },
    {
     "name": "stderr",
     "output_type": "stream",
     "text": [
      "ERROR:root:not enough text for language id\n",
      "Traceback (most recent call last):\n",
      "  File \"/Users/phillipholscher/opt/anaconda3/lib/python3.7/site-packages/ibm_cloud_sdk_core/base_service.py\", line 229, in send\n",
      "    response.status_code, error_message, http_response=response)\n",
      "ibm_cloud_sdk_core.api_exception.ApiException: Error: not enough text for language id, Code: 422 , X-global-transaction-id: eef4113f-08a3-4ca4-a98b-a0a860cb5111\n"
     ]
    },
    {
     "name": "stdout",
     "output_type": "stream",
     "text": [
      "FAIL: 1071 Great! \n"
     ]
    },
    {
     "name": "stderr",
     "output_type": "stream",
     "text": [
      "ERROR:root:not enough text for language id\n",
      "Traceback (most recent call last):\n",
      "  File \"/Users/phillipholscher/opt/anaconda3/lib/python3.7/site-packages/ibm_cloud_sdk_core/base_service.py\", line 229, in send\n",
      "    response.status_code, error_message, http_response=response)\n",
      "ibm_cloud_sdk_core.api_exception.ApiException: Error: not enough text for language id, Code: 422 , X-global-transaction-id: 7d9399bb-91d6-43ea-bd4b-b66c7a6c58f2\n"
     ]
    },
    {
     "name": "stdout",
     "output_type": "stream",
     "text": [
      "FAIL: 1076 Totally! \n",
      "1080 emotional classifications done!\n"
     ]
    },
    {
     "name": "stderr",
     "output_type": "stream",
     "text": [
      "ERROR:root:not enough text for language id\n",
      "Traceback (most recent call last):\n",
      "  File \"/Users/phillipholscher/opt/anaconda3/lib/python3.7/site-packages/ibm_cloud_sdk_core/base_service.py\", line 229, in send\n",
      "    response.status_code, error_message, http_response=response)\n",
      "ibm_cloud_sdk_core.api_exception.ApiException: Error: not enough text for language id, Code: 422 , X-global-transaction-id: 142e9f95-6c5d-4780-b87e-4c12f162d26e\n"
     ]
    },
    {
     "name": "stdout",
     "output_type": "stream",
     "text": [
      "FAIL: 1087 True! \n",
      "1090 emotional classifications done!\n"
     ]
    },
    {
     "name": "stderr",
     "output_type": "stream",
     "text": [
      "ERROR:root:not enough text for language id\n",
      "Traceback (most recent call last):\n",
      "  File \"/Users/phillipholscher/opt/anaconda3/lib/python3.7/site-packages/ibm_cloud_sdk_core/base_service.py\", line 229, in send\n",
      "    response.status_code, error_message, http_response=response)\n",
      "ibm_cloud_sdk_core.api_exception.ApiException: Error: not enough text for language id, Code: 422 , X-global-transaction-id: 04900518-dc0a-46b4-b73b-d91c3f572f04\n"
     ]
    },
    {
     "name": "stdout",
     "output_type": "stream",
     "text": [
      "FAIL: 1096 THANK YOU! \n",
      "1100 emotional classifications done!\n",
      "1110 emotional classifications done!\n",
      "1120 emotional classifications done!\n"
     ]
    },
    {
     "name": "stderr",
     "output_type": "stream",
     "text": [
      "ERROR:root:not enough text for language id\n",
      "Traceback (most recent call last):\n",
      "  File \"/Users/phillipholscher/opt/anaconda3/lib/python3.7/site-packages/ibm_cloud_sdk_core/base_service.py\", line 229, in send\n",
      "    response.status_code, error_message, http_response=response)\n",
      "ibm_cloud_sdk_core.api_exception.ApiException: Error: not enough text for language id, Code: 422 , X-global-transaction-id: c8f13268-984b-4932-98f9-2d1ee1c77a54\n"
     ]
    },
    {
     "name": "stdout",
     "output_type": "stream",
     "text": [
      "FAIL: 1123 KENTUCKY! \n",
      "1130 emotional classifications done!\n",
      "1140 emotional classifications done!\n",
      "1150 emotional classifications done!\n"
     ]
    },
    {
     "name": "stderr",
     "output_type": "stream",
     "text": [
      "ERROR:root:not enough text for language id\n",
      "Traceback (most recent call last):\n",
      "  File \"/Users/phillipholscher/opt/anaconda3/lib/python3.7/site-packages/ibm_cloud_sdk_core/base_service.py\", line 229, in send\n",
      "    response.status_code, error_message, http_response=response)\n",
      "ibm_cloud_sdk_core.api_exception.ApiException: Error: not enough text for language id, Code: 422 , X-global-transaction-id: f3aa6a7c-1cd7-46d0-b664-fb336f83d0d3\n"
     ]
    },
    {
     "name": "stdout",
     "output_type": "stream",
     "text": [
      "FAIL: 1153 Good point! \n",
      "1160 emotional classifications done!\n"
     ]
    },
    {
     "name": "stderr",
     "output_type": "stream",
     "text": [
      "ERROR:root:not enough text for language id\n",
      "Traceback (most recent call last):\n",
      "  File \"/Users/phillipholscher/opt/anaconda3/lib/python3.7/site-packages/ibm_cloud_sdk_core/base_service.py\", line 229, in send\n",
      "    response.status_code, error_message, http_response=response)\n",
      "ibm_cloud_sdk_core.api_exception.ApiException: Error: not enough text for language id, Code: 422 , X-global-transaction-id: d653f1a9-211f-483e-b7ed-a8b4ea24c7e5\n"
     ]
    },
    {
     "name": "stdout",
     "output_type": "stream",
     "text": [
      "FAIL: 1163 Fake News! \n",
      "1170 emotional classifications done!\n"
     ]
    },
    {
     "name": "stderr",
     "output_type": "stream",
     "text": [
      "ERROR:root:not enough text for language id\n",
      "Traceback (most recent call last):\n",
      "  File \"/Users/phillipholscher/opt/anaconda3/lib/python3.7/site-packages/ibm_cloud_sdk_core/base_service.py\", line 229, in send\n",
      "    response.status_code, error_message, http_response=response)\n",
      "ibm_cloud_sdk_core.api_exception.ApiException: Error: not enough text for language id, Code: 422 , X-global-transaction-id: d8d1751c-91b0-4ac8-be36-029347a7727c\n"
     ]
    },
    {
     "name": "stdout",
     "output_type": "stream",
     "text": [
      "FAIL: 1177 A giant Scam! \n",
      "1180 emotional classifications done!\n",
      "1190 emotional classifications done!\n",
      "1200 emotional classifications done!\n"
     ]
    },
    {
     "name": "stderr",
     "output_type": "stream",
     "text": [
      "ERROR:root:not enough text for language id\n",
      "Traceback (most recent call last):\n",
      "  File \"/Users/phillipholscher/opt/anaconda3/lib/python3.7/site-packages/ibm_cloud_sdk_core/base_service.py\", line 229, in send\n",
      "    response.status_code, error_message, http_response=response)\n",
      "ibm_cloud_sdk_core.api_exception.ApiException: Error: not enough text for language id, Code: 422 , X-global-transaction-id: 99a9ab3f-79ed-4e4c-ae7f-e9ffd2adecc5\n"
     ]
    },
    {
     "name": "stdout",
     "output_type": "stream",
     "text": [
      "FAIL: 1207 Thank you! \n",
      "1210 emotional classifications done!\n",
      "1220 emotional classifications done!\n",
      "1230 emotional classifications done!\n"
     ]
    },
    {
     "name": "stderr",
     "output_type": "stream",
     "text": [
      "ERROR:root:not enough text for language id\n",
      "Traceback (most recent call last):\n",
      "  File \"/Users/phillipholscher/opt/anaconda3/lib/python3.7/site-packages/ibm_cloud_sdk_core/base_service.py\", line 229, in send\n",
      "    response.status_code, error_message, http_response=response)\n",
      "ibm_cloud_sdk_core.api_exception.ApiException: Error: not enough text for language id, Code: 422 , X-global-transaction-id: c816d17a-e21e-4e47-a5b1-17a438e485ac\n"
     ]
    },
    {
     "name": "stdout",
     "output_type": "stream",
     "text": [
      "FAIL: 1234 AMERICAN HERO! \n",
      "1240 emotional classifications done!\n",
      "1250 emotional classifications done!\n"
     ]
    },
    {
     "name": "stderr",
     "output_type": "stream",
     "text": [
      "ERROR:root:unsupported text language: ca\n",
      "Traceback (most recent call last):\n",
      "  File \"/Users/phillipholscher/opt/anaconda3/lib/python3.7/site-packages/ibm_cloud_sdk_core/base_service.py\", line 229, in send\n",
      "    response.status_code, error_message, http_response=response)\n",
      "ibm_cloud_sdk_core.api_exception.ApiException: Error: unsupported text language: ca, Code: 400 , X-global-transaction-id: e146b9e9-e5d9-4b9a-b297-f23e65c54165\n"
     ]
    },
    {
     "name": "stdout",
     "output_type": "stream",
     "text": [
      "FAIL: 1258 Correct, a total scam! \n",
      "1260 emotional classifications done!\n"
     ]
    },
    {
     "name": "stderr",
     "output_type": "stream",
     "text": [
      "ERROR:root:not enough text for language id\n",
      "Traceback (most recent call last):\n",
      "  File \"/Users/phillipholscher/opt/anaconda3/lib/python3.7/site-packages/ibm_cloud_sdk_core/base_service.py\", line 229, in send\n",
      "    response.status_code, error_message, http_response=response)\n",
      "ibm_cloud_sdk_core.api_exception.ApiException: Error: not enough text for language id, Code: 422 , X-global-transaction-id: 9929af2c-4528-42b4-bfd4-d6724c670090\n"
     ]
    },
    {
     "name": "stdout",
     "output_type": "stream",
     "text": [
      "FAIL: 1267 THANK YOU \n",
      "1270 emotional classifications done!\n",
      "1280 emotional classifications done!\n"
     ]
    },
    {
     "name": "stderr",
     "output_type": "stream",
     "text": [
      "ERROR:root:not enough text for language id\n",
      "Traceback (most recent call last):\n",
      "  File \"/Users/phillipholscher/opt/anaconda3/lib/python3.7/site-packages/ibm_cloud_sdk_core/base_service.py\", line 229, in send\n",
      "    response.status_code, error_message, http_response=response)\n",
      "ibm_cloud_sdk_core.api_exception.ApiException: Error: not enough text for language id, Code: 422 , X-global-transaction-id: 0b9f4f8e-4b3d-431e-b577-6fbd54f6831e\n"
     ]
    },
    {
     "name": "stdout",
     "output_type": "stream",
     "text": [
      "FAIL: 1281 ....\n",
      "1290 emotional classifications done!\n"
     ]
    },
    {
     "name": "stderr",
     "output_type": "stream",
     "text": [
      "ERROR:root:not enough text for language id\n",
      "Traceback (most recent call last):\n",
      "  File \"/Users/phillipholscher/opt/anaconda3/lib/python3.7/site-packages/ibm_cloud_sdk_core/base_service.py\", line 229, in send\n",
      "    response.status_code, error_message, http_response=response)\n",
      "ibm_cloud_sdk_core.api_exception.ApiException: Error: not enough text for language id, Code: 422 , X-global-transaction-id: 1b7f9e34-f8c8-44b7-88d9-68531e56bc8a\n"
     ]
    },
    {
     "name": "stdout",
     "output_type": "stream",
     "text": [
      "FAIL: 1295 Wow! \n",
      "1300 emotional classifications done!\n",
      "1310 emotional classifications done!\n",
      "1320 emotional classifications done!\n",
      "1330 emotional classifications done!\n",
      "1340 emotional classifications done!\n",
      "1350 emotional classifications done!\n",
      "1360 emotional classifications done!\n"
     ]
    },
    {
     "name": "stderr",
     "output_type": "stream",
     "text": [
      "ERROR:root:unsupported text language: ca\n",
      "Traceback (most recent call last):\n",
      "  File \"/Users/phillipholscher/opt/anaconda3/lib/python3.7/site-packages/ibm_cloud_sdk_core/base_service.py\", line 229, in send\n",
      "    response.status_code, error_message, http_response=response)\n",
      "ibm_cloud_sdk_core.api_exception.ApiException: Error: unsupported text language: ca, Code: 400 , X-global-transaction-id: 7025be5c-5aed-4c35-91e8-16fe957279f8\n"
     ]
    },
    {
     "name": "stdout",
     "output_type": "stream",
     "text": [
      "FAIL: 1360 Congratulations Barbara! \n",
      "1370 emotional classifications done!\n"
     ]
    },
    {
     "name": "stderr",
     "output_type": "stream",
     "text": [
      "ERROR:root:not enough text for language id\n",
      "Traceback (most recent call last):\n",
      "  File \"/Users/phillipholscher/opt/anaconda3/lib/python3.7/site-packages/ibm_cloud_sdk_core/base_service.py\", line 229, in send\n",
      "    response.status_code, error_message, http_response=response)\n",
      "ibm_cloud_sdk_core.api_exception.ApiException: Error: not enough text for language id, Code: 422 , X-global-transaction-id: 2ec0b4a5-368b-4bcc-8912-709dddfa8db4\n"
     ]
    },
    {
     "name": "stdout",
     "output_type": "stream",
     "text": [
      "FAIL: 1375 See you there! \n",
      "1380 emotional classifications done!\n"
     ]
    },
    {
     "name": "stderr",
     "output_type": "stream",
     "text": [
      "ERROR:root:not enough text for language id\n",
      "Traceback (most recent call last):\n",
      "  File \"/Users/phillipholscher/opt/anaconda3/lib/python3.7/site-packages/ibm_cloud_sdk_core/base_service.py\", line 229, in send\n",
      "    response.status_code, error_message, http_response=response)\n",
      "ibm_cloud_sdk_core.api_exception.ApiException: Error: not enough text for language id, Code: 422 , X-global-transaction-id: 2a02a77e-ec84-4049-8371-bbd782b4e2a9\n"
     ]
    },
    {
     "name": "stdout",
     "output_type": "stream",
     "text": [
      "FAIL: 1383 I agree! \n",
      "1390 emotional classifications done!\n",
      "1400 emotional classifications done!\n"
     ]
    },
    {
     "name": "stderr",
     "output_type": "stream",
     "text": [
      "ERROR:root:not enough text for language id\n",
      "Traceback (most recent call last):\n",
      "  File \"/Users/phillipholscher/opt/anaconda3/lib/python3.7/site-packages/ibm_cloud_sdk_core/base_service.py\", line 229, in send\n",
      "    response.status_code, error_message, http_response=response)\n",
      "ibm_cloud_sdk_core.api_exception.ApiException: Error: not enough text for language id, Code: 422 , X-global-transaction-id: 2ef56423-acec-4448-a1df-a825f990c0dd\n"
     ]
    },
    {
     "name": "stdout",
     "output_type": "stream",
     "text": [
      "FAIL: 1401 The USA! \n",
      "1410 emotional classifications done!\n",
      "1420 emotional classifications done!\n"
     ]
    },
    {
     "name": "stderr",
     "output_type": "stream",
     "text": [
      "ERROR:root:not enough text for language id\n",
      "Traceback (most recent call last):\n",
      "  File \"/Users/phillipholscher/opt/anaconda3/lib/python3.7/site-packages/ibm_cloud_sdk_core/base_service.py\", line 229, in send\n",
      "    response.status_code, error_message, http_response=response)\n",
      "ibm_cloud_sdk_core.api_exception.ApiException: Error: not enough text for language id, Code: 422 , X-global-transaction-id: 871b4538-9181-42b5-84d6-b5584568ea4a\n"
     ]
    },
    {
     "name": "stdout",
     "output_type": "stream",
     "text": [
      "FAIL: 1428 FAKE NEWS! \n",
      "1430 emotional classifications done!\n",
      "1440 emotional classifications done!\n",
      "1450 emotional classifications done!\n",
      "1460 emotional classifications done!\n"
     ]
    },
    {
     "name": "stderr",
     "output_type": "stream",
     "text": [
      "ERROR:root:not enough text for language id\n",
      "Traceback (most recent call last):\n",
      "  File \"/Users/phillipholscher/opt/anaconda3/lib/python3.7/site-packages/ibm_cloud_sdk_core/base_service.py\", line 229, in send\n",
      "    response.status_code, error_message, http_response=response)\n",
      "ibm_cloud_sdk_core.api_exception.ApiException: Error: not enough text for language id, Code: 422 , X-global-transaction-id: 7c90b7b7-3e74-48dd-a786-4735d55b80e7\n"
     ]
    },
    {
     "name": "stdout",
     "output_type": "stream",
     "text": [
      "FAIL: 1468 America First!\n",
      "1470 emotional classifications done!\n",
      "1480 emotional classifications done!\n",
      "1490 emotional classifications done!\n",
      "1500 emotional classifications done!\n",
      "1510 emotional classifications done!\n",
      "1520 emotional classifications done!\n"
     ]
    },
    {
     "name": "stderr",
     "output_type": "stream",
     "text": [
      "ERROR:root:not enough text for language id\n",
      "Traceback (most recent call last):\n",
      "  File \"/Users/phillipholscher/opt/anaconda3/lib/python3.7/site-packages/ibm_cloud_sdk_core/base_service.py\", line 229, in send\n",
      "    response.status_code, error_message, http_response=response)\n",
      "ibm_cloud_sdk_core.api_exception.ApiException: Error: not enough text for language id, Code: 422 , X-global-transaction-id: 5e398a89-e655-4512-a2a0-1234533edd40\n"
     ]
    },
    {
     "name": "stdout",
     "output_type": "stream",
     "text": [
      "FAIL: 1525 A Giant Scam! \n",
      "1530 emotional classifications done!\n",
      "1540 emotional classifications done!\n",
      "1550 emotional classifications done!\n",
      "1560 emotional classifications done!\n",
      "1570 emotional classifications done!\n",
      "1580 emotional classifications done!\n"
     ]
    },
    {
     "name": "stderr",
     "output_type": "stream",
     "text": [
      "ERROR:root:not enough text for language id\n",
      "Traceback (most recent call last):\n",
      "  File \"/Users/phillipholscher/opt/anaconda3/lib/python3.7/site-packages/ibm_cloud_sdk_core/base_service.py\", line 229, in send\n",
      "    response.status_code, error_message, http_response=response)\n",
      "ibm_cloud_sdk_core.api_exception.ApiException: Error: not enough text for language id, Code: 422 , X-global-transaction-id: e0766eda-292b-43a4-9d69-3ad876f4decb\n"
     ]
    },
    {
     "name": "stdout",
     "output_type": "stream",
     "text": [
      "FAIL: 1581 So amazing! \n",
      "1590 emotional classifications done!\n",
      "1600 emotional classifications done!\n",
      "1610 emotional classifications done!\n",
      "1620 emotional classifications done!\n",
      "1630 emotional classifications done!\n",
      "1640 emotional classifications done!\n",
      "1650 emotional classifications done!\n",
      "1660 emotional classifications done!\n"
     ]
    },
    {
     "name": "stderr",
     "output_type": "stream",
     "text": [
      "ERROR:root:not enough text for language id\n",
      "Traceback (most recent call last):\n",
      "  File \"/Users/phillipholscher/opt/anaconda3/lib/python3.7/site-packages/ibm_cloud_sdk_core/base_service.py\", line 229, in send\n",
      "    response.status_code, error_message, http_response=response)\n",
      "ibm_cloud_sdk_core.api_exception.ApiException: Error: not enough text for language id, Code: 422 , X-global-transaction-id: 56862e9a-06b6-45c5-84d4-048a04e63044\n"
     ]
    },
    {
     "name": "stdout",
     "output_type": "stream",
     "text": [
      "FAIL: 1663 Too bad! \n",
      "1670 emotional classifications done!\n",
      "1680 emotional classifications done!\n",
      "1690 emotional classifications done!\n",
      "1700 emotional classifications done!\n",
      "1710 emotional classifications done!\n",
      "1720 emotional classifications done!\n",
      "1730 emotional classifications done!\n",
      "1740 emotional classifications done!\n",
      "1750 emotional classifications done!\n"
     ]
    },
    {
     "name": "stderr",
     "output_type": "stream",
     "text": [
      "ERROR:root:not enough text for language id\n",
      "Traceback (most recent call last):\n",
      "  File \"/Users/phillipholscher/opt/anaconda3/lib/python3.7/site-packages/ibm_cloud_sdk_core/base_service.py\", line 229, in send\n",
      "    response.status_code, error_message, http_response=response)\n",
      "ibm_cloud_sdk_core.api_exception.ApiException: Error: not enough text for language id, Code: 422 , X-global-transaction-id: c9432a96-97fa-4c17-87e3-918c54eaa9e0\n"
     ]
    },
    {
     "name": "stdout",
     "output_type": "stream",
     "text": [
      "FAIL: 1756 THANK YOU! \n",
      "1760 emotional classifications done!\n",
      "1770 emotional classifications done!\n",
      "1780 emotional classifications done!\n",
      "1790 emotional classifications done!\n",
      "1800 emotional classifications done!\n",
      "1810 emotional classifications done!\n",
      "1820 emotional classifications done!\n",
      "not enough text for language id : 65\n",
      "unsupported text language: unknown : 1\n",
      "unsupported text language: fa : 6\n",
      "unsupported text language: ca : 2\n",
      "--- 711.4210312366486 seconds ---\n"
     ]
    }
   ],
   "source": [
    "start_time = time.time()\n",
    "new_data_2000 = create_emotion(data_2000)\n",
    "print(\"--- %s seconds ---\" % (time.time() - start_time))"
   ]
  },
  {
   "cell_type": "raw",
   "metadata": {},
   "source": [
    "The uncleand dataframe has  2000  rows and  5  columns.\n",
    "The cleand dataframe has  1821  rows and  5  columns.\n",
    "-- Wation Natural Language Understanding is now going to create emotions for every tweet--\n",
    "not enough text for language id : 65\n",
    "unsupported text language: unknown : 1\n",
    "unsupported text language: fa : 6\n",
    "unsupported text language: ca : 2\n",
    "--- 711.4210312366486 seconds ---"
   ]
  },
  {
   "cell_type": "code",
   "execution_count": 21,
   "metadata": {},
   "outputs": [
    {
     "ename": "NameError",
     "evalue": "name 'new_data_2000' is not defined",
     "output_type": "error",
     "traceback": [
      "\u001b[0;31m---------------------------------------------------------------------------\u001b[0m",
      "\u001b[0;31mNameError\u001b[0m                                 Traceback (most recent call last)",
      "\u001b[0;32m<ipython-input-21-4bb140061ac3>\u001b[0m in \u001b[0;36m<module>\u001b[0;34m\u001b[0m\n\u001b[0;32m----> 1\u001b[0;31m \u001b[0mnew_data_2000\u001b[0m\u001b[0;34m\u001b[0m\u001b[0;34m\u001b[0m\u001b[0m\n\u001b[0m",
      "\u001b[0;31mNameError\u001b[0m: name 'new_data_2000' is not defined"
     ]
    }
   ],
   "source": [
    "new_data_2000"
   ]
  },
  {
   "cell_type": "code",
   "execution_count": 62,
   "metadata": {},
   "outputs": [],
   "source": [
    "new_data_2000.to_csv(\"new_data_2000.csv\", index = None, header = True)"
   ]
  },
  {
   "cell_type": "markdown",
   "metadata": {},
   "source": [
    "# 2000-4000"
   ]
  },
  {
   "cell_type": "code",
   "execution_count": 40,
   "metadata": {},
   "outputs": [
    {
     "name": "stdout",
     "output_type": "stream",
     "text": [
      "The uncleand dataframe has  2000  rows and  5  columns.\n",
      "The following index and items are going to be removed:\n",
      "2015 pic\n",
      "2016 link\n",
      "2020 pic\n",
      "2021 link\n",
      "2023 pic\n",
      "2026 pic\n",
      "2039 pic\n",
      "2041 pic\n",
      "2052 pic\n",
      "2054 #\n",
      "2060 pic\n",
      "2064 pic\n",
      "2067 link\n",
      "2076 pic\n",
      "2085 pic\n",
      "2086 pic\n",
      "2087 pic\n",
      "2089 pic\n",
      "2090 pic\n",
      "2098 pic\n",
      "2112 pic\n",
      "2113 pic\n",
      "2130 pic\n",
      "2223 pic\n",
      "2227 pic\n",
      "2274 pic\n",
      "2279 pic\n",
      "2296 pic\n",
      "2300 pic\n",
      "2301 pic\n",
      "2335 pic\n",
      "2356 #\n",
      "2368 link\n",
      "2421 pic\n",
      "2430 pic\n",
      "2436 pic\n",
      "2482 link\n",
      "2488 pic\n",
      "2584 pic\n",
      "2634 pic\n",
      "2635 pic\n",
      "2643 link\n",
      "2732 pic\n",
      "2800 pic\n",
      "2805 pic\n",
      "2807 pic\n",
      "2833 pic\n",
      "2883 pic\n",
      "2890 pic\n",
      "2906 pic\n",
      "2908 pic\n",
      "2943 pic\n",
      "2947 pic\n",
      "2952 pic\n",
      "2953 pic\n",
      "2986 pic\n",
      "3002 pic\n",
      "3004 pic\n",
      "3017 pic\n",
      "3035 pic\n",
      "3093 pic\n",
      "3131 #\n",
      "3174 pic\n",
      "3175 pic\n",
      "3227 pic\n",
      "3229 #\n",
      "3257 pic\n",
      "3263 link\n",
      "3281 pic\n",
      "3287 pic\n",
      "3308 pic\n",
      "3323 pic\n",
      "3350 pic\n",
      "3351 pic\n",
      "3356 pic\n",
      "3361 pic\n",
      "3368 pic\n",
      "3424 pic\n",
      "3440 pic\n",
      "3508 #\n",
      "3509 pic\n",
      "3510 pic\n",
      "3516 pic\n",
      "3517 pic\n",
      "3554 pic\n",
      "3555 pic\n",
      "3556 #\n",
      "3559 #\n",
      "3564 #\n",
      "3568 #\n",
      "3579 #\n",
      "3584 link\n",
      "3585 #\n",
      "3637 pic\n",
      "3664 pic\n",
      "3666 #\n",
      "3667 pic\n",
      "3693 pic\n",
      "3728 link\n",
      "3871 pic\n",
      "3873 pic\n",
      "3990 link\n",
      "The cleand dataframe has  1898  rows and  5  columns.\n",
      "-- Wation Natural Language Understanding is now going to create emotions for every tweet--\n",
      "0 emotional classifications done!\n",
      "10 emotional classifications done!\n",
      "20 emotional classifications done!\n",
      "30 emotional classifications done!\n"
     ]
    },
    {
     "name": "stderr",
     "output_type": "stream",
     "text": [
      "ERROR:root:not enough text for language id\n",
      "Traceback (most recent call last):\n",
      "  File \"/Users/phillipholscher/opt/anaconda3/lib/python3.7/site-packages/ibm_cloud_sdk_core/base_service.py\", line 229, in send\n",
      "    response.status_code, error_message, http_response=response)\n",
      "ibm_cloud_sdk_core.api_exception.ApiException: Error: not enough text for language id, Code: 422 , X-global-transaction-id: ae5169f3-55d7-464a-acc4-eedf2cc119b4\n"
     ]
    },
    {
     "name": "stdout",
     "output_type": "stream",
     "text": [
      "FAIL: 39 THANK YOU! \n",
      "40 emotional classifications done!\n",
      "50 emotional classifications done!\n",
      "60 emotional classifications done!\n",
      "70 emotional classifications done!\n",
      "80 emotional classifications done!\n",
      "90 emotional classifications done!\n"
     ]
    },
    {
     "name": "stderr",
     "output_type": "stream",
     "text": [
      "ERROR:root:not enough text for language id\n",
      "Traceback (most recent call last):\n",
      "  File \"/Users/phillipholscher/opt/anaconda3/lib/python3.7/site-packages/ibm_cloud_sdk_core/base_service.py\", line 229, in send\n",
      "    response.status_code, error_message, http_response=response)\n",
      "ibm_cloud_sdk_core.api_exception.ApiException: Error: not enough text for language id, Code: 422 , X-global-transaction-id: 6ac7e0c7-e88c-412d-8550-8127585d2d41\n"
     ]
    },
    {
     "name": "stdout",
     "output_type": "stream",
     "text": [
      "FAIL: 91 Thank you! \n",
      "100 emotional classifications done!\n"
     ]
    },
    {
     "name": "stderr",
     "output_type": "stream",
     "text": [
      "ERROR:root:not enough text for language id\n",
      "Traceback (most recent call last):\n",
      "  File \"/Users/phillipholscher/opt/anaconda3/lib/python3.7/site-packages/ibm_cloud_sdk_core/base_service.py\", line 229, in send\n",
      "    response.status_code, error_message, http_response=response)\n",
      "ibm_cloud_sdk_core.api_exception.ApiException: Error: not enough text for language id, Code: 422 , X-global-transaction-id: 820e2597-ac79-4f9d-879a-f40279b24064\n"
     ]
    },
    {
     "name": "stdout",
     "output_type": "stream",
     "text": [
      "FAIL: 102 Great! \n",
      "110 emotional classifications done!\n",
      "120 emotional classifications done!\n"
     ]
    },
    {
     "name": "stderr",
     "output_type": "stream",
     "text": [
      "ERROR:root:unsupported text language: ca\n",
      "Traceback (most recent call last):\n",
      "  File \"/Users/phillipholscher/opt/anaconda3/lib/python3.7/site-packages/ibm_cloud_sdk_core/base_service.py\", line 229, in send\n",
      "    response.status_code, error_message, http_response=response)\n",
      "ibm_cloud_sdk_core.api_exception.ApiException: Error: unsupported text language: ca, Code: 400 , X-global-transaction-id: e50f0b40-1d13-4148-ac46-c69f57011859\n"
     ]
    },
    {
     "name": "stdout",
     "output_type": "stream",
     "text": [
      "FAIL: 120 Congratulations @MarianoRivera ! \n",
      "130 emotional classifications done!\n",
      "140 emotional classifications done!\n",
      "150 emotional classifications done!\n"
     ]
    },
    {
     "name": "stderr",
     "output_type": "stream",
     "text": [
      "ERROR:root:not enough text for language id\n",
      "Traceback (most recent call last):\n",
      "  File \"/Users/phillipholscher/opt/anaconda3/lib/python3.7/site-packages/ibm_cloud_sdk_core/base_service.py\", line 229, in send\n",
      "    response.status_code, error_message, http_response=response)\n",
      "ibm_cloud_sdk_core.api_exception.ApiException: Error: not enough text for language id, Code: 422 , X-global-transaction-id: 1ffda157-50f3-477d-9884-a014a7b001e0\n"
     ]
    },
    {
     "name": "stdout",
     "output_type": "stream",
     "text": [
      "FAIL: 155 Thank you! \n"
     ]
    },
    {
     "name": "stderr",
     "output_type": "stream",
     "text": [
      "ERROR:root:not enough text for language id\n",
      "Traceback (most recent call last):\n",
      "  File \"/Users/phillipholscher/opt/anaconda3/lib/python3.7/site-packages/ibm_cloud_sdk_core/base_service.py\", line 229, in send\n",
      "    response.status_code, error_message, http_response=response)\n",
      "ibm_cloud_sdk_core.api_exception.ApiException: Error: not enough text for language id, Code: 422 , X-global-transaction-id: f74b3bfe-982d-46a9-93e9-15d9fa1dc97c\n"
     ]
    },
    {
     "name": "stdout",
     "output_type": "stream",
     "text": [
      "FAIL: 158 Amazing! \n",
      "160 emotional classifications done!\n",
      "170 emotional classifications done!\n",
      "180 emotional classifications done!\n",
      "190 emotional classifications done!\n",
      "200 emotional classifications done!\n",
      "210 emotional classifications done!\n",
      "220 emotional classifications done!\n",
      "230 emotional classifications done!\n",
      "240 emotional classifications done!\n",
      "250 emotional classifications done!\n",
      "260 emotional classifications done!\n",
      "270 emotional classifications done!\n",
      "280 emotional classifications done!\n",
      "290 emotional classifications done!\n",
      "300 emotional classifications done!\n",
      "310 emotional classifications done!\n"
     ]
    },
    {
     "name": "stderr",
     "output_type": "stream",
     "text": [
      "ERROR:root:upstream connect error or disconnect/reset before headers. reset reason: connection termination\n",
      "Traceback (most recent call last):\n",
      "  File \"/Users/phillipholscher/opt/anaconda3/lib/python3.7/site-packages/ibm_cloud_sdk_core/base_service.py\", line 229, in send\n",
      "    response.status_code, error_message, http_response=response)\n",
      "ibm_cloud_sdk_core.api_exception.ApiException: Error: upstream connect error or disconnect/reset before headers. reset reason: connection termination, Code: 503 , X-global-transaction-id: 54248988-3afb-40f6-aabe-f61d45811003\n"
     ]
    },
    {
     "name": "stdout",
     "output_type": "stream",
     "text": [
      "FAIL: 311 6. The Democrats’ destructive “environmental” proposals will raise your energy bill and prices at the pump. Don't the Democrats care about fighting American poverty?\n",
      "320 emotional classifications done!\n",
      "330 emotional classifications done!\n",
      "340 emotional classifications done!\n",
      "350 emotional classifications done!\n",
      "360 emotional classifications done!\n",
      "370 emotional classifications done!\n",
      "380 emotional classifications done!\n",
      "390 emotional classifications done!\n",
      "400 emotional classifications done!\n",
      "410 emotional classifications done!\n",
      "420 emotional classifications done!\n",
      "430 emotional classifications done!\n",
      "440 emotional classifications done!\n"
     ]
    },
    {
     "name": "stderr",
     "output_type": "stream",
     "text": [
      "ERROR:root:not enough text for language id\n",
      "Traceback (most recent call last):\n",
      "  File \"/Users/phillipholscher/opt/anaconda3/lib/python3.7/site-packages/ibm_cloud_sdk_core/base_service.py\", line 229, in send\n",
      "    response.status_code, error_message, http_response=response)\n",
      "ibm_cloud_sdk_core.api_exception.ApiException: Error: not enough text for language id, Code: 422 , X-global-transaction-id: b230e61d-2a06-4a2b-90d7-22a8177c0c5b\n"
     ]
    },
    {
     "name": "stdout",
     "output_type": "stream",
     "text": [
      "FAIL: 444 I agree 100%! \n",
      "450 emotional classifications done!\n"
     ]
    },
    {
     "name": "stderr",
     "output_type": "stream",
     "text": [
      "ERROR:root:not enough text for language id\n",
      "Traceback (most recent call last):\n",
      "  File \"/Users/phillipholscher/opt/anaconda3/lib/python3.7/site-packages/ibm_cloud_sdk_core/base_service.py\", line 229, in send\n",
      "    response.status_code, error_message, http_response=response)\n",
      "ibm_cloud_sdk_core.api_exception.ApiException: Error: not enough text for language id, Code: 422 , X-global-transaction-id: 6fcc912c-4d81-45b0-bdf9-3bd9e11280be\n"
     ]
    },
    {
     "name": "stdout",
     "output_type": "stream",
     "text": [
      "FAIL: 457 A disgrace! \n",
      "460 emotional classifications done!\n",
      "470 emotional classifications done!\n",
      "480 emotional classifications done!\n"
     ]
    },
    {
     "name": "stderr",
     "output_type": "stream",
     "text": [
      "ERROR:root:not enough text for language id\n",
      "Traceback (most recent call last):\n",
      "  File \"/Users/phillipholscher/opt/anaconda3/lib/python3.7/site-packages/ibm_cloud_sdk_core/base_service.py\", line 229, in send\n",
      "    response.status_code, error_message, http_response=response)\n",
      "ibm_cloud_sdk_core.api_exception.ApiException: Error: not enough text for language id, Code: 422 , X-global-transaction-id: dd3c0d24-eb4c-48ab-b8eb-87ae72fc749d\n"
     ]
    },
    {
     "name": "stdout",
     "output_type": "stream",
     "text": [
      "FAIL: 486 Disgraceful! \n",
      "490 emotional classifications done!\n",
      "500 emotional classifications done!\n",
      "510 emotional classifications done!\n",
      "520 emotional classifications done!\n",
      "530 emotional classifications done!\n",
      "540 emotional classifications done!\n"
     ]
    },
    {
     "name": "stderr",
     "output_type": "stream",
     "text": [
      "ERROR:root:upstream connect error or disconnect/reset before headers. reset reason: connection termination\n",
      "Traceback (most recent call last):\n",
      "  File \"/Users/phillipholscher/opt/anaconda3/lib/python3.7/site-packages/ibm_cloud_sdk_core/base_service.py\", line 229, in send\n",
      "    response.status_code, error_message, http_response=response)\n",
      "ibm_cloud_sdk_core.api_exception.ApiException: Error: upstream connect error or disconnect/reset before headers. reset reason: connection termination, Code: 503 , X-global-transaction-id: 9406f68b-895d-483d-88c1-059bc38c1c30\n"
     ]
    },
    {
     "name": "stdout",
     "output_type": "stream",
     "text": [
      "FAIL: 542 “Thank you to Wayne Allyn Root for the very nice words. “President Trump is the greatest President for Jews and for Israel in the history of the world, not just America, he is the best President for Israel in the history of the world...and the Jewish people in Israel love him....\n",
      "550 emotional classifications done!\n",
      "560 emotional classifications done!\n"
     ]
    },
    {
     "name": "stderr",
     "output_type": "stream",
     "text": [
      "ERROR:root:not enough text for language id\n",
      "Traceback (most recent call last):\n",
      "  File \"/Users/phillipholscher/opt/anaconda3/lib/python3.7/site-packages/ibm_cloud_sdk_core/base_service.py\", line 229, in send\n",
      "    response.status_code, error_message, http_response=response)\n",
      "ibm_cloud_sdk_core.api_exception.ApiException: Error: not enough text for language id, Code: 422 , X-global-transaction-id: 806a8331-faf3-4bf8-a847-33762e1ff90d\n"
     ]
    },
    {
     "name": "stdout",
     "output_type": "stream",
     "text": [
      "FAIL: 561 THANK YOU! \n",
      "570 emotional classifications done!\n",
      "580 emotional classifications done!\n"
     ]
    },
    {
     "name": "stderr",
     "output_type": "stream",
     "text": [
      "ERROR:root:not enough text for language id\n",
      "Traceback (most recent call last):\n",
      "  File \"/Users/phillipholscher/opt/anaconda3/lib/python3.7/site-packages/ibm_cloud_sdk_core/base_service.py\", line 229, in send\n",
      "    response.status_code, error_message, http_response=response)\n",
      "ibm_cloud_sdk_core.api_exception.ApiException: Error: not enough text for language id, Code: 422 , X-global-transaction-id: 0f66fa45-42f6-43ab-8698-c3f4a1a9dfbb\n"
     ]
    },
    {
     "name": "stdout",
     "output_type": "stream",
     "text": [
      "FAIL: 582 Thank you! \n",
      "590 emotional classifications done!\n",
      "600 emotional classifications done!\n",
      "610 emotional classifications done!\n",
      "620 emotional classifications done!\n"
     ]
    },
    {
     "name": "stderr",
     "output_type": "stream",
     "text": [
      "ERROR:root:not enough text for language id\n",
      "Traceback (most recent call last):\n",
      "  File \"/Users/phillipholscher/opt/anaconda3/lib/python3.7/site-packages/ibm_cloud_sdk_core/base_service.py\", line 229, in send\n",
      "    response.status_code, error_message, http_response=response)\n",
      "ibm_cloud_sdk_core.api_exception.ApiException: Error: not enough text for language id, Code: 422 , X-global-transaction-id: 7dafce60-3ef0-4060-bb99-331106f8bf22\n"
     ]
    },
    {
     "name": "stdout",
     "output_type": "stream",
     "text": [
      "FAIL: 621 Sad! \n",
      "630 emotional classifications done!\n",
      "640 emotional classifications done!\n",
      "650 emotional classifications done!\n",
      "660 emotional classifications done!\n",
      "670 emotional classifications done!\n",
      "680 emotional classifications done!\n",
      "690 emotional classifications done!\n",
      "700 emotional classifications done!\n",
      "710 emotional classifications done!\n",
      "720 emotional classifications done!\n",
      "730 emotional classifications done!\n",
      "740 emotional classifications done!\n",
      "750 emotional classifications done!\n",
      "760 emotional classifications done!\n",
      "770 emotional classifications done!\n",
      "780 emotional classifications done!\n",
      "790 emotional classifications done!\n",
      "800 emotional classifications done!\n",
      "810 emotional classifications done!\n",
      "820 emotional classifications done!\n",
      "830 emotional classifications done!\n",
      "840 emotional classifications done!\n",
      "850 emotional classifications done!\n",
      "860 emotional classifications done!\n",
      "870 emotional classifications done!\n",
      "880 emotional classifications done!\n",
      "890 emotional classifications done!\n",
      "900 emotional classifications done!\n",
      "910 emotional classifications done!\n",
      "920 emotional classifications done!\n",
      "930 emotional classifications done!\n",
      "940 emotional classifications done!\n",
      "950 emotional classifications done!\n",
      "960 emotional classifications done!\n"
     ]
    },
    {
     "name": "stderr",
     "output_type": "stream",
     "text": [
      "ERROR:root:not enough text for language id\n",
      "Traceback (most recent call last):\n",
      "  File \"/Users/phillipholscher/opt/anaconda3/lib/python3.7/site-packages/ibm_cloud_sdk_core/base_service.py\", line 229, in send\n",
      "    response.status_code, error_message, http_response=response)\n",
      "ibm_cloud_sdk_core.api_exception.ApiException: Error: not enough text for language id, Code: 422 , X-global-transaction-id: 3e83e8c8-bda1-4d14-bbc0-5ca6810b4574\n"
     ]
    },
    {
     "name": "stdout",
     "output_type": "stream",
     "text": [
      "FAIL: 964 Thank you! \n",
      "970 emotional classifications done!\n",
      "980 emotional classifications done!\n",
      "990 emotional classifications done!\n",
      "1000 emotional classifications done!\n",
      "1010 emotional classifications done!\n",
      "1020 emotional classifications done!\n",
      "1030 emotional classifications done!\n",
      "1040 emotional classifications done!\n",
      "1050 emotional classifications done!\n",
      "1060 emotional classifications done!\n"
     ]
    },
    {
     "name": "stderr",
     "output_type": "stream",
     "text": [
      "ERROR:root:not enough text for language id\n",
      "Traceback (most recent call last):\n",
      "  File \"/Users/phillipholscher/opt/anaconda3/lib/python3.7/site-packages/ibm_cloud_sdk_core/base_service.py\", line 229, in send\n",
      "    response.status_code, error_message, http_response=response)\n",
      "ibm_cloud_sdk_core.api_exception.ApiException: Error: not enough text for language id, Code: 422 , X-global-transaction-id: 2f9a2124-c2a6-40e4-a6b9-a30766289101\n",
      "ERROR:root:not enough text for language id\n",
      "Traceback (most recent call last):\n",
      "  File \"/Users/phillipholscher/opt/anaconda3/lib/python3.7/site-packages/ibm_cloud_sdk_core/base_service.py\", line 229, in send\n",
      "    response.status_code, error_message, http_response=response)\n",
      "ibm_cloud_sdk_core.api_exception.ApiException: Error: not enough text for language id, Code: 422 , X-global-transaction-id: f2b0f9e5-7c34-4f7a-8187-1e921ea1428e\n"
     ]
    },
    {
     "name": "stdout",
     "output_type": "stream",
     "text": [
      "FAIL: 1064 Interesting! \n",
      "FAIL: 1065 Thank you! \n",
      "1070 emotional classifications done!\n",
      "1080 emotional classifications done!\n",
      "1090 emotional classifications done!\n",
      "1100 emotional classifications done!\n",
      "1110 emotional classifications done!\n",
      "1120 emotional classifications done!\n",
      "1130 emotional classifications done!\n"
     ]
    },
    {
     "name": "stderr",
     "output_type": "stream",
     "text": [
      "ERROR:root:not enough text for language id\n",
      "Traceback (most recent call last):\n",
      "  File \"/Users/phillipholscher/opt/anaconda3/lib/python3.7/site-packages/ibm_cloud_sdk_core/base_service.py\", line 229, in send\n",
      "    response.status_code, error_message, http_response=response)\n",
      "ibm_cloud_sdk_core.api_exception.ApiException: Error: not enough text for language id, Code: 422 , X-global-transaction-id: c10a7089-8978-4038-87f1-e80eed87298b\n"
     ]
    },
    {
     "name": "stdout",
     "output_type": "stream",
     "text": [
      "FAIL: 1134 Thank you Ari! \n",
      "1140 emotional classifications done!\n",
      "1150 emotional classifications done!\n",
      "1160 emotional classifications done!\n"
     ]
    },
    {
     "name": "stderr",
     "output_type": "stream",
     "text": [
      "ERROR:root:not enough text for language id\n",
      "Traceback (most recent call last):\n",
      "  File \"/Users/phillipholscher/opt/anaconda3/lib/python3.7/site-packages/ibm_cloud_sdk_core/base_service.py\", line 229, in send\n",
      "    response.status_code, error_message, http_response=response)\n",
      "ibm_cloud_sdk_core.api_exception.ApiException: Error: not enough text for language id, Code: 422 , X-global-transaction-id: a9c0e208-87af-4500-b035-15e97eed9f19\n"
     ]
    },
    {
     "name": "stdout",
     "output_type": "stream",
     "text": [
      "FAIL: 1161 Thanks Ari! \n",
      "1170 emotional classifications done!\n",
      "1180 emotional classifications done!\n",
      "1190 emotional classifications done!\n",
      "1200 emotional classifications done!\n",
      "1210 emotional classifications done!\n",
      "1220 emotional classifications done!\n"
     ]
    },
    {
     "name": "stderr",
     "output_type": "stream",
     "text": [
      "ERROR:root:not enough text for language id\n",
      "Traceback (most recent call last):\n",
      "  File \"/Users/phillipholscher/opt/anaconda3/lib/python3.7/site-packages/ibm_cloud_sdk_core/base_service.py\", line 229, in send\n",
      "    response.status_code, error_message, http_response=response)\n",
      "ibm_cloud_sdk_core.api_exception.ApiException: Error: not enough text for language id, Code: 422 , X-global-transaction-id: d8eac222-e2fb-49d6-a438-338d63988356\n"
     ]
    },
    {
     "name": "stdout",
     "output_type": "stream",
     "text": [
      "FAIL: 1225 Thank you \n",
      "1230 emotional classifications done!\n"
     ]
    },
    {
     "name": "stderr",
     "output_type": "stream",
     "text": [
      "ERROR:root:not enough text for language id\n",
      "Traceback (most recent call last):\n",
      "  File \"/Users/phillipholscher/opt/anaconda3/lib/python3.7/site-packages/ibm_cloud_sdk_core/base_service.py\", line 229, in send\n",
      "    response.status_code, error_message, http_response=response)\n",
      "ibm_cloud_sdk_core.api_exception.ApiException: Error: not enough text for language id, Code: 422 , X-global-transaction-id: 44c18e7c-cbf0-46ab-8531-c3d143baa97d\n"
     ]
    },
    {
     "name": "stdout",
     "output_type": "stream",
     "text": [
      "FAIL: 1235 Thank you! \n"
     ]
    },
    {
     "name": "stderr",
     "output_type": "stream",
     "text": [
      "ERROR:root:not enough text for language id\n",
      "Traceback (most recent call last):\n",
      "  File \"/Users/phillipholscher/opt/anaconda3/lib/python3.7/site-packages/ibm_cloud_sdk_core/base_service.py\", line 229, in send\n",
      "    response.status_code, error_message, http_response=response)\n",
      "ibm_cloud_sdk_core.api_exception.ApiException: Error: not enough text for language id, Code: 422 , X-global-transaction-id: ccd14768-c95d-4fca-9ec2-a57b002ee2ae\n"
     ]
    },
    {
     "name": "stdout",
     "output_type": "stream",
     "text": [
      "1240 emotional classifications done!\n",
      "FAIL: 1240 BORING!\n",
      "1250 emotional classifications done!\n",
      "1260 emotional classifications done!\n",
      "1270 emotional classifications done!\n",
      "1280 emotional classifications done!\n",
      "1290 emotional classifications done!\n",
      "1300 emotional classifications done!\n",
      "1310 emotional classifications done!\n"
     ]
    },
    {
     "name": "stderr",
     "output_type": "stream",
     "text": [
      "ERROR:root:not enough text for language id\n",
      "Traceback (most recent call last):\n",
      "  File \"/Users/phillipholscher/opt/anaconda3/lib/python3.7/site-packages/ibm_cloud_sdk_core/base_service.py\", line 229, in send\n",
      "    response.status_code, error_message, http_response=response)\n",
      "ibm_cloud_sdk_core.api_exception.ApiException: Error: not enough text for language id, Code: 422 , X-global-transaction-id: 6b00d593-ba64-43e9-908c-2bf2ca8d49bf\n"
     ]
    },
    {
     "name": "stdout",
     "output_type": "stream",
     "text": [
      "FAIL: 1313 THANK YOU! \n",
      "1320 emotional classifications done!\n",
      "1330 emotional classifications done!\n",
      "1340 emotional classifications done!\n",
      "1350 emotional classifications done!\n",
      "1360 emotional classifications done!\n",
      "1370 emotional classifications done!\n",
      "1380 emotional classifications done!\n",
      "1390 emotional classifications done!\n",
      "1400 emotional classifications done!\n"
     ]
    },
    {
     "name": "stderr",
     "output_type": "stream",
     "text": [
      "ERROR:root:not enough text for language id\n",
      "Traceback (most recent call last):\n",
      "  File \"/Users/phillipholscher/opt/anaconda3/lib/python3.7/site-packages/ibm_cloud_sdk_core/base_service.py\", line 229, in send\n",
      "    response.status_code, error_message, http_response=response)\n",
      "ibm_cloud_sdk_core.api_exception.ApiException: Error: not enough text for language id, Code: 422 , X-global-transaction-id: 65bdaebf-a616-44dd-91dd-440abd9b0206\n"
     ]
    },
    {
     "name": "stdout",
     "output_type": "stream",
     "text": [
      "FAIL: 1404 Thank you! \n",
      "1410 emotional classifications done!\n",
      "1420 emotional classifications done!\n",
      "1430 emotional classifications done!\n",
      "1440 emotional classifications done!\n",
      "1450 emotional classifications done!\n",
      "1460 emotional classifications done!\n",
      "1470 emotional classifications done!\n",
      "1480 emotional classifications done!\n",
      "1490 emotional classifications done!\n"
     ]
    },
    {
     "name": "stderr",
     "output_type": "stream",
     "text": [
      "ERROR:root:not enough text for language id\n",
      "Traceback (most recent call last):\n",
      "  File \"/Users/phillipholscher/opt/anaconda3/lib/python3.7/site-packages/ibm_cloud_sdk_core/base_service.py\", line 229, in send\n",
      "    response.status_code, error_message, http_response=response)\n",
      "ibm_cloud_sdk_core.api_exception.ApiException: Error: not enough text for language id, Code: 422 , X-global-transaction-id: fcbdd294-69c3-4597-90f9-ceea8a37e347\n"
     ]
    },
    {
     "name": "stdout",
     "output_type": "stream",
     "text": [
      "1500 emotional classifications done!\n",
      "FAIL: 1500 Thank you! \n",
      "1510 emotional classifications done!\n",
      "1520 emotional classifications done!\n",
      "1530 emotional classifications done!\n",
      "1540 emotional classifications done!\n",
      "1550 emotional classifications done!\n",
      "1560 emotional classifications done!\n",
      "1570 emotional classifications done!\n",
      "1580 emotional classifications done!\n",
      "1590 emotional classifications done!\n",
      "1600 emotional classifications done!\n",
      "1610 emotional classifications done!\n",
      "1620 emotional classifications done!\n",
      "1630 emotional classifications done!\n",
      "1640 emotional classifications done!\n",
      "1650 emotional classifications done!\n",
      "1660 emotional classifications done!\n",
      "1670 emotional classifications done!\n",
      "1680 emotional classifications done!\n",
      "1690 emotional classifications done!\n",
      "1700 emotional classifications done!\n",
      "1710 emotional classifications done!\n",
      "1720 emotional classifications done!\n",
      "1730 emotional classifications done!\n",
      "1740 emotional classifications done!\n",
      "1750 emotional classifications done!\n",
      "1760 emotional classifications done!\n",
      "1770 emotional classifications done!\n"
     ]
    },
    {
     "name": "stderr",
     "output_type": "stream",
     "text": [
      "ERROR:root:not enough text for language id\n",
      "Traceback (most recent call last):\n",
      "  File \"/Users/phillipholscher/opt/anaconda3/lib/python3.7/site-packages/ibm_cloud_sdk_core/base_service.py\", line 229, in send\n",
      "    response.status_code, error_message, http_response=response)\n",
      "ibm_cloud_sdk_core.api_exception.ApiException: Error: not enough text for language id, Code: 422 , X-global-transaction-id: 7467c9af-89fb-430a-bf91-62aefe837c25\n"
     ]
    },
    {
     "name": "stdout",
     "output_type": "stream",
     "text": [
      "FAIL: 1771 Really sad! \n",
      "1780 emotional classifications done!\n",
      "1790 emotional classifications done!\n",
      "1800 emotional classifications done!\n",
      "1810 emotional classifications done!\n",
      "1820 emotional classifications done!\n",
      "1830 emotional classifications done!\n",
      "1840 emotional classifications done!\n",
      "1850 emotional classifications done!\n",
      "1860 emotional classifications done!\n",
      "1870 emotional classifications done!\n",
      "1880 emotional classifications done!\n",
      "1890 emotional classifications done!\n",
      "not enough text for language id : 23\n",
      "unsupported text language: ca : 1\n",
      "upstream connect error or disconnect/reset before headers. reset reason: connection termination : 2\n",
      "--- 756.6998200416565 seconds ---\n"
     ]
    }
   ],
   "source": [
    "start_time = time.time()\n",
    "new_data_4000 = create_emotion(data_4000)\n",
    "print(\"--- %s seconds ---\" % (time.time() - start_time))"
   ]
  },
  {
   "cell_type": "raw",
   "metadata": {},
   "source": [
    "The uncleand dataframe has  2000  rows and  5  columns.\n",
    "The cleand dataframe has  1898  rows and  5  columns.\n",
    "-- Wation Natural Language Understanding is now going to create emotions for every tweet--\n",
    "not enough text for language id : 23\n",
    "unsupported text language: ca : 1\n",
    "upstream connect error or disconnect/reset before headers. reset reason: connection termination : 2\n",
    "--- 756.6998200416565 seconds ---"
   ]
  },
  {
   "cell_type": "code",
   "execution_count": 63,
   "metadata": {},
   "outputs": [],
   "source": [
    "new_data_4000.to_csv(\"new_data_4000.csv\", index = None, header = True)"
   ]
  },
  {
   "cell_type": "code",
   "execution_count": 41,
   "metadata": {},
   "outputs": [
    {
     "data": {
      "text/html": [
       "<div>\n",
       "<style scoped>\n",
       "    .dataframe tbody tr th:only-of-type {\n",
       "        vertical-align: middle;\n",
       "    }\n",
       "\n",
       "    .dataframe tbody tr th {\n",
       "        vertical-align: top;\n",
       "    }\n",
       "\n",
       "    .dataframe thead th {\n",
       "        text-align: right;\n",
       "    }\n",
       "</style>\n",
       "<table border=\"1\" class=\"dataframe\">\n",
       "  <thead>\n",
       "    <tr style=\"text-align: right;\">\n",
       "      <th></th>\n",
       "      <th>index</th>\n",
       "      <th>username</th>\n",
       "      <th>date</th>\n",
       "      <th>retweets</th>\n",
       "      <th>favorites</th>\n",
       "      <th>text</th>\n",
       "      <th>emotion</th>\n",
       "      <th>emotion_probability</th>\n",
       "    </tr>\n",
       "  </thead>\n",
       "  <tbody>\n",
       "    <tr>\n",
       "      <th>0</th>\n",
       "      <td>2000</td>\n",
       "      <td>realDonaldTrump</td>\n",
       "      <td>27.09.19 01:02</td>\n",
       "      <td>23099</td>\n",
       "      <td>96945</td>\n",
       "      <td>The President of Ukraine said that he was NOT ...</td>\n",
       "      <td>joy</td>\n",
       "      <td>0.360345</td>\n",
       "    </tr>\n",
       "    <tr>\n",
       "      <th>1</th>\n",
       "      <td>2001</td>\n",
       "      <td>realDonaldTrump</td>\n",
       "      <td>27.09.19 01:01</td>\n",
       "      <td>13271</td>\n",
       "      <td>55921</td>\n",
       "      <td>No one has done more behind the scenes for STR...</td>\n",
       "      <td>joy</td>\n",
       "      <td>0.598367</td>\n",
       "    </tr>\n",
       "    <tr>\n",
       "      <th>2</th>\n",
       "      <td>2002</td>\n",
       "      <td>realDonaldTrump</td>\n",
       "      <td>27.09.19 00:58</td>\n",
       "      <td>9586</td>\n",
       "      <td>45362</td>\n",
       "      <td>Congratulations to my friend @SenShelby , our ...</td>\n",
       "      <td>joy</td>\n",
       "      <td>0.799805</td>\n",
       "    </tr>\n",
       "    <tr>\n",
       "      <th>3</th>\n",
       "      <td>2003</td>\n",
       "      <td>realDonaldTrump</td>\n",
       "      <td>26.09.19 20:13</td>\n",
       "      <td>29786</td>\n",
       "      <td>119288</td>\n",
       "      <td>Liddle’ Adam Schiff, who has worked unsuccessf...</td>\n",
       "      <td>sadness</td>\n",
       "      <td>0.549624</td>\n",
       "    </tr>\n",
       "    <tr>\n",
       "      <th>4</th>\n",
       "      <td>2004</td>\n",
       "      <td>realDonaldTrump</td>\n",
       "      <td>26.09.19 18:48</td>\n",
       "      <td>18882</td>\n",
       "      <td>86062</td>\n",
       "      <td>Adam Schiff has zero credibility. Another fant...</td>\n",
       "      <td>sadness</td>\n",
       "      <td>0.559756</td>\n",
       "    </tr>\n",
       "    <tr>\n",
       "      <th>...</th>\n",
       "      <td>...</td>\n",
       "      <td>...</td>\n",
       "      <td>...</td>\n",
       "      <td>...</td>\n",
       "      <td>...</td>\n",
       "      <td>...</td>\n",
       "      <td>...</td>\n",
       "      <td>...</td>\n",
       "    </tr>\n",
       "    <tr>\n",
       "      <th>1893</th>\n",
       "      <td>3995</td>\n",
       "      <td>realDonaldTrump</td>\n",
       "      <td>01.05.19 13:01</td>\n",
       "      <td>15464</td>\n",
       "      <td>70659</td>\n",
       "      <td>Gallup Poll: 56% of Americans rate their finan...</td>\n",
       "      <td>joy</td>\n",
       "      <td>0.562910</td>\n",
       "    </tr>\n",
       "    <tr>\n",
       "      <th>1894</th>\n",
       "      <td>3996</td>\n",
       "      <td>realDonaldTrump</td>\n",
       "      <td>01.05.19 12:50</td>\n",
       "      <td>20850</td>\n",
       "      <td>105698</td>\n",
       "      <td>I am overriding the Decommission Order of the ...</td>\n",
       "      <td>joy</td>\n",
       "      <td>0.482437</td>\n",
       "    </tr>\n",
       "    <tr>\n",
       "      <th>1895</th>\n",
       "      <td>3997</td>\n",
       "      <td>realDonaldTrump</td>\n",
       "      <td>01.05.19 12:36</td>\n",
       "      <td>19323</td>\n",
       "      <td>78162</td>\n",
       "      <td>“The Democrats can’t come to grips with the fa...</td>\n",
       "      <td>disgust</td>\n",
       "      <td>0.411829</td>\n",
       "    </tr>\n",
       "    <tr>\n",
       "      <th>1896</th>\n",
       "      <td>3998</td>\n",
       "      <td>realDonaldTrump</td>\n",
       "      <td>01.05.19 11:56</td>\n",
       "      <td>13312</td>\n",
       "      <td>60876</td>\n",
       "      <td>I’ve done more for Firefighters than this dues...</td>\n",
       "      <td>anger</td>\n",
       "      <td>0.577340</td>\n",
       "    </tr>\n",
       "    <tr>\n",
       "      <th>1897</th>\n",
       "      <td>3999</td>\n",
       "      <td>realDonaldTrump</td>\n",
       "      <td>01.05.19 01:21</td>\n",
       "      <td>10196</td>\n",
       "      <td>52939</td>\n",
       "      <td>Today, it was my great honor to welcome and ho...</td>\n",
       "      <td>joy</td>\n",
       "      <td>0.938229</td>\n",
       "    </tr>\n",
       "  </tbody>\n",
       "</table>\n",
       "<p>1898 rows × 8 columns</p>\n",
       "</div>"
      ],
      "text/plain": [
       "      index         username            date  retweets  favorites  \\\n",
       "0      2000  realDonaldTrump  27.09.19 01:02     23099      96945   \n",
       "1      2001  realDonaldTrump  27.09.19 01:01     13271      55921   \n",
       "2      2002  realDonaldTrump  27.09.19 00:58      9586      45362   \n",
       "3      2003  realDonaldTrump  26.09.19 20:13     29786     119288   \n",
       "4      2004  realDonaldTrump  26.09.19 18:48     18882      86062   \n",
       "...     ...              ...             ...       ...        ...   \n",
       "1893   3995  realDonaldTrump  01.05.19 13:01     15464      70659   \n",
       "1894   3996  realDonaldTrump  01.05.19 12:50     20850     105698   \n",
       "1895   3997  realDonaldTrump  01.05.19 12:36     19323      78162   \n",
       "1896   3998  realDonaldTrump  01.05.19 11:56     13312      60876   \n",
       "1897   3999  realDonaldTrump  01.05.19 01:21     10196      52939   \n",
       "\n",
       "                                                   text  emotion  \\\n",
       "0     The President of Ukraine said that he was NOT ...      joy   \n",
       "1     No one has done more behind the scenes for STR...      joy   \n",
       "2     Congratulations to my friend @SenShelby , our ...      joy   \n",
       "3     Liddle’ Adam Schiff, who has worked unsuccessf...  sadness   \n",
       "4     Adam Schiff has zero credibility. Another fant...  sadness   \n",
       "...                                                 ...      ...   \n",
       "1893  Gallup Poll: 56% of Americans rate their finan...      joy   \n",
       "1894  I am overriding the Decommission Order of the ...      joy   \n",
       "1895  “The Democrats can’t come to grips with the fa...  disgust   \n",
       "1896  I’ve done more for Firefighters than this dues...    anger   \n",
       "1897  Today, it was my great honor to welcome and ho...      joy   \n",
       "\n",
       "      emotion_probability  \n",
       "0                0.360345  \n",
       "1                0.598367  \n",
       "2                0.799805  \n",
       "3                0.549624  \n",
       "4                0.559756  \n",
       "...                   ...  \n",
       "1893             0.562910  \n",
       "1894             0.482437  \n",
       "1895             0.411829  \n",
       "1896             0.577340  \n",
       "1897             0.938229  \n",
       "\n",
       "[1898 rows x 8 columns]"
      ]
     },
     "execution_count": 41,
     "metadata": {},
     "output_type": "execute_result"
    }
   ],
   "source": [
    "new_data_4000"
   ]
  },
  {
   "cell_type": "markdown",
   "metadata": {},
   "source": [
    "# 4000-6000"
   ]
  },
  {
   "cell_type": "code",
   "execution_count": 20,
   "metadata": {
    "scrolled": true
   },
   "outputs": [
    {
     "name": "stdout",
     "output_type": "stream",
     "text": [
      "The uncleand dataframe has  2000  rows and  5  columns.\n",
      "The following index and items are going to be removed:\n",
      "4110 pic\n",
      "4114 pic\n",
      "4115 pic\n",
      "4134 pic\n",
      "4222 pic\n",
      "4290 pic\n",
      "4334 pic\n",
      "4335 pic\n",
      "4343 pic\n",
      "4344 pic\n",
      "4348 pic\n",
      "4351 pic\n",
      "4352 pic\n",
      "4363 link\n",
      "4364 pic\n",
      "4376 pic\n",
      "4377 pic\n",
      "4379 pic\n",
      "4386 pic\n",
      "4388 pic\n",
      "4400 pic\n",
      "4406 pic\n",
      "4407 pic\n",
      "4410 pic\n",
      "4413 pic\n",
      "4427 pic\n",
      "4442 pic\n",
      "4444 pic\n",
      "4446 pic\n",
      "4447 pic\n",
      "4449 pic\n",
      "4459 link\n",
      "4475 pic\n",
      "4508 pic\n",
      "4568 link\n",
      "4587 pic\n",
      "4588 pic\n",
      "4654 pic\n",
      "4679 pic\n",
      "4680 pic\n",
      "4690 pic\n",
      "4691 pic\n",
      "4700 link\n",
      "4701 pic\n",
      "4714 pic\n",
      "4755 pic\n",
      "4756 #\n",
      "4781 pic\n",
      "4817 #\n",
      "4835 link\n",
      "4884 pic\n",
      "4895 link\n",
      "4904 pic\n",
      "4907 pic\n",
      "4935 pic\n",
      "4955 pic\n",
      "4995 link\n",
      "5012 pic\n",
      "5036 pic\n",
      "5038 pic\n",
      "5260 #\n",
      "5314 #\n",
      "5336 #\n",
      "5398 pic\n",
      "5578 pic\n",
      "5593 #\n",
      "5640 #\n",
      "5686 #\n",
      "5687 pic\n",
      "5696 link\n",
      "5730 #\n",
      "5735 #\n",
      "5757 pic\n",
      "5758 pic\n",
      "5759 pic\n",
      "5760 pic\n",
      "5807 pic\n",
      "5816 pic\n",
      "5825 pic\n",
      "5826 pic\n",
      "5827 pic\n",
      "5839 link\n",
      "5850 pic\n",
      "5851 link\n",
      "5889 pic\n",
      "5907 link\n",
      "5917 link\n",
      "5922 pic\n",
      "5938 link\n",
      "5944 pic\n",
      "5956 pic\n",
      "5957 pic\n",
      "5963 pic\n",
      "5977 pic\n",
      "5979 pic\n",
      "5990 pic\n",
      "The cleand dataframe has  1904  rows and  5  columns.\n",
      "-- Wation Natural Language Understanding is now going to create emotions for every tweet--\n",
      "0 emotional classifications done!\n",
      "10 emotional classifications done!\n",
      "20 emotional classifications done!\n",
      "30 emotional classifications done!\n",
      "40 emotional classifications done!\n"
     ]
    },
    {
     "name": "stderr",
     "output_type": "stream",
     "text": [
      "ERROR:root:not enough text for language id\n",
      "Traceback (most recent call last):\n",
      "  File \"/Users/phillipholscher/opt/anaconda3/lib/python3.7/site-packages/ibm_cloud_sdk_core/base_service.py\", line 229, in send\n",
      "    response.status_code, error_message, http_response=response)\n",
      "ibm_cloud_sdk_core.api_exception.ApiException: Error: not enough text for language id, Code: 422 , X-global-transaction-id: 2b98be75-3752-4d74-bc0c-1930e8d9761c\n"
     ]
    },
    {
     "name": "stdout",
     "output_type": "stream",
     "text": [
      "FAIL: 44 Thank you! \n",
      "50 emotional classifications done!\n",
      "60 emotional classifications done!\n",
      "70 emotional classifications done!\n",
      "80 emotional classifications done!\n",
      "90 emotional classifications done!\n",
      "100 emotional classifications done!\n",
      "110 emotional classifications done!\n",
      "120 emotional classifications done!\n",
      "130 emotional classifications done!\n",
      "140 emotional classifications done!\n",
      "150 emotional classifications done!\n",
      "160 emotional classifications done!\n",
      "170 emotional classifications done!\n",
      "180 emotional classifications done!\n",
      "190 emotional classifications done!\n",
      "200 emotional classifications done!\n",
      "210 emotional classifications done!\n",
      "220 emotional classifications done!\n",
      "230 emotional classifications done!\n",
      "240 emotional classifications done!\n",
      "250 emotional classifications done!\n",
      "260 emotional classifications done!\n",
      "270 emotional classifications done!\n",
      "280 emotional classifications done!\n",
      "290 emotional classifications done!\n",
      "300 emotional classifications done!\n",
      "310 emotional classifications done!\n",
      "320 emotional classifications done!\n",
      "330 emotional classifications done!\n",
      "340 emotional classifications done!\n",
      "350 emotional classifications done!\n",
      "360 emotional classifications done!\n",
      "370 emotional classifications done!\n",
      "380 emotional classifications done!\n"
     ]
    },
    {
     "name": "stderr",
     "output_type": "stream",
     "text": [
      "ERROR:root:not enough text for language id\n",
      "Traceback (most recent call last):\n",
      "  File \"/Users/phillipholscher/opt/anaconda3/lib/python3.7/site-packages/ibm_cloud_sdk_core/base_service.py\", line 229, in send\n",
      "    response.status_code, error_message, http_response=response)\n",
      "ibm_cloud_sdk_core.api_exception.ApiException: Error: not enough text for language id, Code: 422 , X-global-transaction-id: bfb766e2-5345-445f-92ce-46cfa63a0437\n"
     ]
    },
    {
     "name": "stdout",
     "output_type": "stream",
     "text": [
      "FAIL: 383 A total loser! \n",
      "390 emotional classifications done!\n",
      "400 emotional classifications done!\n",
      "410 emotional classifications done!\n",
      "420 emotional classifications done!\n"
     ]
    },
    {
     "name": "stderr",
     "output_type": "stream",
     "text": [
      "ERROR:root:not enough text for language id\n",
      "Traceback (most recent call last):\n",
      "  File \"/Users/phillipholscher/opt/anaconda3/lib/python3.7/site-packages/ibm_cloud_sdk_core/base_service.py\", line 229, in send\n",
      "    response.status_code, error_message, http_response=response)\n",
      "ibm_cloud_sdk_core.api_exception.ApiException: Error: not enough text for language id, Code: 422 , X-global-transaction-id: 15826b51-7d9d-4c4c-b949-94d1a99a3884\n"
     ]
    },
    {
     "name": "stdout",
     "output_type": "stream",
     "text": [
      "FAIL: 429 VETO!\n",
      "430 emotional classifications done!\n",
      "440 emotional classifications done!\n",
      "450 emotional classifications done!\n",
      "460 emotional classifications done!\n",
      "470 emotional classifications done!\n",
      "480 emotional classifications done!\n",
      "490 emotional classifications done!\n",
      "500 emotional classifications done!\n",
      "510 emotional classifications done!\n",
      "520 emotional classifications done!\n",
      "530 emotional classifications done!\n",
      "540 emotional classifications done!\n",
      "550 emotional classifications done!\n",
      "560 emotional classifications done!\n",
      "570 emotional classifications done!\n",
      "580 emotional classifications done!\n",
      "590 emotional classifications done!\n",
      "600 emotional classifications done!\n",
      "610 emotional classifications done!\n",
      "620 emotional classifications done!\n"
     ]
    },
    {
     "name": "stderr",
     "output_type": "stream",
     "text": [
      "ERROR:root:not enough text for language id\n",
      "Traceback (most recent call last):\n",
      "  File \"/Users/phillipholscher/opt/anaconda3/lib/python3.7/site-packages/ibm_cloud_sdk_core/base_service.py\", line 229, in send\n",
      "    response.status_code, error_message, http_response=response)\n",
      "ibm_cloud_sdk_core.api_exception.ApiException: Error: not enough text for language id, Code: 422 , X-global-transaction-id: 9587715d-6681-4306-97b9-9f561fdf123f\n"
     ]
    },
    {
     "name": "stdout",
     "output_type": "stream",
     "text": [
      "FAIL: 626 Amazing! \n",
      "630 emotional classifications done!\n",
      "640 emotional classifications done!\n",
      "650 emotional classifications done!\n",
      "660 emotional classifications done!\n"
     ]
    },
    {
     "name": "stderr",
     "output_type": "stream",
     "text": [
      "ERROR:root:unsupported text language: fa\n",
      "Traceback (most recent call last):\n",
      "  File \"/Users/phillipholscher/opt/anaconda3/lib/python3.7/site-packages/ibm_cloud_sdk_core/base_service.py\", line 229, in send\n",
      "    response.status_code, error_message, http_response=response)\n",
      "ibm_cloud_sdk_core.api_exception.ApiException: Error: unsupported text language: fa, Code: 400 , X-global-transaction-id: 47e3becf-6ae0-44f4-b2c5-d0371272ae24\n"
     ]
    },
    {
     "name": "stdout",
     "output_type": "stream",
     "text": [
      "FAIL: 668 ۴۰ سال فساد. ۴۰ سال سرکوب. ۴۰ سال ترور. رژیم ایران فقط موجب \n",
      "670 emotional classifications done!\n",
      "680 emotional classifications done!\n",
      "690 emotional classifications done!\n",
      "700 emotional classifications done!\n",
      "710 emotional classifications done!\n",
      "720 emotional classifications done!\n",
      "730 emotional classifications done!\n",
      "740 emotional classifications done!\n",
      "750 emotional classifications done!\n",
      "760 emotional classifications done!\n",
      "770 emotional classifications done!\n",
      "780 emotional classifications done!\n",
      "790 emotional classifications done!\n",
      "800 emotional classifications done!\n",
      "810 emotional classifications done!\n",
      "820 emotional classifications done!\n",
      "830 emotional classifications done!\n",
      "840 emotional classifications done!\n",
      "850 emotional classifications done!\n"
     ]
    },
    {
     "name": "stderr",
     "output_type": "stream",
     "text": [
      "ERROR:root:not enough text for language id\n",
      "Traceback (most recent call last):\n",
      "  File \"/Users/phillipholscher/opt/anaconda3/lib/python3.7/site-packages/ibm_cloud_sdk_core/base_service.py\", line 229, in send\n",
      "    response.status_code, error_message, http_response=response)\n",
      "ibm_cloud_sdk_core.api_exception.ApiException: Error: not enough text for language id, Code: 422 , X-global-transaction-id: 0fcc07a6-2a40-4c87-8c33-dcbe19edf172\n"
     ]
    },
    {
     "name": "stdout",
     "output_type": "stream",
     "text": [
      "FAIL: 854 AMERICA FIRST!\n",
      "860 emotional classifications done!\n",
      "870 emotional classifications done!\n",
      "880 emotional classifications done!\n",
      "890 emotional classifications done!\n",
      "900 emotional classifications done!\n",
      "910 emotional classifications done!\n",
      "920 emotional classifications done!\n"
     ]
    },
    {
     "name": "stderr",
     "output_type": "stream",
     "text": [
      "ERROR:root:not enough text for language id\n",
      "Traceback (most recent call last):\n",
      "  File \"/Users/phillipholscher/opt/anaconda3/lib/python3.7/site-packages/ibm_cloud_sdk_core/base_service.py\", line 229, in send\n",
      "    response.status_code, error_message, http_response=response)\n",
      "ibm_cloud_sdk_core.api_exception.ApiException: Error: not enough text for language id, Code: 422 , X-global-transaction-id: fda99fb3-8d54-436b-99b8-dc048118a338\n"
     ]
    },
    {
     "name": "stdout",
     "output_type": "stream",
     "text": [
      "FAIL: 923 Dear Diary... \n",
      "930 emotional classifications done!\n",
      "940 emotional classifications done!\n",
      "950 emotional classifications done!\n",
      "960 emotional classifications done!\n",
      "970 emotional classifications done!\n",
      "980 emotional classifications done!\n",
      "990 emotional classifications done!\n",
      "1000 emotional classifications done!\n",
      "1010 emotional classifications done!\n",
      "1020 emotional classifications done!\n",
      "1030 emotional classifications done!\n",
      "1040 emotional classifications done!\n",
      "1050 emotional classifications done!\n",
      "1060 emotional classifications done!\n",
      "1070 emotional classifications done!\n",
      "1080 emotional classifications done!\n",
      "1090 emotional classifications done!\n",
      "1100 emotional classifications done!\n",
      "1110 emotional classifications done!\n",
      "1120 emotional classifications done!\n",
      "1130 emotional classifications done!\n",
      "1140 emotional classifications done!\n",
      "1150 emotional classifications done!\n",
      "1160 emotional classifications done!\n",
      "1170 emotional classifications done!\n",
      "1180 emotional classifications done!\n",
      "1190 emotional classifications done!\n",
      "1200 emotional classifications done!\n",
      "1210 emotional classifications done!\n",
      "1220 emotional classifications done!\n",
      "1230 emotional classifications done!\n",
      "1240 emotional classifications done!\n",
      "1250 emotional classifications done!\n",
      "1260 emotional classifications done!\n",
      "1270 emotional classifications done!\n",
      "1280 emotional classifications done!\n",
      "1290 emotional classifications done!\n",
      "1300 emotional classifications done!\n",
      "1310 emotional classifications done!\n",
      "1320 emotional classifications done!\n",
      "1330 emotional classifications done!\n",
      "1340 emotional classifications done!\n",
      "1350 emotional classifications done!\n"
     ]
    },
    {
     "name": "stderr",
     "output_type": "stream",
     "text": [
      "ERROR:root:not enough text for language id\n",
      "Traceback (most recent call last):\n",
      "  File \"/Users/phillipholscher/opt/anaconda3/lib/python3.7/site-packages/ibm_cloud_sdk_core/base_service.py\", line 229, in send\n",
      "    response.status_code, error_message, http_response=response)\n",
      "ibm_cloud_sdk_core.api_exception.ApiException: Error: not enough text for language id, Code: 422 , X-global-transaction-id: d8c58981-d5f2-4eae-b426-9e8e7e11680f\n"
     ]
    },
    {
     "name": "stdout",
     "output_type": "stream",
     "text": [
      "FAIL: 1351 AMERICA FIRST!\n",
      "1360 emotional classifications done!\n",
      "1370 emotional classifications done!\n",
      "1380 emotional classifications done!\n",
      "1390 emotional classifications done!\n",
      "1400 emotional classifications done!\n",
      "1410 emotional classifications done!\n",
      "1420 emotional classifications done!\n",
      "1430 emotional classifications done!\n",
      "1440 emotional classifications done!\n",
      "1450 emotional classifications done!\n",
      "1460 emotional classifications done!\n",
      "1470 emotional classifications done!\n",
      "1480 emotional classifications done!\n",
      "1490 emotional classifications done!\n",
      "1500 emotional classifications done!\n"
     ]
    },
    {
     "name": "stderr",
     "output_type": "stream",
     "text": [
      "ERROR:root:not enough text for language id\n",
      "Traceback (most recent call last):\n",
      "  File \"/Users/phillipholscher/opt/anaconda3/lib/python3.7/site-packages/ibm_cloud_sdk_core/base_service.py\", line 229, in send\n",
      "    response.status_code, error_message, http_response=response)\n",
      "ibm_cloud_sdk_core.api_exception.ApiException: Error: not enough text for language id, Code: 422 , X-global-transaction-id: 1cf32c51-0495-465c-9a1c-2fd399cac3d5\n"
     ]
    },
    {
     "name": "stdout",
     "output_type": "stream",
     "text": [
      "FAIL: 1506 Massive \n",
      "1510 emotional classifications done!\n"
     ]
    },
    {
     "name": "stderr",
     "output_type": "stream",
     "text": [
      "ERROR:root:not enough text for language id\n",
      "Traceback (most recent call last):\n",
      "  File \"/Users/phillipholscher/opt/anaconda3/lib/python3.7/site-packages/ibm_cloud_sdk_core/base_service.py\", line 229, in send\n",
      "    response.status_code, error_message, http_response=response)\n",
      "ibm_cloud_sdk_core.api_exception.ApiException: Error: not enough text for language id, Code: 422 , X-global-transaction-id: 700bb9e3-1dd3-4f9b-a275-b8e77a1549c2\n"
     ]
    },
    {
     "name": "stdout",
     "output_type": "stream",
     "text": [
      "FAIL: 1513 Fantastic \n",
      "1520 emotional classifications done!\n",
      "1530 emotional classifications done!\n",
      "1540 emotional classifications done!\n",
      "1550 emotional classifications done!\n"
     ]
    },
    {
     "name": "stderr",
     "output_type": "stream",
     "text": [
      "ERROR:root:not enough text for language id\n",
      "Traceback (most recent call last):\n",
      "  File \"/Users/phillipholscher/opt/anaconda3/lib/python3.7/site-packages/ibm_cloud_sdk_core/base_service.py\", line 229, in send\n",
      "    response.status_code, error_message, http_response=response)\n",
      "ibm_cloud_sdk_core.api_exception.ApiException: Error: not enough text for language id, Code: 422 , X-global-transaction-id: 946f3bdb-4d93-455c-9273-fd976fe87dde\n"
     ]
    },
    {
     "name": "stdout",
     "output_type": "stream",
     "text": [
      "FAIL: 1554 So Revealing! \n",
      "1560 emotional classifications done!\n",
      "1570 emotional classifications done!\n",
      "1580 emotional classifications done!\n",
      "1590 emotional classifications done!\n",
      "1600 emotional classifications done!\n",
      "1610 emotional classifications done!\n",
      "1620 emotional classifications done!\n",
      "1630 emotional classifications done!\n",
      "1640 emotional classifications done!\n",
      "1650 emotional classifications done!\n",
      "1660 emotional classifications done!\n",
      "1670 emotional classifications done!\n",
      "1680 emotional classifications done!\n",
      "1690 emotional classifications done!\n",
      "1700 emotional classifications done!\n",
      "1710 emotional classifications done!\n",
      "1720 emotional classifications done!\n",
      "1730 emotional classifications done!\n"
     ]
    },
    {
     "name": "stderr",
     "output_type": "stream",
     "text": [
      "ERROR:root:not enough text for language id\n",
      "Traceback (most recent call last):\n",
      "  File \"/Users/phillipholscher/opt/anaconda3/lib/python3.7/site-packages/ibm_cloud_sdk_core/base_service.py\", line 229, in send\n",
      "    response.status_code, error_message, http_response=response)\n",
      "ibm_cloud_sdk_core.api_exception.ApiException: Error: not enough text for language id, Code: 422 , X-global-transaction-id: 698b9e03-6399-49f1-938f-ed92db01badc\n"
     ]
    },
    {
     "name": "stdout",
     "output_type": "stream",
     "text": [
      "FAIL: 1739 Happy \n",
      "1740 emotional classifications done!\n",
      "1750 emotional classifications done!\n",
      "1760 emotional classifications done!\n",
      "1770 emotional classifications done!\n",
      "1780 emotional classifications done!\n",
      "1790 emotional classifications done!\n",
      "1800 emotional classifications done!\n",
      "1810 emotional classifications done!\n",
      "1820 emotional classifications done!\n",
      "1830 emotional classifications done!\n",
      "1840 emotional classifications done!\n",
      "1850 emotional classifications done!\n",
      "1860 emotional classifications done!\n",
      "1870 emotional classifications done!\n",
      "1880 emotional classifications done!\n",
      "1890 emotional classifications done!\n",
      "1900 emotional classifications done!\n",
      "not enough text for language id : 11\n",
      "unsupported text language: fa : 1\n",
      "--- 766.2029981613159 seconds ---\n"
     ]
    }
   ],
   "source": [
    "start_time = time.time()\n",
    "new_data_6000 = create_emotion(data_6000)\n",
    "print(\"--- %s seconds ---\" % (time.time() - start_time))"
   ]
  },
  {
   "cell_type": "code",
   "execution_count": 21,
   "metadata": {},
   "outputs": [],
   "source": [
    "new_data_6000.to_csv(\"new_data_6000.csv\", index = None, header = True)"
   ]
  },
  {
   "cell_type": "code",
   "execution_count": 22,
   "metadata": {},
   "outputs": [
    {
     "data": {
      "text/html": [
       "<div>\n",
       "<style scoped>\n",
       "    .dataframe tbody tr th:only-of-type {\n",
       "        vertical-align: middle;\n",
       "    }\n",
       "\n",
       "    .dataframe tbody tr th {\n",
       "        vertical-align: top;\n",
       "    }\n",
       "\n",
       "    .dataframe thead th {\n",
       "        text-align: right;\n",
       "    }\n",
       "</style>\n",
       "<table border=\"1\" class=\"dataframe\">\n",
       "  <thead>\n",
       "    <tr style=\"text-align: right;\">\n",
       "      <th></th>\n",
       "      <th>index</th>\n",
       "      <th>username</th>\n",
       "      <th>date</th>\n",
       "      <th>retweets</th>\n",
       "      <th>favorites</th>\n",
       "      <th>text</th>\n",
       "      <th>emotion</th>\n",
       "      <th>emotion_probability</th>\n",
       "    </tr>\n",
       "  </thead>\n",
       "  <tbody>\n",
       "    <tr>\n",
       "      <th>0</th>\n",
       "      <td>4000</td>\n",
       "      <td>realDonaldTrump</td>\n",
       "      <td>30.04.19 23:09</td>\n",
       "      <td>29015</td>\n",
       "      <td>108449</td>\n",
       "      <td>....embargo, together with highest-level sanct...</td>\n",
       "      <td>joy</td>\n",
       "      <td>0.522075</td>\n",
       "    </tr>\n",
       "    <tr>\n",
       "      <th>1</th>\n",
       "      <td>4001</td>\n",
       "      <td>realDonaldTrump</td>\n",
       "      <td>30.04.19 23:09</td>\n",
       "      <td>37660</td>\n",
       "      <td>124752</td>\n",
       "      <td>If Cuban Troops and Militia do not immediately...</td>\n",
       "      <td>sadness</td>\n",
       "      <td>0.456526</td>\n",
       "    </tr>\n",
       "    <tr>\n",
       "      <th>2</th>\n",
       "      <td>4002</td>\n",
       "      <td>realDonaldTrump</td>\n",
       "      <td>30.04.19 22:20</td>\n",
       "      <td>6514</td>\n",
       "      <td>34536</td>\n",
       "      <td>CONGRATULATIONS to the 2018 @NASCAR Cup Series...</td>\n",
       "      <td>joy</td>\n",
       "      <td>0.900825</td>\n",
       "    </tr>\n",
       "    <tr>\n",
       "      <th>3</th>\n",
       "      <td>4003</td>\n",
       "      <td>realDonaldTrump</td>\n",
       "      <td>30.04.19 20:23</td>\n",
       "      <td>50816</td>\n",
       "      <td>185488</td>\n",
       "      <td>I am monitoring the situation in Venezuela ver...</td>\n",
       "      <td>joy</td>\n",
       "      <td>0.375252</td>\n",
       "    </tr>\n",
       "    <tr>\n",
       "      <th>4</th>\n",
       "      <td>4004</td>\n",
       "      <td>realDonaldTrump</td>\n",
       "      <td>30.04.19 20:05</td>\n",
       "      <td>12492</td>\n",
       "      <td>57035</td>\n",
       "      <td>....up like a rocket if we did some lowering o...</td>\n",
       "      <td>joy</td>\n",
       "      <td>0.331070</td>\n",
       "    </tr>\n",
       "    <tr>\n",
       "      <th>...</th>\n",
       "      <td>...</td>\n",
       "      <td>...</td>\n",
       "      <td>...</td>\n",
       "      <td>...</td>\n",
       "      <td>...</td>\n",
       "      <td>...</td>\n",
       "      <td>...</td>\n",
       "      <td>...</td>\n",
       "    </tr>\n",
       "    <tr>\n",
       "      <th>1899</th>\n",
       "      <td>5995</td>\n",
       "      <td>realDonaldTrump</td>\n",
       "      <td>19.09.18 13:40</td>\n",
       "      <td>12892</td>\n",
       "      <td>59990</td>\n",
       "      <td>....it was impossible - and then already it’s ...</td>\n",
       "      <td>sadness</td>\n",
       "      <td>0.372713</td>\n",
       "    </tr>\n",
       "    <tr>\n",
       "      <th>1900</th>\n",
       "      <td>5996</td>\n",
       "      <td>realDonaldTrump</td>\n",
       "      <td>19.09.18 13:34</td>\n",
       "      <td>16506</td>\n",
       "      <td>71571</td>\n",
       "      <td>“The recovery got started on Election Day 2016...</td>\n",
       "      <td>sadness</td>\n",
       "      <td>0.838875</td>\n",
       "    </tr>\n",
       "    <tr>\n",
       "      <th>1901</th>\n",
       "      <td>5997</td>\n",
       "      <td>realDonaldTrump</td>\n",
       "      <td>19.09.18 06:11</td>\n",
       "      <td>14765</td>\n",
       "      <td>69649</td>\n",
       "      <td>....returned home to the United States. Also, ...</td>\n",
       "      <td>joy</td>\n",
       "      <td>0.650108</td>\n",
       "    </tr>\n",
       "    <tr>\n",
       "      <th>1902</th>\n",
       "      <td>5998</td>\n",
       "      <td>realDonaldTrump</td>\n",
       "      <td>19.09.18 06:04</td>\n",
       "      <td>22506</td>\n",
       "      <td>92545</td>\n",
       "      <td>Kim Jong Un has agreed to allow Nuclear inspec...</td>\n",
       "      <td>joy</td>\n",
       "      <td>0.509397</td>\n",
       "    </tr>\n",
       "    <tr>\n",
       "      <th>1903</th>\n",
       "      <td>5999</td>\n",
       "      <td>realDonaldTrump</td>\n",
       "      <td>19.09.18 05:45</td>\n",
       "      <td>27791</td>\n",
       "      <td>107306</td>\n",
       "      <td>The Supreme Court is one of the main reasons I...</td>\n",
       "      <td>disgust</td>\n",
       "      <td>0.538503</td>\n",
       "    </tr>\n",
       "  </tbody>\n",
       "</table>\n",
       "<p>1904 rows × 8 columns</p>\n",
       "</div>"
      ],
      "text/plain": [
       "      index         username            date  retweets  favorites  \\\n",
       "0      4000  realDonaldTrump  30.04.19 23:09     29015     108449   \n",
       "1      4001  realDonaldTrump  30.04.19 23:09     37660     124752   \n",
       "2      4002  realDonaldTrump  30.04.19 22:20      6514      34536   \n",
       "3      4003  realDonaldTrump  30.04.19 20:23     50816     185488   \n",
       "4      4004  realDonaldTrump  30.04.19 20:05     12492      57035   \n",
       "...     ...              ...             ...       ...        ...   \n",
       "1899   5995  realDonaldTrump  19.09.18 13:40     12892      59990   \n",
       "1900   5996  realDonaldTrump  19.09.18 13:34     16506      71571   \n",
       "1901   5997  realDonaldTrump  19.09.18 06:11     14765      69649   \n",
       "1902   5998  realDonaldTrump  19.09.18 06:04     22506      92545   \n",
       "1903   5999  realDonaldTrump  19.09.18 05:45     27791     107306   \n",
       "\n",
       "                                                   text  emotion  \\\n",
       "0     ....embargo, together with highest-level sanct...      joy   \n",
       "1     If Cuban Troops and Militia do not immediately...  sadness   \n",
       "2     CONGRATULATIONS to the 2018 @NASCAR Cup Series...      joy   \n",
       "3     I am monitoring the situation in Venezuela ver...      joy   \n",
       "4     ....up like a rocket if we did some lowering o...      joy   \n",
       "...                                                 ...      ...   \n",
       "1899  ....it was impossible - and then already it’s ...  sadness   \n",
       "1900  “The recovery got started on Election Day 2016...  sadness   \n",
       "1901  ....returned home to the United States. Also, ...      joy   \n",
       "1902  Kim Jong Un has agreed to allow Nuclear inspec...      joy   \n",
       "1903  The Supreme Court is one of the main reasons I...  disgust   \n",
       "\n",
       "      emotion_probability  \n",
       "0                0.522075  \n",
       "1                0.456526  \n",
       "2                0.900825  \n",
       "3                0.375252  \n",
       "4                0.331070  \n",
       "...                   ...  \n",
       "1899             0.372713  \n",
       "1900             0.838875  \n",
       "1901             0.650108  \n",
       "1902             0.509397  \n",
       "1903             0.538503  \n",
       "\n",
       "[1904 rows x 8 columns]"
      ]
     },
     "execution_count": 22,
     "metadata": {},
     "output_type": "execute_result"
    }
   ],
   "source": [
    "new_data_6000"
   ]
  },
  {
   "cell_type": "markdown",
   "metadata": {},
   "source": [
    "# 6000-8000 "
   ]
  },
  {
   "cell_type": "code",
   "execution_count": 23,
   "metadata": {
    "scrolled": true
   },
   "outputs": [
    {
     "name": "stdout",
     "output_type": "stream",
     "text": [
      "The uncleand dataframe has  2000  rows and  5  columns.\n",
      "The following index and items are going to be removed:\n",
      "6000 pic\n",
      "6014 pic\n",
      "6063 #\n",
      "6067 pic\n",
      "6074 #\n",
      "6077 #\n",
      "6083 #\n",
      "6085 pic\n",
      "6192 pic\n",
      "6219 #\n",
      "6238 pic\n",
      "6276 pic\n",
      "6288 pic\n",
      "6289 pic\n",
      "6290 pic\n",
      "6295 pic\n",
      "6296 pic\n",
      "6298 link\n",
      "6299 pic\n",
      "6321 pic\n",
      "6338 pic\n",
      "6342 pic\n",
      "6350 pic\n",
      "6409 pic\n",
      "6516 #\n",
      "6550 pic\n",
      "6567 pic\n",
      "6615 #\n",
      "6623 #\n",
      "6708 pic\n",
      "6715 #\n",
      "6767 pic\n",
      "6914 link\n",
      "6925 #\n",
      "6998 pic\n",
      "7061 pic\n",
      "7081 #\n",
      "7100 pic\n",
      "7146 #\n",
      "7254 #\n",
      "7263 #\n",
      "7322 #\n",
      "7470 link\n",
      "7542 #\n",
      "7563 pic\n",
      "7922 #\n",
      "The cleand dataframe has  1954  rows and  5  columns.\n",
      "-- Wation Natural Language Understanding is now going to create emotions for every tweet--\n",
      "0 emotional classifications done!\n",
      "10 emotional classifications done!\n",
      "20 emotional classifications done!\n",
      "30 emotional classifications done!\n",
      "40 emotional classifications done!\n",
      "50 emotional classifications done!\n",
      "60 emotional classifications done!\n",
      "70 emotional classifications done!\n",
      "80 emotional classifications done!\n",
      "90 emotional classifications done!\n",
      "100 emotional classifications done!\n",
      "110 emotional classifications done!\n",
      "120 emotional classifications done!\n"
     ]
    },
    {
     "name": "stderr",
     "output_type": "stream",
     "text": [
      "ERROR:root:not enough text for language id\n",
      "Traceback (most recent call last):\n",
      "  File \"/Users/phillipholscher/opt/anaconda3/lib/python3.7/site-packages/ibm_cloud_sdk_core/base_service.py\", line 229, in send\n",
      "    response.status_code, error_message, http_response=response)\n",
      "ibm_cloud_sdk_core.api_exception.ApiException: Error: not enough text for language id, Code: 422 , X-global-transaction-id: 48993fb6-bb25-42b2-b62e-b04207c4f0ef\n"
     ]
    },
    {
     "name": "stdout",
     "output_type": "stream",
     "text": [
      "FAIL: 128 TREASON?\n",
      "130 emotional classifications done!\n"
     ]
    },
    {
     "name": "stderr",
     "output_type": "stream",
     "text": [
      "ERROR:root:unsupported text language: la\n",
      "Traceback (most recent call last):\n",
      "  File \"/Users/phillipholscher/opt/anaconda3/lib/python3.7/site-packages/ibm_cloud_sdk_core/base_service.py\", line 229, in send\n",
      "    response.status_code, error_message, http_response=response)\n",
      "ibm_cloud_sdk_core.api_exception.ApiException: Error: unsupported text language: la, Code: 400 , X-global-transaction-id: 128ad157-307c-4335-af47-3a8a3c18c8cc\n"
     ]
    },
    {
     "name": "stdout",
     "output_type": "stream",
     "text": [
      "FAIL: 138 “Secretary Mattis Nukes Woodward Allegations” \n",
      "140 emotional classifications done!\n",
      "150 emotional classifications done!\n",
      "160 emotional classifications done!\n",
      "170 emotional classifications done!\n",
      "180 emotional classifications done!\n",
      "190 emotional classifications done!\n",
      "200 emotional classifications done!\n",
      "210 emotional classifications done!\n",
      "220 emotional classifications done!\n",
      "230 emotional classifications done!\n",
      "240 emotional classifications done!\n",
      "250 emotional classifications done!\n"
     ]
    },
    {
     "name": "stderr",
     "output_type": "stream",
     "text": [
      "ERROR:root:not enough text for language id\n",
      "Traceback (most recent call last):\n",
      "  File \"/Users/phillipholscher/opt/anaconda3/lib/python3.7/site-packages/ibm_cloud_sdk_core/base_service.py\", line 229, in send\n",
      "    response.status_code, error_message, http_response=response)\n",
      "ibm_cloud_sdk_core.api_exception.ApiException: Error: not enough text for language id, Code: 422 , X-global-transaction-id: 0aab095f-7010-4fdb-b97b-9e93910e11c6\n"
     ]
    },
    {
     "name": "stdout",
     "output_type": "stream",
     "text": [
      "FAIL: 257 Great \n",
      "260 emotional classifications done!\n",
      "270 emotional classifications done!\n",
      "280 emotional classifications done!\n",
      "290 emotional classifications done!\n",
      "300 emotional classifications done!\n",
      "310 emotional classifications done!\n",
      "320 emotional classifications done!\n",
      "330 emotional classifications done!\n",
      "340 emotional classifications done!\n",
      "350 emotional classifications done!\n",
      "360 emotional classifications done!\n",
      "370 emotional classifications done!\n",
      "380 emotional classifications done!\n",
      "390 emotional classifications done!\n",
      "400 emotional classifications done!\n",
      "410 emotional classifications done!\n",
      "420 emotional classifications done!\n"
     ]
    },
    {
     "name": "stderr",
     "output_type": "stream",
     "text": [
      "ERROR:root:not enough text for language id\n",
      "Traceback (most recent call last):\n",
      "  File \"/Users/phillipholscher/opt/anaconda3/lib/python3.7/site-packages/ibm_cloud_sdk_core/base_service.py\", line 229, in send\n",
      "    response.status_code, error_message, http_response=response)\n",
      "ibm_cloud_sdk_core.api_exception.ApiException: Error: not enough text for language id, Code: 422 , X-global-transaction-id: fc102aa1-7e2d-4c75-8f81-994b7b05d6e8\n"
     ]
    },
    {
     "name": "stdout",
     "output_type": "stream",
     "text": [
      "FAIL: 426 RED WAVE!\n"
     ]
    },
    {
     "name": "stderr",
     "output_type": "stream",
     "text": [
      "ERROR:root:not enough text for language id\n",
      "Traceback (most recent call last):\n",
      "  File \"/Users/phillipholscher/opt/anaconda3/lib/python3.7/site-packages/ibm_cloud_sdk_core/base_service.py\", line 229, in send\n",
      "    response.status_code, error_message, http_response=response)\n",
      "ibm_cloud_sdk_core.api_exception.ApiException: Error: not enough text for language id, Code: 422 , X-global-transaction-id: 0a8c6bd9-292d-4616-951f-cd6582d8f857\n"
     ]
    },
    {
     "name": "stdout",
     "output_type": "stream",
     "text": [
      "430 emotional classifications done!\n",
      "FAIL: 430 5 for 5!\n",
      "440 emotional classifications done!\n",
      "450 emotional classifications done!\n",
      "460 emotional classifications done!\n",
      "470 emotional classifications done!\n"
     ]
    },
    {
     "name": "stderr",
     "output_type": "stream",
     "text": [
      "ERROR:root:unsupported text language: ca\n",
      "Traceback (most recent call last):\n",
      "  File \"/Users/phillipholscher/opt/anaconda3/lib/python3.7/site-packages/ibm_cloud_sdk_core/base_service.py\", line 229, in send\n",
      "    response.status_code, error_message, http_response=response)\n",
      "ibm_cloud_sdk_core.api_exception.ApiException: Error: unsupported text language: ca, Code: 400 , X-global-transaction-id: a2997c98-7d0e-4c00-ab40-1f9f2d678382\n"
     ]
    },
    {
     "name": "stdout",
     "output_type": "stream",
     "text": [
      "FAIL: 476 Congratulations Marsha! \n",
      "480 emotional classifications done!\n",
      "490 emotional classifications done!\n",
      "500 emotional classifications done!\n",
      "510 emotional classifications done!\n",
      "520 emotional classifications done!\n",
      "530 emotional classifications done!\n",
      "540 emotional classifications done!\n",
      "550 emotional classifications done!\n",
      "560 emotional classifications done!\n"
     ]
    },
    {
     "name": "stderr",
     "output_type": "stream",
     "text": [
      "ERROR:root:not enough text for language id\n",
      "Traceback (most recent call last):\n",
      "  File \"/Users/phillipholscher/opt/anaconda3/lib/python3.7/site-packages/ibm_cloud_sdk_core/base_service.py\", line 229, in send\n",
      "    response.status_code, error_message, http_response=response)\n",
      "ibm_cloud_sdk_core.api_exception.ApiException: Error: not enough text for language id, Code: 422 , X-global-transaction-id: 9df622e1-12e5-4e59-911b-84a66316678b\n"
     ]
    },
    {
     "name": "stdout",
     "output_type": "stream",
     "text": [
      "FAIL: 561 PROMISES KEPT! \n",
      "570 emotional classifications done!\n",
      "580 emotional classifications done!\n",
      "590 emotional classifications done!\n",
      "600 emotional classifications done!\n",
      "610 emotional classifications done!\n",
      "620 emotional classifications done!\n",
      "630 emotional classifications done!\n",
      "640 emotional classifications done!\n",
      "650 emotional classifications done!\n",
      "660 emotional classifications done!\n",
      "670 emotional classifications done!\n",
      "680 emotional classifications done!\n"
     ]
    },
    {
     "name": "stderr",
     "output_type": "stream",
     "text": [
      "ERROR:root:not enough text for language id\n",
      "Traceback (most recent call last):\n",
      "  File \"/Users/phillipholscher/opt/anaconda3/lib/python3.7/site-packages/ibm_cloud_sdk_core/base_service.py\", line 229, in send\n",
      "    response.status_code, error_message, http_response=response)\n",
      "ibm_cloud_sdk_core.api_exception.ApiException: Error: not enough text for language id, Code: 422 , X-global-transaction-id: ccb11314-9e2b-47fb-8b82-e1badd3805c0\n"
     ]
    },
    {
     "name": "stdout",
     "output_type": "stream",
     "text": [
      "FAIL: 684 Thank you \n",
      "690 emotional classifications done!\n",
      "700 emotional classifications done!\n",
      "710 emotional classifications done!\n",
      "720 emotional classifications done!\n",
      "730 emotional classifications done!\n",
      "740 emotional classifications done!\n",
      "750 emotional classifications done!\n",
      "760 emotional classifications done!\n",
      "770 emotional classifications done!\n",
      "780 emotional classifications done!\n",
      "790 emotional classifications done!\n",
      "800 emotional classifications done!\n",
      "810 emotional classifications done!\n",
      "820 emotional classifications done!\n",
      "830 emotional classifications done!\n",
      "840 emotional classifications done!\n",
      "850 emotional classifications done!\n",
      "860 emotional classifications done!\n",
      "870 emotional classifications done!\n",
      "880 emotional classifications done!\n",
      "890 emotional classifications done!\n",
      "900 emotional classifications done!\n",
      "910 emotional classifications done!\n",
      "920 emotional classifications done!\n",
      "930 emotional classifications done!\n"
     ]
    },
    {
     "name": "stderr",
     "output_type": "stream",
     "text": [
      "ERROR:root:not enough text for language id\n",
      "Traceback (most recent call last):\n",
      "  File \"/Users/phillipholscher/opt/anaconda3/lib/python3.7/site-packages/ibm_cloud_sdk_core/base_service.py\", line 229, in send\n",
      "    response.status_code, error_message, http_response=response)\n",
      "ibm_cloud_sdk_core.api_exception.ApiException: Error: not enough text for language id, Code: 422 , X-global-transaction-id: b7eadfd9-e6d9-4da7-a9a3-15d80a0e3164\n"
     ]
    },
    {
     "name": "stdout",
     "output_type": "stream",
     "text": [
      "FAIL: 934 Happy \n",
      "940 emotional classifications done!\n",
      "950 emotional classifications done!\n",
      "960 emotional classifications done!\n",
      "970 emotional classifications done!\n",
      "980 emotional classifications done!\n",
      "990 emotional classifications done!\n",
      "1000 emotional classifications done!\n",
      "1010 emotional classifications done!\n",
      "1020 emotional classifications done!\n",
      "1030 emotional classifications done!\n",
      "1040 emotional classifications done!\n",
      "1050 emotional classifications done!\n",
      "1060 emotional classifications done!\n",
      "1070 emotional classifications done!\n"
     ]
    },
    {
     "name": "stderr",
     "output_type": "stream",
     "text": [
      "ERROR:root:not enough text for language id\n",
      "Traceback (most recent call last):\n",
      "  File \"/Users/phillipholscher/opt/anaconda3/lib/python3.7/site-packages/ibm_cloud_sdk_core/base_service.py\", line 229, in send\n",
      "    response.status_code, error_message, http_response=response)\n",
      "ibm_cloud_sdk_core.api_exception.ApiException: Error: not enough text for language id, Code: 422 , X-global-transaction-id: 545448ac-a110-4f6d-9a61-7da77bcec0b6\n"
     ]
    },
    {
     "name": "stdout",
     "output_type": "stream",
     "text": [
      "FAIL: 1072 FAIR TRADE!\n",
      "1080 emotional classifications done!\n"
     ]
    },
    {
     "name": "stderr",
     "output_type": "stream",
     "text": [
      "ERROR:root:not enough text for language id\n",
      "Traceback (most recent call last):\n",
      "  File \"/Users/phillipholscher/opt/anaconda3/lib/python3.7/site-packages/ibm_cloud_sdk_core/base_service.py\", line 229, in send\n",
      "    response.status_code, error_message, http_response=response)\n",
      "ibm_cloud_sdk_core.api_exception.ApiException: Error: not enough text for language id, Code: 422 , X-global-transaction-id: e922ebd8-1b2a-4538-9ef6-d8f6de9a5c60\n"
     ]
    },
    {
     "name": "stdout",
     "output_type": "stream",
     "text": [
      "FAIL: 1085 With the \n",
      "1090 emotional classifications done!\n",
      "1100 emotional classifications done!\n",
      "1110 emotional classifications done!\n",
      "1120 emotional classifications done!\n",
      "1130 emotional classifications done!\n",
      "1140 emotional classifications done!\n",
      "1150 emotional classifications done!\n",
      "1160 emotional classifications done!\n",
      "1170 emotional classifications done!\n",
      "1180 emotional classifications done!\n"
     ]
    },
    {
     "name": "stderr",
     "output_type": "stream",
     "text": [
      "ERROR:root:not enough text for language id\n",
      "Traceback (most recent call last):\n",
      "  File \"/Users/phillipholscher/opt/anaconda3/lib/python3.7/site-packages/ibm_cloud_sdk_core/base_service.py\", line 229, in send\n",
      "    response.status_code, error_message, http_response=response)\n",
      "ibm_cloud_sdk_core.api_exception.ApiException: Error: not enough text for language id, Code: 422 , X-global-transaction-id: 846d4634-4812-44f3-b404-969fa23e5617\n"
     ]
    },
    {
     "name": "stdout",
     "output_type": "stream",
     "text": [
      "FAIL: 1184 Happy \n",
      "1190 emotional classifications done!\n",
      "1200 emotional classifications done!\n",
      "1210 emotional classifications done!\n",
      "1220 emotional classifications done!\n",
      "1230 emotional classifications done!\n",
      "1240 emotional classifications done!\n",
      "1250 emotional classifications done!\n",
      "1260 emotional classifications done!\n",
      "1270 emotional classifications done!\n",
      "1280 emotional classifications done!\n",
      "1290 emotional classifications done!\n"
     ]
    },
    {
     "name": "stderr",
     "output_type": "stream",
     "text": [
      "ERROR:root:unsupported text language: unknown\n",
      "Traceback (most recent call last):\n",
      "  File \"/Users/phillipholscher/opt/anaconda3/lib/python3.7/site-packages/ibm_cloud_sdk_core/base_service.py\", line 229, in send\n",
      "    response.status_code, error_message, http_response=response)\n",
      "ibm_cloud_sdk_core.api_exception.ApiException: Error: unsupported text language: unknown, Code: 400 , X-global-transaction-id: 2bc2fb61-6502-4eae-a787-3f1b8fab8ed3\n"
     ]
    },
    {
     "name": "stdout",
     "output_type": "stream",
     "text": [
      "FAIL: 1291 Congratulations @SecPompeo ! \n",
      "1300 emotional classifications done!\n",
      "1310 emotional classifications done!\n",
      "1320 emotional classifications done!\n",
      "1330 emotional classifications done!\n"
     ]
    },
    {
     "name": "stderr",
     "output_type": "stream",
     "text": [
      "ERROR:root:not enough text for language id\n",
      "Traceback (most recent call last):\n",
      "  File \"/Users/phillipholscher/opt/anaconda3/lib/python3.7/site-packages/ibm_cloud_sdk_core/base_service.py\", line 229, in send\n",
      "    response.status_code, error_message, http_response=response)\n",
      "ibm_cloud_sdk_core.api_exception.ApiException: Error: not enough text for language id, Code: 422 , X-global-transaction-id: bb3d7436-0e85-4157-b6f8-4b503ce1c3d2\n"
     ]
    },
    {
     "name": "stdout",
     "output_type": "stream",
     "text": [
      "FAIL: 1335 MAGA! \n",
      "1340 emotional classifications done!\n",
      "1350 emotional classifications done!\n",
      "1360 emotional classifications done!\n",
      "1370 emotional classifications done!\n",
      "1380 emotional classifications done!\n"
     ]
    },
    {
     "name": "stderr",
     "output_type": "stream",
     "text": [
      "ERROR:root:not enough text for language id\n",
      "Traceback (most recent call last):\n",
      "  File \"/Users/phillipholscher/opt/anaconda3/lib/python3.7/site-packages/ibm_cloud_sdk_core/base_service.py\", line 229, in send\n",
      "    response.status_code, error_message, http_response=response)\n",
      "ibm_cloud_sdk_core.api_exception.ApiException: Error: not enough text for language id, Code: 422 , X-global-transaction-id: 6e1d2903-df25-4460-a615-270445ba3c44\n"
     ]
    },
    {
     "name": "stdout",
     "output_type": "stream",
     "text": [
      "FAIL: 1389 THANK YOU \n",
      "1390 emotional classifications done!\n",
      "1400 emotional classifications done!\n",
      "1410 emotional classifications done!\n",
      "1420 emotional classifications done!\n",
      "1430 emotional classifications done!\n",
      "1440 emotional classifications done!\n",
      "1450 emotional classifications done!\n",
      "1460 emotional classifications done!\n",
      "1470 emotional classifications done!\n",
      "1480 emotional classifications done!\n",
      "1490 emotional classifications done!\n",
      "1500 emotional classifications done!\n",
      "1510 emotional classifications done!\n",
      "1520 emotional classifications done!\n",
      "1530 emotional classifications done!\n",
      "1540 emotional classifications done!\n",
      "1550 emotional classifications done!\n",
      "1560 emotional classifications done!\n",
      "1570 emotional classifications done!\n"
     ]
    },
    {
     "name": "stderr",
     "output_type": "stream",
     "text": [
      "ERROR:root:not enough text for language id\n",
      "Traceback (most recent call last):\n",
      "  File \"/Users/phillipholscher/opt/anaconda3/lib/python3.7/site-packages/ibm_cloud_sdk_core/base_service.py\", line 229, in send\n",
      "    response.status_code, error_message, http_response=response)\n",
      "ibm_cloud_sdk_core.api_exception.ApiException: Error: not enough text for language id, Code: 422 , X-global-transaction-id: 135770c7-3920-4b53-9b89-4ec017393a50\n"
     ]
    },
    {
     "name": "stdout",
     "output_type": "stream",
     "text": [
      "FAIL: 1575 Happy \n",
      "1580 emotional classifications done!\n",
      "1590 emotional classifications done!\n",
      "1600 emotional classifications done!\n",
      "1610 emotional classifications done!\n",
      "1620 emotional classifications done!\n",
      "1630 emotional classifications done!\n"
     ]
    },
    {
     "name": "stderr",
     "output_type": "stream",
     "text": [
      "ERROR:root:not enough text for language id\n",
      "Traceback (most recent call last):\n",
      "  File \"/Users/phillipholscher/opt/anaconda3/lib/python3.7/site-packages/ibm_cloud_sdk_core/base_service.py\", line 229, in send\n",
      "    response.status_code, error_message, http_response=response)\n",
      "ibm_cloud_sdk_core.api_exception.ApiException: Error: not enough text for language id, Code: 422 , X-global-transaction-id: 91823cc0-a80a-4afb-9daa-bc83d78793b9\n"
     ]
    },
    {
     "name": "stdout",
     "output_type": "stream",
     "text": [
      "FAIL: 1633 Happy \n",
      "1640 emotional classifications done!\n",
      "1650 emotional classifications done!\n",
      "1660 emotional classifications done!\n",
      "1670 emotional classifications done!\n",
      "1680 emotional classifications done!\n",
      "1690 emotional classifications done!\n",
      "1700 emotional classifications done!\n"
     ]
    },
    {
     "name": "stderr",
     "output_type": "stream",
     "text": [
      "ERROR:root:not enough text for language id\n",
      "Traceback (most recent call last):\n",
      "  File \"/Users/phillipholscher/opt/anaconda3/lib/python3.7/site-packages/ibm_cloud_sdk_core/base_service.py\", line 229, in send\n",
      "    response.status_code, error_message, http_response=response)\n",
      "ibm_cloud_sdk_core.api_exception.ApiException: Error: not enough text for language id, Code: 422 , X-global-transaction-id: fddee01e-457a-441d-9f0f-996173812136\n"
     ]
    },
    {
     "name": "stdout",
     "output_type": "stream",
     "text": [
      "1710 emotional classifications done!\n",
      "FAIL: 1710 CPAC Today!\n",
      "1720 emotional classifications done!\n",
      "1730 emotional classifications done!\n",
      "1740 emotional classifications done!\n",
      "1750 emotional classifications done!\n",
      "1760 emotional classifications done!\n",
      "1770 emotional classifications done!\n",
      "1780 emotional classifications done!\n",
      "1790 emotional classifications done!\n",
      "1800 emotional classifications done!\n",
      "1810 emotional classifications done!\n",
      "1820 emotional classifications done!\n",
      "1830 emotional classifications done!\n",
      "1840 emotional classifications done!\n",
      "1850 emotional classifications done!\n",
      "1860 emotional classifications done!\n",
      "1870 emotional classifications done!\n",
      "1880 emotional classifications done!\n",
      "1890 emotional classifications done!\n",
      "1900 emotional classifications done!\n",
      "1910 emotional classifications done!\n",
      "1920 emotional classifications done!\n"
     ]
    },
    {
     "name": "stderr",
     "output_type": "stream",
     "text": [
      "ERROR:root:not enough text for language id\n",
      "Traceback (most recent call last):\n",
      "  File \"/Users/phillipholscher/opt/anaconda3/lib/python3.7/site-packages/ibm_cloud_sdk_core/base_service.py\", line 229, in send\n",
      "    response.status_code, error_message, http_response=response)\n",
      "ibm_cloud_sdk_core.api_exception.ApiException: Error: not enough text for language id, Code: 422 , X-global-transaction-id: 80568e4a-6caa-42c4-83a2-dbaa8a98fb11\n"
     ]
    },
    {
     "name": "stdout",
     "output_type": "stream",
     "text": [
      "FAIL: 1924 AMERICA FIRST!\n",
      "1930 emotional classifications done!\n",
      "1940 emotional classifications done!\n",
      "1950 emotional classifications done!\n",
      "not enough text for language id : 16\n",
      "unsupported text language: la : 1\n",
      "unsupported text language: ca : 1\n",
      "unsupported text language: unknown : 1\n",
      "--- 794.0651609897614 seconds ---\n"
     ]
    }
   ],
   "source": [
    "start_time = time.time()\n",
    "new_data_8000 = create_emotion(data_8000)\n",
    "print(\"--- %s seconds ---\" % (time.time() - start_time))"
   ]
  },
  {
   "cell_type": "code",
   "execution_count": 24,
   "metadata": {},
   "outputs": [],
   "source": [
    "new_data_8000.to_csv(\"new_data_8000.csv\", index = None, header = True)"
   ]
  },
  {
   "cell_type": "code",
   "execution_count": 25,
   "metadata": {},
   "outputs": [
    {
     "data": {
      "text/html": [
       "<div>\n",
       "<style scoped>\n",
       "    .dataframe tbody tr th:only-of-type {\n",
       "        vertical-align: middle;\n",
       "    }\n",
       "\n",
       "    .dataframe tbody tr th {\n",
       "        vertical-align: top;\n",
       "    }\n",
       "\n",
       "    .dataframe thead th {\n",
       "        text-align: right;\n",
       "    }\n",
       "</style>\n",
       "<table border=\"1\" class=\"dataframe\">\n",
       "  <thead>\n",
       "    <tr style=\"text-align: right;\">\n",
       "      <th></th>\n",
       "      <th>index</th>\n",
       "      <th>username</th>\n",
       "      <th>date</th>\n",
       "      <th>retweets</th>\n",
       "      <th>favorites</th>\n",
       "      <th>text</th>\n",
       "      <th>emotion</th>\n",
       "      <th>emotion_probability</th>\n",
       "    </tr>\n",
       "  </thead>\n",
       "  <tbody>\n",
       "    <tr>\n",
       "      <th>0</th>\n",
       "      <td>6001</td>\n",
       "      <td>realDonaldTrump</td>\n",
       "      <td>18.09.18 23:20</td>\n",
       "      <td>8520</td>\n",
       "      <td>42649</td>\n",
       "      <td>Today, it was my great honor to welcome @prezy...</td>\n",
       "      <td>joy</td>\n",
       "      <td>0.937340</td>\n",
       "    </tr>\n",
       "    <tr>\n",
       "      <th>1</th>\n",
       "      <td>6002</td>\n",
       "      <td>realDonaldTrump</td>\n",
       "      <td>18.09.18 20:21</td>\n",
       "      <td>15526</td>\n",
       "      <td>66556</td>\n",
       "      <td>Today, I took action to strengthen our Nation’...</td>\n",
       "      <td>fear</td>\n",
       "      <td>0.551147</td>\n",
       "    </tr>\n",
       "    <tr>\n",
       "      <th>2</th>\n",
       "      <td>6003</td>\n",
       "      <td>realDonaldTrump</td>\n",
       "      <td>18.09.18 17:59</td>\n",
       "      <td>11342</td>\n",
       "      <td>56876</td>\n",
       "      <td>Thank you to our great Coast Guard for doing s...</td>\n",
       "      <td>joy</td>\n",
       "      <td>0.880532</td>\n",
       "    </tr>\n",
       "    <tr>\n",
       "      <th>3</th>\n",
       "      <td>6004</td>\n",
       "      <td>realDonaldTrump</td>\n",
       "      <td>18.09.18 17:50</td>\n",
       "      <td>9357</td>\n",
       "      <td>47101</td>\n",
       "      <td>...that FEMA, our Military, and our First Resp...</td>\n",
       "      <td>joy</td>\n",
       "      <td>0.421596</td>\n",
       "    </tr>\n",
       "    <tr>\n",
       "      <th>4</th>\n",
       "      <td>6005</td>\n",
       "      <td>realDonaldTrump</td>\n",
       "      <td>18.09.18 17:50</td>\n",
       "      <td>13279</td>\n",
       "      <td>64890</td>\n",
       "      <td>Right now, everybody is saying what a great jo...</td>\n",
       "      <td>anger</td>\n",
       "      <td>0.476538</td>\n",
       "    </tr>\n",
       "    <tr>\n",
       "      <th>...</th>\n",
       "      <td>...</td>\n",
       "      <td>...</td>\n",
       "      <td>...</td>\n",
       "      <td>...</td>\n",
       "      <td>...</td>\n",
       "      <td>...</td>\n",
       "      <td>...</td>\n",
       "      <td>...</td>\n",
       "    </tr>\n",
       "    <tr>\n",
       "      <th>1949</th>\n",
       "      <td>7995</td>\n",
       "      <td>realDonaldTrump</td>\n",
       "      <td>11.01.18 00:37</td>\n",
       "      <td>19243</td>\n",
       "      <td>79833</td>\n",
       "      <td>Cutting taxes and simplifying regulations make...</td>\n",
       "      <td>joy</td>\n",
       "      <td>0.843351</td>\n",
       "    </tr>\n",
       "    <tr>\n",
       "      <th>1950</th>\n",
       "      <td>7996</td>\n",
       "      <td>realDonaldTrump</td>\n",
       "      <td>11.01.18 00:07</td>\n",
       "      <td>13029</td>\n",
       "      <td>61231</td>\n",
       "      <td>The United States needs the security of the Wa...</td>\n",
       "      <td>fear</td>\n",
       "      <td>0.326405</td>\n",
       "    </tr>\n",
       "    <tr>\n",
       "      <th>1951</th>\n",
       "      <td>7997</td>\n",
       "      <td>realDonaldTrump</td>\n",
       "      <td>10.01.18 22:31</td>\n",
       "      <td>7891</td>\n",
       "      <td>44914</td>\n",
       "      <td>Today, it was my great honor to welcome Prime ...</td>\n",
       "      <td>joy</td>\n",
       "      <td>0.823095</td>\n",
       "    </tr>\n",
       "    <tr>\n",
       "      <th>1952</th>\n",
       "      <td>7998</td>\n",
       "      <td>realDonaldTrump</td>\n",
       "      <td>10.01.18 21:08</td>\n",
       "      <td>9914</td>\n",
       "      <td>49906</td>\n",
       "      <td>I want to thank my @Cabinet for working tirele...</td>\n",
       "      <td>joy</td>\n",
       "      <td>0.826462</td>\n",
       "    </tr>\n",
       "    <tr>\n",
       "      <th>1953</th>\n",
       "      <td>7999</td>\n",
       "      <td>realDonaldTrump</td>\n",
       "      <td>10.01.18 16:14</td>\n",
       "      <td>23737</td>\n",
       "      <td>105055</td>\n",
       "      <td>The single greatest Witch Hunt in American his...</td>\n",
       "      <td>joy</td>\n",
       "      <td>0.494291</td>\n",
       "    </tr>\n",
       "  </tbody>\n",
       "</table>\n",
       "<p>1954 rows × 8 columns</p>\n",
       "</div>"
      ],
      "text/plain": [
       "      index         username            date  retweets  favorites  \\\n",
       "0      6001  realDonaldTrump  18.09.18 23:20      8520      42649   \n",
       "1      6002  realDonaldTrump  18.09.18 20:21     15526      66556   \n",
       "2      6003  realDonaldTrump  18.09.18 17:59     11342      56876   \n",
       "3      6004  realDonaldTrump  18.09.18 17:50      9357      47101   \n",
       "4      6005  realDonaldTrump  18.09.18 17:50     13279      64890   \n",
       "...     ...              ...             ...       ...        ...   \n",
       "1949   7995  realDonaldTrump  11.01.18 00:37     19243      79833   \n",
       "1950   7996  realDonaldTrump  11.01.18 00:07     13029      61231   \n",
       "1951   7997  realDonaldTrump  10.01.18 22:31      7891      44914   \n",
       "1952   7998  realDonaldTrump  10.01.18 21:08      9914      49906   \n",
       "1953   7999  realDonaldTrump  10.01.18 16:14     23737     105055   \n",
       "\n",
       "                                                   text emotion  \\\n",
       "0     Today, it was my great honor to welcome @prezy...     joy   \n",
       "1     Today, I took action to strengthen our Nation’...    fear   \n",
       "2     Thank you to our great Coast Guard for doing s...     joy   \n",
       "3     ...that FEMA, our Military, and our First Resp...     joy   \n",
       "4     Right now, everybody is saying what a great jo...   anger   \n",
       "...                                                 ...     ...   \n",
       "1949  Cutting taxes and simplifying regulations make...     joy   \n",
       "1950  The United States needs the security of the Wa...    fear   \n",
       "1951  Today, it was my great honor to welcome Prime ...     joy   \n",
       "1952  I want to thank my @Cabinet for working tirele...     joy   \n",
       "1953  The single greatest Witch Hunt in American his...     joy   \n",
       "\n",
       "      emotion_probability  \n",
       "0                0.937340  \n",
       "1                0.551147  \n",
       "2                0.880532  \n",
       "3                0.421596  \n",
       "4                0.476538  \n",
       "...                   ...  \n",
       "1949             0.843351  \n",
       "1950             0.326405  \n",
       "1951             0.823095  \n",
       "1952             0.826462  \n",
       "1953             0.494291  \n",
       "\n",
       "[1954 rows x 8 columns]"
      ]
     },
     "execution_count": 25,
     "metadata": {},
     "output_type": "execute_result"
    }
   ],
   "source": [
    "new_data_8000"
   ]
  },
  {
   "cell_type": "markdown",
   "metadata": {},
   "source": [
    "# 8000 - all"
   ]
  },
  {
   "cell_type": "code",
   "execution_count": 28,
   "metadata": {
    "scrolled": true
   },
   "outputs": [
    {
     "name": "stdout",
     "output_type": "stream",
     "text": [
      "The uncleand dataframe has  2250  rows and  5  columns.\n",
      "The following index and items are going to be removed:\n",
      "8403 #\n",
      "8458 #\n",
      "8497 #\n",
      "8620 #\n",
      "8675 #\n",
      "8783 #\n",
      "8812 #\n",
      "8850 #\n",
      "8900 #\n",
      "9010 #\n",
      "9092 #\n",
      "9211 #\n",
      "9243 #\n",
      "9342 #\n",
      "9345 #\n",
      "9359 #\n",
      "9396 #\n",
      "9474 #\n",
      "9514 #\n",
      "9537 #\n",
      "9538 #\n",
      "9591 #\n",
      "9595 #\n",
      "9607 #\n",
      "9612 #\n",
      "9655 #\n",
      "9678 #\n",
      "9746 #\n",
      "9749 #\n",
      "9820 #\n",
      "9874 #\n",
      "9946 #\n",
      "10021 #\n",
      "The cleand dataframe has  2217  rows and  5  columns.\n",
      "-- Wation Natural Language Understanding is now going to create emotions for every tweet--\n",
      "0 emotional classifications done!\n",
      "10 emotional classifications done!\n",
      "20 emotional classifications done!\n",
      "30 emotional classifications done!\n",
      "40 emotional classifications done!\n",
      "50 emotional classifications done!\n",
      "60 emotional classifications done!\n",
      "70 emotional classifications done!\n",
      "80 emotional classifications done!\n",
      "90 emotional classifications done!\n",
      "100 emotional classifications done!\n",
      "110 emotional classifications done!\n"
     ]
    },
    {
     "name": "stderr",
     "output_type": "stream",
     "text": [
      "ERROR:root:not enough text for language id\n",
      "Traceback (most recent call last):\n",
      "  File \"/Users/phillipholscher/opt/anaconda3/lib/python3.7/site-packages/ibm_cloud_sdk_core/base_service.py\", line 229, in send\n",
      "    response.status_code, error_message, http_response=response)\n",
      "ibm_cloud_sdk_core.api_exception.ApiException: Error: not enough text for language id, Code: 422 , X-global-transaction-id: 73a88032-8681-466b-806d-e7d785dee51c\n"
     ]
    },
    {
     "name": "stdout",
     "output_type": "stream",
     "text": [
      "FAIL: 114 So true! \n",
      "120 emotional classifications done!\n",
      "130 emotional classifications done!\n",
      "140 emotional classifications done!\n",
      "150 emotional classifications done!\n",
      "160 emotional classifications done!\n",
      "170 emotional classifications done!\n",
      "180 emotional classifications done!\n",
      "190 emotional classifications done!\n",
      "200 emotional classifications done!\n",
      "210 emotional classifications done!\n",
      "220 emotional classifications done!\n",
      "230 emotional classifications done!\n",
      "240 emotional classifications done!\n",
      "250 emotional classifications done!\n",
      "260 emotional classifications done!\n",
      "270 emotional classifications done!\n",
      "280 emotional classifications done!\n"
     ]
    },
    {
     "name": "stderr",
     "output_type": "stream",
     "text": [
      "ERROR:root:not enough text for language id\n",
      "Traceback (most recent call last):\n",
      "  File \"/Users/phillipholscher/opt/anaconda3/lib/python3.7/site-packages/ibm_cloud_sdk_core/base_service.py\", line 229, in send\n",
      "    response.status_code, error_message, http_response=response)\n",
      "ibm_cloud_sdk_core.api_exception.ApiException: Error: not enough text for language id, Code: 422 , X-global-transaction-id: dc5c01ff-3a94-47ac-8e71-4468d84f186b\n"
     ]
    },
    {
     "name": "stdout",
     "output_type": "stream",
     "text": [
      "FAIL: 282 Happy \n",
      "290 emotional classifications done!\n",
      "300 emotional classifications done!\n",
      "310 emotional classifications done!\n",
      "320 emotional classifications done!\n",
      "330 emotional classifications done!\n"
     ]
    },
    {
     "name": "stderr",
     "output_type": "stream",
     "text": [
      "ERROR:root:not enough text for language id\n",
      "Traceback (most recent call last):\n",
      "  File \"/Users/phillipholscher/opt/anaconda3/lib/python3.7/site-packages/ibm_cloud_sdk_core/base_service.py\", line 229, in send\n",
      "    response.status_code, error_message, http_response=response)\n",
      "ibm_cloud_sdk_core.api_exception.ApiException: Error: not enough text for language id, Code: 422 , X-global-transaction-id: 68b5ac84-c420-4c92-9b86-c04854a9c182\n"
     ]
    },
    {
     "name": "stdout",
     "output_type": "stream",
     "text": [
      "FAIL: 336 Thank you! \n",
      "340 emotional classifications done!\n",
      "350 emotional classifications done!\n"
     ]
    },
    {
     "name": "stderr",
     "output_type": "stream",
     "text": [
      "ERROR:root:not enough text for language id\n",
      "Traceback (most recent call last):\n",
      "  File \"/Users/phillipholscher/opt/anaconda3/lib/python3.7/site-packages/ibm_cloud_sdk_core/base_service.py\", line 229, in send\n",
      "    response.status_code, error_message, http_response=response)\n",
      "ibm_cloud_sdk_core.api_exception.ApiException: Error: not enough text for language id, Code: 422 , X-global-transaction-id: f9db47c5-3b4e-40ca-bdea-24769d96b808\n"
     ]
    },
    {
     "name": "stdout",
     "output_type": "stream",
     "text": [
      "FAIL: 354 Thank you! \n",
      "360 emotional classifications done!\n",
      "370 emotional classifications done!\n",
      "380 emotional classifications done!\n",
      "390 emotional classifications done!\n",
      "400 emotional classifications done!\n",
      "410 emotional classifications done!\n",
      "420 emotional classifications done!\n",
      "430 emotional classifications done!\n",
      "440 emotional classifications done!\n",
      "450 emotional classifications done!\n",
      "460 emotional classifications done!\n",
      "470 emotional classifications done!\n",
      "480 emotional classifications done!\n"
     ]
    },
    {
     "name": "stderr",
     "output_type": "stream",
     "text": [
      "ERROR:root:not enough text for language id\n",
      "Traceback (most recent call last):\n",
      "  File \"/Users/phillipholscher/opt/anaconda3/lib/python3.7/site-packages/ibm_cloud_sdk_core/base_service.py\", line 229, in send\n",
      "    response.status_code, error_message, http_response=response)\n",
      "ibm_cloud_sdk_core.api_exception.ApiException: Error: not enough text for language id, Code: 422 , X-global-transaction-id: 2ea564a7-c47f-4896-9eab-227076737804\n"
     ]
    },
    {
     "name": "stdout",
     "output_type": "stream",
     "text": [
      "FAIL: 487 Happy \n",
      "490 emotional classifications done!\n",
      "500 emotional classifications done!\n",
      "510 emotional classifications done!\n",
      "520 emotional classifications done!\n",
      "530 emotional classifications done!\n",
      "540 emotional classifications done!\n",
      "550 emotional classifications done!\n",
      "560 emotional classifications done!\n",
      "570 emotional classifications done!\n",
      "580 emotional classifications done!\n",
      "590 emotional classifications done!\n"
     ]
    },
    {
     "name": "stderr",
     "output_type": "stream",
     "text": [
      "ERROR:root:not enough text for language id\n",
      "Traceback (most recent call last):\n",
      "  File \"/Users/phillipholscher/opt/anaconda3/lib/python3.7/site-packages/ibm_cloud_sdk_core/base_service.py\", line 229, in send\n",
      "    response.status_code, error_message, http_response=response)\n",
      "ibm_cloud_sdk_core.api_exception.ApiException: Error: not enough text for language id, Code: 422 , X-global-transaction-id: 0309be2f-bda9-4a13-93cc-c380bbd74053\n"
     ]
    },
    {
     "name": "stdout",
     "output_type": "stream",
     "text": [
      "FAIL: 592 WOW! \n",
      "600 emotional classifications done!\n",
      "610 emotional classifications done!\n",
      "620 emotional classifications done!\n"
     ]
    },
    {
     "name": "stderr",
     "output_type": "stream",
     "text": [
      "ERROR:root:not enough text for language id\n",
      "Traceback (most recent call last):\n",
      "  File \"/Users/phillipholscher/opt/anaconda3/lib/python3.7/site-packages/ibm_cloud_sdk_core/base_service.py\", line 229, in send\n",
      "    response.status_code, error_message, http_response=response)\n",
      "ibm_cloud_sdk_core.api_exception.ApiException: Error: not enough text for language id, Code: 422 , X-global-transaction-id: c0bc65f5-dd74-4e87-afad-5fcce9463fd8\n"
     ]
    },
    {
     "name": "stdout",
     "output_type": "stream",
     "text": [
      "FAIL: 628 Happy \n",
      "630 emotional classifications done!\n",
      "640 emotional classifications done!\n",
      "650 emotional classifications done!\n",
      "660 emotional classifications done!\n",
      "670 emotional classifications done!\n",
      "680 emotional classifications done!\n"
     ]
    },
    {
     "name": "stderr",
     "output_type": "stream",
     "text": [
      "ERROR:root:not enough text for language id\n",
      "Traceback (most recent call last):\n",
      "  File \"/Users/phillipholscher/opt/anaconda3/lib/python3.7/site-packages/ibm_cloud_sdk_core/base_service.py\", line 229, in send\n",
      "    response.status_code, error_message, http_response=response)\n",
      "ibm_cloud_sdk_core.api_exception.ApiException: Error: not enough text for language id, Code: 422 , X-global-transaction-id: b446f00c-aa1f-4a3b-8cc5-44fcdaf7c169\n"
     ]
    },
    {
     "name": "stdout",
     "output_type": "stream",
     "text": [
      "FAIL: 687 Thank you! \n",
      "690 emotional classifications done!\n",
      "700 emotional classifications done!\n",
      "710 emotional classifications done!\n"
     ]
    },
    {
     "name": "stderr",
     "output_type": "stream",
     "text": [
      "ERROR:root:not enough text for language id\n",
      "Traceback (most recent call last):\n",
      "  File \"/Users/phillipholscher/opt/anaconda3/lib/python3.7/site-packages/ibm_cloud_sdk_core/base_service.py\", line 229, in send\n",
      "    response.status_code, error_message, http_response=response)\n",
      "ibm_cloud_sdk_core.api_exception.ApiException: Error: not enough text for language id, Code: 422 , X-global-transaction-id: 627346b5-b3cd-4e88-b519-099064638ece\n"
     ]
    },
    {
     "name": "stdout",
     "output_type": "stream",
     "text": [
      "FAIL: 717 ...... \n",
      "720 emotional classifications done!\n",
      "730 emotional classifications done!\n",
      "740 emotional classifications done!\n",
      "750 emotional classifications done!\n",
      "760 emotional classifications done!\n",
      "770 emotional classifications done!\n"
     ]
    },
    {
     "name": "stderr",
     "output_type": "stream",
     "text": [
      "ERROR:root:not enough text for language id\n",
      "Traceback (most recent call last):\n",
      "  File \"/Users/phillipholscher/opt/anaconda3/lib/python3.7/site-packages/ibm_cloud_sdk_core/base_service.py\", line 229, in send\n",
      "    response.status_code, error_message, http_response=response)\n",
      "ibm_cloud_sdk_core.api_exception.ApiException: Error: not enough text for language id, Code: 422 , X-global-transaction-id: bef6fdd2-fb5d-4c20-95f1-e382fa6fd93e\n"
     ]
    },
    {
     "name": "stdout",
     "output_type": "stream",
     "text": [
      "FAIL: 777 . @CNN is \n",
      "780 emotional classifications done!\n",
      "790 emotional classifications done!\n",
      "800 emotional classifications done!\n"
     ]
    },
    {
     "name": "stderr",
     "output_type": "stream",
     "text": [
      "ERROR:root:not enough text for language id\n",
      "Traceback (most recent call last):\n",
      "  File \"/Users/phillipholscher/opt/anaconda3/lib/python3.7/site-packages/ibm_cloud_sdk_core/base_service.py\", line 229, in send\n",
      "    response.status_code, error_message, http_response=response)\n",
      "ibm_cloud_sdk_core.api_exception.ApiException: Error: not enough text for language id, Code: 422 , X-global-transaction-id: 107a766d-8747-4efa-8413-674c5b31f591\n"
     ]
    },
    {
     "name": "stdout",
     "output_type": "stream",
     "text": [
      "FAIL: 809 Thank you! \n",
      "810 emotional classifications done!\n",
      "820 emotional classifications done!\n",
      "830 emotional classifications done!\n",
      "840 emotional classifications done!\n",
      "850 emotional classifications done!\n"
     ]
    },
    {
     "name": "stderr",
     "output_type": "stream",
     "text": [
      "ERROR:root:not enough text for language id\n",
      "Traceback (most recent call last):\n",
      "  File \"/Users/phillipholscher/opt/anaconda3/lib/python3.7/site-packages/ibm_cloud_sdk_core/base_service.py\", line 229, in send\n",
      "    response.status_code, error_message, http_response=response)\n",
      "ibm_cloud_sdk_core.api_exception.ApiException: Error: not enough text for language id, Code: 422 , X-global-transaction-id: 5884b9fa-2672-41d7-9240-5f438ab6f3b1\n"
     ]
    },
    {
     "name": "stdout",
     "output_type": "stream",
     "text": [
      "FAIL: 852 Thank you! \n",
      "860 emotional classifications done!\n",
      "870 emotional classifications done!\n",
      "880 emotional classifications done!\n",
      "890 emotional classifications done!\n",
      "900 emotional classifications done!\n",
      "910 emotional classifications done!\n"
     ]
    },
    {
     "name": "stderr",
     "output_type": "stream",
     "text": [
      "ERROR:root:unsupported text language: unknown\n",
      "Traceback (most recent call last):\n",
      "  File \"/Users/phillipholscher/opt/anaconda3/lib/python3.7/site-packages/ibm_cloud_sdk_core/base_service.py\", line 229, in send\n",
      "    response.status_code, error_message, http_response=response)\n",
      "ibm_cloud_sdk_core.api_exception.ApiException: Error: unsupported text language: unknown, Code: 400 , X-global-transaction-id: 6e313752-9f59-461d-8ad7-3ac3748e94f4\n"
     ]
    },
    {
     "name": "stdout",
     "output_type": "stream",
     "text": [
      "FAIL: 916 'President Donald J. Trump Approves Emergency Declarations' http:// 45.wh.gov/Florida http:// 45.wh.gov/PuertoRico http:// 45.wh.gov/USVirginIslands \n",
      "920 emotional classifications done!\n",
      "930 emotional classifications done!\n",
      "940 emotional classifications done!\n",
      "950 emotional classifications done!\n",
      "960 emotional classifications done!\n",
      "970 emotional classifications done!\n"
     ]
    },
    {
     "name": "stderr",
     "output_type": "stream",
     "text": [
      "ERROR:root:not enough text for language id\n",
      "Traceback (most recent call last):\n",
      "  File \"/Users/phillipholscher/opt/anaconda3/lib/python3.7/site-packages/ibm_cloud_sdk_core/base_service.py\", line 229, in send\n",
      "    response.status_code, error_message, http_response=response)\n",
      "ibm_cloud_sdk_core.api_exception.ApiException: Error: not enough text for language id, Code: 422 , X-global-transaction-id: e8ff2e28-f7af-4dac-806a-d9141f662c45\n"
     ]
    },
    {
     "name": "stdout",
     "output_type": "stream",
     "text": [
      "FAIL: 978 Received a \n",
      "980 emotional classifications done!\n"
     ]
    },
    {
     "name": "stderr",
     "output_type": "stream",
     "text": [
      "ERROR:root:not enough text for language id\n",
      "Traceback (most recent call last):\n",
      "  File \"/Users/phillipholscher/opt/anaconda3/lib/python3.7/site-packages/ibm_cloud_sdk_core/base_service.py\", line 229, in send\n",
      "    response.status_code, error_message, http_response=response)\n",
      "ibm_cloud_sdk_core.api_exception.ApiException: Error: not enough text for language id, Code: 422 , X-global-transaction-id: c62de607-29ad-4a31-9238-25942d9528f1\n"
     ]
    },
    {
     "name": "stdout",
     "output_type": "stream",
     "text": [
      "FAIL: 986 As \n",
      "990 emotional classifications done!\n",
      "1000 emotional classifications done!\n",
      "1010 emotional classifications done!\n",
      "1020 emotional classifications done!\n",
      "1030 emotional classifications done!\n",
      "1040 emotional classifications done!\n",
      "1050 emotional classifications done!\n",
      "1060 emotional classifications done!\n",
      "1070 emotional classifications done!\n",
      "1080 emotional classifications done!\n",
      "1090 emotional classifications done!\n"
     ]
    },
    {
     "name": "stderr",
     "output_type": "stream",
     "text": [
      "ERROR:root:not enough text for language id\n",
      "Traceback (most recent call last):\n",
      "  File \"/Users/phillipholscher/opt/anaconda3/lib/python3.7/site-packages/ibm_cloud_sdk_core/base_service.py\", line 229, in send\n",
      "    response.status_code, error_message, http_response=response)\n",
      "ibm_cloud_sdk_core.api_exception.ApiException: Error: not enough text for language id, Code: 422 , X-global-transaction-id: 33416878-c4e4-46d8-a51a-a393d96da7bd\n"
     ]
    },
    {
     "name": "stdout",
     "output_type": "stream",
     "text": [
      "FAIL: 1093 On \n",
      "1100 emotional classifications done!\n",
      "1110 emotional classifications done!\n",
      "1120 emotional classifications done!\n",
      "1130 emotional classifications done!\n",
      "1140 emotional classifications done!\n",
      "1150 emotional classifications done!\n",
      "1160 emotional classifications done!\n",
      "1170 emotional classifications done!\n",
      "1180 emotional classifications done!\n",
      "1190 emotional classifications done!\n",
      "1200 emotional classifications done!\n",
      "1210 emotional classifications done!\n",
      "1220 emotional classifications done!\n",
      "1230 emotional classifications done!\n",
      "1240 emotional classifications done!\n"
     ]
    },
    {
     "name": "stderr",
     "output_type": "stream",
     "text": [
      "ERROR:root:not enough text for language id\n",
      "Traceback (most recent call last):\n",
      "  File \"/Users/phillipholscher/opt/anaconda3/lib/python3.7/site-packages/ibm_cloud_sdk_core/base_service.py\", line 229, in send\n",
      "    response.status_code, error_message, http_response=response)\n",
      "ibm_cloud_sdk_core.api_exception.ApiException: Error: not enough text for language id, Code: 422 , X-global-transaction-id: 7b8ac1d7-d68d-4786-8962-0c8717a0c16b\n"
     ]
    },
    {
     "name": "stdout",
     "output_type": "stream",
     "text": [
      "FAIL: 1248 The \n",
      "1250 emotional classifications done!\n",
      "1260 emotional classifications done!\n",
      "1270 emotional classifications done!\n",
      "1280 emotional classifications done!\n",
      "1290 emotional classifications done!\n",
      "1300 emotional classifications done!\n",
      "1310 emotional classifications done!\n"
     ]
    },
    {
     "name": "stderr",
     "output_type": "stream",
     "text": [
      "ERROR:root:not enough text for language id\n",
      "Traceback (most recent call last):\n",
      "  File \"/Users/phillipholscher/opt/anaconda3/lib/python3.7/site-packages/ibm_cloud_sdk_core/base_service.py\", line 229, in send\n",
      "    response.status_code, error_message, http_response=response)\n",
      "ibm_cloud_sdk_core.api_exception.ApiException: Error: not enough text for language id, Code: 422 , X-global-transaction-id: 7efa13bb-f095-4106-8601-a7fbf953fa1d\n"
     ]
    },
    {
     "name": "stdout",
     "output_type": "stream",
     "text": [
      "FAIL: 1312 The \n",
      "1320 emotional classifications done!\n",
      "1330 emotional classifications done!\n",
      "1340 emotional classifications done!\n",
      "1350 emotional classifications done!\n",
      "1360 emotional classifications done!\n",
      "1370 emotional classifications done!\n"
     ]
    },
    {
     "name": "stderr",
     "output_type": "stream",
     "text": [
      "ERROR:root:not enough text for language id\n",
      "Traceback (most recent call last):\n",
      "  File \"/Users/phillipholscher/opt/anaconda3/lib/python3.7/site-packages/ibm_cloud_sdk_core/base_service.py\", line 229, in send\n",
      "    response.status_code, error_message, http_response=response)\n",
      "ibm_cloud_sdk_core.api_exception.ApiException: Error: not enough text for language id, Code: 422 , X-global-transaction-id: 4384355c-381d-48bf-897e-3d811da02b61\n"
     ]
    },
    {
     "name": "stdout",
     "output_type": "stream",
     "text": [
      "1380 emotional classifications done!\n",
      "FAIL: 1380 The \n",
      "1390 emotional classifications done!\n",
      "1400 emotional classifications done!\n",
      "1410 emotional classifications done!\n",
      "1420 emotional classifications done!\n",
      "1430 emotional classifications done!\n",
      "1440 emotional classifications done!\n",
      "1450 emotional classifications done!\n",
      "1460 emotional classifications done!\n",
      "1470 emotional classifications done!\n",
      "1480 emotional classifications done!\n"
     ]
    },
    {
     "name": "stderr",
     "output_type": "stream",
     "text": [
      "ERROR:root:not enough text for language id\n",
      "Traceback (most recent call last):\n",
      "  File \"/Users/phillipholscher/opt/anaconda3/lib/python3.7/site-packages/ibm_cloud_sdk_core/base_service.py\", line 229, in send\n",
      "    response.status_code, error_message, http_response=response)\n",
      "ibm_cloud_sdk_core.api_exception.ApiException: Error: not enough text for language id, Code: 422 , X-global-transaction-id: b708be3e-cf6b-4b68-97e1-c07d3b82696c\n"
     ]
    },
    {
     "name": "stdout",
     "output_type": "stream",
     "text": [
      "FAIL: 1484 The \n",
      "1490 emotional classifications done!\n",
      "1500 emotional classifications done!\n",
      "1510 emotional classifications done!\n",
      "1520 emotional classifications done!\n",
      "1530 emotional classifications done!\n",
      "1540 emotional classifications done!\n",
      "1550 emotional classifications done!\n",
      "1560 emotional classifications done!\n",
      "1570 emotional classifications done!\n",
      "1580 emotional classifications done!\n",
      "1590 emotional classifications done!\n",
      "1600 emotional classifications done!\n",
      "1610 emotional classifications done!\n",
      "1620 emotional classifications done!\n",
      "1630 emotional classifications done!\n",
      "1640 emotional classifications done!\n",
      "1650 emotional classifications done!\n",
      "1660 emotional classifications done!\n",
      "1670 emotional classifications done!\n",
      "1680 emotional classifications done!\n",
      "1690 emotional classifications done!\n",
      "1700 emotional classifications done!\n",
      "1710 emotional classifications done!\n",
      "1720 emotional classifications done!\n",
      "1730 emotional classifications done!\n",
      "1740 emotional classifications done!\n",
      "1750 emotional classifications done!\n",
      "1760 emotional classifications done!\n",
      "1770 emotional classifications done!\n",
      "1780 emotional classifications done!\n",
      "1790 emotional classifications done!\n",
      "1800 emotional classifications done!\n",
      "1810 emotional classifications done!\n",
      "1820 emotional classifications done!\n"
     ]
    },
    {
     "name": "stderr",
     "output_type": "stream",
     "text": [
      "ERROR:root:not enough text for language id\n",
      "Traceback (most recent call last):\n",
      "  File \"/Users/phillipholscher/opt/anaconda3/lib/python3.7/site-packages/ibm_cloud_sdk_core/base_service.py\", line 229, in send\n",
      "    response.status_code, error_message, http_response=response)\n",
      "ibm_cloud_sdk_core.api_exception.ApiException: Error: not enough text for language id, Code: 422 , X-global-transaction-id: 89302d0e-a31e-492f-926f-67d6057eadbb\n"
     ]
    },
    {
     "name": "stdout",
     "output_type": "stream",
     "text": [
      "FAIL: 1822 Happy \n",
      "1830 emotional classifications done!\n",
      "1840 emotional classifications done!\n",
      "1850 emotional classifications done!\n",
      "1860 emotional classifications done!\n",
      "1870 emotional classifications done!\n",
      "1880 emotional classifications done!\n",
      "1890 emotional classifications done!\n",
      "1900 emotional classifications done!\n",
      "1910 emotional classifications done!\n"
     ]
    },
    {
     "name": "stderr",
     "output_type": "stream",
     "text": [
      "ERROR:root:not enough text for language id\n",
      "Traceback (most recent call last):\n",
      "  File \"/Users/phillipholscher/opt/anaconda3/lib/python3.7/site-packages/ibm_cloud_sdk_core/base_service.py\", line 229, in send\n",
      "    response.status_code, error_message, http_response=response)\n",
      "ibm_cloud_sdk_core.api_exception.ApiException: Error: not enough text for language id, Code: 422 , X-global-transaction-id: b9e47fbc-45e7-43cf-b28c-39e62a0ea714\n"
     ]
    },
    {
     "name": "stdout",
     "output_type": "stream",
     "text": [
      "FAIL: 1914 THANK YOU!\n",
      "1920 emotional classifications done!\n",
      "1930 emotional classifications done!\n"
     ]
    },
    {
     "name": "stderr",
     "output_type": "stream",
     "text": [
      "ERROR:root:not enough text for language id\n",
      "Traceback (most recent call last):\n",
      "  File \"/Users/phillipholscher/opt/anaconda3/lib/python3.7/site-packages/ibm_cloud_sdk_core/base_service.py\", line 229, in send\n",
      "    response.status_code, error_message, http_response=response)\n",
      "ibm_cloud_sdk_core.api_exception.ApiException: Error: not enough text for language id, Code: 422 , X-global-transaction-id: 948725e5-a07a-4bce-8e9c-a34e97d17b4f\n"
     ]
    },
    {
     "name": "stdout",
     "output_type": "stream",
     "text": [
      "FAIL: 1931 Going to CPAC!\n",
      "1940 emotional classifications done!\n",
      "1950 emotional classifications done!\n",
      "1960 emotional classifications done!\n",
      "1970 emotional classifications done!\n",
      "1980 emotional classifications done!\n",
      "1990 emotional classifications done!\n",
      "2000 emotional classifications done!\n",
      "2010 emotional classifications done!\n",
      "2020 emotional classifications done!\n",
      "2030 emotional classifications done!\n",
      "2040 emotional classifications done!\n",
      "2050 emotional classifications done!\n",
      "2060 emotional classifications done!\n",
      "2070 emotional classifications done!\n",
      "2080 emotional classifications done!\n"
     ]
    },
    {
     "name": "stderr",
     "output_type": "stream",
     "text": [
      "ERROR:root:unsupported text language: la\n",
      "Traceback (most recent call last):\n",
      "  File \"/Users/phillipholscher/opt/anaconda3/lib/python3.7/site-packages/ibm_cloud_sdk_core/base_service.py\", line 229, in send\n",
      "    response.status_code, error_message, http_response=response)\n",
      "ibm_cloud_sdk_core.api_exception.ApiException: Error: unsupported text language: la, Code: 400 , X-global-transaction-id: a8818c6c-c48e-4c80-8c00-769054879d73\n"
     ]
    },
    {
     "name": "stdout",
     "output_type": "stream",
     "text": [
      "FAIL: 2083 Congratulations Secretary Mattis! \n"
     ]
    },
    {
     "name": "stderr",
     "output_type": "stream",
     "text": [
      "ERROR:root:not enough text for language id\n",
      "Traceback (most recent call last):\n",
      "  File \"/Users/phillipholscher/opt/anaconda3/lib/python3.7/site-packages/ibm_cloud_sdk_core/base_service.py\", line 229, in send\n",
      "    response.status_code, error_message, http_response=response)\n",
      "ibm_cloud_sdk_core.api_exception.ApiException: Error: not enough text for language id, Code: 422 , X-global-transaction-id: b8e7fe74-a7c8-455c-be15-addcf3afa836\n"
     ]
    },
    {
     "name": "stdout",
     "output_type": "stream",
     "text": [
      "FAIL: 2086 The \n",
      "2090 emotional classifications done!\n",
      "2100 emotional classifications done!\n",
      "2110 emotional classifications done!\n",
      "2120 emotional classifications done!\n",
      "2130 emotional classifications done!\n",
      "2140 emotional classifications done!\n",
      "2150 emotional classifications done!\n",
      "2160 emotional classifications done!\n",
      "2170 emotional classifications done!\n",
      "2180 emotional classifications done!\n",
      "2190 emotional classifications done!\n",
      "2200 emotional classifications done!\n",
      "2210 emotional classifications done!\n",
      "not enough text for language id : 23\n",
      "unsupported text language: unknown : 1\n",
      "unsupported text language: la : 1\n",
      "--- 5143.8477737903595 seconds ---\n"
     ]
    }
   ],
   "source": [
    "start_time = time.time()\n",
    "new_data_10000 = create_emotion(data_10000)\n",
    "print(\"--- %s seconds ---\" % (time.time() - start_time))"
   ]
  },
  {
   "cell_type": "code",
   "execution_count": 29,
   "metadata": {},
   "outputs": [],
   "source": [
    "new_data_10000.to_csv(\"new_data_10000.csv\", index = None, header = True)"
   ]
  },
  {
   "cell_type": "code",
   "execution_count": 30,
   "metadata": {},
   "outputs": [
    {
     "data": {
      "text/html": [
       "<div>\n",
       "<style scoped>\n",
       "    .dataframe tbody tr th:only-of-type {\n",
       "        vertical-align: middle;\n",
       "    }\n",
       "\n",
       "    .dataframe tbody tr th {\n",
       "        vertical-align: top;\n",
       "    }\n",
       "\n",
       "    .dataframe thead th {\n",
       "        text-align: right;\n",
       "    }\n",
       "</style>\n",
       "<table border=\"1\" class=\"dataframe\">\n",
       "  <thead>\n",
       "    <tr style=\"text-align: right;\">\n",
       "      <th></th>\n",
       "      <th>index</th>\n",
       "      <th>username</th>\n",
       "      <th>date</th>\n",
       "      <th>retweets</th>\n",
       "      <th>favorites</th>\n",
       "      <th>text</th>\n",
       "      <th>emotion</th>\n",
       "      <th>emotion_probability</th>\n",
       "    </tr>\n",
       "  </thead>\n",
       "  <tbody>\n",
       "    <tr>\n",
       "      <th>0</th>\n",
       "      <td>8000</td>\n",
       "      <td>realDonaldTrump</td>\n",
       "      <td>10.01.18 16:00</td>\n",
       "      <td>18833</td>\n",
       "      <td>81336</td>\n",
       "      <td>The fact that Sneaky Dianne Feinstein, who has...</td>\n",
       "      <td>anger</td>\n",
       "      <td>0.524542</td>\n",
       "    </tr>\n",
       "    <tr>\n",
       "      <th>1</th>\n",
       "      <td>8001</td>\n",
       "      <td>realDonaldTrump</td>\n",
       "      <td>10.01.18 15:11</td>\n",
       "      <td>21940</td>\n",
       "      <td>95371</td>\n",
       "      <td>It just shows everyone how broken and unfair o...</td>\n",
       "      <td>sadness</td>\n",
       "      <td>0.661137</td>\n",
       "    </tr>\n",
       "    <tr>\n",
       "      <th>2</th>\n",
       "      <td>8002</td>\n",
       "      <td>realDonaldTrump</td>\n",
       "      <td>10.01.18 05:23</td>\n",
       "      <td>11424</td>\n",
       "      <td>53239</td>\n",
       "      <td>. @ICEgov HSI agents and ERO officers, on beha...</td>\n",
       "      <td>joy</td>\n",
       "      <td>0.742836</td>\n",
       "    </tr>\n",
       "    <tr>\n",
       "      <th>3</th>\n",
       "      <td>8003</td>\n",
       "      <td>realDonaldTrump</td>\n",
       "      <td>10.01.18 04:48</td>\n",
       "      <td>10032</td>\n",
       "      <td>47160</td>\n",
       "      <td>Thank you @GOPLeader Kevin McCarthy! Couldn’t ...</td>\n",
       "      <td>joy</td>\n",
       "      <td>0.747622</td>\n",
       "    </tr>\n",
       "    <tr>\n",
       "      <th>4</th>\n",
       "      <td>8004</td>\n",
       "      <td>realDonaldTrump</td>\n",
       "      <td>10.01.18 01:16</td>\n",
       "      <td>20275</td>\n",
       "      <td>109383</td>\n",
       "      <td>As I made very clear today, our country needs ...</td>\n",
       "      <td>fear</td>\n",
       "      <td>0.292884</td>\n",
       "    </tr>\n",
       "    <tr>\n",
       "      <th>...</th>\n",
       "      <td>...</td>\n",
       "      <td>...</td>\n",
       "      <td>...</td>\n",
       "      <td>...</td>\n",
       "      <td>...</td>\n",
       "      <td>...</td>\n",
       "      <td>...</td>\n",
       "      <td>...</td>\n",
       "    </tr>\n",
       "    <tr>\n",
       "      <th>2212</th>\n",
       "      <td>10245</td>\n",
       "      <td>realDonaldTrump</td>\n",
       "      <td>07.01.17 16:02</td>\n",
       "      <td>24681</td>\n",
       "      <td>87739</td>\n",
       "      <td>Having a good relationship with Russia is a go...</td>\n",
       "      <td>sadness</td>\n",
       "      <td>0.522362</td>\n",
       "    </tr>\n",
       "    <tr>\n",
       "      <th>2213</th>\n",
       "      <td>10246</td>\n",
       "      <td>realDonaldTrump</td>\n",
       "      <td>07.01.17 13:03</td>\n",
       "      <td>16601</td>\n",
       "      <td>73661</td>\n",
       "      <td>Only reason the hacking of the poorly defended...</td>\n",
       "      <td>sadness</td>\n",
       "      <td>0.567706</td>\n",
       "    </tr>\n",
       "    <tr>\n",
       "      <th>2214</th>\n",
       "      <td>10247</td>\n",
       "      <td>realDonaldTrump</td>\n",
       "      <td>07.01.17 12:56</td>\n",
       "      <td>15401</td>\n",
       "      <td>60280</td>\n",
       "      <td>Intelligence stated very strongly there was ab...</td>\n",
       "      <td>sadness</td>\n",
       "      <td>0.490432</td>\n",
       "    </tr>\n",
       "    <tr>\n",
       "      <th>2215</th>\n",
       "      <td>10248</td>\n",
       "      <td>realDonaldTrump</td>\n",
       "      <td>07.01.17 04:53</td>\n",
       "      <td>13961</td>\n",
       "      <td>59218</td>\n",
       "      <td>Gross negligence by the Democratic National Co...</td>\n",
       "      <td>disgust</td>\n",
       "      <td>0.746146</td>\n",
       "    </tr>\n",
       "    <tr>\n",
       "      <th>2216</th>\n",
       "      <td>10249</td>\n",
       "      <td>realDonaldTrump</td>\n",
       "      <td>07.01.17 01:07</td>\n",
       "      <td>6657</td>\n",
       "      <td>42476</td>\n",
       "      <td>Happy Birthday @EricTrump ! https://www. faceb...</td>\n",
       "      <td>joy</td>\n",
       "      <td>0.973859</td>\n",
       "    </tr>\n",
       "  </tbody>\n",
       "</table>\n",
       "<p>2217 rows × 8 columns</p>\n",
       "</div>"
      ],
      "text/plain": [
       "      index         username            date  retweets  favorites  \\\n",
       "0      8000  realDonaldTrump  10.01.18 16:00     18833      81336   \n",
       "1      8001  realDonaldTrump  10.01.18 15:11     21940      95371   \n",
       "2      8002  realDonaldTrump  10.01.18 05:23     11424      53239   \n",
       "3      8003  realDonaldTrump  10.01.18 04:48     10032      47160   \n",
       "4      8004  realDonaldTrump  10.01.18 01:16     20275     109383   \n",
       "...     ...              ...             ...       ...        ...   \n",
       "2212  10245  realDonaldTrump  07.01.17 16:02     24681      87739   \n",
       "2213  10246  realDonaldTrump  07.01.17 13:03     16601      73661   \n",
       "2214  10247  realDonaldTrump  07.01.17 12:56     15401      60280   \n",
       "2215  10248  realDonaldTrump  07.01.17 04:53     13961      59218   \n",
       "2216  10249  realDonaldTrump  07.01.17 01:07      6657      42476   \n",
       "\n",
       "                                                   text  emotion  \\\n",
       "0     The fact that Sneaky Dianne Feinstein, who has...    anger   \n",
       "1     It just shows everyone how broken and unfair o...  sadness   \n",
       "2     . @ICEgov HSI agents and ERO officers, on beha...      joy   \n",
       "3     Thank you @GOPLeader Kevin McCarthy! Couldn’t ...      joy   \n",
       "4     As I made very clear today, our country needs ...     fear   \n",
       "...                                                 ...      ...   \n",
       "2212  Having a good relationship with Russia is a go...  sadness   \n",
       "2213  Only reason the hacking of the poorly defended...  sadness   \n",
       "2214  Intelligence stated very strongly there was ab...  sadness   \n",
       "2215  Gross negligence by the Democratic National Co...  disgust   \n",
       "2216  Happy Birthday @EricTrump ! https://www. faceb...      joy   \n",
       "\n",
       "      emotion_probability  \n",
       "0                0.524542  \n",
       "1                0.661137  \n",
       "2                0.742836  \n",
       "3                0.747622  \n",
       "4                0.292884  \n",
       "...                   ...  \n",
       "2212             0.522362  \n",
       "2213             0.567706  \n",
       "2214             0.490432  \n",
       "2215             0.746146  \n",
       "2216             0.973859  \n",
       "\n",
       "[2217 rows x 8 columns]"
      ]
     },
     "execution_count": 30,
     "metadata": {},
     "output_type": "execute_result"
    }
   ],
   "source": [
    "new_data_10000"
   ]
  },
  {
   "cell_type": "markdown",
   "metadata": {},
   "source": [
    "# Merge dataframes"
   ]
  },
  {
   "cell_type": "code",
   "execution_count": null,
   "metadata": {},
   "outputs": [],
   "source": [
    "# one more small test \n",
    "# create a test set of 8000 tweets\n",
    "data_2000 = data.iloc[0:2000,:]\n",
    "data_4000 = data.iloc[2000:4000,:]\n",
    "data_6000 = data.iloc[4000:6000,:]\n",
    "data_8000 = data.iloc[6000:8000,:]\n",
    "data_10000 = data.iloc[8000:,:]"
   ]
  },
  {
   "cell_type": "code",
   "execution_count": 32,
   "metadata": {},
   "outputs": [
    {
     "ename": "NameError",
     "evalue": "name 'data2000' is not defined",
     "output_type": "error",
     "traceback": [
      "\u001b[0;31m---------------------------------------------------------------------------\u001b[0m",
      "\u001b[0;31mNameError\u001b[0m                                 Traceback (most recent call last)",
      "\u001b[0;32m<ipython-input-32-41282c454e6e>\u001b[0m in \u001b[0;36m<module>\u001b[0;34m\u001b[0m\n\u001b[1;32m      1\u001b[0m \u001b[0;31m# merge data frames\u001b[0m\u001b[0;34m\u001b[0m\u001b[0;34m\u001b[0m\u001b[0;34m\u001b[0m\u001b[0m\n\u001b[0;32m----> 2\u001b[0;31m \u001b[0mdata_new\u001b[0m \u001b[0;34m=\u001b[0m \u001b[0mpd\u001b[0m\u001b[0;34m.\u001b[0m\u001b[0mconcat\u001b[0m\u001b[0;34m(\u001b[0m\u001b[0;34m[\u001b[0m\u001b[0mdata2000\u001b[0m\u001b[0;34m,\u001b[0m\u001b[0mdata4000\u001b[0m\u001b[0;34m,\u001b[0m\u001b[0mdata_6000\u001b[0m\u001b[0;34m,\u001b[0m\u001b[0mdata_8000\u001b[0m\u001b[0;34m,\u001b[0m\u001b[0mdata_10000\u001b[0m\u001b[0;34m]\u001b[0m\u001b[0;34m)\u001b[0m\u001b[0;34m\u001b[0m\u001b[0;34m\u001b[0m\u001b[0m\n\u001b[0m",
      "\u001b[0;31mNameError\u001b[0m: name 'data2000' is not defined"
     ]
    }
   ],
   "source": [
    "# merge data frames\n",
    "data_new = pd.concat([data2000,data4000,data_6000,data_8000,data_10000])"
   ]
  },
  {
   "cell_type": "markdown",
   "metadata": {},
   "source": [
    "\n",
    "\n",
    "## Problem - Language\n",
    "He post stuff in:\n",
    "- Arabic\n",
    "- Hebräisch"
   ]
  },
  {
   "cell_type": "code",
   "execution_count": 18,
   "metadata": {},
   "outputs": [
    {
     "data": {
      "text/plain": [
       "username                                       realDonaldTrump\n",
       "date                                            28.01.20 19:26\n",
       "retweets                                                 11161\n",
       "favorites                                                43754\n",
       "text         هذا ما قد تبدو عليه دولة فلسطين المستقبلية بعا...\n",
       "geo                                                        NaN\n",
       "mentions                                                   NaN\n",
       "hashtags                                                   NaN\n",
       "id                                                 1,22222E+18\n",
       "permalink    https://twitter.com/realDonaldTrump/status/122...\n",
       "Name: 142, dtype: object"
      ]
     },
     "execution_count": 18,
     "metadata": {},
     "output_type": "execute_result"
    }
   ],
   "source": [
    "data_test.iloc[142,:]"
   ]
  },
  {
   "cell_type": "markdown",
   "metadata": {},
   "source": [
    "## Solution - Problem - Language\n",
    "\n",
    "### langdetect API\n",
    "\n",
    "https://pypi.org/project/langdetect/"
   ]
  },
  {
   "cell_type": "code",
   "execution_count": 22,
   "metadata": {},
   "outputs": [],
   "source": [
    "# import\n",
    "from langdetect import detect"
   ]
  },
  {
   "cell_type": "code",
   "execution_count": 30,
   "metadata": {},
   "outputs": [
    {
     "name": "stdout",
     "output_type": "stream",
     "text": [
      "هذا ما قد تبدو عليه دولة فلسطين المستقبلية بعاصمة في أجزاء من القدس الشرقية. pic.twitter.com/CFuYwwjSso\n",
      "ar\n",
      "תמיד אעמוד לצד מדינת ישראל והעם היהודי. אני תומך בחוזקה בבטיחותם ובטחונם ובזכותם לחיות במולדתם ההיסטורית. הגיע הזמן לשלום! pic.twitter.com/AtNnQtnGZs\n",
      "he\n",
      "Problem solved\n"
     ]
    }
   ],
   "source": [
    "language_test_string1 = data_test.iloc[142,:].text\n",
    "language_test_string2 = data_test.iloc[144,:].text\n",
    "print(language_test_string1)\n",
    "print(detect(language_test_string1))\n",
    "print(language_test_string2)\n",
    "print(detect(language_test_string2))\n",
    "\n",
    "if detect(language_test_string1) != \"en\":\n",
    "    print(\"Problem solved\")"
   ]
  },
  {
   "cell_type": "markdown",
   "metadata": {},
   "source": [
    "### Amount of not english tweets\n"
   ]
  },
  {
   "cell_type": "code",
   "execution_count": 67,
   "metadata": {},
   "outputs": [
    {
     "name": "stdout",
     "output_type": "stream",
     "text": [
      "English: 194\n",
      "Other: 6\n"
     ]
    }
   ],
   "source": [
    "amount_english_tweets = 0\n",
    "amount_non_english_tweets = 0\n",
    "index_non_english_tweets = []\n",
    "\n",
    "for index in range(len(data_test.text)):\n",
    "    if(detect(data_test.text[index]) != \"en\"):\n",
    "        amount_non_english_tweets = amount_non_english_tweets +1\n",
    "        index_non_english_tweets.append(index)\n",
    "    else:\n",
    "        amount_english_tweets = amount_english_tweets +1 "
   ]
  },
  {
   "cell_type": "code",
   "execution_count": 75,
   "metadata": {},
   "outputs": [
    {
     "name": "stdout",
     "output_type": "stream",
     "text": [
      "English: 194\n",
      "Other: 6\n",
      "Index other: [60, 61, 142, 144, 145, 189]\n",
      "60 de KEEP AMERICA GREAT!\n",
      "---\n",
      "61 so MAKE AMERICA GREAT AGAIN!\n",
      "---\n",
      "142 ar هذا ما قد تبدو عليه دولة فلسطين المستقبلية بعاصمة في أجزاء من القدس الشرقية. pic.twitter.com/CFuYwwjSso\n",
      "---\n",
      "144 he תמיד אעמוד לצד מדינת ישראל והעם היהודי. אני תומך בחוזקה בבטיחותם ובטחונם ובזכותם לחיות במולדתם ההיסטורית. הגיע הזמן לשלום! pic.twitter.com/AtNnQtnGZs\n",
      "---\n",
      "145 pl https://www. pscp.tv/w/cQBvvDFvTlFs TFJub1dwUXd8MW1ueGVReUVyVk54WA1zKet_7z8vzWFt8Te_Oj1SHWia5RzDd-o1zJWDHKC7 …\n",
      "---\n",
      "189 fa وزیر امور خارجه ایران می گوید ایران خواستار مذاکره با ایالات متحده است اما می خواهد که تحریم ها برداشته شود. @FoxNews @OANN نه، مرسی! https:// twitter.com/realDonaldTrum p/status/1221225245220265985 …\n",
      "---\n"
     ]
    }
   ],
   "source": [
    "print(\"English:\", amount_english_tweets)\n",
    "print(\"Other:\", amount_non_english_tweets)\n",
    "print(\"Index other:\", index_non_english_tweets)\n",
    "for i in index_non_english_tweets:\n",
    "    print(i, detect(data_test.text[i]), data_test.text[i])\n",
    "    print(\"---\")"
   ]
  },
  {
   "cell_type": "markdown",
   "metadata": {},
   "source": [
    "## Preprocessing\n",
    "\n",
    "\n",
    "Clean the text data\n",
    "\n",
    "- Languages other than englisch\n",
    "- Links \n",
    "-- at the *beginning* of the tweet *or* at the *end*\n",
    "-- removed at the beginning\n",
    "- Pictures\n",
    "\n",
    "Don´t clean\n",
    "\n",
    "- Hashtags\n",
    "- tokenizing\n",
    "- stop words\n",
    "- lemma\n",
    "- non-alphabetical characters"
   ]
  },
  {
   "cell_type": "code",
   "execution_count": 28,
   "metadata": {},
   "outputs": [],
   "source": [
    "text = data.text"
   ]
  },
  {
   "cell_type": "code",
   "execution_count": 29,
   "metadata": {
    "scrolled": true
   },
   "outputs": [
    {
     "data": {
      "text/plain": [
       "'A great coach and a fantastic guy. His endorsement of me in Indiana was a very big deal! https:// twitter.com/kyle__boone/st atus/1226234981808250880 …'"
      ]
     },
     "execution_count": 29,
     "metadata": {},
     "output_type": "execute_result"
    }
   ],
   "source": [
    "text[0]"
   ]
  },
  {
   "cell_type": "code",
   "execution_count": 20,
   "metadata": {
    "scrolled": true
   },
   "outputs": [
    {
     "name": "stdout",
     "output_type": "stream",
     "text": [
      "A great coach and a fantastic guy. His endorsement of me in Indiana was a very big deal! https:// twitter.com/kyle__boone/st atus/1226234981808250880 …\n",
      "--\n",
      "Pete Rose played Major League Baseball for 24 seasons, from 1963-1986, and had more hits, 4,256, than any other player (by a wide margin). He gambled, but only on his own team winning, and paid a decades long price. GET PETE ROSE INTO THE BASEBALL HALL OF FAME. It’s Time!\n",
      "--\n",
      "Total and complete Endorsement for Debbie Lesko! @RepDLesko Love Arizona. https:// twitter.com/repdlesko/stat us/1225484090754899969 …\n",
      "--\n",
      "Governor Cuomo wanted to see me this weekend. He just canceled. Very hard to work with New York - So stupid. All they do is sue me all the time! https:// twitter.com/RepStefanik/st atus/1225494053913079808 …\n",
      "--\n",
      "We will not be touching your Social Security or Medicare in Fiscal 2021 Budget. Only the Democrats will destroy them by destroying our Country’s greatest ever Economy!\n",
      "--\n",
      "...the worst weeks ever.” She could have had a much better week if Crazy Nancy, who is the most overrated person in politics (going to lose the House a second time), didn’t bring the phony & corrupt Impeachment Hoax. Dems can’t do anything right, just look at the Iowa vote count!\n",
      "--\n",
      ". @RepDebDingell , who called me, tears flowing, to thank me for rolling out the maximum “Red Carpet” for the funeral of her husband, then voted against me on the partisan Impeachmen Hoax, said “everybody (Dems) wants to get out of town. This has been, in my whole career, one of...\n",
      "--\n",
      "The only way to stop the crazed Radical Left, Do Nothing Democrats “is for the Republican Senate to run an offense here”. @LeeSmithDC @IngrahamAngle @FoxNews So true, although the Dems Hoaxes & Witch Hunts have driven up Republican Polls, and mine, mightily!\n",
      "--\n",
      "Crazy Nancy Pelosi’s Impeachment Hoax has lifted Republican Congressional Polls (she lost the House once before!), and my Polls, WAY UP, which was expected, but it has had a great effect on Republican Senate races, including North Carolina, Kentucky, Colorado and Arizona. Thanks!\n",
      "--\n",
      "Thank you Iowa for the RECORD vote we just received in the Primary. The Dems were 25% down (although their votes are all fried!). https:// twitter.com/realdonaldtrum p/status/1223077157779464195 …\n",
      "--\n",
      "....was given a horrendous report by his superior, the man he reported to, who publicly stated that Vindman had problems with judgement, adhering to the chain of command and leaking information. In other words, “OUT”.\n",
      "--\n",
      "Fake News @CNN & MSDNC keep talking about “Lt. Col.” Vindman as though I should think only how wonderful he was. Actually, I don’t know him, never spoke to him, or met him (I don’t believe!) but, he was very insubordinate, reported contents of my “perfect” calls incorrectly, &...\n",
      "--\n",
      "Not good! https:// twitter.com/Cernovich/stat us/1225971069325955074 …\n",
      "--\n",
      "pic.twitter.com/gsZyUFlTPJ\n",
      "--\n",
      "After years building up other countries, we are finally rebuilding OUR Country. From our inner cities to our rural communities, the forgotten men and women of America are forgotten NO LONGER! #OpportunityNow pic.twitter.com/qShbwaCaPd\n",
      "--\n",
      "....always continue. Every Republican Senator except Romney, many highly religious people, all very smart, voted against the Impeachment Hoax. @SenCapito was all in (a great person). I was told by many that Manchin was just a puppet for Schumer & Pelosi. That’s all he is!\n",
      "--\n",
      "I was very surprised & disappointed that Senator Joe Manchin of West Virginia voted against me on the Democrat’s totally partisan Impeachment Hoax. No President has done more for the great people of West Virginia than me (Pensions), and that will....\n",
      "--\n",
      "Great to be in Charlotte, North Carolina as we expand and grow this unprecedented economic momentum. Today, we launched a brand new nationwide campaign to revitalize under-served cities and towns across America – it’s called OPPORTUNITY NOW! https://www. pscp.tv/w/cQ25GzEyMzE3 NDF8MXlvSk1hTlptV2VKUZ3mUyAZiis9zQFLyoAHCO1GHWfoBc2SB7sZpWx5qJsH?t=3s …\n",
      "--\n",
      "Another win just in. Nervous Nancy Pelosi and the Democrats in Congress sued me, thrown out. This one unanimous, in the D.C. Circuit. Witch Hunt!\n",
      "--\n",
      "JOBS, JOBS, JOBS! #PromisesMadePromisesKept pic.twitter.com/yIOxpzCNb7\n",
      "--\n",
      "Iowa and New Hampshire will not be moved from the Primary Schedule as long as I am President. Great tradition!\n",
      "--\n",
      "Off to North Carolina! pic.twitter.com/dreH1rw3sz\n",
      "--\n",
      "The Democrat Party has given up on counting votes in Iowa. Looks like it all got computer “fried”. Nobody knows who the real winner is. Maybe it’s Sleepy Joe, but it’s not looking that way. They lost millions & millions of dollars, all for NOTHING. But I WON Iowa big!\n",
      "--\n",
      "pic.twitter.com/9GEW2VZu5h\n",
      "--\n",
      "I think they should blame RUSSIA, RUSSIA, RUSSIA again! If they can’t count votes properly, how are they going to run U.S. HealthCare? https:// twitter.com/ap_politics/st atus/1225562507949068289 …\n",
      "--\n",
      "Welcome back James! https:// twitter.com/realDailyWire/ status/1225634557677801474 …\n",
      "--\n",
      "Very true, thank you Ted & John. I love Texas! https:// twitter.com/SenTedCruz/sta tus/1225600065005408256 …\n",
      "--\n",
      "So do I! https:// twitter.com/lindseygrahams c/status/1225432527290142720 …\n",
      "--\n",
      "Thank you Charlie! https:// twitter.com/charliekirk11/ status/1225159300089143296 …\n",
      "--\n",
      "Don’t worry, it won’t happen! https:// twitter.com/TuckerCarlson/ status/1225607709044637697 …\n",
      "--\n",
      "....he will be successful, especially as the weather starts to warm & the virus hopefully becomes weaker, and then gone. Great discipline is taking place in China, as President Xi strongly leads what will be a very successful operation. We are working closely with China to help!\n",
      "--\n",
      "Just had a long and very good conversation by phone with President Xi of China. He is strong, sharp and powerfully focused on leading the counterattack on the Coronavirus. He feels they are doing very well, even building hospitals in a matter of only days. Nothing is easy, but...\n",
      "--\n",
      "“The Senate acquitted President Trump of both charges fabricated by Congressional Democrats, led by Speaker Pelosi and Adam Schiff, to carry out the most egregious and partisan attack against any president in our history - a man they knew to be innocent.” @LouDobbs @FoxBusiness\n",
      "--\n",
      "“This President has done more for African Americans in this Country than any President since Lincoln.” @LouDobbs\n",
      "--\n",
      "pic.twitter.com/QhTWvcY4Ke\n",
      "--\n",
      "Welcome back to Earth, @Astro_Christina , and congratulations on breaking the female record for the longest stay in space! You’re inspiring young women and making the USA proud! Enjoyed speaking with you and @Astro_Jessica on the first all-female spacewalk IN HISTORY last year.\n",
      "--\n",
      "Nevada, I hear you on Yucca Mountain and my Administration will RESPECT you! Congress and previous Administrations have long failed to find lasting solutions – my Administration is committed to exploring innovative approaches – I’m confident we can get it done!\n",
      "--\n",
      "So true! https:// twitter.com/mirandadevine/ status/1225309906863087616 …\n",
      "--\n",
      "https://www. pscp.tv/w/cQxYyDFvTlFs TFJub1dwUXd8MWxQSnFWTm5yRW14YklFJuJ_tJ0v4Udv_WOByjdcO6UdLv7wH_KJbs45m-wZ?t=7s …\n",
      "--\n",
      "Had failed presidential candidate @MittRomney devoted the same energy and anger to defeating a faltering Barack Obama as he sanctimoniously does to me, he could have won the election. Read the Transcripts!\n",
      "--\n",
      "@nytimes “The Votes Were A Resounding Victory For Mr. Trump.” True, but the Impeachment Hoax was just a continuation of the Radical Left, Do Nothing Democrats corrupt practices!\n",
      "--\n",
      "pic.twitter.com/FIg1SYtJcy\n",
      "--\n",
      "I will be making a public statement tomorrow at 12:00pm from the @WhiteHouse to discuss our Country’s VICTORY on the Impeachment Hoax!\n",
      "--\n",
      "pic.twitter.com/JDS4zUXXJG\n",
      "--\n",
      "pic.twitter.com/lj8RUqcz37\n",
      "--\n",
      "“The Democrats want to run a Country, and they can’t run a Caucus.” Brad Blakeman @FoxNews Iowa is a complete disaster for the Dems. They should bring in Mini Mike Bloomberg ASAP!\n",
      "--\n",
      "Thank you Jonathan, and great job! https:// twitter.com/JonathanTurley /status/1224888842597040129 …\n",
      "--\n",
      "It was a great and triumphant evening for our Country. Thank you for all of the nice remarks and wonderful reviews of my State of the Union Speech. It was my great honor to have done it!\n",
      "--\n",
      "#SOTU2020 pic.twitter.com/W03gQLkdpo\n",
      "--\n",
      "pic.twitter.com/QeFYDg9jZ0\n",
      "--\n",
      "My Approval Rating in the Republican Party = 95%, a record! Big Iowa win. Approval Rating overall = 53%, a new high. With our great Economy and other major successes, would be 20 points higher without the phony Witch Hunts and Hoaxes???\n",
      "--\n",
      "Market up big today on very good economic news. JOBS, JOBS, JOBS!\n",
      "--\n",
      "The Democrat Party in Iowa really messed up, but the Republican Party did not. I had the largest re-election vote in the history of that great state, by far, beating President Obama’s previous record by a lot. Also, 97% Plus of the vote! Thank you Iowa!\n",
      "--\n",
      "When will the Democrats start blaming RUSSIA, RUSSIA, RUSSIA, instead of their own incompetence for the voting disaster that just happened in the Great State of Iowa?\n",
      "--\n",
      "It is not the fault of Iowa, it is the Do Nothing Democrats fault. As long as I am President, Iowa will stay where it is. Important tradition! https:// twitter.com/SteveKornacki/ status/1224682732208508928 …\n",
      "--\n",
      "The Democrat Caucus is an unmitigated disaster. Nothing works, just like they ran the Country. Remember the 5 Billion Dollar Obamacare Website, that should have cost 2% of that. The only person that can claim a very big victory in Iowa last night is “Trump”.\n",
      "--\n",
      "Big WIN for us in Iowa tonight. Thank you!\n",
      "--\n",
      "Many people do not know what a great guy & fantastic political talent the great Rush Limbaugh is. There is nobody like him. Looking for a speedy recovery for our friend! https:// twitter.com/dcexaminer/sta tus/1224425704915374080 …\n",
      "--\n",
      "pic.twitter.com/KSVkKL76NM\n",
      "--\n",
      "Where’s the Whistleblower? Where’s the second Whistleblower? Where’s the Informer? Why did Corrupt politician Schiff MAKE UP my conversation with the Ukrainian President??? Why didn’t the House do its job? And sooo much more!\n",
      "--\n",
      "KEEP AMERICA GREAT!\n",
      "--\n",
      "MAKE AMERICA GREAT AGAIN!\n",
      "--\n",
      "Republicans in Iowa, go out and Caucus today. Your great Trade Deals with China, Mexico, Canada, Japan, South Korea and more, are DONE. Great times are coming, after waiting for decades, for our Farmers, Ranchers, Manufacturers and ALL. Nobody else could have pulled this off!\n",
      "--\n",
      "I hope Republicans & the American people realize that the totally partisan Impeachment Hoax is exacty that, a Hoax. Read the Transcripts, listen to what the President & Foreign Minister of Ukraine said (“No Pressure”). Nothing will ever satisfy the Do Nothing, Radical Left Dems!\n",
      "--\n",
      "@LindseyGrahamSC https:// twitter.com/michaelbeatty3 /status/1224003122055372800 …\n",
      "--\n",
      "The DNC on Bernie Sanders, “Looks like they’re going to do it to him again, doesn’t it?” @SteveDoocy @foxandfriends\n",
      "--\n",
      "Hope you liked this! https:// twitter.com/TeamTrump/stat us/1224171421221429248 …\n",
      "--\n",
      "Great company! https:// twitter.com/DiamondandSilk /status/1224115838304890883 …\n",
      "--\n",
      "Thank you Mike! https:// twitter.com/realMikeLindel l/status/1224068212893061122 …\n",
      "--\n",
      "So Great! https:// twitter.com/hunterw/status /1224082805405167618 …\n",
      "--\n",
      "Congratulations to the Kansas City Chiefs on a great game and a fantastic comeback under immense pressure. We are proud of you and the Great State of Missouri. You are true Champions!\n",
      "--\n",
      "I promised to restore hope in America. That includes the least among us. Together, let’s KEEP AMERICA GREAT! Text TRUMP to 88022 if you liked our Super Bowl ad! pic.twitter.com/Lgjt53B7QX\n",
      "--\n",
      "ENJOY THE GAME USA, OUR COUNTRY IS DOING GREAT!\n",
      "--\n",
      "My @SuperBowl Interview at 3:30 P.M. on @foxnetworks . Enjoy!\n",
      "--\n",
      "Mini Mike is now negotiating both to get on the Democrat Primary debate stage, and to have the right to stand on boxes, or a lift, during the debates. This is sometimes done, but really not fair!\n",
      "--\n",
      "Many of the ads you are watching were paid for by Mini Mike Bloomberg. He is going nowhere, just wasting his money, but he is getting the DNC to rig the election against Crazy Bernie, something they wouldn’t do for @CoryBooker and others. They are doing it to Bernie again, 2016.\n",
      "--\n",
      "Mini Mike is part of the Fake News. They are all working together. In fact, Bloomberg isn’t covering himself (too boring to do), or other Dems. Only Trump. That sounds fair! It’s all the Fake News Media, and that’s why nobody believes in them any more.\n",
      "--\n",
      "The Radical Left, Do Nothing Democrats, don’t want justice when pushing the Impeachment Hoax, they only want to destabilize the Republican Party so they can do better in the 2020 election, & that includes the House & Senate. They are playing with the people by taking it this far!\n",
      "--\n",
      "Correct! https:// twitter.com/senatemajldr/s tatus/1219826046125641733 …\n",
      "--\n",
      "Thanks for your invaluable help Chuck! https:// twitter.com/chuckgrassley/ status/1222666109599539200 …\n",
      "--\n",
      "Wall is moving along strong, tall and quickly. Thank you Jim for all of your help! https:// twitter.com/JimInhofe/stat us/1120434609131532288 …\n",
      "--\n",
      "Thank you John! https:// twitter.com/SenJohnBarrass o/status/1223262560155250688 …\n",
      "--\n",
      "Happy birthday to a wonderful man & friend! https:// twitter.com/SenJohnBarrass o/status/1223618785594265600 …\n",
      "--\n",
      "Getting a little exercise this morning! pic.twitter.com/fyAAcbhbgk\n",
      "--\n",
      "Trump poll numbers are the highest since election, despite constant phony Witch Hunts! Tens of thousands of people attending rallies (which the Fake News never mentions) to see “The Greatest Show On Earth”. Fun because USA is WINNING AGAIN! https:// twitter.com/olivianuzzi/st atus/1223302455276064770 …\n",
      "--\n",
      "Congratulations to @loudobbs , Number One. Lou has shown the Fake News what happens when you cover “America’s Greatest President” fairly & objectively! #MAGA #KAG https:// twitter.com/LouDobbs/statu s/1222664158342152193 …\n",
      "--\n",
      "No matter what you give to the Democrats, in the end, they will NEVER be satisfied. In the House, they gave us NOTHING!\n",
      "--\n",
      "Democrats = 17 Witnesses. Republicans = 0 Witnesses.\n",
      "--\n",
      "The Radical Left, Do Nothing Democrats keep chanting “fairness”, when they put on the most unfair Witch Hunt in the history of the U.S. Congress. They had 17 Witnesses, we were allowed ZERO, and no lawyers. They didn’t do their job, had no case. The Dems are scamming America!\n",
      "--\n",
      "Incredible numbers! https:// twitter.com/realDonaldTrum p/status/1223099086389121026 …\n",
      "--\n",
      "Nadler ripped final argument away from Schiff, thinks Shifty did a terrible job. They are fighting big time! https:// twitter.com/Julio_Rosas11/ status/1223090988060758021 …\n",
      "--\n",
      "THE BEST IS YET TO COME! pic.twitter.com/SOn6wRV9Zs\n",
      "--\n",
      "Americans across the political spectrum are disgusted by the Washington Democrats’ Partisan Hoaxes, Witch Hunts, & Con Jobs. Registered Democrats and Independents are leaving the Democrat Party in droves, & we are welcoming these voters to the Republican Party w/ wide open arms! pic.twitter.com/UCdQXY3vPn\n",
      "--\n",
      "Washington Dems have spent the last 3 years trying to overturn the last election – and we will make sure they face another crushing defeat in the NEXT ELECTION. Together, we are going to win back the House, we are going to hold the Senate, & we are going to keep the White House! pic.twitter.com/VshQceiwUA\n",
      "--\n",
      "To keep America Safe, we have fully rebuilt the U.S. Military – it is now stronger, more powerful, and more lethal than ever before. Thanks to the courage of American Heroes, the ISIS Caliphate has been DESTROYED & its founder & leader – the animal known as al-Baghdadi – is DEAD! pic.twitter.com/9LXDf6mJKf\n",
      "--\n",
      "This November, we are going to defeat the Radical Socialist Democrats and win the Great State of Iowa in a Historic Landslide! #KAG2020 pic.twitter.com/jYIbSdyGjU\n",
      "--\n",
      "Thank you Iowa, I love you! https://www. pscp.tv/w/cQOMgDEzNTg4 Mzh8MXZPeHdvYkxCQUx4QrT6MSzbemiKv0jhIMKEWz80dLpl7urO3cn8NWkS7psa?t=56s …\n",
      "--\n",
      "Great poll in Iowa, where I just landed for a Big Rally! #KAG2020 pic.twitter.com/4YCo01XYCn\n",
      "--\n",
      "Working closely with China and others on Coronavirus outbreak. Only 5 people in U.S., all in good recovery.\n",
      "--\n",
      "Leaving Michigan now, great visit, heading for Iowa. Big Rally!\n",
      "--\n",
      "BIGGEST TRADE DEAL EVER MADE, the USMCA, was signed yesterday and the Fake News Media barely mentioned it. They never thought it could be done. They have zero credibility!\n",
      "--\n",
      "Just landed in Michigan. Car companies, and many others, are building and expanding here. Great to see!\n",
      "--\n",
      "Happy birthday today to two of the very best in Congress— @RepMikeJohnson (age 48) and @RepLeeZeldin (age 40—big one!). Two Great American Patriots!!\n",
      "--\n",
      "Congressman @MichaelCBurgess has done a Great job representing the people of Texas. He continues to protect your very important Second Amendment. Mike is Strong on Crime and the Border, he Loves our Great Vets and Military. Mike has my Complete and Total Endorsement!\n",
      "--\n",
      "Congressman Brian @Babin4Congress of Texas has been a strong supporter of our #MAGA Agenda. He is strong on the Second Amendment and Securing our Border, he Loves our Great Vets and Military. Brian has my Complete and Total Endorsement!\n",
      "--\n",
      "pic.twitter.com/Kf24nTnc7E\n",
      "--\n",
      "pic.twitter.com/OWYuHqbgAj\n",
      "--\n",
      "pic.twitter.com/XWKEY5MIXL\n",
      "--\n",
      "pic.twitter.com/alTg16dgM5\n",
      "--\n",
      "Great photos from a SOUTHERN BORDER WALL Briefing with Secretary of Defense, Mark @EsperDoD ! pic.twitter.com/rpGHpdoIa6\n",
      "--\n",
      "“Schiff blasted for not focusing on California homeless.” @foxandfriends His District is in terrible shape. He is a corrupt pol who only dreams of the Impeachment Hoax. In my opinion he is mentally deranged!\n",
      "--\n",
      "pic.twitter.com/66006PDuKf\n",
      "--\n",
      "pic.twitter.com/pXexddCGtT\n",
      "--\n",
      "Just received a briefing on the Coronavirus in China from all of our GREAT agencies, who are also working closely with China. We will continue to monitor the ongoing developments. We have the best experts anywhere in the world, and they are on top of it 24/7! pic.twitter.com/rrtF1Stk78\n",
      "--\n",
      "Nancy Pelosi wants Congress to take away authority Presidents use to stand up to other countries and defend AMERICANS. Stand with your Commander in Chiefs!\n",
      "--\n",
      "With Votes in the House tomorrow, Democrats want to make it harder for Presidents to defend America, and stand up to, as an example, Iran. Protect our GREAT COUNTRY!\n",
      "--\n",
      "GAME OVER! pic.twitter.com/yvMa6bPqfy\n",
      "--\n",
      "pic.twitter.com/aX5WIX8B0O\n",
      "--\n",
      "For the first time in American History, we have replaced a disastrous Trade Deal that REWARDED outsourcing with a truly FAIR and RECIPROCAL Trade Deal that will keep jobs, wealth and growth right here in AMERICA! pic.twitter.com/bDe8IV9DyD\n",
      "--\n",
      "Thanks to our pro-worker, pro-American economic policies, unemployment is at the lowest level in more than 50 years. We have created over 7 MILLION new JOBS. More Americans are working today than EVER before. We have the hottest ECONOMY on earth! pic.twitter.com/TRGKRF7xgQ\n",
      "--\n",
      "USMCA is a cutting edge state of the art agreement that protects, defends and serves the great people of our Country. Promises Made, Promises Kept! pic.twitter.com/PuiG1JPTTI\n",
      "--\n",
      "USMCA is a massive win for American manufacturers and auto workers! pic.twitter.com/eOgFm31cAo\n",
      "--\n",
      "They will never be satisfied! https:// twitter.com/realDonaldTrum p/status/1222344928530968576 …\n",
      "--\n",
      "“The best evidence is the Transcript itself.” Brad Blakeman @FoxNews\n",
      "--\n",
      "There is much talk that certain Democrats are going to be voting with Republicans on the Impeachment Hoax, so that the Senate can get back to the business of taking care of the American people. Sorry, but Cryin’ Chuck Schumer will never let that happen!\n",
      "--\n",
      "On the Iraq War Resolution being voted on tomorrow in the House of Represenatives, we are down to 5000 soldiers, and going down, and I want everyone, Republican and Democrat, to vote their HEART!\n",
      "--\n",
      "Mark Penn, Harris Poll: “It’s time to end the Impeachment Trial.” @foxandfriends Just another political Hoax by the Dems!\n",
      "--\n",
      "Remember Republicans, the Democrats already had 17 witnesses, we were given NONE! Witnesses are up to the House, not up to the Senate. Don’t let the Dems play you!\n",
      "--\n",
      "....many more mistakes of judgement, gets fired because frankly, if I listened to him, we would be in World War Six by now, and goes out and IMMEDIATELY writes a nasty & untrue book. All Classified National Security. Who would do this?\n",
      "--\n",
      "For a guy who couldn’t get approved for the Ambassador to the U.N. years ago, couldn’t get approved for anything since, “begged” me for a non Senate approved job, which I gave him despite many saying “Don’t do it, sir,” takes the job, mistakenly says “Libyan Model” on T.V., and..\n",
      "--\n",
      "Democrats admitting the Impeachment Hoax! https:// twitter.com/DanScavino/sta tus/1220047531272364037 …\n",
      "--\n",
      "Thank you! https:// twitter.com/jerseygirl007r n/status/1221889690464219137 …\n",
      "--\n",
      "Why didn’t John Bolton complain about this “nonsense” a long time ago, when he was very publicly terminated. He said, not that it matters, NOTHING!\n",
      "--\n",
      "No matter how many witnesses you give the Democrats, no matter how much information is given, like the quickly produced Transcripts, it will NEVER be enough for them. They will always scream UNFAIR. The Impeachment Hoax is just another political CON JOB!\n",
      "--\n",
      "If you want your children to inherit the blessings that generations of Americans have fought and died to secure—then we must devote everything we have toward victory in 2020. Only this way, can we save the America we love – and drain the Washington Swamp once and for all! pic.twitter.com/5NeC0mFWfU\n",
      "--\n",
      "Democrats are now the party of high taxes, high crime, open borders, late-term abortion, socialism, and blatant corruption. The Republican Party is the party of the American Worker, the American Family, and the American Dream! #TrumpRallyNJ #KAG2020 pic.twitter.com/Kq5KFhQmgH\n",
      "--\n",
      "Thank you Wildwood, New Jersey! #KeepAmericaGreat https://www. pscp.tv/w/cQDX1zEzNTg4 Mzh8MW1uR2VReVhtVm5HWH0g36sNHJMqVn88PUIxQYA-7lkGjCRunp6PU0CL2C-d?t=24s …\n",
      "--\n",
      "It’s amazing what I’ve done, the most of any President in the first three years (by far), considering that for three years I’ve been under phony political investigations and the Impeachment Hoax! KEEP AMERICA GREAT!\n",
      "--\n",
      "Heading to New Jersey. Big Rally, in fact, Really Big Rally!\n",
      "--\n",
      "https:// twitter.com/WhiteHouse/sta tus/1222243101164625926 … pic.twitter.com/vSV0YPyQrg\n",
      "--\n",
      "The Witch Hunt continues! https:// twitter.com/joelpollak/sta tus/1222229447157239809 …\n",
      "--\n",
      "This is what a future State of Palestine can look like, with a capital in parts of East Jerusalem. pic.twitter.com/39vw3pPrAL\n",
      "--\n",
      "هذا ما قد تبدو عليه دولة فلسطين المستقبلية بعاصمة في أجزاء من القدس الشرقية. pic.twitter.com/CFuYwwjSso\n",
      "--\n",
      "I will always stand with the State of Israel and the Jewish people. I strongly support their safety and security and their right to live within their historical homeland. It's time for peace! pic.twitter.com/lKwQ9IKTUG\n",
      "--\n",
      "תמיד אעמוד לצד מדינת ישראל והעם היהודי. אני תומך בחוזקה בבטיחותם ובטחונם ובזכותם לחיות במולדתם ההיסטורית. הגיע הזמן לשלום! pic.twitter.com/AtNnQtnGZs\n",
      "--\n",
      "https://www. pscp.tv/w/cQBvvDFvTlFs TFJub1dwUXd8MW1ueGVReUVyVk54WA1zKet_7z8vzWFt8Te_Oj1SHWia5RzDd-o1zJWDHKC7 …\n",
      "--\n",
      "The Fed should get smart & lower the Rate to make our interest competitive with other Countries which pay much lower even though we are, by far, the high standard. We would then focus on paying off & refinancing debt! There is almost no inflation-this is the time (2 years late)!\n",
      "--\n",
      "Are you better off now than you were three years ago? Almost everyone say YES!\n",
      "--\n",
      ".....So, what the hell has happened to @FoxNews . Only I know! Chris Wallace and others should be on Fake News CNN or MSDNC. How’s Shep Smith doing? Watch, this will be the beginning of the end for Fox, just like the other two which are dying in the ratings. Social Media is great!\n",
      "--\n",
      "Really pathetic how @FoxNews is trying to be so politically correct by loading the airwaves with Democrats like Chris Van Hollen, the no name Senator from Maryland. He has been on forever playing up the Impeachment Hoax. Dems wouldn’t even give Fox their low ratings debates....\n",
      "--\n",
      "Don Lemon, the dumbest man on television (with terrible ratings!). https:// twitter.com/DailyCaller/st atus/1221999373829144578 …\n",
      "--\n",
      "Charlie, I always knew you are brilliant! https:// twitter.com/CharlesHurt/st atus/611237885346467841 …\n",
      "--\n",
      "Thank you to Chuck & all. USMCA is going to be GREAT! https:// twitter.com/GrassleyPress/ status/1220364541046992899 …\n",
      "--\n",
      "Thank you Roger, it is a big Hoax! https:// twitter.com/SenatorWicker/ status/1221932726674231299 …\n",
      "--\n",
      "Congrats to Christine! https:// twitter.com/dr_mark_peters /status/1220531644773199872 …\n",
      "--\n",
      "A full & complete Endorsement for @RepDonBacon , who is doing a great job. Strong on crime, loves our Military, Vets & 2A! https:// twitter.com/SenatorFischer /status/1221945829050781696 …\n",
      "--\n",
      "https://www. pscp.tv/w/cP8fJDFvTlFs TFJub1dwUXd8MXlOeGFRYWxOTXF4aquAXfhiQ6kMbEuRCG78KwaZeoudtLiTH1gAF68fdR2o …\n",
      "--\n",
      "pic.twitter.com/SxRib4Q3NT\n",
      "--\n",
      "On International Holocaust Remembrance Day, we remember the millions of precious souls who perished as a result of the horrific crimes perpetrated by the Nazi regime.... https://www. whitehouse.gov/briefings-stat ements/presidential-message-international-holocaust-remembrance-day-2020/ …\n",
      "--\n",
      "Senate hearing on the Impeachment Hoax starts today at 1:00 P.M.\n",
      "--\n",
      "We are in very close communication with China concerning the virus. Very few cases reported in USA, but strongly on watch. We have offered China and President Xi any help that is necessary. Our experts are extraordinary!\n",
      "--\n",
      "Schiff must release the IG report, without changes or tampering, which is said to be yet further exoneration of the Impeachment Hoax. He refuses to give it. Does it link him to Whistleblower? Why is he so adamant?\n",
      "--\n",
      "READ THE TRANSCRIPTS!\n",
      "--\n",
      "The Democrat controlled House never even asked John Bolton to testify. It is up to them, not up to the Senate!\n",
      "--\n",
      "...(Democrats said I never met) and released the military aid to Ukraine without any conditions or investigations - and far ahead of schedule. I also allowed Ukraine to purchase Javelin anti-tank missiles. My Administration has done far more than the previous Administration.\n",
      "--\n",
      "...transcripts of my calls with President Zelensky are all the proof that is needed, in addition to the fact that President Zelensky & the Foreign Minister of Ukraine said there was no pressure and no problems. Additionally, I met with President Zelensky at the United Nations...\n",
      "--\n",
      "I NEVER told John Bolton that the aid to Ukraine was tied to investigations into Democrats, including the Bidens. In fact, he never complained about this at the time of his very public termination. If John Bolton said this, it was only to sell a book. With that being said, the...\n",
      "--\n",
      "pic.twitter.com/gAxo3sijpn\n",
      "--\n",
      ".....Melania and I send our warmest condolences to Vanessa and the wonderful Bryant family. May God be with you all!\n",
      "--\n",
      "Kobe Bryant, despite being one of the truly great basketball players of all time, was just getting started in life. He loved his family so much, and had such strong passion for the future. The loss of his beautiful daughter, Gianna, makes this moment even more devastating....\n",
      "--\n",
      "Reports are that basketball great Kobe Bryant and three others have been killed in a helicopter crash in California. That is terrible news!\n",
      "--\n",
      "Nothing done wrong, READ THE TRANSCRIPTS!\n",
      "--\n",
      "Majority of people say “the U.S. Senate already has enough information!” @FoxNews\n",
      "--\n",
      "95% Approval Rating in the Republican Party. Thank you! 191 Federal Judges (a record), and two Supreme Court Justices, approved. Best Economy & Employment Numbers EVER. Thank you to our great New, Smart and Nimble REPUBLICAN PARTY. Join now, it’s where people want to be!\n",
      "--\n",
      "Sleepyeyes Chuck Todd of Meet the Corrupt Press, just had a “totally” softball interview with conman Adam Schiff, never even calling Shifty out on his fraudulent statement to Congress, where he made up ALL of the words of my conversation with the Ukrainian President! FAKE NEWS\n",
      "--\n",
      "After having been exposed as a fraud and corrupt, can anyone, including Sleepyeyes Chuck Todd of Fake @NBCNews , continue to listen to his con?\n",
      "--\n",
      "“Again: Read the Transcript!” Michael Goodwin, New York Post, Sunday.\n",
      "--\n",
      "Great Editorial in today’s Wall Street Journal, “And Congress Shall Be King.” Bottom line: “The President becomes a vassal of King Congress. This is another reason for the Senate to repudiate this House Impeachment as its own abuse of power.” A partisan Hoax!\n",
      "--\n",
      "Why didn’t Schiff release this? https:// twitter.com/marklevinshow/ status/1221046836435345409 …\n",
      "--\n",
      "A very good question! https:// twitter.com/marklevinshow/ status/1221423157749452800 …\n",
      "--\n",
      "“This is what Democrats have done. They want to create the idea that there is all this smoke so people think there’s fire. They did this with Russia Collusion, & there was no fire. It makes zero sense what the Democrats are accusing him of.” @LisaMarieBoothe @foxandfriends\n",
      "--\n",
      "“It was amazing to watch three days of arguments dismantled in two hours.” @PeteHegseth @foxandfriends\n",
      "--\n",
      "Paul Krugman is a lightweight thinker who doesn’t have a clue. Caused huge economic damage to his follower’s pocketbooks. He, and others, should be fired by @nytimes ! https:// twitter.com/larryelder/sta tus/1221272485410131969 …\n",
      "--\n",
      "Rep. Jim Jordan Delivers Knockout Blow to Schiff’s Reputation https:// thegreggjarrett.com/rep-jim-jordan -delivers-knockout-blow-to-schiffs-reputation/ …\n",
      "--\n",
      "Shifty Adam Schiff is a CORRUPT POLITICIAN, and probably a very sick man. He has not paid the price, yet, for what he has done to our Country!\n",
      "--\n",
      "The Impeachment Hoax is a massive election interference the likes of which has never been seen before. In just two hours the Radical Left, Do Nothing Democrats have seen their phony case absolutely shredded. Shifty is now exposed for illegally making up my phone call, & more!\n",
      "--\n",
      "True! https:// twitter.com/SenJohnBarrass o/status/1221161217286381568 …\n",
      "--\n",
      "pic.twitter.com/pbomiDN6z4\n",
      "--\n",
      "All Democrats should watch this! pic.twitter.com/WFK33pR0Lv\n",
      "--\n",
      "وزیر امور خارجه ایران می گوید ایران خواستار مذاکره با ایالات متحده است اما می خواهد که تحریم ها برداشته شود. @FoxNews @OANN نه، مرسی! https:// twitter.com/realDonaldTrum p/status/1221225245220265985 …\n",
      "--\n",
      "Iranian Foreign Minister says Iran wants to negotiate with The United States, but wants sanctions removed. @FoxNews @OANN No Thanks!\n",
      "--\n",
      "Previous quote from the great Republican Senator, Jim Inhofe, of Oklahoma - Chairman of the Senate Armed Services Committee\n",
      "--\n",
      "....at the judges that we have right now.\n",
      "--\n",
      "“You don’t come to court and ask for witnesses after you’ve already presented your case, unless you know your case is not working. I think their real motivation is for them to keep this President busy. We’re doing a great job on the economy, we’re building our military, look.....\n",
      "--\n",
      "Martha is a great leader on this issue! https:// twitter.com/SenMcSallyAZ/s tatus/1221136652505997312 …\n",
      "--\n",
      "Three great men! https:// twitter.com/SenMcSallyAZ/s tatus/1220726485079797761 …\n",
      "--\n",
      "Such a great family! https:// twitter.com/CissieGLynch/s tatus/956982424554131461 …\n",
      "--\n",
      "Thank you Nick! https:// twitter.com/toddstarnes/st atus/1221108090684264448 …\n",
      "--\n",
      "Any fair minded person watching the Senate trial today would be able to see how unfairly I have been treated and that this is indeed the totally partisan Impeachment Hoax that EVERYBODY, including the Democrats, truly knows it is. This should never be allowed to happen again!\n",
      "--\n",
      "Our case against lyin’, cheatin’, liddle’ Adam “Shifty” Schiff, Cryin’ Chuck Schumer, Nervous Nancy Pelosi, their leader, dumb as a rock AOC, & the entire Radical Left, Do Nothing Democrat Party, starts today at 10:00 A.M. on @FoxNews , @OANN or Fake News @CNN or Fake News MSDNC!\n",
      "--\n"
     ]
    }
   ],
   "source": [
    "for text in data_test.text:\n",
    "    print(text)\n",
    "    print(\"--\")"
   ]
  },
  {
   "cell_type": "code",
   "execution_count": 21,
   "metadata": {},
   "outputs": [],
   "source": [
    "# pre processing\n",
    "# remove:\n",
    "# - pictures (pic.twitter.com/KSVkKL76NM) - all (beginning and end)\n",
    "# - link (https://...) - all  (beginning and end)\n",
    "# - not english tweets (Arabic & Hebräisch)"
   ]
  },
  {
   "cell_type": "code",
   "execution_count": 22,
   "metadata": {},
   "outputs": [],
   "source": [
    "import spacy"
   ]
  },
  {
   "cell_type": "code",
   "execution_count": 23,
   "metadata": {},
   "outputs": [],
   "source": [
    "nlp = spacy.load(\"en_core_web_sm\", disable=[\"tagger\", \"parser\", \"entityrecognizer\"])"
   ]
  },
  {
   "cell_type": "code",
   "execution_count": null,
   "metadata": {},
   "outputs": [],
   "source": [
    "def preprocess(text):\n",
    "    doc = nlp(text)\n",
    "    \n",
    "    # init an list to save the return\n",
    "    result = []\n",
    "\n",
    "    # is alpha: \n",
    "    # - Is the token an alpha character?\n",
    "    \n",
    "    for token in doc:\n",
    "        # take just token without stop words & just alpha character \n",
    "        if token.is_stop == False and token.is_alpha == True: \n",
    "                result.append(token.lemma_)\n",
    "    return result"
   ]
  },
  {
   "cell_type": "code",
   "execution_count": 38,
   "metadata": {},
   "outputs": [],
   "source": [
    "# import library which is for cleaning \n",
    "import preprocessor as p\n",
    "import re"
   ]
  },
  {
   "cell_type": "code",
   "execution_count": 54,
   "metadata": {
    "scrolled": true
   },
   "outputs": [
    {
     "data": {
      "text/plain": [
       "'Total and complete Endorsement for Debbie Lesko! @RepDLesko Love Arizona. https:// twitter.com/repdlesko/stat us/1225484090754899969 …'"
      ]
     },
     "execution_count": 54,
     "metadata": {},
     "output_type": "execute_result"
    }
   ],
   "source": [
    "text[2]"
   ]
  },
  {
   "cell_type": "code",
   "execution_count": 55,
   "metadata": {
    "scrolled": true
   },
   "outputs": [
    {
     "data": {
      "text/plain": [
       "'Total and complete Endorsement for Debbie Lesko! Love Arizona. https:// us/1225484090754899969'"
      ]
     },
     "execution_count": 55,
     "metadata": {},
     "output_type": "execute_result"
    }
   ],
   "source": [
    "clean_test = p.clean(text[2])\n",
    "clean_test"
   ]
  },
  {
   "cell_type": "code",
   "execution_count": 56,
   "metadata": {},
   "outputs": [
    {
     "data": {
      "text/plain": [
       "[(83:109) => twitter.com/repdlesko/stat]"
      ]
     },
     "execution_count": 56,
     "metadata": {},
     "output_type": "execute_result"
    }
   ],
   "source": [
    "clean_test2 = p.parse(text[2])\n",
    "clean_test2.urls"
   ]
  },
  {
   "cell_type": "code",
   "execution_count": 59,
   "metadata": {
    "scrolled": true
   },
   "outputs": [],
   "source": [
    "# TEXT CLENAING\n",
    "TEXT_CLEANING_RE = \"@\\S+|https?:\\S+|http?:\\S|[^A-Za-z0-9]+\""
   ]
  },
  {
   "cell_type": "code",
   "execution_count": 60,
   "metadata": {},
   "outputs": [
    {
     "data": {
      "text/plain": [
       "'total and complete endorsement for debbie lesko repdlesko love arizona   twitter com repdlesko stat us 1225484090754899969 '"
      ]
     },
     "execution_count": 60,
     "metadata": {},
     "output_type": "execute_result"
    }
   ],
   "source": [
    "re.sub(TEXT_CLEANING_RE, ' ', str(text[2]).lower())"
   ]
  },
  {
   "cell_type": "code",
   "execution_count": null,
   "metadata": {},
   "outputs": [],
   "source": [
    "regex_str = [\n",
    "    r'<[^>]+>', # HTML tags\n",
    "    r'(?:@[\\w_]+)', # @-mentions\n",
    "    r\"(?:\\#+[\\w_]+[\\w\\'_\\-]*[\\w_]+)\", # hash-tags\n",
    "    r'http[s]?://(?:[a-z]|[0-9]|[$-_@.&amp;+]|[!*\\(\\),]|(?:%[0-9a-f][0-9a-f]))+', # URLs\n",
    "]"
   ]
  },
  {
   "cell_type": "code",
   "execution_count": 49,
   "metadata": {},
   "outputs": [],
   "source": [
    "def clean_text(text):\n",
    "    '''Make text lowercase, remove text in square brackets,remove links,remove punctuation\n",
    "    and remove words containing numbers.'''\n",
    "    text = str(text)\n",
    "    text = re.sub('\\[.*?\\]', '', text)\n",
    "    text = re.sub('https?://\\S+|www\\.\\S+', '', text)\n",
    "    text = re.sub('<.*?>+', '', text)\n",
    "    text = re.sub('[%s]' % re.escape(string.punctuation), '', text)\n",
    "    text = re.sub('\\n', '', text)\n",
    "    text = re.sub('\\w*\\d\\w*', '', text)\n",
    "    return text"
   ]
  },
  {
   "cell_type": "code",
   "execution_count": 46,
   "metadata": {
    "scrolled": true
   },
   "outputs": [
    {
     "data": {
      "text/plain": [
       "'A great coach and a fantastic guy. His endorsement of me in Indiana was a very big deal! https:// twitter.com/kyle__boone/st atus/1226234981808250880 …'"
      ]
     },
     "execution_count": 46,
     "metadata": {},
     "output_type": "execute_result"
    }
   ],
   "source": [
    "str(text[0])"
   ]
  },
  {
   "cell_type": "code",
   "execution_count": 48,
   "metadata": {},
   "outputs": [
    {
     "name": "stdout",
     "output_type": "stream",
     "text": [
      "A great coach and a fantastic guy. His endorsement of me in Indiana was a very big deal! https:// twitter.com/kyle__boone/st atus/1226234981808250880 …\n"
     ]
    }
   ],
   "source": [
    "test = re.sub('https?://\\S+|www\\.\\S+', '', text[0])\n",
    "print(test)"
   ]
  },
  {
   "cell_type": "code",
   "execution_count": 50,
   "metadata": {
    "scrolled": true
   },
   "outputs": [
    {
     "ename": "NameError",
     "evalue": "name 'string' is not defined",
     "output_type": "error",
     "traceback": [
      "\u001b[0;31m---------------------------------------------------------------------------\u001b[0m",
      "\u001b[0;31mNameError\u001b[0m                                 Traceback (most recent call last)",
      "\u001b[0;32m<ipython-input-50-68479fd500b5>\u001b[0m in \u001b[0;36m<module>\u001b[0;34m\u001b[0m\n\u001b[0;32m----> 1\u001b[0;31m \u001b[0mclean_text\u001b[0m\u001b[0;34m(\u001b[0m\u001b[0mtext\u001b[0m\u001b[0;34m[\u001b[0m\u001b[0;36m0\u001b[0m\u001b[0;34m]\u001b[0m\u001b[0;34m)\u001b[0m\u001b[0;34m\u001b[0m\u001b[0;34m\u001b[0m\u001b[0m\n\u001b[0m",
      "\u001b[0;32m<ipython-input-49-683dae9ff882>\u001b[0m in \u001b[0;36mclean_text\u001b[0;34m(text)\u001b[0m\n\u001b[1;32m      6\u001b[0m     \u001b[0mtext\u001b[0m \u001b[0;34m=\u001b[0m \u001b[0mre\u001b[0m\u001b[0;34m.\u001b[0m\u001b[0msub\u001b[0m\u001b[0;34m(\u001b[0m\u001b[0;34m'https?://\\S+|www\\.\\S+'\u001b[0m\u001b[0;34m,\u001b[0m \u001b[0;34m''\u001b[0m\u001b[0;34m,\u001b[0m \u001b[0mtext\u001b[0m\u001b[0;34m)\u001b[0m\u001b[0;34m\u001b[0m\u001b[0;34m\u001b[0m\u001b[0m\n\u001b[1;32m      7\u001b[0m     \u001b[0mtext\u001b[0m \u001b[0;34m=\u001b[0m \u001b[0mre\u001b[0m\u001b[0;34m.\u001b[0m\u001b[0msub\u001b[0m\u001b[0;34m(\u001b[0m\u001b[0;34m'<.*?>+'\u001b[0m\u001b[0;34m,\u001b[0m \u001b[0;34m''\u001b[0m\u001b[0;34m,\u001b[0m \u001b[0mtext\u001b[0m\u001b[0;34m)\u001b[0m\u001b[0;34m\u001b[0m\u001b[0;34m\u001b[0m\u001b[0m\n\u001b[0;32m----> 8\u001b[0;31m     \u001b[0mtext\u001b[0m \u001b[0;34m=\u001b[0m \u001b[0mre\u001b[0m\u001b[0;34m.\u001b[0m\u001b[0msub\u001b[0m\u001b[0;34m(\u001b[0m\u001b[0;34m'[%s]'\u001b[0m \u001b[0;34m%\u001b[0m \u001b[0mre\u001b[0m\u001b[0;34m.\u001b[0m\u001b[0mescape\u001b[0m\u001b[0;34m(\u001b[0m\u001b[0mstring\u001b[0m\u001b[0;34m.\u001b[0m\u001b[0mpunctuation\u001b[0m\u001b[0;34m)\u001b[0m\u001b[0;34m,\u001b[0m \u001b[0;34m''\u001b[0m\u001b[0;34m,\u001b[0m \u001b[0mtext\u001b[0m\u001b[0;34m)\u001b[0m\u001b[0;34m\u001b[0m\u001b[0;34m\u001b[0m\u001b[0m\n\u001b[0m\u001b[1;32m      9\u001b[0m     \u001b[0mtext\u001b[0m \u001b[0;34m=\u001b[0m \u001b[0mre\u001b[0m\u001b[0;34m.\u001b[0m\u001b[0msub\u001b[0m\u001b[0;34m(\u001b[0m\u001b[0;34m'\\n'\u001b[0m\u001b[0;34m,\u001b[0m \u001b[0;34m''\u001b[0m\u001b[0;34m,\u001b[0m \u001b[0mtext\u001b[0m\u001b[0;34m)\u001b[0m\u001b[0;34m\u001b[0m\u001b[0;34m\u001b[0m\u001b[0m\n\u001b[1;32m     10\u001b[0m     \u001b[0mtext\u001b[0m \u001b[0;34m=\u001b[0m \u001b[0mre\u001b[0m\u001b[0;34m.\u001b[0m\u001b[0msub\u001b[0m\u001b[0;34m(\u001b[0m\u001b[0;34m'\\w*\\d\\w*'\u001b[0m\u001b[0;34m,\u001b[0m \u001b[0;34m''\u001b[0m\u001b[0;34m,\u001b[0m \u001b[0mtext\u001b[0m\u001b[0;34m)\u001b[0m\u001b[0;34m\u001b[0m\u001b[0;34m\u001b[0m\u001b[0m\n",
      "\u001b[0;31mNameError\u001b[0m: name 'string' is not defined"
     ]
    }
   ],
   "source": [
    "clean_text(text[0])"
   ]
  },
  {
   "cell_type": "markdown",
   "metadata": {},
   "source": [
    "## Make emotional classification"
   ]
  },
  {
   "cell_type": "code",
   "execution_count": null,
   "metadata": {},
   "outputs": [],
   "source": [
    "# create data frame \n",
    "data_new = create_emotion(data)"
   ]
  }
 ],
 "metadata": {
  "kernelspec": {
   "display_name": "Python 3",
   "language": "python",
   "name": "python3"
  },
  "language_info": {
   "codemirror_mode": {
    "name": "ipython",
    "version": 3
   },
   "file_extension": ".py",
   "mimetype": "text/x-python",
   "name": "python",
   "nbconvert_exporter": "python",
   "pygments_lexer": "ipython3",
   "version": "3.7.4"
  }
 },
 "nbformat": 4,
 "nbformat_minor": 4
}
