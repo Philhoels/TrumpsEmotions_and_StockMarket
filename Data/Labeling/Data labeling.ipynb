{
 "cells": [
  {
   "cell_type": "markdown",
   "metadata": {},
   "source": [
    "# Watson API test"
   ]
  },
  {
   "cell_type": "markdown",
   "metadata": {},
   "source": [
    "This notebook is going to be important for the **data labeling**. \n",
    "\n",
    "Since the data part of my project is going to be a very important one, I gonna create a section where I will talk about the labeling problem in natural language processing. There are different ways to deal with the labeling problem: \n",
    "\n",
    "- Labeling via expert\n",
    "- week supervised learning\n",
    "- Using Watson API\n",
    "\n",
    "I thought it´s going to be interesting to use the Watson API to classify emotions. \n",
    "Important, especially for the discussion, is to figure out how the Waston systems work. Therefore I should explain in the report:\n",
    "\n",
    "- Model - The model they are using\n",
    "\n",
    "Also important:\n",
    "\n",
    "- example - how good the model works\n",
    "\n",
    "**In this notebook, I´m going to run the API, see how the API works, how the output is going to be and how good the API performers.**"
   ]
  },
  {
   "cell_type": "markdown",
   "metadata": {},
   "source": [
    "# API\n",
    "\n",
    "I´m going to use the [Watson API from IBM](https://natural-language-understanding-demo.ng.bluemix.net/).\n",
    "\n"
   ]
  },
  {
   "cell_type": "markdown",
   "metadata": {},
   "source": [
    "## Data\n",
    "\n",
    "For this notebook I´m going to use the **data \"*trumptweets2.csv*\"**, which I scraped myself via the **GitHub code**. "
   ]
  },
  {
   "cell_type": "code",
   "execution_count": 11,
   "metadata": {},
   "outputs": [],
   "source": [
    "import pandas as pd\n",
    "from IPython.display import Image"
   ]
  },
  {
   "cell_type": "code",
   "execution_count": 51,
   "metadata": {},
   "outputs": [],
   "source": [
    "# load the tweets\n",
    "data = pd.read_csv(\"trumptweets.csv\", sep=';')"
   ]
  },
  {
   "cell_type": "code",
   "execution_count": 52,
   "metadata": {},
   "outputs": [
    {
     "data": {
      "text/html": [
       "<div>\n",
       "<style scoped>\n",
       "    .dataframe tbody tr th:only-of-type {\n",
       "        vertical-align: middle;\n",
       "    }\n",
       "\n",
       "    .dataframe tbody tr th {\n",
       "        vertical-align: top;\n",
       "    }\n",
       "\n",
       "    .dataframe thead th {\n",
       "        text-align: right;\n",
       "    }\n",
       "</style>\n",
       "<table border=\"1\" class=\"dataframe\">\n",
       "  <thead>\n",
       "    <tr style=\"text-align: right;\">\n",
       "      <th></th>\n",
       "      <th>username</th>\n",
       "      <th>date</th>\n",
       "      <th>retweets</th>\n",
       "      <th>favorites</th>\n",
       "      <th>text</th>\n",
       "      <th>geo</th>\n",
       "      <th>mentions</th>\n",
       "      <th>hashtags</th>\n",
       "      <th>id</th>\n",
       "      <th>permalink</th>\n",
       "    </tr>\n",
       "  </thead>\n",
       "  <tbody>\n",
       "    <tr>\n",
       "      <th>0</th>\n",
       "      <td>realDonaldTrump</td>\n",
       "      <td>09.02.20 00:47</td>\n",
       "      <td>13459</td>\n",
       "      <td>72445</td>\n",
       "      <td>A great coach and a fantastic guy. His endorse...</td>\n",
       "      <td>NaN</td>\n",
       "      <td>NaN</td>\n",
       "      <td>NaN</td>\n",
       "      <td>1,22629E+18</td>\n",
       "      <td>https://twitter.com/realDonaldTrump/status/122...</td>\n",
       "    </tr>\n",
       "    <tr>\n",
       "      <th>1</th>\n",
       "      <td>realDonaldTrump</td>\n",
       "      <td>08.02.20 22:08</td>\n",
       "      <td>47880</td>\n",
       "      <td>215503</td>\n",
       "      <td>Pete Rose played Major League Baseball for 24 ...</td>\n",
       "      <td>NaN</td>\n",
       "      <td>NaN</td>\n",
       "      <td>NaN</td>\n",
       "      <td>1,22625E+18</td>\n",
       "      <td>https://twitter.com/realDonaldTrump/status/122...</td>\n",
       "    </tr>\n",
       "    <tr>\n",
       "      <th>2</th>\n",
       "      <td>realDonaldTrump</td>\n",
       "      <td>08.02.20 20:48</td>\n",
       "      <td>9452</td>\n",
       "      <td>37402</td>\n",
       "      <td>Total and complete Endorsement for Debbie Lesk...</td>\n",
       "      <td>NaN</td>\n",
       "      <td>#NAME?</td>\n",
       "      <td>NaN</td>\n",
       "      <td>1,22623E+18</td>\n",
       "      <td>https://twitter.com/realDonaldTrump/status/122...</td>\n",
       "    </tr>\n",
       "    <tr>\n",
       "      <th>3</th>\n",
       "      <td>realDonaldTrump</td>\n",
       "      <td>08.02.20 20:40</td>\n",
       "      <td>17545</td>\n",
       "      <td>62484</td>\n",
       "      <td>Governor Cuomo wanted to see me this weekend. ...</td>\n",
       "      <td>NaN</td>\n",
       "      <td>NaN</td>\n",
       "      <td>NaN</td>\n",
       "      <td>1,22623E+18</td>\n",
       "      <td>https://twitter.com/realDonaldTrump/status/122...</td>\n",
       "    </tr>\n",
       "    <tr>\n",
       "      <th>4</th>\n",
       "      <td>realDonaldTrump</td>\n",
       "      <td>08.02.20 20:01</td>\n",
       "      <td>27437</td>\n",
       "      <td>120598</td>\n",
       "      <td>We will not be touching your Social Security o...</td>\n",
       "      <td>NaN</td>\n",
       "      <td>NaN</td>\n",
       "      <td>NaN</td>\n",
       "      <td>1,22622E+18</td>\n",
       "      <td>https://twitter.com/realDonaldTrump/status/122...</td>\n",
       "    </tr>\n",
       "  </tbody>\n",
       "</table>\n",
       "</div>"
      ],
      "text/plain": [
       "          username            date  retweets  favorites  \\\n",
       "0  realDonaldTrump  09.02.20 00:47     13459      72445   \n",
       "1  realDonaldTrump  08.02.20 22:08     47880     215503   \n",
       "2  realDonaldTrump  08.02.20 20:48      9452      37402   \n",
       "3  realDonaldTrump  08.02.20 20:40     17545      62484   \n",
       "4  realDonaldTrump  08.02.20 20:01     27437     120598   \n",
       "\n",
       "                                                text  geo mentions hashtags  \\\n",
       "0  A great coach and a fantastic guy. His endorse...  NaN      NaN      NaN   \n",
       "1  Pete Rose played Major League Baseball for 24 ...  NaN      NaN      NaN   \n",
       "2  Total and complete Endorsement for Debbie Lesk...  NaN   #NAME?      NaN   \n",
       "3  Governor Cuomo wanted to see me this weekend. ...  NaN      NaN      NaN   \n",
       "4  We will not be touching your Social Security o...  NaN      NaN      NaN   \n",
       "\n",
       "            id                                          permalink  \n",
       "0  1,22629E+18  https://twitter.com/realDonaldTrump/status/122...  \n",
       "1  1,22625E+18  https://twitter.com/realDonaldTrump/status/122...  \n",
       "2  1,22623E+18  https://twitter.com/realDonaldTrump/status/122...  \n",
       "3  1,22623E+18  https://twitter.com/realDonaldTrump/status/122...  \n",
       "4  1,22622E+18  https://twitter.com/realDonaldTrump/status/122...  "
      ]
     },
     "execution_count": 52,
     "metadata": {},
     "output_type": "execute_result"
    }
   ],
   "source": [
    "data.head()"
   ]
  },
  {
   "cell_type": "markdown",
   "metadata": {},
   "source": [
    "At this point, it´s going to be important the show the IBM Watson Model does work well. Therefore I will look manually through his tweets and take, in my opinion, sentences that are difficult and interesting to classify for a specific emotion. \n"
   ]
  },
  {
   "cell_type": "code",
   "execution_count": 10,
   "metadata": {},
   "outputs": [
    {
     "name": "stdout",
     "output_type": "stream",
     "text": [
      "------\n",
      "0 A great coach and a fantastic guy. His endorsement of me in Indiana was a very big deal! https:// twitter.com/kyle__boone/st atus/1226234981808250880 …\n",
      "------\n",
      "1 Pete Rose played Major League Baseball for 24 seasons, from 1963-1986, and had more hits, 4,256, than any other player (by a wide margin). He gambled, but only on his own team winning, and paid a decades long price. GET PETE ROSE INTO THE BASEBALL HALL OF FAME. It’s Time!\n",
      "------\n",
      "2 Total and complete Endorsement for Debbie Lesko! @RepDLesko Love Arizona. https:// twitter.com/repdlesko/stat us/1225484090754899969 …\n",
      "------\n",
      "3 Governor Cuomo wanted to see me this weekend. He just canceled. Very hard to work with New York - So stupid. All they do is sue me all the time! https:// twitter.com/RepStefanik/st atus/1225494053913079808 …\n",
      "------\n",
      "4 We will not be touching your Social Security or Medicare in Fiscal 2021 Budget. Only the Democrats will destroy them by destroying our Country’s greatest ever Economy!\n",
      "------\n",
      "5 ...the worst weeks ever.” She could have had a much better week if Crazy Nancy, who is the most overrated person in politics (going to lose the House a second time), didn’t bring the phony & corrupt Impeachment Hoax. Dems can’t do anything right, just look at the Iowa vote count!\n",
      "------\n",
      "6 . @RepDebDingell , who called me, tears flowing, to thank me for rolling out the maximum “Red Carpet” for the funeral of her husband, then voted against me on the partisan Impeachmen Hoax, said “everybody (Dems) wants to get out of town. This has been, in my whole career, one of...\n",
      "------\n",
      "7 The only way to stop the crazed Radical Left, Do Nothing Democrats “is for the Republican Senate to run an offense here”. @LeeSmithDC @IngrahamAngle @FoxNews So true, although the Dems Hoaxes & Witch Hunts have driven up Republican Polls, and mine, mightily!\n",
      "------\n",
      "8 Crazy Nancy Pelosi’s Impeachment Hoax has lifted Republican Congressional Polls (she lost the House once before!), and my Polls, WAY UP, which was expected, but it has had a great effect on Republican Senate races, including North Carolina, Kentucky, Colorado and Arizona. Thanks!\n",
      "------\n",
      "9 Thank you Iowa for the RECORD vote we just received in the Primary. The Dems were 25% down (although their votes are all fried!). https:// twitter.com/realdonaldtrum p/status/1223077157779464195 …\n",
      "------\n",
      "10 ....was given a horrendous report by his superior, the man he reported to, who publicly stated that Vindman had problems with judgement, adhering to the chain of command and leaking information. In other words, “OUT”.\n",
      "------\n",
      "11 Fake News @CNN & MSDNC keep talking about “Lt. Col.” Vindman as though I should think only how wonderful he was. Actually, I don’t know him, never spoke to him, or met him (I don’t believe!) but, he was very insubordinate, reported contents of my “perfect” calls incorrectly, &...\n",
      "------\n",
      "12 Not good! https:// twitter.com/Cernovich/stat us/1225971069325955074 …\n",
      "------\n",
      "13 pic.twitter.com/gsZyUFlTPJ\n",
      "------\n",
      "14 After years building up other countries, we are finally rebuilding OUR Country. From our inner cities to our rural communities, the forgotten men and women of America are forgotten NO LONGER! #OpportunityNow pic.twitter.com/qShbwaCaPd\n",
      "------\n",
      "15 ....always continue. Every Republican Senator except Romney, many highly religious people, all very smart, voted against the Impeachment Hoax. @SenCapito was all in (a great person). I was told by many that Manchin was just a puppet for Schumer & Pelosi. That’s all he is!\n",
      "------\n",
      "16 I was very surprised & disappointed that Senator Joe Manchin of West Virginia voted against me on the Democrat’s totally partisan Impeachment Hoax. No President has done more for the great people of West Virginia than me (Pensions), and that will....\n",
      "------\n",
      "17 Great to be in Charlotte, North Carolina as we expand and grow this unprecedented economic momentum. Today, we launched a brand new nationwide campaign to revitalize under-served cities and towns across America – it’s called OPPORTUNITY NOW! https://www. pscp.tv/w/cQ25GzEyMzE3 NDF8MXlvSk1hTlptV2VKUZ3mUyAZiis9zQFLyoAHCO1GHWfoBc2SB7sZpWx5qJsH?t=3s …\n",
      "------\n",
      "18 Another win just in. Nervous Nancy Pelosi and the Democrats in Congress sued me, thrown out. This one unanimous, in the D.C. Circuit. Witch Hunt!\n",
      "------\n",
      "19 JOBS, JOBS, JOBS! #PromisesMadePromisesKept pic.twitter.com/yIOxpzCNb7\n",
      "------\n",
      "20 Iowa and New Hampshire will not be moved from the Primary Schedule as long as I am President. Great tradition!\n",
      "------\n",
      "21 Off to North Carolina! pic.twitter.com/dreH1rw3sz\n",
      "------\n",
      "22 The Democrat Party has given up on counting votes in Iowa. Looks like it all got computer “fried”. Nobody knows who the real winner is. Maybe it’s Sleepy Joe, but it’s not looking that way. They lost millions & millions of dollars, all for NOTHING. But I WON Iowa big!\n",
      "------\n",
      "23 pic.twitter.com/9GEW2VZu5h\n",
      "------\n",
      "24 I think they should blame RUSSIA, RUSSIA, RUSSIA again! If they can’t count votes properly, how are they going to run U.S. HealthCare? https:// twitter.com/ap_politics/st atus/1225562507949068289 …\n",
      "------\n",
      "25 Welcome back James! https:// twitter.com/realDailyWire/ status/1225634557677801474 …\n",
      "------\n",
      "26 Very true, thank you Ted & John. I love Texas! https:// twitter.com/SenTedCruz/sta tus/1225600065005408256 …\n",
      "------\n",
      "27 So do I! https:// twitter.com/lindseygrahams c/status/1225432527290142720 …\n",
      "------\n",
      "28 Thank you Charlie! https:// twitter.com/charliekirk11/ status/1225159300089143296 …\n",
      "------\n",
      "29 Don’t worry, it won’t happen! https:// twitter.com/TuckerCarlson/ status/1225607709044637697 …\n",
      "------\n",
      "30 ....he will be successful, especially as the weather starts to warm & the virus hopefully becomes weaker, and then gone. Great discipline is taking place in China, as President Xi strongly leads what will be a very successful operation. We are working closely with China to help!\n",
      "------\n",
      "31 Just had a long and very good conversation by phone with President Xi of China. He is strong, sharp and powerfully focused on leading the counterattack on the Coronavirus. He feels they are doing very well, even building hospitals in a matter of only days. Nothing is easy, but...\n",
      "------\n",
      "32 “The Senate acquitted President Trump of both charges fabricated by Congressional Democrats, led by Speaker Pelosi and Adam Schiff, to carry out the most egregious and partisan attack against any president in our history - a man they knew to be innocent.” @LouDobbs @FoxBusiness\n",
      "------\n",
      "33 “This President has done more for African Americans in this Country than any President since Lincoln.” @LouDobbs\n",
      "------\n",
      "34 pic.twitter.com/QhTWvcY4Ke\n",
      "------\n",
      "35 Welcome back to Earth, @Astro_Christina , and congratulations on breaking the female record for the longest stay in space! You’re inspiring young women and making the USA proud! Enjoyed speaking with you and @Astro_Jessica on the first all-female spacewalk IN HISTORY last year.\n",
      "------\n",
      "36 Nevada, I hear you on Yucca Mountain and my Administration will RESPECT you! Congress and previous Administrations have long failed to find lasting solutions – my Administration is committed to exploring innovative approaches – I’m confident we can get it done!\n",
      "------\n",
      "37 So true! https:// twitter.com/mirandadevine/ status/1225309906863087616 …\n",
      "------\n",
      "38 https://www. pscp.tv/w/cQxYyDFvTlFs TFJub1dwUXd8MWxQSnFWTm5yRW14YklFJuJ_tJ0v4Udv_WOByjdcO6UdLv7wH_KJbs45m-wZ?t=7s …\n",
      "------\n",
      "39 Had failed presidential candidate @MittRomney devoted the same energy and anger to defeating a faltering Barack Obama as he sanctimoniously does to me, he could have won the election. Read the Transcripts!\n",
      "------\n",
      "40 @nytimes “The Votes Were A Resounding Victory For Mr. Trump.” True, but the Impeachment Hoax was just a continuation of the Radical Left, Do Nothing Democrats corrupt practices!\n",
      "------\n",
      "41 pic.twitter.com/FIg1SYtJcy\n",
      "------\n",
      "42 I will be making a public statement tomorrow at 12:00pm from the @WhiteHouse to discuss our Country’s VICTORY on the Impeachment Hoax!\n",
      "------\n",
      "43 pic.twitter.com/JDS4zUXXJG\n",
      "------\n",
      "44 pic.twitter.com/lj8RUqcz37\n",
      "------\n",
      "45 “The Democrats want to run a Country, and they can’t run a Caucus.” Brad Blakeman @FoxNews Iowa is a complete disaster for the Dems. They should bring in Mini Mike Bloomberg ASAP!\n",
      "------\n",
      "46 Thank you Jonathan, and great job! https:// twitter.com/JonathanTurley /status/1224888842597040129 …\n",
      "------\n",
      "47 It was a great and triumphant evening for our Country. Thank you for all of the nice remarks and wonderful reviews of my State of the Union Speech. It was my great honor to have done it!\n",
      "------\n",
      "48 #SOTU2020 pic.twitter.com/W03gQLkdpo\n",
      "------\n",
      "49 pic.twitter.com/QeFYDg9jZ0\n",
      "------\n",
      "50 My Approval Rating in the Republican Party = 95%, a record! Big Iowa win. Approval Rating overall = 53%, a new high. With our great Economy and other major successes, would be 20 points higher without the phony Witch Hunts and Hoaxes???\n",
      "------\n",
      "51 Market up big today on very good economic news. JOBS, JOBS, JOBS!\n",
      "------\n",
      "52 The Democrat Party in Iowa really messed up, but the Republican Party did not. I had the largest re-election vote in the history of that great state, by far, beating President Obama’s previous record by a lot. Also, 97% Plus of the vote! Thank you Iowa!\n",
      "------\n",
      "53 When will the Democrats start blaming RUSSIA, RUSSIA, RUSSIA, instead of their own incompetence for the voting disaster that just happened in the Great State of Iowa?\n",
      "------\n",
      "54 It is not the fault of Iowa, it is the Do Nothing Democrats fault. As long as I am President, Iowa will stay where it is. Important tradition! https:// twitter.com/SteveKornacki/ status/1224682732208508928 …\n",
      "------\n",
      "55 The Democrat Caucus is an unmitigated disaster. Nothing works, just like they ran the Country. Remember the 5 Billion Dollar Obamacare Website, that should have cost 2% of that. The only person that can claim a very big victory in Iowa last night is “Trump”.\n",
      "------\n",
      "56 Big WIN for us in Iowa tonight. Thank you!\n",
      "------\n",
      "57 Many people do not know what a great guy & fantastic political talent the great Rush Limbaugh is. There is nobody like him. Looking for a speedy recovery for our friend! https:// twitter.com/dcexaminer/sta tus/1224425704915374080 …\n",
      "------\n",
      "58 pic.twitter.com/KSVkKL76NM\n",
      "------\n",
      "59 Where’s the Whistleblower? Where’s the second Whistleblower? Where’s the Informer? Why did Corrupt politician Schiff MAKE UP my conversation with the Ukrainian President??? Why didn’t the House do its job? And sooo much more!\n",
      "------\n",
      "60 KEEP AMERICA GREAT!\n",
      "------\n",
      "61 MAKE AMERICA GREAT AGAIN!\n",
      "------\n",
      "62 Republicans in Iowa, go out and Caucus today. Your great Trade Deals with China, Mexico, Canada, Japan, South Korea and more, are DONE. Great times are coming, after waiting for decades, for our Farmers, Ranchers, Manufacturers and ALL. Nobody else could have pulled this off!\n",
      "------\n",
      "63 I hope Republicans & the American people realize that the totally partisan Impeachment Hoax is exacty that, a Hoax. Read the Transcripts, listen to what the President & Foreign Minister of Ukraine said (“No Pressure”). Nothing will ever satisfy the Do Nothing, Radical Left Dems!\n",
      "------\n",
      "64 @LindseyGrahamSC https:// twitter.com/michaelbeatty3 /status/1224003122055372800 …\n",
      "------\n",
      "65 The DNC on Bernie Sanders, “Looks like they’re going to do it to him again, doesn’t it?” @SteveDoocy @foxandfriends\n",
      "------\n",
      "66 Hope you liked this! https:// twitter.com/TeamTrump/stat us/1224171421221429248 …\n",
      "------\n",
      "67 Great company! https:// twitter.com/DiamondandSilk /status/1224115838304890883 …\n",
      "------\n",
      "68 Thank you Mike! https:// twitter.com/realMikeLindel l/status/1224068212893061122 …\n",
      "------\n",
      "69 So Great! https:// twitter.com/hunterw/status /1224082805405167618 …\n",
      "------\n",
      "70 Congratulations to the Kansas City Chiefs on a great game and a fantastic comeback under immense pressure. We are proud of you and the Great State of Missouri. You are true Champions!\n",
      "------\n",
      "71 I promised to restore hope in America. That includes the least among us. Together, let’s KEEP AMERICA GREAT! Text TRUMP to 88022 if you liked our Super Bowl ad! pic.twitter.com/Lgjt53B7QX\n",
      "------\n",
      "72 ENJOY THE GAME USA, OUR COUNTRY IS DOING GREAT!\n",
      "------\n",
      "73 My @SuperBowl Interview at 3:30 P.M. on @foxnetworks . Enjoy!\n",
      "------\n",
      "74 Mini Mike is now negotiating both to get on the Democrat Primary debate stage, and to have the right to stand on boxes, or a lift, during the debates. This is sometimes done, but really not fair!\n",
      "------\n",
      "75 Many of the ads you are watching were paid for by Mini Mike Bloomberg. He is going nowhere, just wasting his money, but he is getting the DNC to rig the election against Crazy Bernie, something they wouldn’t do for @CoryBooker and others. They are doing it to Bernie again, 2016.\n",
      "------\n",
      "76 Mini Mike is part of the Fake News. They are all working together. In fact, Bloomberg isn’t covering himself (too boring to do), or other Dems. Only Trump. That sounds fair! It’s all the Fake News Media, and that’s why nobody believes in them any more.\n",
      "------\n",
      "77 The Radical Left, Do Nothing Democrats, don’t want justice when pushing the Impeachment Hoax, they only want to destabilize the Republican Party so they can do better in the 2020 election, & that includes the House & Senate. They are playing with the people by taking it this far!\n",
      "------\n",
      "78 Correct! https:// twitter.com/senatemajldr/s tatus/1219826046125641733 …\n",
      "------\n",
      "79 Thanks for your invaluable help Chuck! https:// twitter.com/chuckgrassley/ status/1222666109599539200 …\n",
      "------\n",
      "80 Wall is moving along strong, tall and quickly. Thank you Jim for all of your help! https:// twitter.com/JimInhofe/stat us/1120434609131532288 …\n",
      "------\n",
      "81 Thank you John! https:// twitter.com/SenJohnBarrass o/status/1223262560155250688 …\n",
      "------\n",
      "82 Happy birthday to a wonderful man & friend! https:// twitter.com/SenJohnBarrass o/status/1223618785594265600 …\n",
      "------\n",
      "83 Getting a little exercise this morning! pic.twitter.com/fyAAcbhbgk\n",
      "------\n",
      "84 Trump poll numbers are the highest since election, despite constant phony Witch Hunts! Tens of thousands of people attending rallies (which the Fake News never mentions) to see “The Greatest Show On Earth”. Fun because USA is WINNING AGAIN! https:// twitter.com/olivianuzzi/st atus/1223302455276064770 …\n",
      "------\n",
      "85 Congratulations to @loudobbs , Number One. Lou has shown the Fake News what happens when you cover “America’s Greatest President” fairly & objectively! #MAGA #KAG https:// twitter.com/LouDobbs/statu s/1222664158342152193 …\n",
      "------\n",
      "86 No matter what you give to the Democrats, in the end, they will NEVER be satisfied. In the House, they gave us NOTHING!\n",
      "------\n",
      "87 Democrats = 17 Witnesses. Republicans = 0 Witnesses.\n",
      "------\n",
      "88 The Radical Left, Do Nothing Democrats keep chanting “fairness”, when they put on the most unfair Witch Hunt in the history of the U.S. Congress. They had 17 Witnesses, we were allowed ZERO, and no lawyers. They didn’t do their job, had no case. The Dems are scamming America!\n",
      "------\n",
      "89 Incredible numbers! https:// twitter.com/realDonaldTrum p/status/1223099086389121026 …\n",
      "------\n",
      "90 Nadler ripped final argument away from Schiff, thinks Shifty did a terrible job. They are fighting big time! https:// twitter.com/Julio_Rosas11/ status/1223090988060758021 …\n",
      "------\n",
      "91 THE BEST IS YET TO COME! pic.twitter.com/SOn6wRV9Zs\n",
      "------\n",
      "92 Americans across the political spectrum are disgusted by the Washington Democrats’ Partisan Hoaxes, Witch Hunts, & Con Jobs. Registered Democrats and Independents are leaving the Democrat Party in droves, & we are welcoming these voters to the Republican Party w/ wide open arms! pic.twitter.com/UCdQXY3vPn\n",
      "------\n",
      "93 Washington Dems have spent the last 3 years trying to overturn the last election – and we will make sure they face another crushing defeat in the NEXT ELECTION. Together, we are going to win back the House, we are going to hold the Senate, & we are going to keep the White House! pic.twitter.com/VshQceiwUA\n",
      "------\n",
      "94 To keep America Safe, we have fully rebuilt the U.S. Military – it is now stronger, more powerful, and more lethal than ever before. Thanks to the courage of American Heroes, the ISIS Caliphate has been DESTROYED & its founder & leader – the animal known as al-Baghdadi – is DEAD! pic.twitter.com/9LXDf6mJKf\n",
      "------\n",
      "95 This November, we are going to defeat the Radical Socialist Democrats and win the Great State of Iowa in a Historic Landslide! #KAG2020 pic.twitter.com/jYIbSdyGjU\n",
      "------\n",
      "96 Thank you Iowa, I love you! https://www. pscp.tv/w/cQOMgDEzNTg4 Mzh8MXZPeHdvYkxCQUx4QrT6MSzbemiKv0jhIMKEWz80dLpl7urO3cn8NWkS7psa?t=56s …\n",
      "------\n",
      "97 Great poll in Iowa, where I just landed for a Big Rally! #KAG2020 pic.twitter.com/4YCo01XYCn\n",
      "------\n",
      "98 Working closely with China and others on Coronavirus outbreak. Only 5 people in U.S., all in good recovery.\n",
      "------\n",
      "99 Leaving Michigan now, great visit, heading for Iowa. Big Rally!\n"
     ]
    }
   ],
   "source": [
    "for i in range(100):\n",
    "    print(\"------\")\n",
    "    print(i, data.text[i])"
   ]
  },
  {
   "cell_type": "markdown",
   "metadata": {},
   "source": [
    "Sentence 1:\n",
    "\n",
    "**8 Crazy Nancy Pelosi’s Impeachment Hoax has lifted Republican Congressional Polls (she lost the House once before!), and my Polls, WAY UP, which was expected, but it has had a great effect on Republican Senate races, including North Carolina, Kentucky, Colorado and Arizona. Thanks!**"
   ]
  },
  {
   "cell_type": "markdown",
   "metadata": {},
   "source": [
    "German translation:\n",
    "\n",
    "Der Amtsenthebungs-Schwindel der verrückten Nancy Pelosi hat die republikanischen Kongress-Umfragen aufgehoben (sie hat das Haus schon einmal verloren!), und meine Umfragen, WAY UP, was erwartet wurde, aber es hatte eine große Auswirkung auf die republikanischen Senatswahlen, einschließlich North Carolina, Kentucky, Colorado und Arizona. Danke!"
   ]
  },
  {
   "cell_type": "markdown",
   "metadata": {},
   "source": [
    "I´m in the opinion at the end the message shows some thankfulness, there is a peas of discussing, but mainly happiness about the happy end.\n"
   ]
  },
  {
   "cell_type": "code",
   "execution_count": 12,
   "metadata": {},
   "outputs": [
    {
     "data": {
      "image/png": "[encoded data removed]",
      "text/plain": [
       "<IPython.core.display.Image object>"
      ]
     },
     "execution_count": 12,
     "metadata": {},
     "output_type": "execute_result"
    }
   ],
   "source": [
    "Image(\"sentence8.png\")"
   ]
  },
  {
   "cell_type": "markdown",
   "metadata": {},
   "source": [
    "Sentence 2:\n",
    "\n",
    "**19 JOBS, JOBS, JOBS! #PromisesMadePromisesKept**"
   ]
  },
  {
   "cell_type": "markdown",
   "metadata": {},
   "source": [
    "I think this one is very interesting one! \n",
    "Since I know the goal, labaling tweets to analyze a corrrelation to his mood and the economical performance. \n",
    "But in the perspective of natural language processing it´s interesting to see how the model sees this tweets."
   ]
  },
  {
   "cell_type": "code",
   "execution_count": 14,
   "metadata": {},
   "outputs": [
    {
     "data": {
      "image/png": "[encoded data removed]",
      "text/plain": [
       "<IPython.core.display.Image object>"
      ]
     },
     "execution_count": 14,
     "metadata": {},
     "output_type": "execute_result"
    }
   ],
   "source": [
    "# with hashtag\n",
    "Image(\"sentence19.png\")"
   ]
  },
  {
   "cell_type": "code",
   "execution_count": 13,
   "metadata": {},
   "outputs": [
    {
     "data": {
      "image/png": "[encoded data removed]",
      "text/plain": [
       "<IPython.core.display.Image object>"
      ]
     },
     "execution_count": 13,
     "metadata": {},
     "output_type": "execute_result"
    }
   ],
   "source": [
    "# without hashtag\n",
    "Image(\"sentence19_withouthashtag.png\")"
   ]
  },
  {
   "cell_type": "markdown",
   "metadata": {},
   "source": [
    "Sentence 3: \n",
    "\n",
    "**87 Democrats = 17 Witnesses. Republicans = 0 Witnesses.**"
   ]
  },
  {
   "cell_type": "markdown",
   "metadata": {},
   "source": [
    "Also really interesting one, because I know the tweets is from trump the his republican and I also know he is on the impeachment trial. \n",
    "Therefore I can say, with this tweet does he represent his unhappiness und unfeair treatment in the trail. Therefore I would say the tweets represents the emotion discussed or anger. "
   ]
  },
  {
   "cell_type": "code",
   "execution_count": 15,
   "metadata": {},
   "outputs": [
    {
     "data": {
      "image/png": "[encoded data removed]",
      "text/plain": [
       "<IPython.core.display.Image object>"
      ]
     },
     "execution_count": 15,
     "metadata": {},
     "output_type": "execute_result"
    }
   ],
   "source": [
    "Image(\"sentence87.png\")"
   ]
  },
  {
   "cell_type": "markdown",
   "metadata": {},
   "source": [
    "Sentence 4:\n",
    "    \n",
    "**94 To keep America Safe, we have fully rebuilt the U.S. Military – it is now stronger, more powerful, and more lethal than ever before. Thanks to the courage of American Heroes, the ISIS Caliphate has been DESTROYED & its founder & leader – the animal known as al-Baghdadi – is DEAD!**"
   ]
  },
  {
   "cell_type": "markdown",
   "metadata": {},
   "source": [
    "Very interesting, he is talking about dead. The USA killed al-Baghdadi and Trump seems to be very proud. \n"
   ]
  },
  {
   "cell_type": "code",
   "execution_count": 16,
   "metadata": {
    "scrolled": true
   },
   "outputs": [
    {
     "data": {
      "image/png": "[encoded data removed]",
      "text/plain": [
       "<IPython.core.display.Image object>"
      ]
     },
     "execution_count": 16,
     "metadata": {},
     "output_type": "execute_result"
    }
   ],
   "source": [
    "Image(\"sentence94.png\")"
   ]
  },
  {
   "cell_type": "markdown",
   "metadata": {},
   "source": [
    "### Hint\n",
    "I just figured out a little more how the computation maid work. \n",
    "\n",
    "Mainly I checked the score of the full document, but it´s also possible to check the score of entities and keywords of the sentence. \n",
    "\n",
    "This gives more insight into the understanding of the full document score! \n",
    "\n",
    "Below is the picture of the entities and keyword scores. "
   ]
  },
  {
   "cell_type": "code",
   "execution_count": 61,
   "metadata": {},
   "outputs": [
    {
     "data": {
      "image/png": "[encoded data removed]",
      "text/plain": [
       "<IPython.core.display.Image object>"
      ]
     },
     "execution_count": 61,
     "metadata": {},
     "output_type": "execute_result"
    }
   ],
   "source": [
    "# list of the socre of all entity types of the sentence\n",
    "Image(\"sentence94_entities1.png\")\n",
    "#Image(\"sentence94_entities2.png\")"
   ]
  },
  {
   "cell_type": "code",
   "execution_count": 63,
   "metadata": {},
   "outputs": [
    {
     "data": {
      "image/png": "[encoded data removed]",
      "text/plain": [
       "<IPython.core.display.Image object>"
      ]
     },
     "execution_count": 63,
     "metadata": {},
     "output_type": "execute_result"
    }
   ],
   "source": [
    "# list of the socre of all keyword types of the sentence\n",
    "Image(\"sentence94_keywords1.png\")\n",
    "#Image(\"sentence94_keywords2.png\")\n",
    "#Image(\"sentence94_keywords3.png\")\n",
    "#Image(\"sentence94_keywords4.png\")\n",
    "#Image(\"sentence94_keywords5.png\")"
   ]
  },
  {
   "cell_type": "code",
   "execution_count": 32,
   "metadata": {},
   "outputs": [
    {
     "data": {
      "text/plain": [
       "username                                       realDonaldTrump\n",
       "date                                            31.01.20 04:04\n",
       "retweets                                                 14745\n",
       "favorites                                                60654\n",
       "text         To keep America Safe, we have fully rebuilt th...\n",
       "geo                                                        NaN\n",
       "mentions                                                   NaN\n",
       "hashtags                                                   NaN\n",
       "id                                                 1,22308E+18\n",
       "permalink    https://twitter.com/realDonaldTrump/status/122...\n",
       "Name: 94, dtype: object"
      ]
     },
     "execution_count": 32,
     "metadata": {},
     "output_type": "execute_result"
    }
   ],
   "source": [
    "# look at the tweet sentence 94\n",
    "data.loc[94,:]"
   ]
  },
  {
   "cell_type": "markdown",
   "metadata": {},
   "source": [
    "At this point I know this announcement was a big thing in media, therefore I do expect matrixes like retweets and favorites to be very high compared to other \"more usual\" tweets.\n",
    "\n",
    "- retweets 14745\n",
    "- favorites 60654"
   ]
  },
  {
   "cell_type": "code",
   "execution_count": 40,
   "metadata": {},
   "outputs": [
    {
     "name": "stdout",
     "output_type": "stream",
     "text": [
      "Retweets max: 308762\n",
      "Favorites max: 854964\n"
     ]
    }
   ],
   "source": [
    "# checking the max reweets and favorites\n",
    "retweets_max = max(data.retweets)\n",
    "favoriets_max = max(data.favorites)\n",
    "print(\"Retweets max:\", retweets_max)\n",
    "print(\"Favorites max:\", favoriets_max)"
   ]
  },
  {
   "cell_type": "code",
   "execution_count": 33,
   "metadata": {
    "scrolled": true
   },
   "outputs": [
    {
     "data": {
      "text/html": [
       "<div>\n",
       "<style scoped>\n",
       "    .dataframe tbody tr th:only-of-type {\n",
       "        vertical-align: middle;\n",
       "    }\n",
       "\n",
       "    .dataframe tbody tr th {\n",
       "        vertical-align: top;\n",
       "    }\n",
       "\n",
       "    .dataframe thead th {\n",
       "        text-align: right;\n",
       "    }\n",
       "</style>\n",
       "<table border=\"1\" class=\"dataframe\">\n",
       "  <thead>\n",
       "    <tr style=\"text-align: right;\">\n",
       "      <th></th>\n",
       "      <th>username</th>\n",
       "      <th>date</th>\n",
       "      <th>retweets</th>\n",
       "      <th>favorites</th>\n",
       "      <th>text</th>\n",
       "      <th>geo</th>\n",
       "      <th>mentions</th>\n",
       "      <th>hashtags</th>\n",
       "      <th>id</th>\n",
       "      <th>permalink</th>\n",
       "    </tr>\n",
       "  </thead>\n",
       "  <tbody>\n",
       "    <tr>\n",
       "      <th>0</th>\n",
       "      <td>realDonaldTrump</td>\n",
       "      <td>09.02.20 00:47</td>\n",
       "      <td>13459</td>\n",
       "      <td>72445</td>\n",
       "      <td>A great coach and a fantastic guy. His endorse...</td>\n",
       "      <td>NaN</td>\n",
       "      <td>NaN</td>\n",
       "      <td>NaN</td>\n",
       "      <td>1,22629E+18</td>\n",
       "      <td>https://twitter.com/realDonaldTrump/status/122...</td>\n",
       "    </tr>\n",
       "    <tr>\n",
       "      <th>1</th>\n",
       "      <td>realDonaldTrump</td>\n",
       "      <td>08.02.20 22:08</td>\n",
       "      <td>47880</td>\n",
       "      <td>215503</td>\n",
       "      <td>Pete Rose played Major League Baseball for 24 ...</td>\n",
       "      <td>NaN</td>\n",
       "      <td>NaN</td>\n",
       "      <td>NaN</td>\n",
       "      <td>1,22625E+18</td>\n",
       "      <td>https://twitter.com/realDonaldTrump/status/122...</td>\n",
       "    </tr>\n",
       "    <tr>\n",
       "      <th>2</th>\n",
       "      <td>realDonaldTrump</td>\n",
       "      <td>08.02.20 20:48</td>\n",
       "      <td>9452</td>\n",
       "      <td>37402</td>\n",
       "      <td>Total and complete Endorsement for Debbie Lesk...</td>\n",
       "      <td>NaN</td>\n",
       "      <td>#NAME?</td>\n",
       "      <td>NaN</td>\n",
       "      <td>1,22623E+18</td>\n",
       "      <td>https://twitter.com/realDonaldTrump/status/122...</td>\n",
       "    </tr>\n",
       "    <tr>\n",
       "      <th>3</th>\n",
       "      <td>realDonaldTrump</td>\n",
       "      <td>08.02.20 20:40</td>\n",
       "      <td>17545</td>\n",
       "      <td>62484</td>\n",
       "      <td>Governor Cuomo wanted to see me this weekend. ...</td>\n",
       "      <td>NaN</td>\n",
       "      <td>NaN</td>\n",
       "      <td>NaN</td>\n",
       "      <td>1,22623E+18</td>\n",
       "      <td>https://twitter.com/realDonaldTrump/status/122...</td>\n",
       "    </tr>\n",
       "    <tr>\n",
       "      <th>4</th>\n",
       "      <td>realDonaldTrump</td>\n",
       "      <td>08.02.20 20:01</td>\n",
       "      <td>27437</td>\n",
       "      <td>120598</td>\n",
       "      <td>We will not be touching your Social Security o...</td>\n",
       "      <td>NaN</td>\n",
       "      <td>NaN</td>\n",
       "      <td>NaN</td>\n",
       "      <td>1,22622E+18</td>\n",
       "      <td>https://twitter.com/realDonaldTrump/status/122...</td>\n",
       "    </tr>\n",
       "  </tbody>\n",
       "</table>\n",
       "</div>"
      ],
      "text/plain": [
       "          username            date  retweets  favorites  \\\n",
       "0  realDonaldTrump  09.02.20 00:47     13459      72445   \n",
       "1  realDonaldTrump  08.02.20 22:08     47880     215503   \n",
       "2  realDonaldTrump  08.02.20 20:48      9452      37402   \n",
       "3  realDonaldTrump  08.02.20 20:40     17545      62484   \n",
       "4  realDonaldTrump  08.02.20 20:01     27437     120598   \n",
       "\n",
       "                                                text  geo mentions hashtags  \\\n",
       "0  A great coach and a fantastic guy. His endorse...  NaN      NaN      NaN   \n",
       "1  Pete Rose played Major League Baseball for 24 ...  NaN      NaN      NaN   \n",
       "2  Total and complete Endorsement for Debbie Lesk...  NaN   #NAME?      NaN   \n",
       "3  Governor Cuomo wanted to see me this weekend. ...  NaN      NaN      NaN   \n",
       "4  We will not be touching your Social Security o...  NaN      NaN      NaN   \n",
       "\n",
       "            id                                          permalink  \n",
       "0  1,22629E+18  https://twitter.com/realDonaldTrump/status/122...  \n",
       "1  1,22625E+18  https://twitter.com/realDonaldTrump/status/122...  \n",
       "2  1,22623E+18  https://twitter.com/realDonaldTrump/status/122...  \n",
       "3  1,22623E+18  https://twitter.com/realDonaldTrump/status/122...  \n",
       "4  1,22622E+18  https://twitter.com/realDonaldTrump/status/122...  "
      ]
     },
     "execution_count": 33,
     "metadata": {},
     "output_type": "execute_result"
    }
   ],
   "source": [
    "data.head()"
   ]
  },
  {
   "cell_type": "code",
   "execution_count": 37,
   "metadata": {},
   "outputs": [
    {
     "name": "stdout",
     "output_type": "stream",
     "text": [
      "Pete Rose played Major League Baseball for 24 seasons, from 1963-1986, and had more hits, 4,256, than any other player (by a wide margin). He gambled, but only on his own team winning, and paid a decades long price. GET PETE ROSE INTO THE BASEBALL HALL OF FAME. It’s Time!\n"
     ]
    }
   ],
   "source": [
    "# the second tweet has a lot of retweets , just want to check out what the tweet is\n",
    "print(data.text[1])"
   ]
  },
  {
   "cell_type": "markdown",
   "metadata": {},
   "source": [
    "## Review\n",
    "\n",
    "In general, does the API do a good job! \n",
    "The cases tested I presented here where in some sense tricky, I tested several ones, which I don´t mention here. The other tested worked very well. \n",
    "\n",
    "**Therefore I can take to API to label the data.**"
   ]
  },
  {
   "cell_type": "markdown",
   "metadata": {},
   "source": [
    "# API - Test"
   ]
  },
  {
   "cell_type": "markdown",
   "metadata": {},
   "source": [
    "In this section, I´m going to test several things:\n",
    "\n",
    "- Run API\n",
    "- handle input data\n",
    "- handle the input parameters\n",
    "- handle output data\n",
    "\n",
    "Therefore I **orient myself on the given code** on the [Natural Language Understanding webpage](https://cloud.ibm.com/apidocs/natural-language-understanding/natural-language-understanding?code=python#emotion)."
   ]
  },
  {
   "cell_type": "code",
   "execution_count": 86,
   "metadata": {},
   "outputs": [],
   "source": [
    "# libraries I need to import\n",
    "import json\n",
    "\n",
    "# if import does not work\n",
    "# pip install --upgrade \"ibm-watson>=4.2.1\"\n",
    "from ibm_watson import NaturalLanguageUnderstandingV1\n",
    "from ibm_cloud_sdk_core.authenticators import IAMAuthenticator\n",
    "from ibm_watson.natural_language_understanding_v1 import Features, EntitiesOptions, KeywordsOptions, EmotionOptions"
   ]
  },
  {
   "cell_type": "code",
   "execution_count": 66,
   "metadata": {},
   "outputs": [],
   "source": [
    "# I saved all my important data into a json file\n",
    "# this file I open here to save the apikey and url in a variable\n",
    "# since other people should not see my keys\n",
    "with open('watson_api.json') as json_file:\n",
    "    # save data in dict\n",
    "    api_access = json.load(json_file)\n",
    "\n",
    "# init variables neeeded \n",
    "apikey = api_access[\"apikey\"]\n",
    "url = api_access[\"url\"]"
   ]
  },
  {
   "cell_type": "code",
   "execution_count": 67,
   "metadata": {},
   "outputs": [],
   "source": [
    "# this is going to be a test run\n",
    "# init tweet text\n",
    "# take one of the sentence I check in the data part of this notebook\n",
    "# test sentence 2\n",
    "tweet_text = \"JOBS, JOBS, JOBS! #PromisesMadePromisesKept\""
   ]
  },
  {
   "cell_type": "markdown",
   "metadata": {},
   "source": [
    "### Test 1\n",
    "\n",
    "Here I´m going to test the example of the [Natural Language Understanding webpage.](https://cloud.ibm.com/apidocs/natural-language-understanding/natural-language-understanding?code=python#analyze-text)\n",
    "\n",
    "- **Code example**: Methods - Analyze text"
   ]
  },
  {
   "cell_type": "code",
   "execution_count": null,
   "metadata": {},
   "outputs": [],
   "source": [
    "# settings for the api \n",
    "authenticator = IAMAuthenticator(apikey)\n",
    "natural_language_understanding = NaturalLanguageUnderstandingV1(\n",
    "    version='2019-07-12',\n",
    "    authenticator=authenticator)\n",
    "\n",
    "natural_language_understanding.set_service_url(url)"
   ]
  },
  {
   "cell_type": "code",
   "execution_count": 81,
   "metadata": {},
   "outputs": [
    {
     "name": "stdout",
     "output_type": "stream",
     "text": [
      "{\n",
      "  \"usage\": {\n",
      "    \"text_units\": 1,\n",
      "    \"text_characters\": 140,\n",
      "    \"features\": 2\n",
      "  },\n",
      "  \"language\": \"en\",\n",
      "  \"keywords\": [\n",
      "    {\n",
      "      \"text\": \"American multinational technology company\",\n",
      "      \"sentiment\": {\n",
      "        \"score\": 0,\n",
      "        \"label\": \"neutral\"\n",
      "      },\n",
      "      \"relevance\": 0.984693,\n",
      "      \"emotion\": {\n",
      "        \"sadness\": 0.082208,\n",
      "        \"joy\": 0.074673,\n",
      "        \"fear\": 0.050149,\n",
      "        \"disgust\": 0.035402,\n",
      "        \"anger\": 0.024366\n",
      "      },\n",
      "      \"count\": 1\n",
      "    },\n",
      "    {\n",
      "      \"text\": \"United States\",\n",
      "      \"sentiment\": {\n",
      "        \"score\": 0,\n",
      "        \"label\": \"neutral\"\n",
      "      },\n",
      "      \"relevance\": 0.854311,\n",
      "      \"emotion\": {\n",
      "        \"sadness\": 0.082208,\n",
      "        \"joy\": 0.074673,\n",
      "        \"fear\": 0.050149,\n",
      "        \"disgust\": 0.035402,\n",
      "        \"anger\": 0.024366\n",
      "      },\n",
      "      \"count\": 1\n",
      "    }\n",
      "  ],\n",
      "  \"entities\": [\n",
      "    {\n",
      "      \"type\": \"Company\",\n",
      "      \"text\": \"IBM\",\n",
      "      \"sentiment\": {\n",
      "        \"score\": 0,\n",
      "        \"label\": \"neutral\"\n",
      "      },\n",
      "      \"relevance\": 0.95577,\n",
      "      \"emotion\": {\n",
      "        \"sadness\": 0.082208,\n",
      "        \"joy\": 0.074673,\n",
      "        \"fear\": 0.050149,\n",
      "        \"disgust\": 0.035402,\n",
      "        \"anger\": 0.024366\n",
      "      },\n",
      "      \"disambiguation\": {\n",
      "        \"subtype\": [\n",
      "          \"SoftwareLicense\",\n",
      "          \"Organization\",\n",
      "          \"OperatingSystemDeveloper\",\n",
      "          \"ProcessorManufacturer\",\n",
      "          \"SoftwareDeveloper\",\n",
      "          \"CompanyFounder\",\n",
      "          \"ProgrammingLanguageDesigner\",\n",
      "          \"ProgrammingLanguageDeveloper\"\n",
      "        ],\n",
      "        \"name\": \"IBM\",\n",
      "        \"dbpedia_resource\": \"http://dbpedia.org/resource/IBM\"\n",
      "      },\n",
      "      \"count\": 1,\n",
      "      \"confidence\": 0.999843\n",
      "    },\n",
      "    {\n",
      "      \"type\": \"Location\",\n",
      "      \"text\": \"Armonk\",\n",
      "      \"sentiment\": {\n",
      "        \"score\": 0,\n",
      "        \"label\": \"neutral\"\n",
      "      },\n",
      "      \"relevance\": 0.814634,\n",
      "      \"emotion\": {\n",
      "        \"sadness\": 0.082208,\n",
      "        \"joy\": 0.074673,\n",
      "        \"fear\": 0.050149,\n",
      "        \"disgust\": 0.035402,\n",
      "        \"anger\": 0.024366\n",
      "      },\n",
      "      \"count\": 1,\n",
      "      \"confidence\": 0.995579\n",
      "    }\n",
      "  ]\n",
      "}\n"
     ]
    }
   ],
   "source": [
    "# example request\n",
    "response = natural_language_understanding.analyze(\n",
    "    text='IBM is an American multinational technology company '\n",
    "    'headquartered in Armonk, New York, United States, '\n",
    "    'with operations in over 170 countries.',\n",
    "    features=Features(\n",
    "        entities=EntitiesOptions(emotion=True, sentiment=True, limit=2),\n",
    "        keywords=KeywordsOptions(emotion=True, sentiment=True,\n",
    "                                 limit=2))).get_result()\n",
    "\n",
    "print(json.dumps(response, indent=2))"
   ]
  },
  {
   "cell_type": "markdown",
   "metadata": {},
   "source": [
    "### Test 2\n",
    "\n",
    "**Test twitter text test**\n",
    "\n",
    "Define how the output should look like:\n",
    "\n",
    "- emotions full document\n",
    "- emotions entities of the sentence\n",
    "- emotions keywords of the sentence\n",
    "\n",
    "Fore the **project** I´m going to use **just** the **full document score**, but the other data could be interesting for publishing a dataset. "
   ]
  },
  {
   "cell_type": "code",
   "execution_count": 87,
   "metadata": {},
   "outputs": [
    {
     "name": "stdout",
     "output_type": "stream",
     "text": [
      "{\n",
      "  \"usage\": {\n",
      "    \"text_units\": 1,\n",
      "    \"text_characters\": 43,\n",
      "    \"features\": 3\n",
      "  },\n",
      "  \"language\": \"en\",\n",
      "  \"keywords\": [\n",
      "    {\n",
      "      \"text\": \"JOBS\",\n",
      "      \"sentiment\": {\n",
      "        \"score\": -0.681388,\n",
      "        \"label\": \"negative\"\n",
      "      },\n",
      "      \"relevance\": 0.994608,\n",
      "      \"emotion\": {\n",
      "        \"sadness\": 0.104125,\n",
      "        \"joy\": 0.19712,\n",
      "        \"fear\": 0.106967,\n",
      "        \"disgust\": 0.062642,\n",
      "        \"anger\": 0.122966\n",
      "      },\n",
      "      \"count\": 3\n",
      "    },\n",
      "    {\n",
      "      \"text\": \"PromisesMadePromisesKept\",\n",
      "      \"sentiment\": {\n",
      "        \"score\": 0,\n",
      "        \"label\": \"neutral\"\n",
      "      },\n",
      "      \"relevance\": 0.0982,\n",
      "      \"emotion\": {\n",
      "        \"sadness\": 0,\n",
      "        \"joy\": 0,\n",
      "        \"fear\": 0,\n",
      "        \"disgust\": 0,\n",
      "        \"anger\": 0\n",
      "      },\n",
      "      \"count\": 1\n",
      "    }\n",
      "  ],\n",
      "  \"entities\": [\n",
      "    {\n",
      "      \"type\": \"Person\",\n",
      "      \"text\": \"JOBS\",\n",
      "      \"sentiment\": {\n",
      "        \"score\": -0.681388,\n",
      "        \"label\": \"negative\"\n",
      "      },\n",
      "      \"relevance\": 0.978348,\n",
      "      \"emotion\": {\n",
      "        \"sadness\": 0.104125,\n",
      "        \"joy\": 0.19712,\n",
      "        \"fear\": 0.106967,\n",
      "        \"disgust\": 0.062642,\n",
      "        \"anger\": 0.122966\n",
      "      },\n",
      "      \"count\": 2,\n",
      "      \"confidence\": 0.943154\n",
      "    },\n",
      "    {\n",
      "      \"type\": \"Hashtag\",\n",
      "      \"text\": \"#PromisesMadePromisesKept\",\n",
      "      \"sentiment\": {\n",
      "        \"score\": 0,\n",
      "        \"label\": \"neutral\"\n",
      "      },\n",
      "      \"relevance\": 0.631927,\n",
      "      \"emotion\": {\n",
      "        \"sadness\": 0,\n",
      "        \"joy\": 0,\n",
      "        \"fear\": 0,\n",
      "        \"disgust\": 0,\n",
      "        \"anger\": 0\n",
      "      },\n",
      "      \"count\": 1,\n",
      "      \"confidence\": 0.8\n",
      "    }\n",
      "  ],\n",
      "  \"emotion\": {\n",
      "    \"document\": {\n",
      "      \"emotion\": {\n",
      "        \"sadness\": 0.094004,\n",
      "        \"joy\": 0.223835,\n",
      "        \"fear\": 0.096425,\n",
      "        \"disgust\": 0.064051,\n",
      "        \"anger\": 0.134056\n",
      "      }\n",
      "    }\n",
      "  },\n",
      "  \"analyzed_text\": \"JOBS, JOBS, JOBS! #PromisesMadePromisesKept\"\n",
      "}\n"
     ]
    }
   ],
   "source": [
    "# test 2 request\n",
    "response = natural_language_understanding.analyze(\n",
    "    text= tweet_text,\n",
    "    features=Features(\n",
    "        emotion=EmotionOptions(document=True),\n",
    "        entities=EntitiesOptions(emotion=True, sentiment=True, limit=2),\n",
    "        keywords=KeywordsOptions(emotion=True, sentiment=True,\n",
    "                                 limit=2)),\n",
    "    return_analyzed_text = True\n",
    ").get_result()\n",
    "\n",
    "print(json.dumps(response, indent=2))"
   ]
  },
  {
   "cell_type": "code",
   "execution_count": 71,
   "metadata": {
    "scrolled": true
   },
   "outputs": [
    {
     "name": "stdout",
     "output_type": "stream",
     "text": [
      "JOBS, JOBS, JOBS! #PromisesMadePromisesKept\n"
     ]
    }
   ],
   "source": [
    "print(tweet_text)"
   ]
  },
  {
   "cell_type": "code",
   "execution_count": 85,
   "metadata": {},
   "outputs": [
    {
     "data": {
      "text/plain": [
       "{'usage': {'text_units': 1, 'text_characters': 43, 'features': 2},\n",
       " 'language': 'en',\n",
       " 'keywords': [{'text': 'JOBS',\n",
       "   'sentiment': {'score': -0.681388, 'label': 'negative'},\n",
       "   'relevance': 0.994608,\n",
       "   'emotion': {'sadness': 0.104125,\n",
       "    'joy': 0.19712,\n",
       "    'fear': 0.106967,\n",
       "    'disgust': 0.062642,\n",
       "    'anger': 0.122966},\n",
       "   'count': 3},\n",
       "  {'text': 'PromisesMadePromisesKept',\n",
       "   'sentiment': {'score': 0, 'label': 'neutral'},\n",
       "   'relevance': 0.0982,\n",
       "   'emotion': {'sadness': 0, 'joy': 0, 'fear': 0, 'disgust': 0, 'anger': 0},\n",
       "   'count': 1}],\n",
       " 'entities': [{'type': 'Person',\n",
       "   'text': 'JOBS',\n",
       "   'sentiment': {'score': -0.681388, 'label': 'negative'},\n",
       "   'relevance': 0.978348,\n",
       "   'emotion': {'sadness': 0.104125,\n",
       "    'joy': 0.19712,\n",
       "    'fear': 0.106967,\n",
       "    'disgust': 0.062642,\n",
       "    'anger': 0.122966},\n",
       "   'count': 2,\n",
       "   'confidence': 0.943154},\n",
       "  {'type': 'Hashtag',\n",
       "   'text': '#PromisesMadePromisesKept',\n",
       "   'sentiment': {'score': 0, 'label': 'neutral'},\n",
       "   'relevance': 0.631927,\n",
       "   'emotion': {'sadness': 0, 'joy': 0, 'fear': 0, 'disgust': 0, 'anger': 0},\n",
       "   'count': 1,\n",
       "   'confidence': 0.8}],\n",
       " 'analyzed_text': 'JOBS, JOBS, JOBS! #PromisesMadePromisesKept'}"
      ]
     },
     "execution_count": 85,
     "metadata": {},
     "output_type": "execute_result"
    }
   ],
   "source": [
    "#print(json.dumps(response, indent=2))\n",
    "response"
   ]
  },
  {
   "cell_type": "markdown",
   "metadata": {},
   "source": [
    "### IDEA:\n",
    "Maybe I could use as input the text of Trumps tweets on a whole day. \n",
    "And analyze the full document mood of the day... "
   ]
  },
  {
   "cell_type": "code",
   "execution_count": 88,
   "metadata": {},
   "outputs": [
    {
     "name": "stdout",
     "output_type": "stream",
     "text": [
      "something\n"
     ]
    }
   ],
   "source": [
    "print(\"something\")"
   ]
  },
  {
   "cell_type": "code",
   "execution_count": null,
   "metadata": {},
   "outputs": [],
   "source": []
  }
 ],
 "metadata": {
  "kernelspec": {
   "display_name": "Python 3",
   "language": "python",
   "name": "python3"
  },
  "language_info": {
   "codemirror_mode": {
    "name": "ipython",
    "version": 3
   },
   "file_extension": ".py",
   "mimetype": "text/x-python",
   "name": "python",
   "nbconvert_exporter": "python",
   "pygments_lexer": "ipython3",
   "version": "3.7.4"
  }
 },
 "nbformat": 4,
 "nbformat_minor": 4
}
