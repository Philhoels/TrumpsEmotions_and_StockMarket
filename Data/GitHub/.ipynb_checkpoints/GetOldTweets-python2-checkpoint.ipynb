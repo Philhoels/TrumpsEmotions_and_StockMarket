{
 "cells": [
  {
   "cell_type": "markdown",
   "metadata": {},
   "source": [
    "# --- This notebook just runs on python 2 ---"
   ]
  },
  {
   "cell_type": "markdown",
   "metadata": {},
   "source": [
    "Via Kaggle provides someone [Trump Tweet data](https://www.kaggle.com/austinreese/trump-tweets) until the 20.01.2020. \n",
    "\n",
    "He maintained that he used the code of [GetOldTweets](https://github.com/Jefferson-Henrique/GetOldTweets-python) to scrape the data of interest. \n",
    "\n",
    "But the *GetOldTweets* code just work on python 2, therefore I **created a new environment** which **uses python 2.7**. \n",
    "\n",
    "I will run his code to generate the newest data. "
   ]
  },
  {
   "cell_type": "markdown",
   "metadata": {},
   "source": [
    "Okay I solved it on a ulgy way..."
   ]
  },
  {
   "cell_type": "markdown",
   "metadata": {},
   "source": [
    "Resources:\n",
    "\n",
    "Create & activate environment python 2.7:\n",
    "- https://uoa-eresearch.github.io/eresearch-cookbook/recipe/2014/11/20/conda/\n",
    "- https://docs.anaconda.com/anaconda/user-guide/tasks/switch-environment/\n",
    "\n",
    "Get old tweets:\n",
    "- https://github.com/Jefferson-Henrique/GetOldTweets-python"
   ]
  },
  {
   "cell_type": "markdown",
   "metadata": {},
   "source": [
    "1. move all files to the desktop\n",
    "2. run follwoing code: python Exporter.py --username \"barackobama\" --since 2017-01-07 --until 2020-02-09 --maxtweets \n",
    "3. move output file to code folder of the project (take a bit to generate so much data)\n"
   ]
  }
 ],
 "metadata": {
  "kernelspec": {
   "display_name": "Python 3",
   "language": "python",
   "name": "python3"
  },
  "language_info": {
   "codemirror_mode": {
    "name": "ipython",
    "version": 3
   },
   "file_extension": ".py",
   "mimetype": "text/x-python",
   "name": "python",
   "nbconvert_exporter": "python",
   "pygments_lexer": "ipython3",
   "version": "3.7.4"
  }
 },
 "nbformat": 4,
 "nbformat_minor": 2
}
